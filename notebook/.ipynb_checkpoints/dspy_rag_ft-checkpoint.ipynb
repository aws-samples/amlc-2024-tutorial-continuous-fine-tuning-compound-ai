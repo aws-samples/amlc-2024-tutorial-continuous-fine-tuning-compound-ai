{
 "cells": [
  {
   "cell_type": "markdown",
   "id": "eb3e157e",
   "metadata": {},
   "source": [
    "# Fine-tuned model and evaluation in dspy\n",
    "\n",
    "In this notebook, we use DSPy Evaluate module to benchmark results from standard RAG, RAG compiled with prompt automation, and fine-tuned LLM. "
   ]
  },
  {
   "cell_type": "markdown",
   "id": "13ecaec9-7ea9-4267-bdc7-009f7f7c41c1",
   "metadata": {},
   "source": [
    "### Environment Setup"
   ]
  },
  {
   "cell_type": "markdown",
   "id": "d452ee1a",
   "metadata": {},
   "source": [
    "Uncomment the following lines if the packages are not installed "
   ]
  },
  {
   "cell_type": "code",
   "execution_count": 1,
   "id": "7dc0ed97-09fe-4601-ab64-a0ef356021cc",
   "metadata": {
    "tags": []
   },
   "outputs": [],
   "source": [
    "%%capture\n",
    "!pip3 install langchain\n",
    "!pip3 install -U langchain-community\n",
    "!pip3 install pypdf\n",
    "!pip3 install chromadb\n",
    "!pip3 install dspy-ai[faiss-cpu]\n",
    "!pip3 install sentence_transformers\n",
    "!pip3 install continuous_eval"
   ]
  },
  {
   "cell_type": "code",
   "execution_count": 2,
   "id": "9a20d894",
   "metadata": {},
   "outputs": [],
   "source": [
    "import pandas as pd\n",
    "import dspy\n",
    "from dspy.teleprompt import BootstrapFewShot\n",
    "from dspy.evaluate import Evaluate\n",
    "\n",
    "import pandas as pd\n",
    "import logging\n",
    "import json, os, shutil\n",
    "import boto3, re, os, shutil\n",
    "import sentence_transformers, continuous_eval\n",
    "\n",
    "import matplotlib.pyplot as plt"
   ]
  },
  {
   "cell_type": "code",
   "execution_count": 3,
   "id": "7d7251d2-0678-4fbf-8aef-5aadf93b0722",
   "metadata": {},
   "outputs": [
    {
     "name": "stdout",
     "output_type": "stream",
     "text": [
      "us-east-1\n"
     ]
    }
   ],
   "source": [
    "boto_session = boto3.session.Session()\n",
    "region_name = boto_session.region_name\n",
    "print(region_name)"
   ]
  },
  {
   "cell_type": "markdown",
   "id": "b75a3539",
   "metadata": {},
   "source": [
    "### RAG generator model fine-tuned by SFT, DPO and ORPO    \n",
    "   \n",
    "DSPy does not yet support LLM fine-tuning through Instruction Tuning, Reinforcement Learning and Preference Alignment. Therefore, we conducted the llama 3 8B model fine-tuning separately, and generated the following results for benchmarking across multiple methods using the same dataset for the RAG inference in the notebook dapy_rag_compile.ipynb. \n",
    "\n",
    "If you are interested in how to fine-tune LLM using those methodologies, please refer to the code samples [here]."
   ]
  },
  {
   "cell_type": "markdown",
   "id": "e83a00e8",
   "metadata": {},
   "source": [
    "SFT"
   ]
  },
  {
   "cell_type": "code",
   "execution_count": 4,
   "id": "f2caf99b",
   "metadata": {},
   "outputs": [
    {
     "data": {
      "text/html": [
       "<div>\n",
       "<style scoped>\n",
       "    .dataframe tbody tr th:only-of-type {\n",
       "        vertical-align: middle;\n",
       "    }\n",
       "\n",
       "    .dataframe tbody tr th {\n",
       "        vertical-align: top;\n",
       "    }\n",
       "\n",
       "    .dataframe thead th {\n",
       "        text-align: right;\n",
       "    }\n",
       "</style>\n",
       "<table border=\"1\" class=\"dataframe\">\n",
       "  <thead>\n",
       "    <tr style=\"text-align: right;\">\n",
       "      <th></th>\n",
       "      <th>question</th>\n",
       "      <th>ref_answer</th>\n",
       "      <th>response</th>\n",
       "    </tr>\n",
       "  </thead>\n",
       "  <tbody>\n",
       "    <tr>\n",
       "      <th>0</th>\n",
       "      <td>What is The name of the contract?</td>\n",
       "      <td>STRATEGIC ALLIANCE AGREEMENT</td>\n",
       "      <td>STRATEGIC ALLIANCE AGREEMENT</td>\n",
       "    </tr>\n",
       "    <tr>\n",
       "      <th>1</th>\n",
       "      <td>What is The two or more parties who signed the...</td>\n",
       "      <td>Dialog Semiconductor (UK) Ltd., DIALOG, Energo...</td>\n",
       "      <td>DIALOG SEMICONDUCTOR (PENANG) SDN BHD, DIALOG ...</td>\n",
       "    </tr>\n",
       "    <tr>\n",
       "      <th>2</th>\n",
       "      <td>What is The date of the contract?</td>\n",
       "      <td>November 6, 2016</td>\n",
       "      <td>October 1, 2016</td>\n",
       "    </tr>\n",
       "    <tr>\n",
       "      <th>3</th>\n",
       "      <td>What is The date when the contract is effective?</td>\n",
       "      <td>November 6, 2016</td>\n",
       "      <td>November 6, 2016</td>\n",
       "    </tr>\n",
       "    <tr>\n",
       "      <th>4</th>\n",
       "      <td>On what date will the contract's initial term ...</td>\n",
       "      <td>Unless earlier terminated as provided herein, ...</td>\n",
       "      <td>Unless earlier terminated as provided herein, ...</td>\n",
       "    </tr>\n",
       "  </tbody>\n",
       "</table>\n",
       "</div>"
      ],
      "text/plain": [
       "                                            question  \\\n",
       "0                  What is The name of the contract?   \n",
       "1  What is The two or more parties who signed the...   \n",
       "2                  What is The date of the contract?   \n",
       "3   What is The date when the contract is effective?   \n",
       "4  On what date will the contract's initial term ...   \n",
       "\n",
       "                                          ref_answer  \\\n",
       "0                       STRATEGIC ALLIANCE AGREEMENT   \n",
       "1  Dialog Semiconductor (UK) Ltd., DIALOG, Energo...   \n",
       "2                                   November 6, 2016   \n",
       "3                                   November 6, 2016   \n",
       "4  Unless earlier terminated as provided herein, ...   \n",
       "\n",
       "                                            response  \n",
       "0                       STRATEGIC ALLIANCE AGREEMENT  \n",
       "1  DIALOG SEMICONDUCTOR (PENANG) SDN BHD, DIALOG ...  \n",
       "2                                    October 1, 2016  \n",
       "3                                   November 6, 2016  \n",
       "4  Unless earlier terminated as provided herein, ...  "
      ]
     },
     "execution_count": 4,
     "metadata": {},
     "output_type": "execute_result"
    }
   ],
   "source": [
    "SFT_RESULTS = 'sft_trn_full_result.csv'\n",
    "df_sft_data = pd.read_csv(SFT_RESULTS)\n",
    "df_sft_data[:][[\"question\", \"ref_answer\", \"response\"]].head()"
   ]
  },
  {
   "cell_type": "markdown",
   "id": "e9f6138f",
   "metadata": {},
   "source": [
    "DPO"
   ]
  },
  {
   "cell_type": "code",
   "execution_count": 5,
   "id": "5a83b631",
   "metadata": {},
   "outputs": [
    {
     "data": {
      "text/html": [
       "<div>\n",
       "<style scoped>\n",
       "    .dataframe tbody tr th:only-of-type {\n",
       "        vertical-align: middle;\n",
       "    }\n",
       "\n",
       "    .dataframe tbody tr th {\n",
       "        vertical-align: top;\n",
       "    }\n",
       "\n",
       "    .dataframe thead th {\n",
       "        text-align: right;\n",
       "    }\n",
       "</style>\n",
       "<table border=\"1\" class=\"dataframe\">\n",
       "  <thead>\n",
       "    <tr style=\"text-align: right;\">\n",
       "      <th></th>\n",
       "      <th>question</th>\n",
       "      <th>ref_answer</th>\n",
       "      <th>response</th>\n",
       "      <th>semantic_similarity</th>\n",
       "      <th>token_overlap_recall</th>\n",
       "      <th>rouge_l_recall</th>\n",
       "    </tr>\n",
       "  </thead>\n",
       "  <tbody>\n",
       "    <tr>\n",
       "      <th>0</th>\n",
       "      <td>What is The name of the contract?</td>\n",
       "      <td>STRATEGIC ALLIANCE AGREEMENT</td>\n",
       "      <td>STRATEGIC ALLIANCE AGREEMENT</td>\n",
       "      <td>1.000000</td>\n",
       "      <td>1.000000</td>\n",
       "      <td>1.000000</td>\n",
       "    </tr>\n",
       "    <tr>\n",
       "      <th>1</th>\n",
       "      <td>What is The two or more parties who signed the...</td>\n",
       "      <td>Dialog Semiconductor (UK) Ltd., DIALOG, Energo...</td>\n",
       "      <td>Dialog Semiconductor (UK) Ltd., DIALOG, Energo...</td>\n",
       "      <td>1.000000</td>\n",
       "      <td>0.750000</td>\n",
       "      <td>1.000000</td>\n",
       "    </tr>\n",
       "    <tr>\n",
       "      <th>2</th>\n",
       "      <td>What is The date of the contract?</td>\n",
       "      <td>November 6, 2016</td>\n",
       "      <td>2016, October 1</td>\n",
       "      <td>0.267889</td>\n",
       "      <td>0.333333</td>\n",
       "      <td>0.000000</td>\n",
       "    </tr>\n",
       "    <tr>\n",
       "      <th>3</th>\n",
       "      <td>What is The date when the contract is effective?</td>\n",
       "      <td>November 6, 2016</td>\n",
       "      <td>May 6, 2016</td>\n",
       "      <td>0.306074</td>\n",
       "      <td>0.666667</td>\n",
       "      <td>0.666667</td>\n",
       "    </tr>\n",
       "    <tr>\n",
       "      <th>4</th>\n",
       "      <td>On what date will the contract's initial term ...</td>\n",
       "      <td>Unless earlier terminated as provided herein, ...</td>\n",
       "      <td>7 years after the Effective Date, and thereaft...</td>\n",
       "      <td>0.629246</td>\n",
       "      <td>0.450000</td>\n",
       "      <td>0.370370</td>\n",
       "    </tr>\n",
       "  </tbody>\n",
       "</table>\n",
       "</div>"
      ],
      "text/plain": [
       "                                            question  \\\n",
       "0                  What is The name of the contract?   \n",
       "1  What is The two or more parties who signed the...   \n",
       "2                  What is The date of the contract?   \n",
       "3   What is The date when the contract is effective?   \n",
       "4  On what date will the contract's initial term ...   \n",
       "\n",
       "                                          ref_answer  \\\n",
       "0                       STRATEGIC ALLIANCE AGREEMENT   \n",
       "1  Dialog Semiconductor (UK) Ltd., DIALOG, Energo...   \n",
       "2                                   November 6, 2016   \n",
       "3                                   November 6, 2016   \n",
       "4  Unless earlier terminated as provided herein, ...   \n",
       "\n",
       "                                            response  semantic_similarity  \\\n",
       "0                       STRATEGIC ALLIANCE AGREEMENT             1.000000   \n",
       "1  Dialog Semiconductor (UK) Ltd., DIALOG, Energo...             1.000000   \n",
       "2                                    2016, October 1             0.267889   \n",
       "3                                        May 6, 2016             0.306074   \n",
       "4  7 years after the Effective Date, and thereaft...             0.629246   \n",
       "\n",
       "   token_overlap_recall  rouge_l_recall  \n",
       "0              1.000000        1.000000  \n",
       "1              0.750000        1.000000  \n",
       "2              0.333333        0.000000  \n",
       "3              0.666667        0.666667  \n",
       "4              0.450000        0.370370  "
      ]
     },
     "execution_count": 5,
     "metadata": {},
     "output_type": "execute_result"
    }
   ],
   "source": [
    "DPO_RESULTS = 'dpo_trn_full_result.csv'\n",
    "df_dpo_data = pd.read_csv(DPO_RESULTS)\n",
    "df_dpo_data.head()"
   ]
  },
  {
   "cell_type": "markdown",
   "id": "148827ed",
   "metadata": {},
   "source": [
    "ORPO"
   ]
  },
  {
   "cell_type": "code",
   "execution_count": 6,
   "id": "a650ac78",
   "metadata": {},
   "outputs": [
    {
     "data": {
      "text/html": [
       "<div>\n",
       "<style scoped>\n",
       "    .dataframe tbody tr th:only-of-type {\n",
       "        vertical-align: middle;\n",
       "    }\n",
       "\n",
       "    .dataframe tbody tr th {\n",
       "        vertical-align: top;\n",
       "    }\n",
       "\n",
       "    .dataframe thead th {\n",
       "        text-align: right;\n",
       "    }\n",
       "</style>\n",
       "<table border=\"1\" class=\"dataframe\">\n",
       "  <thead>\n",
       "    <tr style=\"text-align: right;\">\n",
       "      <th></th>\n",
       "      <th>question</th>\n",
       "      <th>ref_answer</th>\n",
       "      <th>response</th>\n",
       "      <th>semantic_similarity</th>\n",
       "      <th>token_overlap_recall</th>\n",
       "      <th>rouge_l_recall</th>\n",
       "    </tr>\n",
       "  </thead>\n",
       "  <tbody>\n",
       "    <tr>\n",
       "      <th>0</th>\n",
       "      <td>What is The name of the contract?</td>\n",
       "      <td>STRATEGIC ALLIANCE AGREEMENT</td>\n",
       "      <td>STRATEGIC ALLIANCE AGREEMENT</td>\n",
       "      <td>1.000000</td>\n",
       "      <td>1.000000</td>\n",
       "      <td>1.000000</td>\n",
       "    </tr>\n",
       "    <tr>\n",
       "      <th>1</th>\n",
       "      <td>What is The two or more parties who signed the...</td>\n",
       "      <td>Dialog Semiconductor (UK) Ltd., DIALOG, Energo...</td>\n",
       "      <td>Dialog Semiconductor (UK) Ltd., DIALOG, Energo...</td>\n",
       "      <td>1.000000</td>\n",
       "      <td>0.750000</td>\n",
       "      <td>1.000000</td>\n",
       "    </tr>\n",
       "    <tr>\n",
       "      <th>2</th>\n",
       "      <td>What is The date of the contract?</td>\n",
       "      <td>November 6, 2016</td>\n",
       "      <td>2016, October 1</td>\n",
       "      <td>0.267889</td>\n",
       "      <td>0.333333</td>\n",
       "      <td>0.000000</td>\n",
       "    </tr>\n",
       "    <tr>\n",
       "      <th>3</th>\n",
       "      <td>What is The date when the contract is effective?</td>\n",
       "      <td>November 6, 2016</td>\n",
       "      <td>May 6, 2016</td>\n",
       "      <td>0.306074</td>\n",
       "      <td>0.666667</td>\n",
       "      <td>0.666667</td>\n",
       "    </tr>\n",
       "    <tr>\n",
       "      <th>4</th>\n",
       "      <td>On what date will the contract's initial term ...</td>\n",
       "      <td>Unless earlier terminated as provided herein, ...</td>\n",
       "      <td>7 years after the Effective Date, and thereaft...</td>\n",
       "      <td>0.629246</td>\n",
       "      <td>0.450000</td>\n",
       "      <td>0.370370</td>\n",
       "    </tr>\n",
       "  </tbody>\n",
       "</table>\n",
       "</div>"
      ],
      "text/plain": [
       "                                            question  \\\n",
       "0                  What is The name of the contract?   \n",
       "1  What is The two or more parties who signed the...   \n",
       "2                  What is The date of the contract?   \n",
       "3   What is The date when the contract is effective?   \n",
       "4  On what date will the contract's initial term ...   \n",
       "\n",
       "                                          ref_answer  \\\n",
       "0                       STRATEGIC ALLIANCE AGREEMENT   \n",
       "1  Dialog Semiconductor (UK) Ltd., DIALOG, Energo...   \n",
       "2                                   November 6, 2016   \n",
       "3                                   November 6, 2016   \n",
       "4  Unless earlier terminated as provided herein, ...   \n",
       "\n",
       "                                            response  semantic_similarity  \\\n",
       "0                       STRATEGIC ALLIANCE AGREEMENT             1.000000   \n",
       "1  Dialog Semiconductor (UK) Ltd., DIALOG, Energo...             1.000000   \n",
       "2                                    2016, October 1             0.267889   \n",
       "3                                        May 6, 2016             0.306074   \n",
       "4  7 years after the Effective Date, and thereaft...             0.629246   \n",
       "\n",
       "   token_overlap_recall  rouge_l_recall  \n",
       "0              1.000000        1.000000  \n",
       "1              0.750000        1.000000  \n",
       "2              0.333333        0.000000  \n",
       "3              0.666667        0.666667  \n",
       "4              0.450000        0.370370  "
      ]
     },
     "execution_count": 6,
     "metadata": {},
     "output_type": "execute_result"
    }
   ],
   "source": [
    "ORPO_RESULTS = 'orpo_trn_full_result.csv'\n",
    "df_orpo_data = pd.read_csv(ORPO_RESULTS)\n",
    "df_orpo_data.head()"
   ]
  },
  {
   "cell_type": "markdown",
   "id": "af185395",
   "metadata": {},
   "source": [
    "### RAG generator model by foundation models on Bedrock"
   ]
  },
  {
   "cell_type": "markdown",
   "id": "9297c4bb",
   "metadata": {},
   "source": [
    "RAG with Claude Haiku for generator model (generated from the notebook dspy_rag_compile.ipynb)"
   ]
  },
  {
   "cell_type": "code",
   "execution_count": 7,
   "id": "89b826ff",
   "metadata": {},
   "outputs": [
    {
     "data": {
      "text/html": [
       "<div>\n",
       "<style scoped>\n",
       "    .dataframe tbody tr th:only-of-type {\n",
       "        vertical-align: middle;\n",
       "    }\n",
       "\n",
       "    .dataframe tbody tr th {\n",
       "        vertical-align: top;\n",
       "    }\n",
       "\n",
       "    .dataframe thead th {\n",
       "        text-align: right;\n",
       "    }\n",
       "</style>\n",
       "<table border=\"1\" class=\"dataframe\">\n",
       "  <thead>\n",
       "    <tr style=\"text-align: right;\">\n",
       "      <th></th>\n",
       "      <th>question</th>\n",
       "      <th>ref_answer</th>\n",
       "      <th>response</th>\n",
       "    </tr>\n",
       "  </thead>\n",
       "  <tbody>\n",
       "    <tr>\n",
       "      <th>0</th>\n",
       "      <td>What is The name of the contract?</td>\n",
       "      <td>STRATEGIC ALLIANCE AGREEMENT</td>\n",
       "      <td>The name of the contract is not provided in th...</td>\n",
       "    </tr>\n",
       "    <tr>\n",
       "      <th>1</th>\n",
       "      <td>What is The two or more parties who signed the...</td>\n",
       "      <td>Dialog Semiconductor (UK) Ltd., DIALOG, Energo...</td>\n",
       "      <td>The two parties who signed the contract are En...</td>\n",
       "    </tr>\n",
       "    <tr>\n",
       "      <th>2</th>\n",
       "      <td>What is The date of the contract?</td>\n",
       "      <td>November 6, 2016</td>\n",
       "      <td>The date of the contract is not explicitly sta...</td>\n",
       "    </tr>\n",
       "    <tr>\n",
       "      <th>3</th>\n",
       "      <td>What is The date when the contract is effective?</td>\n",
       "      <td>November 6, 2016</td>\n",
       "      <td>The Effective Date</td>\n",
       "    </tr>\n",
       "    <tr>\n",
       "      <th>4</th>\n",
       "      <td>On what date will the contract's initial term ...</td>\n",
       "      <td>Unless earlier terminated as provided herein, ...</td>\n",
       "      <td>7 years</td>\n",
       "    </tr>\n",
       "  </tbody>\n",
       "</table>\n",
       "</div>"
      ],
      "text/plain": [
       "                                            question  \\\n",
       "0                  What is The name of the contract?   \n",
       "1  What is The two or more parties who signed the...   \n",
       "2                  What is The date of the contract?   \n",
       "3   What is The date when the contract is effective?   \n",
       "4  On what date will the contract's initial term ...   \n",
       "\n",
       "                                          ref_answer  \\\n",
       "0                       STRATEGIC ALLIANCE AGREEMENT   \n",
       "1  Dialog Semiconductor (UK) Ltd., DIALOG, Energo...   \n",
       "2                                   November 6, 2016   \n",
       "3                                   November 6, 2016   \n",
       "4  Unless earlier terminated as provided herein, ...   \n",
       "\n",
       "                                            response  \n",
       "0  The name of the contract is not provided in th...  \n",
       "1  The two parties who signed the contract are En...  \n",
       "2  The date of the contract is not explicitly sta...  \n",
       "3                                 The Effective Date  \n",
       "4                                            7 years  "
      ]
     },
     "execution_count": 7,
     "metadata": {},
     "output_type": "execute_result"
    }
   ],
   "source": [
    "RAG_HAIKU_RESULTS = 'rag_haiku_results_2.csv'\n",
    "df_rag_haiku_data = pd.read_csv(RAG_HAIKU_RESULTS)\n",
    "df_rag_haiku_data.head()"
   ]
  },
  {
   "cell_type": "markdown",
   "id": "318193ed",
   "metadata": {},
   "source": [
    "RAG with Claude 3 Haiku for generator model, optimize by DSPy (generated from the notebook dspy_rag_compile.ipynb)"
   ]
  },
  {
   "cell_type": "code",
   "execution_count": 8,
   "id": "5ce27f1b",
   "metadata": {},
   "outputs": [
    {
     "data": {
      "text/html": [
       "<div>\n",
       "<style scoped>\n",
       "    .dataframe tbody tr th:only-of-type {\n",
       "        vertical-align: middle;\n",
       "    }\n",
       "\n",
       "    .dataframe tbody tr th {\n",
       "        vertical-align: top;\n",
       "    }\n",
       "\n",
       "    .dataframe thead th {\n",
       "        text-align: right;\n",
       "    }\n",
       "</style>\n",
       "<table border=\"1\" class=\"dataframe\">\n",
       "  <thead>\n",
       "    <tr style=\"text-align: right;\">\n",
       "      <th></th>\n",
       "      <th>question</th>\n",
       "      <th>ref_answer</th>\n",
       "      <th>response</th>\n",
       "    </tr>\n",
       "  </thead>\n",
       "  <tbody>\n",
       "    <tr>\n",
       "      <th>0</th>\n",
       "      <td>What is The name of the contract?</td>\n",
       "      <td>STRATEGIC ALLIANCE AGREEMENT</td>\n",
       "      <td>The context does not explicitly state the name...</td>\n",
       "    </tr>\n",
       "    <tr>\n",
       "      <th>1</th>\n",
       "      <td>What is The two or more parties who signed the...</td>\n",
       "      <td>Dialog Semiconductor (UK) Ltd., DIALOG, Energo...</td>\n",
       "      <td>The two parties who signed the contract are:\\n...</td>\n",
       "    </tr>\n",
       "    <tr>\n",
       "      <th>2</th>\n",
       "      <td>What is The date of the contract?</td>\n",
       "      <td>November 6, 2016</td>\n",
       "      <td>The effective date of the contract is November...</td>\n",
       "    </tr>\n",
       "    <tr>\n",
       "      <th>3</th>\n",
       "      <td>What is The date when the contract is effective?</td>\n",
       "      <td>November 6, 2016</td>\n",
       "      <td>The effective date of the contract is November...</td>\n",
       "    </tr>\n",
       "    <tr>\n",
       "      <th>4</th>\n",
       "      <td>On what date will the contract's initial term ...</td>\n",
       "      <td>Unless earlier terminated as provided herein, ...</td>\n",
       "      <td>The initial term of the contract will expire 7...</td>\n",
       "    </tr>\n",
       "  </tbody>\n",
       "</table>\n",
       "</div>"
      ],
      "text/plain": [
       "                                            question  \\\n",
       "0                  What is The name of the contract?   \n",
       "1  What is The two or more parties who signed the...   \n",
       "2                  What is The date of the contract?   \n",
       "3   What is The date when the contract is effective?   \n",
       "4  On what date will the contract's initial term ...   \n",
       "\n",
       "                                          ref_answer  \\\n",
       "0                       STRATEGIC ALLIANCE AGREEMENT   \n",
       "1  Dialog Semiconductor (UK) Ltd., DIALOG, Energo...   \n",
       "2                                   November 6, 2016   \n",
       "3                                   November 6, 2016   \n",
       "4  Unless earlier terminated as provided herein, ...   \n",
       "\n",
       "                                            response  \n",
       "0  The context does not explicitly state the name...  \n",
       "1  The two parties who signed the contract are:\\n...  \n",
       "2  The effective date of the contract is November...  \n",
       "3  The effective date of the contract is November...  \n",
       "4  The initial term of the contract will expire 7...  "
      ]
     },
     "execution_count": 8,
     "metadata": {},
     "output_type": "execute_result"
    }
   ],
   "source": [
    "RAG_HAIKU_COMPILED_RESULTS = 'ragc_haiku_results_2.csv'\n",
    "df_ragc_haiku_data = pd.read_csv(RAG_HAIKU_COMPILED_RESULTS)\n",
    "df_ragc_haiku_data.head()"
   ]
  },
  {
   "cell_type": "markdown",
   "id": "237ac589",
   "metadata": {},
   "source": [
    "RAG with Claude 3 Sonnet for generator model (generated from the notebook dspy_rag_compile.ipynb)"
   ]
  },
  {
   "cell_type": "code",
   "execution_count": 9,
   "id": "880ee83c",
   "metadata": {},
   "outputs": [
    {
     "data": {
      "text/html": [
       "<div>\n",
       "<style scoped>\n",
       "    .dataframe tbody tr th:only-of-type {\n",
       "        vertical-align: middle;\n",
       "    }\n",
       "\n",
       "    .dataframe tbody tr th {\n",
       "        vertical-align: top;\n",
       "    }\n",
       "\n",
       "    .dataframe thead th {\n",
       "        text-align: right;\n",
       "    }\n",
       "</style>\n",
       "<table border=\"1\" class=\"dataframe\">\n",
       "  <thead>\n",
       "    <tr style=\"text-align: right;\">\n",
       "      <th></th>\n",
       "      <th>question</th>\n",
       "      <th>ref_answer</th>\n",
       "      <th>response</th>\n",
       "    </tr>\n",
       "  </thead>\n",
       "  <tbody>\n",
       "    <tr>\n",
       "      <th>0</th>\n",
       "      <td>What is The name of the contract?</td>\n",
       "      <td>STRATEGIC ALLIANCE AGREEMENT</td>\n",
       "      <td>This appears to be an agreement between Energo...</td>\n",
       "    </tr>\n",
       "    <tr>\n",
       "      <th>1</th>\n",
       "      <td>What is The two or more parties who signed the...</td>\n",
       "      <td>Dialog Semiconductor (UK) Ltd., DIALOG, Energo...</td>\n",
       "      <td>Energous Corporation, Dialog Semiconductor (UK...</td>\n",
       "    </tr>\n",
       "    <tr>\n",
       "      <th>2</th>\n",
       "      <td>What is The date of the contract?</td>\n",
       "      <td>November 6, 2016</td>\n",
       "      <td>The exact date of the contract is not provided...</td>\n",
       "    </tr>\n",
       "    <tr>\n",
       "      <th>3</th>\n",
       "      <td>What is The date when the contract is effective?</td>\n",
       "      <td>November 6, 2016</td>\n",
       "      <td>The Effective Date</td>\n",
       "    </tr>\n",
       "    <tr>\n",
       "      <th>4</th>\n",
       "      <td>On what date will the contract's initial term ...</td>\n",
       "      <td>Unless earlier terminated as provided herein, ...</td>\n",
       "      <td>7 years</td>\n",
       "    </tr>\n",
       "  </tbody>\n",
       "</table>\n",
       "</div>"
      ],
      "text/plain": [
       "                                            question  \\\n",
       "0                  What is The name of the contract?   \n",
       "1  What is The two or more parties who signed the...   \n",
       "2                  What is The date of the contract?   \n",
       "3   What is The date when the contract is effective?   \n",
       "4  On what date will the contract's initial term ...   \n",
       "\n",
       "                                          ref_answer  \\\n",
       "0                       STRATEGIC ALLIANCE AGREEMENT   \n",
       "1  Dialog Semiconductor (UK) Ltd., DIALOG, Energo...   \n",
       "2                                   November 6, 2016   \n",
       "3                                   November 6, 2016   \n",
       "4  Unless earlier terminated as provided herein, ...   \n",
       "\n",
       "                                            response  \n",
       "0  This appears to be an agreement between Energo...  \n",
       "1  Energous Corporation, Dialog Semiconductor (UK...  \n",
       "2  The exact date of the contract is not provided...  \n",
       "3                                 The Effective Date  \n",
       "4                                            7 years  "
      ]
     },
     "execution_count": 9,
     "metadata": {},
     "output_type": "execute_result"
    }
   ],
   "source": [
    "RAG_SONNET_RESULTS = 'rag_sonnet_results_2.csv'\n",
    "df_rag_sonnet_data = pd.read_csv(RAG_SONNET_RESULTS)\n",
    "df_rag_sonnet_data.head()"
   ]
  },
  {
   "cell_type": "markdown",
   "id": "9323a332",
   "metadata": {},
   "source": [
    "RAG with Claude 3 Sonnet for generator model, optimize by DSPy (generated from the notebook dspy_rag_compile.ipynb)"
   ]
  },
  {
   "cell_type": "code",
   "execution_count": 10,
   "id": "af4556d8",
   "metadata": {},
   "outputs": [
    {
     "data": {
      "text/html": [
       "<div>\n",
       "<style scoped>\n",
       "    .dataframe tbody tr th:only-of-type {\n",
       "        vertical-align: middle;\n",
       "    }\n",
       "\n",
       "    .dataframe tbody tr th {\n",
       "        vertical-align: top;\n",
       "    }\n",
       "\n",
       "    .dataframe thead th {\n",
       "        text-align: right;\n",
       "    }\n",
       "</style>\n",
       "<table border=\"1\" class=\"dataframe\">\n",
       "  <thead>\n",
       "    <tr style=\"text-align: right;\">\n",
       "      <th></th>\n",
       "      <th>question</th>\n",
       "      <th>ref_answer</th>\n",
       "      <th>response</th>\n",
       "    </tr>\n",
       "  </thead>\n",
       "  <tbody>\n",
       "    <tr>\n",
       "      <th>0</th>\n",
       "      <td>What is The name of the contract?</td>\n",
       "      <td>STRATEGIC ALLIANCE AGREEMENT</td>\n",
       "      <td>Unfortunately, the name or title of the contra...</td>\n",
       "    </tr>\n",
       "    <tr>\n",
       "      <th>1</th>\n",
       "      <td>What is The two or more parties who signed the...</td>\n",
       "      <td>Dialog Semiconductor (UK) Ltd., DIALOG, Energo...</td>\n",
       "      <td>The two parties who signed the contract are:\\n...</td>\n",
       "    </tr>\n",
       "    <tr>\n",
       "      <th>2</th>\n",
       "      <td>What is The date of the contract?</td>\n",
       "      <td>November 6, 2016</td>\n",
       "      <td>Unfortunately, the specific date of the contra...</td>\n",
       "    </tr>\n",
       "    <tr>\n",
       "      <th>3</th>\n",
       "      <td>What is The date when the contract is effective?</td>\n",
       "      <td>November 6, 2016</td>\n",
       "      <td>Unfortunately, the effective date of the contr...</td>\n",
       "    </tr>\n",
       "    <tr>\n",
       "      <th>4</th>\n",
       "      <td>On what date will the contract's initial term ...</td>\n",
       "      <td>Unless earlier terminated as provided herein, ...</td>\n",
       "      <td>The contract does not explicitly state the sta...</td>\n",
       "    </tr>\n",
       "  </tbody>\n",
       "</table>\n",
       "</div>"
      ],
      "text/plain": [
       "                                            question  \\\n",
       "0                  What is The name of the contract?   \n",
       "1  What is The two or more parties who signed the...   \n",
       "2                  What is The date of the contract?   \n",
       "3   What is The date when the contract is effective?   \n",
       "4  On what date will the contract's initial term ...   \n",
       "\n",
       "                                          ref_answer  \\\n",
       "0                       STRATEGIC ALLIANCE AGREEMENT   \n",
       "1  Dialog Semiconductor (UK) Ltd., DIALOG, Energo...   \n",
       "2                                   November 6, 2016   \n",
       "3                                   November 6, 2016   \n",
       "4  Unless earlier terminated as provided herein, ...   \n",
       "\n",
       "                                            response  \n",
       "0  Unfortunately, the name or title of the contra...  \n",
       "1  The two parties who signed the contract are:\\n...  \n",
       "2  Unfortunately, the specific date of the contra...  \n",
       "3  Unfortunately, the effective date of the contr...  \n",
       "4  The contract does not explicitly state the sta...  "
      ]
     },
     "execution_count": 10,
     "metadata": {},
     "output_type": "execute_result"
    }
   ],
   "source": [
    "RAG_SONNET_COMPILED_RESULTS = 'ragc_sonnet_results_2.csv'\n",
    "df_ragc_sonnet_data = pd.read_csv(RAG_SONNET_COMPILED_RESULTS)\n",
    "df_ragc_sonnet_data.head()"
   ]
  },
  {
   "cell_type": "markdown",
   "id": "9823156f",
   "metadata": {},
   "source": [
    "### Evaluation method 1: LLM-as-a-judge with True/False as score"
   ]
  },
  {
   "cell_type": "markdown",
   "id": "e6055310",
   "metadata": {},
   "source": [
    "Setup Claude and Meta models on Bedrock for LLM-as-a-judge"
   ]
  },
  {
   "cell_type": "code",
   "execution_count": 11,
   "id": "0c00e188",
   "metadata": {},
   "outputs": [],
   "source": [
    "dsp_bedrock = dspy.Bedrock(region_name=region_name)\n",
    "\n",
    "claude_sonnet_model_id = \"anthropic.claude-3-sonnet-20240229-v1:0\"\n",
    "clade_haiku_model_id = \"anthropic.claude-3-haiku-20240307-v1:0\"\n",
    "llama_model_id = \"us.meta.llama3-2-90b-instruct-v1:0\"\n",
    "\n",
    "bedrock_sonnet = dspy.AWSAnthropic(aws_provider=dsp_bedrock,\n",
    "                                  model=claude_sonnet_model_id,\n",
    "                                  max_new_tokens=4096,\n",
    "                                  max_tokens=4096)\n",
    "\n",
    "bedrock_haiku = dspy.AWSAnthropic(aws_provider=dsp_bedrock,\n",
    "                                 model=clade_haiku_model_id,\n",
    "                                 max_new_tokens=4096,\n",
    "                                 max_tokens=4096)\n",
    "\n",
    "bedrock_llama = dspy.AWSMeta(aws_provider=dsp_bedrock, \n",
    "                             model=llama_model_id, \n",
    "                             max_new_tokens=2048,\n",
    "                             max_tokens=2048)"
   ]
  },
  {
   "cell_type": "code",
   "execution_count": 12,
   "id": "a15d2962",
   "metadata": {},
   "outputs": [],
   "source": [
    "dspy.settings.configure(lm=bedrock_sonnet, temperature=0.1)"
   ]
  },
  {
   "cell_type": "markdown",
   "id": "4bf51e80-b959-4f50-afb2-be015203db56",
   "metadata": {},
   "source": [
    "Define the LLM judge class: eval = True/False"
   ]
  },
  {
   "cell_type": "code",
   "execution_count": 13,
   "id": "c66cde85-90bd-460d-83d4-948e784241ff",
   "metadata": {
    "tags": []
   },
   "outputs": [],
   "source": [
    "class FactualityJudge_0(dspy.Signature):\n",
    "    \"\"\"Judge if the predicted answer is factually correct and similar to the groundtruth answer. Only provide 'True' or 'False' in the response.\"\"\"\n",
    "\n",
    "    groundtruth_answer = dspy.InputField(desc=\"groundtruth answer\", format=str)\n",
    "    predicted_answer = dspy.InputField(desc=\"predicted answer\", format=str)\n",
    "    factually_correct = dspy.OutputField(desc=\"Is the predicted answer factually correct and semantically similar to the groundtruth answer?\", format=str) #, prefix=\"Factual[True/False]:\")\n"
   ]
  },
  {
   "cell_type": "code",
   "execution_count": 14,
   "id": "27bd330c-3dca-466a-a36f-156dbd596c00",
   "metadata": {},
   "outputs": [],
   "source": [
    "factualityJudge_0 = dspy.ChainOfThought(FactualityJudge_0)"
   ]
  },
  {
   "cell_type": "markdown",
   "id": "0059ef73-7255-4385-a3fb-6e067801dce2",
   "metadata": {},
   "source": [
    "Define the factuality metric for DSPy evaluate to run through LLM response/answer, and use LLM judge to generate evaluation metrics"
   ]
  },
  {
   "cell_type": "code",
   "execution_count": 15,
   "id": "f43b823e-fda3-46aa-bee0-61d1703a46d1",
   "metadata": {
    "tags": []
   },
   "outputs": [],
   "source": [
    "def factuality_metric_0(gt_answer, pred_answer):\n",
    "    #print(f\" type(gt_answer) :: {type(gt_answer)}\")\n",
    "    pred_answer = gt_answer.pred_answer\n",
    "    gt_answer = gt_answer.gt_answer\n",
    "        \n",
    "        \n",
    "    factual_metrc = factualityJudge_0(groundtruth_answer=gt_answer, predicted_answer=pred_answer), \n",
    "    '''\n",
    "    #debug\n",
    "    print(f\"\\n factual LLM judge  >>>>>>>> {factual_metrc}\")\n",
    "    print(f\"\\n factual LLM judge  >>>>>>>> {factual_metrc[0].factually_correct}\")\n",
    "    print(f\"\\n gt_answer  >>>>>>>  {gt_answer}\")\n",
    "    print(f\"\\n pred_answer  >>>>>>> {pred_answer}\")\n",
    "    '''\n",
    "    llm_judge_ans = bool(\"Factual[True]\" in factual_metrc[0].factually_correct or factual_metrc[0].factually_correct=='True') #or \"correct\" in factual.factually_correct.lower()\n",
    "    print(f\"llm_judge_ans = {llm_judge_ans}\")\n",
    "    return llm_judge_ans"
   ]
  },
  {
   "cell_type": "code",
   "execution_count": 16,
   "id": "7e7bc537-deb9-4241-8e7a-26ed43a56255",
   "metadata": {},
   "outputs": [],
   "source": [
    "metric_LLM_0 = factuality_metric_0"
   ]
  },
  {
   "cell_type": "markdown",
   "id": "d8e51145-bb7b-45a7-b380-b25a2142ea13",
   "metadata": {},
   "source": [
    "LLM Judge class to generate the answer and factual consistency"
   ]
  },
  {
   "cell_type": "code",
   "execution_count": 17,
   "id": "88774a1b-4b63-4a67-8f53-eac416b31b66",
   "metadata": {
    "tags": []
   },
   "outputs": [],
   "source": [
    "class LLMJudge_0(dspy.Module):\n",
    "    def __init__(self):\n",
    "        super().__init__()\n",
    "        self.generate_answer = dspy.ChainOfThought(FactualityJudge_0)\n",
    "    \n",
    "    def forward(self, gt_answer, pred_answer):\n",
    "        '''\n",
    "        print(f\"LLMJudge_0 gt_answer ----- {gt_answer}\")\n",
    "        print(f\"LLMJudge_0 pred_answer ----- {pred_answer}\")\n",
    "        '''\n",
    "        factual = self.generate_answer(groundtruth_answer=gt_answer, predicted_answer=pred_answer)\n",
    "        #gprint(f\"LLMJudge_0 factual ----- {factual}\")\n",
    "        #llm_judge_ans = factual.factually_correct\n",
    "        \n",
    "        llm_judge_ans = bool(\"Factual[True]\" in factual.factually_correct \n",
    "                         or '100% True' in factual.factually_correct\n",
    "                         or '100% factually correct' in factual.factually_correct\n",
    "                         or 'True' in factual.factually_correct    \n",
    "                         or factual.factually_correct=='True') #or \"correct\" in factual.factually_correct.lower()\n",
    "        return llm_judge_ans"
   ]
  },
  {
   "cell_type": "code",
   "execution_count": 18,
   "id": "11f03a93-17b2-4f1b-8c4b-0cd8700adbbb",
   "metadata": {},
   "outputs": [],
   "source": [
    "llm_judge_0 = LLMJudge_0()"
   ]
  },
  {
   "cell_type": "markdown",
   "id": "4fef38f6",
   "metadata": {},
   "source": [
    "Convert dataset into dspy format "
   ]
  },
  {
   "cell_type": "code",
   "execution_count": 19,
   "id": "f5f40fce-3c99-43f8-aad8-2f2346dca023",
   "metadata": {},
   "outputs": [],
   "source": [
    "def generate_dspy_example_dataset(df):\n",
    "    dataset_dspy_data = []\n",
    "\n",
    "    for question, gt_answer, pred_answer in df[:][[\"question\", \"ref_answer\", \"response\"]].values:\n",
    "        '''\n",
    "        print(f\"question >>>>>>> {question}\")\n",
    "        print(f\"gt_answer >>>>>>> {gt_answer}\")\n",
    "        print(f\"pred_answer >>>>>>> {pred_answer}\")\n",
    "        '''\n",
    "        dataset_dspy_data.append(dspy.Example(gt_answer=gt_answer, pred_answer=pred_answer).with_inputs(\"gt_answer\", \"pred_answer\"))\n",
    "\n",
    "    return dataset_dspy_data\n"
   ]
  },
  {
   "cell_type": "markdown",
   "id": "28ae6e9a",
   "metadata": {},
   "source": [
    "Batch evaluation using LLM-Judge class for dataset in dataframe format "
   ]
  },
  {
   "cell_type": "code",
   "execution_count": 20,
   "id": "c5c8f95d",
   "metadata": {},
   "outputs": [],
   "source": [
    "def get_judge_scores_0(test_data):\n",
    "    scores = []\n",
    "\n",
    "    for index, row in test_data.iterrows():\n",
    "        #print(\"=== \",index,\" ===\")\n",
    "        #print(f\"---------------\")\n",
    "        #print(f\"row['ref_answer'] >>>  {row['ref_answer']}\")\n",
    "        #print(f\"row['response'] {row['response']}\")\n",
    "        llm_judge_ans = float(llm_judge_0(row['ref_answer'], row['response']))\n",
    "        #print(f\"llm_judge_ans :: {llm_judge_ans}\")\n",
    "        scores.append(llm_judge_ans)\n",
    "        print(index,':',llm_judge_ans, end='|')\n",
    "\n",
    "    accuracy_score = (sum(bool(score) for score in scores))/len(scores)\n",
    "    \n",
    "    return accuracy_score"
   ]
  },
  {
   "cell_type": "markdown",
   "id": "6094ae6d-0f35-4556-8285-b400d7530cc9",
   "metadata": {},
   "source": [
    "#### LLM judge metrics by dspy "
   ]
  },
  {
   "cell_type": "markdown",
   "id": "136a2d1e-ee91-4aec-8b42-9bfc17d53f2a",
   "metadata": {
    "tags": []
   },
   "source": [
    "Evaluation scores for SFT results by LLM-judge class"
   ]
  },
  {
   "cell_type": "code",
   "execution_count": 21,
   "id": "6efc3d68",
   "metadata": {},
   "outputs": [
    {
     "name": "stderr",
     "output_type": "stream",
     "text": [
      "WARNING:root:\t*** In DSPy 2.5, all LM clients except `dspy.LM` are deprecated, underperform, and are about to be deleted. ***\n",
      " \t\tYou are using the client AWSAnthropic, which will be removed in DSPy 2.6.\n",
      " \t\tChanging the client is straightforward and will let you use new features (Adapters) that improve the consistency of LM outputs, especially when using chat LMs. \n",
      "\n",
      " \t\tLearn more about the changes and how to migrate at\n",
      " \t\thttps://github.com/stanfordnlp/dspy/blob/main/examples/migration.ipynb\n"
     ]
    },
    {
     "name": "stdout",
     "output_type": "stream",
     "text": [
      "0 : 1.0|1 : 0.0|2 : 0.0|3 : 1.0|4 : 1.0|5 : 1.0|6 : 1.0|7 : 1.0|8 : 0.0|9 : 0.0|10 : 0.0|11 : 0.0|12 : 0.0|13 : 0.0|14 : 0.0|15 : 0.0|16 : 1.0|17 : 0.0|18 : 0.0|19 : 0.0|20 : 1.0|21 : 0.0|22 : 1.0|23 : 0.0|24 : 1.0|25 : 0.0|26 : 0.0|27 : 0.0|28 : 1.0|29 : 0.0|30 : 0.0|31 : 0.0|"
     ]
    },
    {
     "data": {
      "text/plain": [
       "0.34375"
      ]
     },
     "execution_count": 21,
     "metadata": {},
     "output_type": "execute_result"
    }
   ],
   "source": [
    "sft_score_0 = get_judge_scores_0(df_sft_data)\n",
    "sft_score_0"
   ]
  },
  {
   "cell_type": "markdown",
   "id": "96246d4d",
   "metadata": {},
   "source": [
    "Evaluation scores for SFT results by dspy"
   ]
  },
  {
   "cell_type": "code",
   "execution_count": 22,
   "id": "d25d88a9-53d5-469e-8c5d-9a6834e2cdcd",
   "metadata": {
    "tags": []
   },
   "outputs": [
    {
     "name": "stdout",
     "output_type": "stream",
     "text": [
      "  0%|          | 0/32 [00:00<?, ?it/s]llm_judge_ans = True\n",
      "Average Metric: 1.00 / 32 (3.1%):   3%|▎         | 1/32 [00:01<00:47,  1.54s/it]llm_judge_ans = False\n",
      "Average Metric: 1.00 / 32 (3.1%):   6%|▋         | 2/32 [00:06<01:41,  3.37s/it]llm_judge_ans = False\n",
      "Average Metric: 1.00 / 32 (3.1%):   9%|▉         | 3/32 [00:07<01:08,  2.36s/it]llm_judge_ans = True\n",
      "Average Metric: 2.00 / 32 (6.2%):  12%|█▎        | 4/32 [00:10<01:12,  2.57s/it]llm_judge_ans = True\n",
      "Average Metric: 3.00 / 32 (9.4%):  16%|█▌        | 5/32 [00:12<01:07,  2.51s/it]llm_judge_ans = True\n",
      "Average Metric: 4.00 / 32 (12.5%):  19%|█▉        | 6/32 [00:14<00:55,  2.15s/it]llm_judge_ans = True\n",
      "Average Metric: 5.00 / 32 (15.6%):  22%|██▏       | 7/32 [00:15<00:50,  2.03s/it]llm_judge_ans = True\n",
      "Average Metric: 6.00 / 32 (18.8%):  25%|██▌       | 8/32 [00:17<00:47,  2.00s/it]llm_judge_ans = False\n",
      "Average Metric: 6.00 / 32 (18.8%):  28%|██▊       | 9/32 [00:19<00:45,  2.00s/it]llm_judge_ans = False\n",
      "Average Metric: 6.00 / 32 (18.8%):  31%|███▏      | 10/32 [00:24<01:00,  2.73s/it]llm_judge_ans = False\n",
      "Average Metric: 6.00 / 32 (18.8%):  34%|███▍      | 11/32 [00:26<00:51,  2.47s/it]llm_judge_ans = False\n",
      "Average Metric: 6.00 / 32 (18.8%):  38%|███▊      | 12/32 [00:28<00:46,  2.33s/it]llm_judge_ans = False\n",
      "Average Metric: 6.00 / 32 (18.8%):  41%|████      | 13/32 [00:30<00:44,  2.32s/it]llm_judge_ans = False\n",
      "Average Metric: 6.00 / 32 (18.8%):  44%|████▍     | 14/32 [00:31<00:37,  2.07s/it]llm_judge_ans = False\n",
      "Average Metric: 6.00 / 32 (18.8%):  47%|████▋     | 15/32 [00:35<00:41,  2.47s/it]llm_judge_ans = False\n",
      "Average Metric: 6.00 / 32 (18.8%):  50%|█████     | 16/32 [00:37<00:39,  2.49s/it]llm_judge_ans = True\n",
      "Average Metric: 7.00 / 32 (21.9%):  53%|█████▎    | 17/32 [00:39<00:34,  2.27s/it]llm_judge_ans = False\n",
      "Average Metric: 7.00 / 32 (21.9%):  56%|█████▋    | 18/32 [00:41<00:29,  2.10s/it]llm_judge_ans = False\n",
      "Average Metric: 7.00 / 32 (21.9%):  59%|█████▉    | 19/32 [00:43<00:26,  2.03s/it]llm_judge_ans = False\n",
      "Average Metric: 7.00 / 32 (21.9%):  62%|██████▎   | 20/32 [00:45<00:24,  2.05s/it]llm_judge_ans = True\n",
      "Average Metric: 8.00 / 32 (25.0%):  66%|██████▌   | 21/32 [00:47<00:24,  2.26s/it]llm_judge_ans = False\n",
      "Average Metric: 8.00 / 32 (25.0%):  69%|██████▉   | 22/32 [00:50<00:24,  2.48s/it]llm_judge_ans = True\n",
      "Average Metric: 9.00 / 32 (28.1%):  72%|███████▏  | 23/32 [00:53<00:22,  2.45s/it]llm_judge_ans = False\n",
      "Average Metric: 9.00 / 32 (28.1%):  75%|███████▌  | 24/32 [00:55<00:20,  2.52s/it]llm_judge_ans = True\n",
      "Average Metric: 10.00 / 32 (31.2%):  78%|███████▊  | 25/32 [00:57<00:16,  2.30s/it]llm_judge_ans = False\n",
      "Average Metric: 10.00 / 32 (31.2%):  81%|████████▏ | 26/32 [01:00<00:14,  2.35s/it]llm_judge_ans = False\n",
      "Average Metric: 10.00 / 32 (31.2%):  84%|████████▍ | 27/32 [01:06<00:18,  3.62s/it]llm_judge_ans = False\n",
      "Average Metric: 10.00 / 32 (31.2%):  88%|████████▊ | 28/32 [01:08<00:12,  3.12s/it]llm_judge_ans = True\n",
      "Average Metric: 11.00 / 32 (34.4%):  91%|█████████ | 29/32 [01:10<00:08,  2.75s/it]llm_judge_ans = False\n",
      "Average Metric: 11.00 / 32 (34.4%):  94%|█████████▍| 30/32 [01:15<00:07,  3.51s/it]llm_judge_ans = False\n",
      "Average Metric: 11.00 / 32 (34.4%):  97%|█████████▋| 31/32 [01:18<00:03,  3.23s/it]llm_judge_ans = False\n",
      "Average Metric: 11.00 / 32 (34.4%): 100%|██████████| 32/32 [01:21<00:00,  2.56s/it]"
     ]
    },
    {
     "name": "stderr",
     "output_type": "stream",
     "text": [
      "2025/01/22 02:38:47 INFO dspy.evaluate.evaluate: Average Metric: 11 / 32 (34.4%)\n"
     ]
    },
    {
     "name": "stdout",
     "output_type": "stream",
     "text": [
      "\n",
      "------------- Final DSPy Evaluation score :::: 34.38 ---------\n"
     ]
    }
   ],
   "source": [
    "evaluate_llm_judge = Evaluate(devset=generate_dspy_example_dataset(df_sft_data), \n",
    "                              metric=metric_LLM_0, \n",
    "                              num_threads=1, \n",
    "                              display_progress=True, \n",
    "                              display_table=0, \n",
    "                              provide_traceback=True)\n",
    "\n",
    "eval_score = evaluate_llm_judge(llm_judge_0, num_threads=1)\n",
    "print(f\"------------- Final DSPy Evaluation score :::: {eval_score} ---------\")"
   ]
  },
  {
   "cell_type": "code",
   "execution_count": 23,
   "id": "2340ce59-1d4f-4797-a63a-bc76dc083a05",
   "metadata": {
    "tags": []
   },
   "outputs": [
    {
     "data": {
      "text/plain": [
       "0.34380000000000005"
      ]
     },
     "execution_count": 23,
     "metadata": {},
     "output_type": "execute_result"
    }
   ],
   "source": [
    "sft_score_0 = eval_score/100\n",
    "sft_score_0"
   ]
  },
  {
   "cell_type": "markdown",
   "id": "de846386-639b-4c5e-b4a2-ebea89261477",
   "metadata": {},
   "source": [
    "Evaluation scores for DPO results by LLM-judge class"
   ]
  },
  {
   "cell_type": "code",
   "execution_count": 24,
   "id": "63c23f82",
   "metadata": {},
   "outputs": [
    {
     "name": "stdout",
     "output_type": "stream",
     "text": [
      "0 : 1.0|1 : 1.0|2 : 0.0|3 : 0.0|4 : 1.0|5 : 1.0|6 : 0.0|7 : 1.0|8 : 0.0|9 : 0.0|10 : 1.0|11 : 1.0|12 : 1.0|13 : 0.0|14 : 1.0|15 : 1.0|16 : 1.0|17 : 0.0|18 : 0.0|19 : 0.0|20 : 1.0|21 : 0.0|22 : 1.0|23 : 1.0|24 : 1.0|25 : 0.0|26 : 0.0|27 : 0.0|28 : 1.0|29 : 1.0|30 : 1.0|31 : 1.0|"
     ]
    },
    {
     "data": {
      "text/plain": [
       "0.59375"
      ]
     },
     "execution_count": 24,
     "metadata": {},
     "output_type": "execute_result"
    }
   ],
   "source": [
    "dpo_score_0 = get_judge_scores_0(df_dpo_data)\n",
    "dpo_score_0"
   ]
  },
  {
   "cell_type": "markdown",
   "id": "85f727bc",
   "metadata": {},
   "source": [
    "Evaluation scores for DPO results by dspy"
   ]
  },
  {
   "cell_type": "code",
   "execution_count": 25,
   "id": "8c6ecbd6-7dc4-4e83-9b0b-b9487de60763",
   "metadata": {},
   "outputs": [
    {
     "name": "stdout",
     "output_type": "stream",
     "text": [
      "  0%|          | 0/32 [00:00<?, ?it/s]llm_judge_ans = True\n",
      "Average Metric: 1.00 / 32 (3.1%):   3%|▎         | 1/32 [00:02<01:04,  2.07s/it]llm_judge_ans = True\n",
      "Average Metric: 2.00 / 32 (6.2%):   6%|▋         | 2/32 [00:03<00:48,  1.62s/it]llm_judge_ans = False\n",
      "Average Metric: 2.00 / 32 (6.2%):   9%|▉         | 3/32 [00:04<00:45,  1.59s/it]llm_judge_ans = False\n",
      "Average Metric: 2.00 / 32 (6.2%):  12%|█▎        | 4/32 [00:06<00:47,  1.70s/it]llm_judge_ans = True\n",
      "Average Metric: 3.00 / 32 (9.4%):  16%|█▌        | 5/32 [00:09<00:53,  1.98s/it]llm_judge_ans = True\n",
      "Average Metric: 4.00 / 32 (12.5%):  19%|█▉        | 6/32 [00:10<00:47,  1.82s/it]llm_judge_ans = False\n",
      "Average Metric: 4.00 / 32 (12.5%):  22%|██▏       | 7/32 [00:14<01:03,  2.56s/it]llm_judge_ans = True\n",
      "Average Metric: 5.00 / 32 (15.6%):  25%|██▌       | 8/32 [00:17<00:59,  2.49s/it]llm_judge_ans = False\n",
      "Average Metric: 5.00 / 32 (15.6%):  28%|██▊       | 9/32 [00:19<00:53,  2.34s/it]llm_judge_ans = False\n",
      "Average Metric: 5.00 / 32 (15.6%):  31%|███▏      | 10/32 [00:21<00:54,  2.46s/it]llm_judge_ans = True\n",
      "Average Metric: 6.00 / 32 (18.8%):  34%|███▍      | 11/32 [00:23<00:47,  2.28s/it]llm_judge_ans = True\n",
      "Average Metric: 7.00 / 32 (21.9%):  38%|███▊      | 12/32 [00:26<00:46,  2.33s/it]llm_judge_ans = True\n",
      "Average Metric: 8.00 / 32 (25.0%):  41%|████      | 13/32 [00:29<00:51,  2.69s/it]llm_judge_ans = False\n",
      "Average Metric: 8.00 / 32 (25.0%):  44%|████▍     | 14/32 [00:38<01:20,  4.48s/it]llm_judge_ans = True\n",
      "Average Metric: 9.00 / 32 (28.1%):  47%|████▋     | 15/32 [00:41<01:11,  4.21s/it]llm_judge_ans = True\n",
      "Average Metric: 10.00 / 32 (31.2%):  50%|█████     | 16/32 [00:47<01:14,  4.64s/it]llm_judge_ans = True\n",
      "Average Metric: 11.00 / 32 (34.4%):  53%|█████▎    | 17/32 [00:50<01:00,  4.04s/it]llm_judge_ans = False\n",
      "Average Metric: 11.00 / 32 (34.4%):  56%|█████▋    | 18/32 [00:53<00:52,  3.75s/it]llm_judge_ans = False\n",
      "Average Metric: 11.00 / 32 (34.4%):  59%|█████▉    | 19/32 [01:02<01:09,  5.37s/it]llm_judge_ans = False\n",
      "Average Metric: 11.00 / 32 (34.4%):  62%|██████▎   | 20/32 [01:04<00:52,  4.37s/it]llm_judge_ans = True\n",
      "Average Metric: 12.00 / 32 (37.5%):  66%|██████▌   | 21/32 [01:07<00:44,  4.01s/it]llm_judge_ans = False\n",
      "Average Metric: 12.00 / 32 (37.5%):  69%|██████▉   | 22/32 [01:15<00:50,  5.00s/it]llm_judge_ans = True\n",
      "Average Metric: 13.00 / 32 (40.6%):  72%|███████▏  | 23/32 [01:17<00:38,  4.27s/it]llm_judge_ans = True\n",
      "Average Metric: 14.00 / 32 (43.8%):  75%|███████▌  | 24/32 [01:19<00:28,  3.50s/it]llm_judge_ans = True\n",
      "Average Metric: 15.00 / 32 (46.9%):  78%|███████▊  | 25/32 [01:21<00:22,  3.20s/it]llm_judge_ans = False\n",
      "Average Metric: 15.00 / 32 (46.9%):  81%|████████▏ | 26/32 [01:29<00:26,  4.42s/it]llm_judge_ans = False\n",
      "Average Metric: 15.00 / 32 (46.9%):  84%|████████▍ | 27/32 [01:32<00:20,  4.19s/it]llm_judge_ans = False\n",
      "Average Metric: 15.00 / 32 (46.9%):  88%|████████▊ | 28/32 [01:35<00:15,  3.86s/it]llm_judge_ans = True\n",
      "Average Metric: 16.00 / 32 (50.0%):  91%|█████████ | 29/32 [01:40<00:12,  4.08s/it]llm_judge_ans = True\n",
      "Average Metric: 17.00 / 32 (53.1%):  94%|█████████▍| 30/32 [01:43<00:07,  3.67s/it]llm_judge_ans = True\n",
      "Average Metric: 18.00 / 32 (56.2%):  97%|█████████▋| 31/32 [01:45<00:03,  3.16s/it]llm_judge_ans = True\n",
      "Average Metric: 19.00 / 32 (59.4%): 100%|██████████| 32/32 [01:48<00:00,  3.38s/it]"
     ]
    },
    {
     "name": "stderr",
     "output_type": "stream",
     "text": [
      "2025/01/22 02:41:25 INFO dspy.evaluate.evaluate: Average Metric: 19 / 32 (59.4%)\n"
     ]
    },
    {
     "name": "stdout",
     "output_type": "stream",
     "text": [
      "\n",
      "------------- Final DSPy Evaluation score :::: 59.38 ---------\n"
     ]
    }
   ],
   "source": [
    "evaluate_llm_judge = Evaluate(devset=generate_dspy_example_dataset(df_dpo_data), \n",
    "                              metric=metric_LLM_0, \n",
    "                              num_threads=1, \n",
    "                              display_progress=True, display_table=0, provide_traceback=True)\n",
    "\n",
    "eval_score = evaluate_llm_judge(llm_judge_0, num_threads=1)\n",
    "print(f\"------------- Final DSPy Evaluation score :::: {eval_score} ---------\")"
   ]
  },
  {
   "cell_type": "code",
   "execution_count": 26,
   "id": "3eed68fe-0d9d-4ab3-982c-7e6e9fa2956a",
   "metadata": {},
   "outputs": [
    {
     "data": {
      "text/plain": [
       "0.5938"
      ]
     },
     "execution_count": 26,
     "metadata": {},
     "output_type": "execute_result"
    }
   ],
   "source": [
    "dpo_score_0 = eval_score/100\n",
    "dpo_score_0"
   ]
  },
  {
   "cell_type": "markdown",
   "id": "24c8498c-c950-4c18-8413-81665b66abbc",
   "metadata": {},
   "source": [
    "Evaluation scores for ORPO results by LLM-judge class"
   ]
  },
  {
   "cell_type": "code",
   "execution_count": 27,
   "id": "1a37e3cf",
   "metadata": {},
   "outputs": [
    {
     "name": "stdout",
     "output_type": "stream",
     "text": [
      "0 : 1.0|1 : 1.0|2 : 0.0|3 : 0.0|4 : 1.0|5 : 1.0|6 : 0.0|7 : 1.0|8 : 0.0|9 : 0.0|10 : 1.0|11 : 1.0|12 : 0.0|13 : 0.0|14 : 1.0|15 : 1.0|16 : 1.0|17 : 0.0|18 : 0.0|19 : 0.0|20 : 1.0|21 : 0.0|22 : 1.0|23 : 1.0|24 : 1.0|25 : 0.0|26 : 0.0|27 : 0.0|28 : 1.0|29 : 1.0|30 : 1.0|31 : 1.0|"
     ]
    },
    {
     "data": {
      "text/plain": [
       "0.5625"
      ]
     },
     "execution_count": 27,
     "metadata": {},
     "output_type": "execute_result"
    }
   ],
   "source": [
    "orpo_score_0 = get_judge_scores_0(df_orpo_data)\n",
    "orpo_score_0"
   ]
  },
  {
   "cell_type": "markdown",
   "id": "c43cacda",
   "metadata": {},
   "source": [
    "Evaluation scores for ORPO results by dspy"
   ]
  },
  {
   "cell_type": "code",
   "execution_count": 28,
   "id": "d9989d70",
   "metadata": {},
   "outputs": [
    {
     "name": "stdout",
     "output_type": "stream",
     "text": [
      "  0%|          | 0/32 [00:00<?, ?it/s]llm_judge_ans = True\n",
      "Average Metric: 1.00 / 32 (3.1%):   3%|▎         | 1/32 [00:02<01:11,  2.30s/it]llm_judge_ans = True\n",
      "Average Metric: 2.00 / 32 (6.2%):   6%|▋         | 2/32 [00:04<01:08,  2.29s/it]llm_judge_ans = False\n",
      "Average Metric: 2.00 / 32 (6.2%):   9%|▉         | 3/32 [00:06<01:07,  2.33s/it]llm_judge_ans = False\n",
      "Average Metric: 2.00 / 32 (6.2%):  12%|█▎        | 4/32 [00:09<01:03,  2.25s/it]llm_judge_ans = True\n",
      "Average Metric: 3.00 / 32 (9.4%):  16%|█▌        | 5/32 [00:11<01:02,  2.32s/it]llm_judge_ans = True\n",
      "Average Metric: 4.00 / 32 (12.5%):  19%|█▉        | 6/32 [00:15<01:19,  3.04s/it]llm_judge_ans = False\n",
      "Average Metric: 4.00 / 32 (12.5%):  22%|██▏       | 7/32 [00:21<01:32,  3.71s/it]llm_judge_ans = True\n",
      "Average Metric: 5.00 / 32 (15.6%):  25%|██▌       | 8/32 [00:23<01:19,  3.33s/it]llm_judge_ans = False\n",
      "Average Metric: 5.00 / 32 (15.6%):  28%|██▊       | 9/32 [00:44<03:23,  8.85s/it]llm_judge_ans = False\n",
      "Average Metric: 5.00 / 32 (15.6%):  31%|███▏      | 10/32 [00:47<02:36,  7.12s/it]llm_judge_ans = True\n",
      "Average Metric: 6.00 / 32 (18.8%):  34%|███▍      | 11/32 [00:50<02:02,  5.81s/it]llm_judge_ans = True\n",
      "Average Metric: 7.00 / 32 (21.9%):  38%|███▊      | 12/32 [00:53<01:40,  5.01s/it]llm_judge_ans = False\n",
      "Average Metric: 7.00 / 32 (21.9%):  41%|████      | 13/32 [00:59<01:36,  5.06s/it]llm_judge_ans = False\n",
      "Average Metric: 7.00 / 32 (21.9%):  44%|████▍     | 14/32 [01:02<01:24,  4.67s/it]llm_judge_ans = True\n",
      "Average Metric: 8.00 / 32 (25.0%):  47%|████▋     | 15/32 [01:09<01:29,  5.27s/it]llm_judge_ans = True\n",
      "Average Metric: 9.00 / 32 (28.1%):  50%|█████     | 16/32 [01:14<01:21,  5.11s/it]llm_judge_ans = True\n",
      "Average Metric: 10.00 / 32 (31.2%):  53%|█████▎    | 17/32 [01:17<01:08,  4.55s/it]llm_judge_ans = False\n",
      "Average Metric: 10.00 / 32 (31.2%):  56%|█████▋    | 18/32 [01:21<01:01,  4.41s/it]llm_judge_ans = False\n",
      "Average Metric: 10.00 / 32 (31.2%):  59%|█████▉    | 19/32 [01:33<01:27,  6.75s/it]llm_judge_ans = False\n",
      "Average Metric: 10.00 / 32 (31.2%):  62%|██████▎   | 20/32 [01:35<01:03,  5.26s/it]llm_judge_ans = True\n",
      "Average Metric: 11.00 / 32 (34.4%):  66%|██████▌   | 21/32 [01:39<00:52,  4.79s/it]llm_judge_ans = False\n",
      "Average Metric: 11.00 / 32 (34.4%):  69%|██████▉   | 22/32 [01:48<01:00,  6.04s/it]llm_judge_ans = True\n",
      "Average Metric: 12.00 / 32 (37.5%):  72%|███████▏  | 23/32 [01:50<00:45,  5.06s/it]llm_judge_ans = True\n",
      "Average Metric: 13.00 / 32 (40.6%):  75%|███████▌  | 24/32 [01:53<00:35,  4.39s/it]llm_judge_ans = True\n",
      "Average Metric: 14.00 / 32 (43.8%):  78%|███████▊  | 25/32 [01:57<00:29,  4.20s/it]llm_judge_ans = False\n",
      "Average Metric: 14.00 / 32 (43.8%):  81%|████████▏ | 26/32 [02:08<00:37,  6.32s/it]llm_judge_ans = False\n",
      "Average Metric: 14.00 / 32 (43.8%):  84%|████████▍ | 27/32 [02:12<00:28,  5.67s/it]llm_judge_ans = False\n",
      "Average Metric: 14.00 / 32 (43.8%):  88%|████████▊ | 28/32 [02:16<00:20,  5.13s/it]llm_judge_ans = True\n",
      "Average Metric: 15.00 / 32 (46.9%):  91%|█████████ | 29/32 [02:20<00:14,  4.81s/it]llm_judge_ans = True\n",
      "Average Metric: 16.00 / 32 (50.0%):  94%|█████████▍| 30/32 [02:24<00:08,  4.38s/it]llm_judge_ans = True\n",
      "Average Metric: 17.00 / 32 (53.1%):  97%|█████████▋| 31/32 [02:26<00:03,  3.75s/it]llm_judge_ans = True\n",
      "Average Metric: 18.00 / 32 (56.2%): 100%|██████████| 32/32 [02:29<00:00,  4.68s/it]"
     ]
    },
    {
     "name": "stderr",
     "output_type": "stream",
     "text": [
      "2025/01/22 02:45:04 INFO dspy.evaluate.evaluate: Average Metric: 18 / 32 (56.2%)\n"
     ]
    },
    {
     "name": "stdout",
     "output_type": "stream",
     "text": [
      "\n",
      "------------- Final DSPy Evaluation score :::: 56.25 ---------\n"
     ]
    }
   ],
   "source": [
    "evaluate_llm_judge = Evaluate(devset=generate_dspy_example_dataset(df_orpo_data), \n",
    "                              metric=metric_LLM_0, \n",
    "                              num_threads=1, \n",
    "                              display_progress=True, \n",
    "                              display_table=0, \n",
    "                              provide_traceback=True)\n",
    "\n",
    "eval_score = evaluate_llm_judge(llm_judge_0, num_threads=1)\n",
    "print(f\"------------- Final DSPy Evaluation score :::: {eval_score} ---------\")"
   ]
  },
  {
   "cell_type": "code",
   "execution_count": 29,
   "id": "294a77c7-1b74-4d5b-83ad-6946bf7acce9",
   "metadata": {},
   "outputs": [
    {
     "data": {
      "text/plain": [
       "0.5625"
      ]
     },
     "execution_count": 29,
     "metadata": {},
     "output_type": "execute_result"
    }
   ],
   "source": [
    "orpo_score_0 = eval_score/100\n",
    "orpo_score_0"
   ]
  },
  {
   "cell_type": "markdown",
   "id": "1c73f353-661d-43ec-9a7f-0359457738a1",
   "metadata": {
    "tags": []
   },
   "source": [
    "Evaluation scores for RAG HAIKU results by LLM-judge class"
   ]
  },
  {
   "cell_type": "code",
   "execution_count": 30,
   "id": "9c74f687",
   "metadata": {},
   "outputs": [
    {
     "name": "stdout",
     "output_type": "stream",
     "text": [
      "0 : 0.0|1 : 0.0|2 : 0.0|3 : 0.0|4 : 0.0|5 : 1.0|6 : 0.0|7 : 1.0|8 : 0.0|9 : 0.0|10 : 0.0|11 : 0.0|12 : 1.0|13 : 0.0|14 : 0.0|15 : 1.0|16 : 1.0|17 : 0.0|18 : 0.0|19 : 0.0|20 : 0.0|21 : 0.0|22 : 0.0|23 : 0.0|24 : 1.0|25 : 0.0|26 : 0.0|27 : 0.0|28 : 0.0|29 : 0.0|30 : 0.0|31 : 0.0|"
     ]
    },
    {
     "data": {
      "text/plain": [
       "0.1875"
      ]
     },
     "execution_count": 30,
     "metadata": {},
     "output_type": "execute_result"
    }
   ],
   "source": [
    "rag_haiku_score_0 = get_judge_scores_0(df_rag_haiku_data)\n",
    "rag_haiku_score_0"
   ]
  },
  {
   "cell_type": "markdown",
   "id": "d48578ae",
   "metadata": {},
   "source": [
    "Evaluation scores for RAG HAIKU results by dspy"
   ]
  },
  {
   "cell_type": "code",
   "execution_count": 31,
   "id": "1c1fee8c",
   "metadata": {},
   "outputs": [
    {
     "name": "stdout",
     "output_type": "stream",
     "text": [
      "  0%|          | 0/32 [00:00<?, ?it/s]llm_judge_ans = False\n",
      "Average Metric: 0.00 / 32 (0.0%):   3%|▎         | 1/32 [00:03<02:00,  3.89s/it]llm_judge_ans = False\n",
      "Average Metric: 0.00 / 32 (0.0%):   6%|▋         | 2/32 [00:09<02:23,  4.78s/it]llm_judge_ans = False\n",
      "Average Metric: 0.00 / 32 (0.0%):   9%|▉         | 3/32 [00:10<01:36,  3.34s/it]llm_judge_ans = False\n",
      "Average Metric: 0.00 / 32 (0.0%):  12%|█▎        | 4/32 [00:13<01:22,  2.93s/it]llm_judge_ans = False\n",
      "Average Metric: 0.00 / 32 (0.0%):  16%|█▌        | 5/32 [00:15<01:08,  2.54s/it]llm_judge_ans = True\n",
      "Average Metric: 1.00 / 32 (3.1%):  19%|█▉        | 6/32 [00:17<01:01,  2.35s/it]llm_judge_ans = False\n",
      "Average Metric: 1.00 / 32 (3.1%):  22%|██▏       | 7/32 [00:18<00:50,  2.02s/it]llm_judge_ans = True\n",
      "Average Metric: 2.00 / 32 (6.2%):  25%|██▌       | 8/32 [00:20<00:45,  1.89s/it]llm_judge_ans = False\n",
      "Average Metric: 2.00 / 32 (6.2%):  28%|██▊       | 9/32 [00:25<01:08,  2.97s/it]llm_judge_ans = False\n",
      "Average Metric: 2.00 / 32 (6.2%):  31%|███▏      | 10/32 [00:31<01:26,  3.95s/it]llm_judge_ans = False\n",
      "Average Metric: 2.00 / 32 (6.2%):  34%|███▍      | 11/32 [00:40<01:55,  5.52s/it]llm_judge_ans = False\n",
      "Average Metric: 2.00 / 32 (6.2%):  38%|███▊      | 12/32 [00:46<01:53,  5.70s/it]llm_judge_ans = True\n",
      "Average Metric: 3.00 / 32 (9.4%):  41%|████      | 13/32 [00:49<01:32,  4.89s/it]llm_judge_ans = False\n",
      "Average Metric: 3.00 / 32 (9.4%):  44%|████▍     | 14/32 [00:56<01:38,  5.46s/it]llm_judge_ans = False\n",
      "Average Metric: 3.00 / 32 (9.4%):  47%|████▋     | 15/32 [01:03<01:39,  5.87s/it]llm_judge_ans = True\n",
      "Average Metric: 4.00 / 32 (12.5%):  50%|█████     | 16/32 [01:05<01:16,  4.81s/it]llm_judge_ans = False\n",
      "Average Metric: 4.00 / 32 (12.5%):  53%|█████▎    | 17/32 [01:08<01:01,  4.10s/it]llm_judge_ans = False\n",
      "Average Metric: 4.00 / 32 (12.5%):  56%|█████▋    | 18/32 [01:13<01:01,  4.39s/it]llm_judge_ans = False\n",
      "Average Metric: 4.00 / 32 (12.5%):  59%|█████▉    | 19/32 [01:15<00:48,  3.77s/it]llm_judge_ans = False\n",
      "Average Metric: 4.00 / 32 (12.5%):  62%|██████▎   | 20/32 [01:21<00:54,  4.55s/it]llm_judge_ans = False\n",
      "Average Metric: 4.00 / 32 (12.5%):  66%|██████▌   | 21/32 [01:28<00:56,  5.17s/it]llm_judge_ans = False\n",
      "Average Metric: 4.00 / 32 (12.5%):  69%|██████▉   | 22/32 [01:34<00:55,  5.53s/it]llm_judge_ans = False\n",
      "Average Metric: 4.00 / 32 (12.5%):  72%|███████▏  | 23/32 [01:40<00:50,  5.62s/it]llm_judge_ans = False\n",
      "Average Metric: 4.00 / 32 (12.5%):  75%|███████▌  | 24/32 [01:46<00:44,  5.53s/it]llm_judge_ans = True\n",
      "Average Metric: 5.00 / 32 (15.6%):  78%|███████▊  | 25/32 [01:48<00:32,  4.63s/it]llm_judge_ans = False\n",
      "Average Metric: 5.00 / 32 (15.6%):  81%|████████▏ | 26/32 [01:56<00:33,  5.57s/it]llm_judge_ans = False\n",
      "Average Metric: 5.00 / 32 (15.6%):  84%|████████▍ | 27/32 [02:01<00:27,  5.56s/it]llm_judge_ans = False\n",
      "Average Metric: 5.00 / 32 (15.6%):  88%|████████▊ | 28/32 [02:05<00:20,  5.13s/it]llm_judge_ans = False\n",
      "Average Metric: 5.00 / 32 (15.6%):  91%|█████████ | 29/32 [02:13<00:17,  5.97s/it]llm_judge_ans = False\n",
      "Average Metric: 5.00 / 32 (15.6%):  94%|█████████▍| 30/32 [02:21<00:12,  6.41s/it]llm_judge_ans = False\n",
      "Average Metric: 5.00 / 32 (15.6%):  97%|█████████▋| 31/32 [02:22<00:04,  4.98s/it]llm_judge_ans = False\n",
      "Average Metric: 5.00 / 32 (15.6%): 100%|██████████| 32/32 [02:27<00:00,  4.61s/it]"
     ]
    },
    {
     "name": "stderr",
     "output_type": "stream",
     "text": [
      "2025/01/22 02:48:55 INFO dspy.evaluate.evaluate: Average Metric: 5 / 32 (15.6%)\n"
     ]
    },
    {
     "name": "stdout",
     "output_type": "stream",
     "text": [
      "\n",
      "------------- Final DSPy Evaluation score :::: 15.62 ---------\n"
     ]
    }
   ],
   "source": [
    "evaluate_llm_judge = Evaluate(devset=generate_dspy_example_dataset(df_rag_haiku_data), \n",
    "                              metric=metric_LLM_0, \n",
    "                              num_threads=1, \n",
    "                              display_progress=True, \n",
    "                              display_table=0, \n",
    "                              provide_traceback=True)\n",
    "\n",
    "eval_score = evaluate_llm_judge(llm_judge_0, num_threads=1)\n",
    "print(f\"------------- Final DSPy Evaluation score :::: {eval_score} ---------\")"
   ]
  },
  {
   "cell_type": "code",
   "execution_count": 32,
   "id": "2b8f8964-5c65-40eb-b267-d5669f882501",
   "metadata": {},
   "outputs": [
    {
     "data": {
      "text/plain": [
       "0.1562"
      ]
     },
     "execution_count": 32,
     "metadata": {},
     "output_type": "execute_result"
    }
   ],
   "source": [
    "rag_haiku_score_0 = eval_score/100\n",
    "rag_haiku_score_0"
   ]
  },
  {
   "cell_type": "markdown",
   "id": "23f2303b-f5d8-4879-a4bb-5f9ba42b7139",
   "metadata": {},
   "source": [
    "Evaluation scores for RAG compiled HAIKU results by LLM-judge class"
   ]
  },
  {
   "cell_type": "code",
   "execution_count": 33,
   "id": "7bfc0b9e",
   "metadata": {},
   "outputs": [
    {
     "name": "stdout",
     "output_type": "stream",
     "text": [
      "0 : 0.0|1 : 1.0|2 : 1.0|3 : 1.0|4 : 0.0|5 : 1.0|6 : 1.0|7 : 1.0|8 : 0.0|9 : 0.0|10 : 0.0|11 : 0.0|12 : 0.0|13 : 1.0|14 : 0.0|15 : 0.0|16 : 0.0|17 : 1.0|18 : 0.0|19 : 0.0|20 : 1.0|21 : 0.0|22 : 0.0|23 : 0.0|24 : 1.0|25 : 1.0|26 : 0.0|27 : 0.0|28 : 1.0|29 : 0.0|30 : 0.0|31 : 1.0|"
     ]
    },
    {
     "data": {
      "text/plain": [
       "0.40625"
      ]
     },
     "execution_count": 33,
     "metadata": {},
     "output_type": "execute_result"
    }
   ],
   "source": [
    "ragc_haiku_score_0 = get_judge_scores_0(df_ragc_haiku_data)\n",
    "ragc_haiku_score_0"
   ]
  },
  {
   "cell_type": "markdown",
   "id": "b2dca8b5",
   "metadata": {},
   "source": [
    "Evaluation scores for RAG compiled HAIKU results by dspy"
   ]
  },
  {
   "cell_type": "code",
   "execution_count": 34,
   "id": "37f87c29",
   "metadata": {},
   "outputs": [
    {
     "name": "stdout",
     "output_type": "stream",
     "text": [
      "  0%|          | 0/32 [00:00<?, ?it/s]llm_judge_ans = False\n",
      "Average Metric: 0.00 / 32 (0.0%):   3%|▎         | 1/32 [00:03<01:35,  3.07s/it]llm_judge_ans = True\n",
      "Average Metric: 1.00 / 32 (3.1%):   6%|▋         | 2/32 [00:04<01:09,  2.32s/it]llm_judge_ans = True\n",
      "Average Metric: 2.00 / 32 (6.2%):   9%|▉         | 3/32 [00:06<00:57,  1.98s/it]llm_judge_ans = True\n",
      "Average Metric: 3.00 / 32 (9.4%):  12%|█▎        | 4/32 [00:08<00:56,  2.03s/it]llm_judge_ans = False\n",
      "Average Metric: 3.00 / 32 (9.4%):  16%|█▌        | 5/32 [00:10<00:51,  1.90s/it]llm_judge_ans = True\n",
      "Average Metric: 4.00 / 32 (12.5%):  19%|█▉        | 6/32 [00:12<00:50,  1.95s/it]llm_judge_ans = True\n",
      "Average Metric: 5.00 / 32 (15.6%):  22%|██▏       | 7/32 [00:14<00:53,  2.13s/it]llm_judge_ans = True\n",
      "Average Metric: 6.00 / 32 (18.8%):  25%|██▌       | 8/32 [00:16<00:47,  1.99s/it]llm_judge_ans = False\n",
      "Average Metric: 6.00 / 32 (18.8%):  28%|██▊       | 9/32 [00:20<00:58,  2.55s/it]llm_judge_ans = False\n",
      "Average Metric: 6.00 / 32 (18.8%):  31%|███▏      | 10/32 [00:24<01:07,  3.06s/it]llm_judge_ans = False\n",
      "Average Metric: 6.00 / 32 (18.8%):  34%|███▍      | 11/32 [00:27<01:06,  3.19s/it]llm_judge_ans = False\n",
      "Average Metric: 6.00 / 32 (18.8%):  38%|███▊      | 12/32 [00:30<00:58,  2.91s/it]llm_judge_ans = False\n",
      "Average Metric: 6.00 / 32 (18.8%):  41%|████      | 13/32 [00:36<01:16,  4.04s/it]llm_judge_ans = True\n",
      "Average Metric: 7.00 / 32 (21.9%):  44%|████▍     | 14/32 [00:38<01:01,  3.39s/it]llm_judge_ans = False\n",
      "Average Metric: 7.00 / 32 (21.9%):  47%|████▋     | 15/32 [00:43<01:06,  3.93s/it]llm_judge_ans = False\n",
      "Average Metric: 7.00 / 32 (21.9%):  50%|█████     | 16/32 [00:48<01:06,  4.14s/it]llm_judge_ans = False\n",
      "Average Metric: 7.00 / 32 (21.9%):  53%|█████▎    | 17/32 [00:53<01:05,  4.34s/it]llm_judge_ans = False\n",
      "Average Metric: 7.00 / 32 (21.9%):  56%|█████▋    | 18/32 [00:54<00:48,  3.49s/it]llm_judge_ans = False\n",
      "Average Metric: 7.00 / 32 (21.9%):  59%|█████▉    | 19/32 [00:56<00:38,  2.98s/it]llm_judge_ans = False\n",
      "Average Metric: 7.00 / 32 (21.9%):  62%|██████▎   | 20/32 [01:03<00:49,  4.08s/it]llm_judge_ans = True\n",
      "Average Metric: 8.00 / 32 (25.0%):  66%|██████▌   | 21/32 [01:05<00:37,  3.40s/it]llm_judge_ans = False\n",
      "Average Metric: 8.00 / 32 (25.0%):  69%|██████▉   | 22/32 [01:16<00:58,  5.86s/it]llm_judge_ans = False\n",
      "Average Metric: 8.00 / 32 (25.0%):  72%|███████▏  | 23/32 [01:22<00:53,  5.94s/it]llm_judge_ans = False\n",
      "Average Metric: 8.00 / 32 (25.0%):  75%|███████▌  | 24/32 [01:27<00:43,  5.44s/it]llm_judge_ans = True\n",
      "Average Metric: 9.00 / 32 (28.1%):  78%|███████▊  | 25/32 [01:30<00:32,  4.70s/it]llm_judge_ans = False\n",
      "Average Metric: 9.00 / 32 (28.1%):  81%|████████▏ | 26/32 [01:34<00:28,  4.72s/it]llm_judge_ans = False\n",
      "Average Metric: 9.00 / 32 (28.1%):  84%|████████▍ | 27/32 [01:38<00:22,  4.45s/it]llm_judge_ans = False\n",
      "Average Metric: 9.00 / 32 (28.1%):  88%|████████▊ | 28/32 [01:40<00:14,  3.72s/it]llm_judge_ans = False\n",
      "Average Metric: 9.00 / 32 (28.1%):  91%|█████████ | 29/32 [01:43<00:10,  3.36s/it]llm_judge_ans = False\n",
      "Average Metric: 9.00 / 32 (28.1%):  94%|█████████▍| 30/32 [01:48<00:07,  3.88s/it]llm_judge_ans = False\n",
      "Average Metric: 9.00 / 32 (28.1%):  97%|█████████▋| 31/32 [01:49<00:03,  3.16s/it]llm_judge_ans = True\n",
      "Average Metric: 10.00 / 32 (31.2%): 100%|██████████| 32/32 [01:52<00:00,  3.51s/it]"
     ]
    },
    {
     "name": "stderr",
     "output_type": "stream",
     "text": [
      "2025/01/22 02:51:45 INFO dspy.evaluate.evaluate: Average Metric: 10 / 32 (31.2%)\n"
     ]
    },
    {
     "name": "stdout",
     "output_type": "stream",
     "text": [
      "\n",
      "------------- Final DSPy Evaluation score :::: 31.25 ---------\n"
     ]
    }
   ],
   "source": [
    "evaluate_llm_judge = Evaluate(devset=generate_dspy_example_dataset(df_ragc_haiku_data), \n",
    "                              metric=metric_LLM_0, \n",
    "                              num_threads=1, \n",
    "                              display_progress=True, \n",
    "                              display_table=0, \n",
    "                              provide_traceback=True)\n",
    "\n",
    "eval_score = evaluate_llm_judge(llm_judge_0, num_threads=1)\n",
    "print(f\"------------- Final DSPy Evaluation score :::: {eval_score} ---------\")"
   ]
  },
  {
   "cell_type": "code",
   "execution_count": 35,
   "id": "c7364fd9-2ab2-45ee-8b20-dcd43032a385",
   "metadata": {},
   "outputs": [
    {
     "data": {
      "text/plain": [
       "0.3125"
      ]
     },
     "execution_count": 35,
     "metadata": {},
     "output_type": "execute_result"
    }
   ],
   "source": [
    "ragc_haiku_score_0 = eval_score/100\n",
    "ragc_haiku_score_0"
   ]
  },
  {
   "cell_type": "markdown",
   "id": "5db4de9b-a064-45c5-9cb3-b6f9c271d695",
   "metadata": {},
   "source": [
    "Evaluation scores for RAG Sonnet results by LLM-judge class"
   ]
  },
  {
   "cell_type": "code",
   "execution_count": 36,
   "id": "6ab2c756",
   "metadata": {},
   "outputs": [
    {
     "name": "stdout",
     "output_type": "stream",
     "text": [
      "0 : 0.0|1 : 0.0|2 : 0.0|3 : 0.0|4 : 0.0|5 : 0.0|6 : 0.0|7 : 0.0|8 : 0.0|9 : 0.0|10 : 0.0|11 : 0.0|12 : 0.0|13 : 0.0|14 : 0.0|15 : 0.0|16 : 0.0|17 : 0.0|18 : 0.0|19 : 0.0|20 : 0.0|21 : 0.0|22 : 0.0|23 : 0.0|24 : 0.0|25 : 0.0|26 : 0.0|27 : 0.0|28 : 0.0|29 : 0.0|30 : 0.0|31 : 0.0|"
     ]
    },
    {
     "data": {
      "text/plain": [
       "0.0"
      ]
     },
     "execution_count": 36,
     "metadata": {},
     "output_type": "execute_result"
    }
   ],
   "source": [
    "rag_sonnet_score_0 = get_judge_scores_0(df_rag_sonnet_data)\n",
    "rag_sonnet_score_0"
   ]
  },
  {
   "cell_type": "markdown",
   "id": "b0d4e606",
   "metadata": {},
   "source": [
    "Evaluation scores for RAG Sonnet results by dspy"
   ]
  },
  {
   "cell_type": "code",
   "execution_count": 37,
   "id": "03ff9c35",
   "metadata": {},
   "outputs": [
    {
     "name": "stdout",
     "output_type": "stream",
     "text": [
      "  0%|          | 0/32 [00:00<?, ?it/s]llm_judge_ans = False\n",
      "Average Metric: 0.00 / 32 (0.0%):   3%|▎         | 1/32 [00:03<02:03,  3.99s/it]llm_judge_ans = False\n",
      "Average Metric: 0.00 / 32 (0.0%):   6%|▋         | 2/32 [00:10<02:52,  5.74s/it]llm_judge_ans = False\n",
      "Average Metric: 0.00 / 32 (0.0%):   9%|▉         | 3/32 [00:12<01:54,  3.96s/it]llm_judge_ans = False\n",
      "Average Metric: 0.00 / 32 (0.0%):  12%|█▎        | 4/32 [00:14<01:26,  3.09s/it]llm_judge_ans = False\n",
      "Average Metric: 0.00 / 32 (0.0%):  16%|█▌        | 5/32 [00:16<01:11,  2.65s/it]llm_judge_ans = False\n",
      "Average Metric: 0.00 / 32 (0.0%):  19%|█▉        | 6/32 [00:17<00:58,  2.25s/it]llm_judge_ans = False\n",
      "Average Metric: 0.00 / 32 (0.0%):  22%|██▏       | 7/32 [00:20<01:00,  2.41s/it]llm_judge_ans = False\n",
      "Average Metric: 0.00 / 32 (0.0%):  25%|██▌       | 8/32 [00:24<01:09,  2.91s/it]llm_judge_ans = False\n",
      "Average Metric: 0.00 / 32 (0.0%):  28%|██▊       | 9/32 [00:30<01:25,  3.70s/it]llm_judge_ans = False\n",
      "Average Metric: 0.00 / 32 (0.0%):  31%|███▏      | 10/32 [00:37<01:47,  4.87s/it]llm_judge_ans = False\n",
      "Average Metric: 0.00 / 32 (0.0%):  34%|███▍      | 11/32 [00:39<01:24,  4.00s/it]llm_judge_ans = False\n",
      "Average Metric: 0.00 / 32 (0.0%):  38%|███▊      | 12/32 [00:41<01:07,  3.38s/it]llm_judge_ans = False\n",
      "Average Metric: 0.00 / 32 (0.0%):  41%|████      | 13/32 [00:47<01:21,  4.27s/it]llm_judge_ans = False\n",
      "Average Metric: 0.00 / 32 (0.0%):  44%|████▍     | 14/32 [00:54<01:31,  5.08s/it]llm_judge_ans = False\n",
      "Average Metric: 0.00 / 32 (0.0%):  47%|████▋     | 15/32 [01:04<01:49,  6.44s/it]llm_judge_ans = False\n",
      "Average Metric: 0.00 / 32 (0.0%):  50%|█████     | 16/32 [01:07<01:25,  5.35s/it]llm_judge_ans = False\n",
      "Average Metric: 0.00 / 32 (0.0%):  53%|█████▎    | 17/32 [01:15<01:32,  6.15s/it]llm_judge_ans = False\n",
      "Average Metric: 0.00 / 32 (0.0%):  56%|█████▋    | 18/32 [01:21<01:28,  6.31s/it]llm_judge_ans = False\n",
      "Average Metric: 0.00 / 32 (0.0%):  59%|█████▉    | 19/32 [01:25<01:09,  5.35s/it]llm_judge_ans = False\n",
      "Average Metric: 0.00 / 32 (0.0%):  62%|██████▎   | 20/32 [01:31<01:07,  5.60s/it]llm_judge_ans = False\n",
      "Average Metric: 0.00 / 32 (0.0%):  66%|██████▌   | 21/32 [01:41<01:16,  6.94s/it]llm_judge_ans = False\n",
      "Average Metric: 0.00 / 32 (0.0%):  69%|██████▉   | 22/32 [01:57<01:37,  9.72s/it]llm_judge_ans = False\n",
      "Average Metric: 0.00 / 32 (0.0%):  72%|███████▏  | 23/32 [02:11<01:39, 11.08s/it]llm_judge_ans = False\n",
      "Average Metric: 0.00 / 32 (0.0%):  75%|███████▌  | 24/32 [02:19<01:21, 10.16s/it]llm_judge_ans = False\n",
      "Average Metric: 0.00 / 32 (0.0%):  78%|███████▊  | 25/32 [02:26<01:05,  9.29s/it]llm_judge_ans = False\n",
      "Average Metric: 0.00 / 32 (0.0%):  81%|████████▏ | 26/32 [02:41<01:05, 10.84s/it]llm_judge_ans = False\n",
      "Average Metric: 0.00 / 32 (0.0%):  84%|████████▍ | 27/32 [02:54<00:58, 11.63s/it]llm_judge_ans = False\n",
      "Average Metric: 0.00 / 32 (0.0%):  88%|████████▊ | 28/32 [03:03<00:43, 10.85s/it]llm_judge_ans = False\n",
      "Average Metric: 0.00 / 32 (0.0%):  91%|█████████ | 29/32 [03:11<00:29,  9.87s/it]llm_judge_ans = False\n",
      "Average Metric: 0.00 / 32 (0.0%):  94%|█████████▍| 30/32 [03:22<00:20, 10.15s/it]llm_judge_ans = False\n",
      "Average Metric: 0.00 / 32 (0.0%):  97%|█████████▋| 31/32 [03:25<00:08,  8.02s/it]llm_judge_ans = False\n",
      "Average Metric: 0.00 / 32 (0.0%): 100%|██████████| 32/32 [03:36<00:00,  6.77s/it]"
     ]
    },
    {
     "name": "stderr",
     "output_type": "stream",
     "text": [
      "2025/01/22 02:56:48 INFO dspy.evaluate.evaluate: Average Metric: 0 / 32 (0.0%)\n"
     ]
    },
    {
     "name": "stdout",
     "output_type": "stream",
     "text": [
      "\n",
      "------------- Final DSPy Evaluation score :::: 0.0 ---------\n"
     ]
    }
   ],
   "source": [
    "evaluate_llm_judge = Evaluate(devset=generate_dspy_example_dataset(df_rag_sonnet_data), \n",
    "                              metric=metric_LLM_0, \n",
    "                              num_threads=1, \n",
    "                              display_progress=True, \n",
    "                              display_table=0, \n",
    "                              provide_traceback=True)\n",
    "\n",
    "eval_score = evaluate_llm_judge(llm_judge_0, num_threads=1)\n",
    "print(f\"------------- Final DSPy Evaluation score :::: {eval_score} ---------\")"
   ]
  },
  {
   "cell_type": "code",
   "execution_count": 38,
   "id": "184e16f3-c06e-47fb-8d90-00581138c37c",
   "metadata": {},
   "outputs": [
    {
     "data": {
      "text/plain": [
       "0.0"
      ]
     },
     "execution_count": 38,
     "metadata": {},
     "output_type": "execute_result"
    }
   ],
   "source": [
    "rag_sonnet_score_0 = eval_score/100\n",
    "rag_sonnet_score_0"
   ]
  },
  {
   "cell_type": "markdown",
   "id": "534865e2-6d33-45e4-8aec-49dbe8ec40a1",
   "metadata": {},
   "source": [
    "Evaluation scores for RAG compiled Sonnet results by LLM-judge class"
   ]
  },
  {
   "cell_type": "code",
   "execution_count": 39,
   "id": "d82bfaf3",
   "metadata": {},
   "outputs": [
    {
     "name": "stdout",
     "output_type": "stream",
     "text": [
      "0 : 0.0|1 : 1.0|2 : 0.0|3 : 0.0|4 : 1.0|5 : 1.0|6 : 1.0|7 : 1.0|8 : 0.0|9 : 0.0|10 : 0.0|11 : 0.0|12 : 0.0|13 : 1.0|14 : 0.0|15 : 0.0|16 : 1.0|17 : 1.0|18 : 1.0|19 : 0.0|20 : 1.0|21 : 0.0|22 : 1.0|23 : 0.0|24 : 1.0|25 : 1.0|26 : 0.0|27 : 0.0|28 : 1.0|29 : 0.0|30 : 1.0|31 : 1.0|"
     ]
    },
    {
     "data": {
      "text/plain": [
       "0.5"
      ]
     },
     "execution_count": 39,
     "metadata": {},
     "output_type": "execute_result"
    }
   ],
   "source": [
    "ragc_sonnet_score_0 = get_judge_scores_0(df_ragc_sonnet_data)\n",
    "ragc_sonnet_score_0"
   ]
  },
  {
   "cell_type": "markdown",
   "id": "4d195000",
   "metadata": {},
   "source": [
    "Evaluation scores for RAG compiled Sonnet results by dspy"
   ]
  },
  {
   "cell_type": "code",
   "execution_count": 40,
   "id": "a70597ff",
   "metadata": {},
   "outputs": [
    {
     "name": "stdout",
     "output_type": "stream",
     "text": [
      "  0%|          | 0/32 [00:00<?, ?it/s]llm_judge_ans = False\n",
      "Average Metric: 0.00 / 32 (0.0%):   3%|▎         | 1/32 [00:11<05:52, 11.37s/it]llm_judge_ans = True\n",
      "Average Metric: 1.00 / 32 (3.1%):   6%|▋         | 2/32 [00:12<02:47,  5.59s/it]llm_judge_ans = False\n",
      "Average Metric: 1.00 / 32 (3.1%):   9%|▉         | 3/32 [00:15<02:03,  4.27s/it]llm_judge_ans = False\n",
      "Average Metric: 1.00 / 32 (3.1%):  12%|█▎        | 4/32 [00:19<01:51,  3.99s/it]llm_judge_ans = True\n",
      "Average Metric: 2.00 / 32 (6.2%):  16%|█▌        | 5/32 [00:22<01:38,  3.65s/it]llm_judge_ans = True\n",
      "Average Metric: 3.00 / 32 (9.4%):  19%|█▉        | 6/32 [00:24<01:26,  3.31s/it]llm_judge_ans = True\n",
      "Average Metric: 4.00 / 32 (12.5%):  22%|██▏       | 7/32 [00:28<01:28,  3.56s/it]llm_judge_ans = True\n",
      "Average Metric: 5.00 / 32 (15.6%):  25%|██▌       | 8/32 [00:32<01:23,  3.49s/it]llm_judge_ans = False\n",
      "Average Metric: 5.00 / 32 (15.6%):  28%|██▊       | 9/32 [00:39<01:49,  4.77s/it]llm_judge_ans = False\n",
      "Average Metric: 5.00 / 32 (15.6%):  31%|███▏      | 10/32 [01:04<04:02, 11.01s/it]llm_judge_ans = False\n",
      "Average Metric: 5.00 / 32 (15.6%):  34%|███▍      | 11/32 [01:10<03:15,  9.33s/it]llm_judge_ans = False\n",
      "Average Metric: 5.00 / 32 (15.6%):  38%|███▊      | 12/32 [01:13<02:26,  7.34s/it]llm_judge_ans = False\n",
      "Average Metric: 5.00 / 32 (15.6%):  41%|████      | 13/32 [01:25<02:49,  8.93s/it]llm_judge_ans = True\n",
      "Average Metric: 6.00 / 32 (18.8%):  44%|████▍     | 14/32 [01:27<02:02,  6.78s/it]llm_judge_ans = False\n",
      "Average Metric: 6.00 / 32 (18.8%):  47%|████▋     | 15/32 [01:32<01:48,  6.36s/it]llm_judge_ans = False\n",
      "Average Metric: 6.00 / 32 (18.8%):  50%|█████     | 16/32 [01:36<01:29,  5.61s/it]llm_judge_ans = True\n",
      "Average Metric: 7.00 / 32 (21.9%):  53%|█████▎    | 17/32 [01:38<01:06,  4.46s/it]llm_judge_ans = True\n",
      "Average Metric: 8.00 / 32 (25.0%):  56%|█████▋    | 18/32 [01:41<00:54,  3.89s/it]llm_judge_ans = True\n",
      "Average Metric: 9.00 / 32 (28.1%):  59%|█████▉    | 19/32 [01:42<00:41,  3.22s/it]llm_judge_ans = False\n",
      "Average Metric: 9.00 / 32 (28.1%):  62%|██████▎   | 20/32 [01:47<00:45,  3.76s/it]llm_judge_ans = True\n",
      "Average Metric: 10.00 / 32 (31.2%):  66%|██████▌   | 21/32 [01:50<00:37,  3.38s/it]llm_judge_ans = False\n",
      "Average Metric: 10.00 / 32 (31.2%):  69%|██████▉   | 22/32 [01:57<00:44,  4.45s/it]llm_judge_ans = False\n",
      "Average Metric: 10.00 / 32 (31.2%):  72%|███████▏  | 23/32 [02:02<00:43,  4.79s/it]llm_judge_ans = False\n",
      "Average Metric: 10.00 / 32 (31.2%):  75%|███████▌  | 24/32 [02:10<00:46,  5.79s/it]llm_judge_ans = True\n",
      "Average Metric: 11.00 / 32 (34.4%):  78%|███████▊  | 25/32 [02:13<00:32,  4.69s/it]llm_judge_ans = True\n",
      "Average Metric: 12.00 / 32 (37.5%):  81%|████████▏ | 26/32 [02:16<00:25,  4.32s/it]llm_judge_ans = False\n",
      "Average Metric: 12.00 / 32 (37.5%):  84%|████████▍ | 27/32 [02:23<00:25,  5.07s/it]llm_judge_ans = False\n",
      "Average Metric: 12.00 / 32 (37.5%):  88%|████████▊ | 28/32 [02:28<00:20,  5.09s/it]llm_judge_ans = True\n",
      "Average Metric: 13.00 / 32 (40.6%):  91%|█████████ | 29/32 [02:30<00:12,  4.22s/it]llm_judge_ans = False\n",
      "Average Metric: 13.00 / 32 (40.6%):  94%|█████████▍| 30/32 [02:35<00:09,  4.50s/it]llm_judge_ans = True\n",
      "Average Metric: 14.00 / 32 (43.8%):  97%|█████████▋| 31/32 [02:38<00:03,  3.84s/it]llm_judge_ans = True\n",
      "Average Metric: 15.00 / 32 (46.9%): 100%|██████████| 32/32 [02:40<00:00,  5.01s/it]"
     ]
    },
    {
     "name": "stderr",
     "output_type": "stream",
     "text": [
      "2025/01/22 03:01:11 INFO dspy.evaluate.evaluate: Average Metric: 15 / 32 (46.9%)\n"
     ]
    },
    {
     "name": "stdout",
     "output_type": "stream",
     "text": [
      "\n",
      "------------- Final DSPy Evaluation score :::: 46.88 ---------\n"
     ]
    }
   ],
   "source": [
    "evaluate_llm_judge = Evaluate(devset=generate_dspy_example_dataset(df_ragc_sonnet_data), \n",
    "                              metric=metric_LLM_0, \n",
    "                              num_threads=1, \n",
    "                              display_progress=True, \n",
    "                              display_table=0, \n",
    "                              provide_traceback=True)\n",
    "\n",
    "eval_score = evaluate_llm_judge(llm_judge_0, num_threads=1)\n",
    "print(f\"------------- Final DSPy Evaluation score :::: {eval_score} ---------\")"
   ]
  },
  {
   "cell_type": "code",
   "execution_count": 41,
   "id": "32055e45-0567-45dd-9618-828ea456f685",
   "metadata": {},
   "outputs": [
    {
     "data": {
      "text/plain": [
       "0.46880000000000005"
      ]
     },
     "execution_count": 41,
     "metadata": {},
     "output_type": "execute_result"
    }
   ],
   "source": [
    "ragc_sonnet_score_0 = eval_score/100\n",
    "ragc_sonnet_score_0"
   ]
  },
  {
   "cell_type": "markdown",
   "id": "967d4aaf-caf0-4ffa-addb-8b05f413a6d3",
   "metadata": {},
   "source": [
    "#### Benchmarking the performance across RAG with foundation models and fine-tuned models "
   ]
  },
  {
   "cell_type": "code",
   "execution_count": 42,
   "id": "135d7f27",
   "metadata": {},
   "outputs": [
    {
     "data": {
      "image/png": "[encoded data removed]",
      "text/plain": [
       "<Figure size 1000x500 with 1 Axes>"
      ]
     },
     "metadata": {},
     "output_type": "display_data"
    }
   ],
   "source": [
    "train_class_type = ['RAG_Haiku','RAG_Haiku_Compiled','SFT(Llama3-8B)','DPO(Llama3-8B)','ORPO(Llama3-8B)']\n",
    "train_class_count = [rag_haiku_score_0,ragc_haiku_score_0,sft_score_0,dpo_score_0,orpo_score_0,]\n",
    "\n",
    "fig = plt.figure(figsize = (10, 5))\n",
    "\n",
    "# creating the bar plot\n",
    "plt.bar(train_class_type, train_class_count, color ='green', width = 0.4)\n",
    "\n",
    "plt.xlabel(\"\")\n",
    "plt.ylabel(\"Accuracy\")\n",
    "plt.title(\"Accuracy by LLM-as-a-judge (True/False)\")\n",
    "plt.show()"
   ]
  },
  {
   "cell_type": "code",
   "execution_count": null,
   "id": "986b5364",
   "metadata": {},
   "outputs": [],
   "source": []
  },
  {
   "cell_type": "markdown",
   "id": "e9aae777",
   "metadata": {},
   "source": [
    "### Evaluation Method 2: LLM-as-a-judge with a 0-1 score "
   ]
  },
  {
   "cell_type": "markdown",
   "id": "06de0054",
   "metadata": {},
   "source": [
    "Setup Claude and Meta models on Bedrock for LLM-as-a-judge"
   ]
  },
  {
   "cell_type": "code",
   "execution_count": 43,
   "id": "d4f1022a",
   "metadata": {},
   "outputs": [],
   "source": [
    "dsp_bedrock = dspy.Bedrock(region_name=region_name)\n",
    "\n",
    "claude_sonnet_model_id = \"anthropic.claude-3-sonnet-20240229-v1:0\"\n",
    "clade_haiku_model_id = \"anthropic.claude-3-haiku-20240307-v1:0\"\n",
    "llama_model_id = \"us.meta.llama3-2-90b-instruct-v1:0\"\n",
    "\n",
    "\n",
    "bedrock_sonnet = dspy.AWSAnthropic(aws_provider=dsp_bedrock,\n",
    "                                  model=claude_sonnet_model_id,\n",
    "                                  max_new_tokens=4096,\n",
    "                                  max_tokens=4096)\n",
    "\n",
    "bedrock_haiku = dspy.AWSAnthropic(aws_provider=dsp_bedrock,\n",
    "                                 model=clade_haiku_model_id,\n",
    "                                 max_new_tokens=4096,\n",
    "                                 max_tokens=4096)\n",
    "\n",
    "bedrock_llama = dspy.AWSMeta(aws_provider=dsp_bedrock, \n",
    "                             model=llama_model_id, \n",
    "                             max_new_tokens=2048,\n",
    "                             max_tokens=2048)"
   ]
  },
  {
   "cell_type": "code",
   "execution_count": 44,
   "id": "3559defa",
   "metadata": {},
   "outputs": [],
   "source": [
    "dspy.settings.configure(lm=bedrock_sonnet, temperature=0)"
   ]
  },
  {
   "cell_type": "markdown",
   "id": "533e00d8",
   "metadata": {},
   "source": [
    "Define the LLM judge class: eval = 0-1 score"
   ]
  },
  {
   "cell_type": "code",
   "execution_count": 45,
   "id": "3d5b9423",
   "metadata": {
    "tags": []
   },
   "outputs": [],
   "source": [
    "class FactualityJudge_1(dspy.Signature):\n",
    "    \"\"\"Judge if the predicted answer is semantically match the groundtruth answer. Provide a score between 0 and 1, 0 means completely mismatch and 1 means perfectly match. In the response, only present the score, DO NOT add any premables.\"\"\"\n",
    "\n",
    "    groundtruth_answer = dspy.InputField(desc=\"groundtruth answer\")\n",
    "    predicted_answer = dspy.InputField(desc=\"predicted answer\")\n",
    "    factually_correct = dspy.OutputField(desc=\"Is the predicted answer factually correct and semantically similar to the groundtruth answer?\") #, prefix=\"Factual[True/False]:\")\n"
   ]
  },
  {
   "cell_type": "code",
   "execution_count": 46,
   "id": "fffc6568",
   "metadata": {},
   "outputs": [],
   "source": [
    "factualityJudge_1 = dspy.ChainOfThought(FactualityJudge_1)"
   ]
  },
  {
   "cell_type": "markdown",
   "id": "c0d6c653",
   "metadata": {},
   "source": [
    "Define the factuality metric for DSPy evaluate to run through LLM response/answer, and use LLM judge to generate evaluation metrics"
   ]
  },
  {
   "cell_type": "code",
   "execution_count": 47,
   "id": "fa760a37",
   "metadata": {
    "tags": []
   },
   "outputs": [],
   "source": [
    "def factuality_metric_1(gt_answer, pred_answer):\n",
    "    #print(f\" type(gt_answer) :: {type(gt_answer)}\")\n",
    "    #if type(gt_answer) == \"<class 'dspy.primitives.example.Example'>\":\n",
    "    pred_answer = gt_answer.pred_answer\n",
    "    gt_answer = gt_answer.gt_answer\n",
    "        \n",
    "        \n",
    "    factual_metrc = factualityJudge_1(groundtruth_answer=gt_answer, predicted_answer=pred_answer), \n",
    "    '''\n",
    "    #debug\n",
    "    print(f\"\\n factual LLM judge  >>>>>>>> {factual_metrc}\")\n",
    "    print(f\"\\n factual LLM judge  >>>>>>>> {factual_metrc[0].factually_correct}\")\n",
    "    print(f\"\\n gt_answer  >>>>>>>  {gt_answer}\")\n",
    "    print(f\"\\n pred_answer  >>>>>>> {pred_answer}\")\n",
    "    '''\n",
    "    llm_judge_ans = float(factual_metrc[0].factually_correct)\n",
    "    print(f\"llm_judge_ans = {llm_judge_ans}\")\n",
    "    return llm_judge_ans"
   ]
  },
  {
   "cell_type": "code",
   "execution_count": 48,
   "id": "823c7641",
   "metadata": {},
   "outputs": [],
   "source": [
    "metric_LLM_1 = factuality_metric_1"
   ]
  },
  {
   "cell_type": "markdown",
   "id": "99caf85c",
   "metadata": {},
   "source": [
    "LLM Judge class to generate the answer and factual consistency"
   ]
  },
  {
   "cell_type": "code",
   "execution_count": 49,
   "id": "a123c6de",
   "metadata": {},
   "outputs": [],
   "source": [
    "class LLMJudge_1(dspy.Module):\n",
    "    def __init__(self):\n",
    "        super().__init__()\n",
    "        self.generate_answer = dspy.ChainOfThought(FactualityJudge_1)\n",
    "    \n",
    "    def forward(self, gt_answer, pred_answer):\n",
    "        factual = self.generate_answer(groundtruth_answer=gt_answer, predicted_answer=pred_answer)\n",
    "        #print(f\"factual LLM judge reasoning {factual}\")\n",
    "        llm_judge_ans = factual.factually_correct\n",
    "        \n",
    "        return llm_judge_ans"
   ]
  },
  {
   "cell_type": "code",
   "execution_count": 50,
   "id": "f4253430-4b57-4047-805c-4d5cae669bda",
   "metadata": {},
   "outputs": [],
   "source": [
    "llm_judge_1 = LLMJudge_1()"
   ]
  },
  {
   "cell_type": "markdown",
   "id": "b7ea6902",
   "metadata": {},
   "source": [
    "Batch evaluation using LLM-Judge class for dataset in dataframe format "
   ]
  },
  {
   "cell_type": "code",
   "execution_count": 51,
   "id": "82942678",
   "metadata": {},
   "outputs": [],
   "source": [
    "def get_judge_score_1(test_data):\n",
    "    scores = []\n",
    "\n",
    "    for index, row in test_data.iterrows():\n",
    "        #print(\"=== \",index,\" ===\")\n",
    "        #print(f\"---------------\")\n",
    "        #print(f\"row['ref_answer'] >>>  {row['ref_answer']}\")\n",
    "        #print(f\"row['response'] {row['response']}\")\n",
    "        llm_judge_ans = float(llm_judge_1(row['ref_answer'], row['response']))\n",
    "        #print(f\"llm_judge_ans :: {llm_judge_ans}\")\n",
    "        scores.append(llm_judge_ans)\n",
    "        print(index,':',llm_judge_ans, end='|')\n",
    "\n",
    "    accuracy_score = sum(scores)/len(scores)\n",
    "    \n",
    "    return accuracy_score"
   ]
  },
  {
   "cell_type": "markdown",
   "id": "2c3d80b2",
   "metadata": {},
   "source": [
    "### LLM judge metrics by dspy "
   ]
  },
  {
   "cell_type": "markdown",
   "id": "99f1d213",
   "metadata": {},
   "source": [
    "Evaluation scores for SFT results by LLM-judge class"
   ]
  },
  {
   "cell_type": "code",
   "execution_count": 52,
   "id": "ec4fabb0",
   "metadata": {},
   "outputs": [
    {
     "name": "stdout",
     "output_type": "stream",
     "text": [
      "0 : 1.0|1 : 0.3|2 : 0.2|3 : 1.0|4 : 1.0|5 : 1.0|6 : 1.0|7 : 0.9|8 : 0.0|9 : 0.0|10 : 0.2|11 : 0.2|12 : 0.7|13 : 0.2|14 : 0.0|15 : 0.0|16 : 1.0|17 : 0.0|18 : 0.1|19 : 0.2|20 : 0.9|21 : 0.3|22 : 0.9|23 : 0.2|24 : 1.0|25 : 0.1|26 : 0.0|27 : 0.3|28 : 1.0|29 : 0.8|30 : 0.1|31 : 0.9|"
     ]
    },
    {
     "data": {
      "text/plain": [
       "0.48437500000000006"
      ]
     },
     "execution_count": 52,
     "metadata": {},
     "output_type": "execute_result"
    }
   ],
   "source": [
    "sft_score_1 = get_judge_score_1(df_sft_data)\n",
    "sft_score_1"
   ]
  },
  {
   "cell_type": "markdown",
   "id": "fd843654",
   "metadata": {},
   "source": [
    "Evaluation scores for SFT results by dspy"
   ]
  },
  {
   "cell_type": "code",
   "execution_count": 53,
   "id": "998d96e8",
   "metadata": {},
   "outputs": [
    {
     "name": "stdout",
     "output_type": "stream",
     "text": [
      "  0%|          | 0/32 [00:00<?, ?it/s]llm_judge_ans = 1.0\n",
      "Average Metric: 1.00 / 32 (3.1%):   3%|▎         | 1/32 [00:01<00:54,  1.75s/it]llm_judge_ans = 0.3\n",
      "Average Metric: 1.30 / 32 (4.1%):   6%|▋         | 2/32 [00:04<01:17,  2.60s/it]llm_judge_ans = 0.2\n",
      "Average Metric: 1.50 / 32 (4.7%):   9%|▉         | 3/32 [00:07<01:13,  2.53s/it]llm_judge_ans = 1.0\n",
      "Average Metric: 2.50 / 32 (7.8%):  12%|█▎        | 4/32 [00:08<01:00,  2.16s/it]llm_judge_ans = 1.0\n",
      "Average Metric: 3.50 / 32 (10.9%):  16%|█▌        | 5/32 [00:11<00:57,  2.15s/it]llm_judge_ans = 1.0\n",
      "Average Metric: 4.50 / 32 (14.1%):  19%|█▉        | 6/32 [00:13<01:01,  2.35s/it]llm_judge_ans = 1.0\n",
      "Average Metric: 5.50 / 32 (17.2%):  22%|██▏       | 7/32 [00:16<00:57,  2.31s/it]llm_judge_ans = 0.9\n",
      "Average Metric: 6.40 / 32 (20.0%):  25%|██▌       | 8/32 [00:17<00:49,  2.07s/it]llm_judge_ans = 0.0\n",
      "Average Metric: 6.40 / 32 (20.0%):  28%|██▊       | 9/32 [00:20<00:56,  2.45s/it]llm_judge_ans = 0.0\n",
      "Average Metric: 6.40 / 32 (20.0%):  31%|███▏      | 10/32 [00:22<00:48,  2.20s/it]llm_judge_ans = 0.2\n",
      "Average Metric: 6.60 / 32 (20.6%):  34%|███▍      | 11/32 [00:24<00:44,  2.13s/it]llm_judge_ans = 0.2\n",
      "Average Metric: 6.80 / 32 (21.3%):  38%|███▊      | 12/32 [00:26<00:40,  2.03s/it]llm_judge_ans = 0.6\n",
      "Average Metric: 7.40 / 32 (23.1%):  41%|████      | 13/32 [00:28<00:36,  1.93s/it]llm_judge_ans = 0.2\n",
      "Average Metric: 7.60 / 32 (23.8%):  44%|████▍     | 14/32 [00:29<00:32,  1.80s/it]llm_judge_ans = 0.0\n",
      "Average Metric: 7.60 / 32 (23.8%):  47%|████▋     | 15/32 [00:31<00:30,  1.82s/it]llm_judge_ans = 0.0\n",
      "Average Metric: 7.60 / 32 (23.8%):  50%|█████     | 16/32 [00:34<00:36,  2.28s/it]llm_judge_ans = 1.0\n",
      "Average Metric: 8.60 / 32 (26.9%):  53%|█████▎    | 17/32 [00:36<00:31,  2.09s/it]llm_judge_ans = 0.0\n",
      "Average Metric: 8.60 / 32 (26.9%):  56%|█████▋    | 18/32 [00:38<00:28,  2.04s/it]llm_judge_ans = 0.1\n",
      "Average Metric: 8.70 / 32 (27.2%):  59%|█████▉    | 19/32 [00:40<00:28,  2.18s/it]llm_judge_ans = 0.2\n",
      "Average Metric: 8.90 / 32 (27.8%):  62%|██████▎   | 20/32 [00:43<00:29,  2.46s/it]llm_judge_ans = 0.9\n",
      "Average Metric: 9.80 / 32 (30.6%):  66%|██████▌   | 21/32 [00:48<00:33,  3.04s/it]llm_judge_ans = 0.3\n",
      "Average Metric: 10.10 / 32 (31.6%):  69%|██████▉   | 22/32 [00:50<00:29,  2.92s/it]llm_judge_ans = 0.9\n",
      "Average Metric: 11.00 / 32 (34.4%):  72%|███████▏  | 23/32 [00:53<00:25,  2.84s/it]llm_judge_ans = 0.2\n",
      "Average Metric: 11.20 / 32 (35.0%):  75%|███████▌  | 24/32 [00:55<00:20,  2.56s/it]llm_judge_ans = 1.0\n",
      "Average Metric: 12.20 / 32 (38.1%):  78%|███████▊  | 25/32 [00:57<00:16,  2.32s/it]llm_judge_ans = 0.1\n",
      "Average Metric: 12.30 / 32 (38.4%):  81%|████████▏ | 26/32 [00:59<00:14,  2.40s/it]llm_judge_ans = 0.0\n",
      "Average Metric: 12.30 / 32 (38.4%):  84%|████████▍ | 27/32 [01:03<00:13,  2.70s/it]llm_judge_ans = 0.3\n",
      "Average Metric: 12.60 / 32 (39.4%):  88%|████████▊ | 28/32 [01:05<00:10,  2.53s/it]llm_judge_ans = 1.0\n",
      "Average Metric: 13.60 / 32 (42.5%):  91%|█████████ | 29/32 [01:08<00:07,  2.58s/it]llm_judge_ans = 0.8\n",
      "Average Metric: 14.40 / 32 (45.0%):  94%|█████████▍| 30/32 [01:12<00:06,  3.03s/it]llm_judge_ans = 0.1\n",
      "Average Metric: 14.50 / 32 (45.3%):  97%|█████████▋| 31/32 [01:14<00:02,  2.92s/it]llm_judge_ans = 0.9\n",
      "Average Metric: 15.40 / 32 (48.1%): 100%|██████████| 32/32 [01:17<00:00,  2.41s/it]"
     ]
    },
    {
     "name": "stderr",
     "output_type": "stream",
     "text": [
      "2025/01/22 03:03:04 INFO dspy.evaluate.evaluate: Average Metric: 15.400000000000002 / 32 (48.1%)\n"
     ]
    },
    {
     "name": "stdout",
     "output_type": "stream",
     "text": [
      "\n",
      "------------- Final DSPy Evaluation score :::: 48.13 ---------\n"
     ]
    }
   ],
   "source": [
    "evaluate_llm_judge = Evaluate(devset=generate_dspy_example_dataset(df_sft_data), \n",
    "                              metric=metric_LLM_1, \n",
    "                              num_threads=1, \n",
    "                              display_progress=True, \n",
    "                              display_table=0, \n",
    "                              provide_traceback=True)\n",
    "\n",
    "eval_score = evaluate_llm_judge(llm_judge_1, num_threads=1)\n",
    "print(f\"------------- Final DSPy Evaluation score :::: {eval_score} ---------\")"
   ]
  },
  {
   "cell_type": "code",
   "execution_count": 54,
   "id": "5c18106c-7d4a-45ed-a8cc-3c93e786bed3",
   "metadata": {},
   "outputs": [
    {
     "data": {
      "text/plain": [
       "0.4813"
      ]
     },
     "execution_count": 54,
     "metadata": {},
     "output_type": "execute_result"
    }
   ],
   "source": [
    "sft_score_1 = eval_score/100\n",
    "sft_score_1"
   ]
  },
  {
   "cell_type": "markdown",
   "id": "7eab3061",
   "metadata": {},
   "source": [
    "Evaluation scores for DPO results by LLM-judge class"
   ]
  },
  {
   "cell_type": "code",
   "execution_count": 55,
   "id": "a24ece8a",
   "metadata": {},
   "outputs": [
    {
     "name": "stdout",
     "output_type": "stream",
     "text": [
      "0 : 1.0|1 : 1.0|2 : 0.2|3 : 0.2|4 : 0.9|5 : 1.0|6 : 0.2|7 : 1.0|8 : 0.2|9 : 0.2|10 : 1.0|11 : 1.0|12 : 1.0|13 : 0.2|14 : 1.0|15 : 1.0|16 : 1.0|17 : 0.0|18 : 0.1|19 : 0.1|20 : 1.0|21 : 0.9|22 : 0.9|23 : 1.0|24 : 1.0|25 : 0.3|26 : 0.1|27 : 0.2|28 : 1.0|29 : 0.9|30 : 1.0|31 : 1.0|"
     ]
    },
    {
     "data": {
      "text/plain": [
       "0.675"
      ]
     },
     "execution_count": 55,
     "metadata": {},
     "output_type": "execute_result"
    }
   ],
   "source": [
    "dpo_score_1 = get_judge_score_1(df_dpo_data)\n",
    "dpo_score_1"
   ]
  },
  {
   "cell_type": "markdown",
   "id": "fd98ee77",
   "metadata": {},
   "source": [
    "Evaluation scores for DPO results by LLM-judge class"
   ]
  },
  {
   "cell_type": "code",
   "execution_count": 56,
   "id": "861bd7ca-1da2-4aed-b84a-667721fc695f",
   "metadata": {},
   "outputs": [
    {
     "name": "stdout",
     "output_type": "stream",
     "text": [
      "  0%|          | 0/32 [00:00<?, ?it/s]llm_judge_ans = 1.0\n",
      "Average Metric: 1.00 / 32 (3.1%):   3%|▎         | 1/32 [00:01<00:42,  1.38s/it]llm_judge_ans = 1.0\n",
      "Average Metric: 2.00 / 32 (6.2%):   6%|▋         | 2/32 [00:02<00:42,  1.40s/it]llm_judge_ans = 0.2\n",
      "Average Metric: 2.20 / 32 (6.9%):   9%|▉         | 3/32 [00:04<00:42,  1.46s/it]llm_judge_ans = 0.2\n",
      "Average Metric: 2.40 / 32 (7.5%):  12%|█▎        | 4/32 [00:05<00:38,  1.38s/it]llm_judge_ans = 0.9\n",
      "Average Metric: 3.30 / 32 (10.3%):  16%|█▌        | 5/32 [00:09<01:00,  2.24s/it]llm_judge_ans = 1.0\n",
      "Average Metric: 4.30 / 32 (13.4%):  19%|█▉        | 6/32 [00:11<01:01,  2.38s/it]llm_judge_ans = 0.2\n",
      "Average Metric: 4.50 / 32 (14.1%):  22%|██▏       | 7/32 [00:13<00:52,  2.09s/it]llm_judge_ans = 1.0\n",
      "Average Metric: 5.50 / 32 (17.2%):  25%|██▌       | 8/32 [00:15<00:51,  2.14s/it]llm_judge_ans = 0.2\n",
      "Average Metric: 5.70 / 32 (17.8%):  28%|██▊       | 9/32 [00:18<00:52,  2.30s/it]llm_judge_ans = 0.2\n",
      "Average Metric: 5.90 / 32 (18.4%):  31%|███▏      | 10/32 [00:21<00:53,  2.44s/it]llm_judge_ans = 1.0\n",
      "Average Metric: 6.90 / 32 (21.6%):  34%|███▍      | 11/32 [00:23<00:47,  2.28s/it]llm_judge_ans = 1.0\n",
      "Average Metric: 7.90 / 32 (24.7%):  38%|███▊      | 12/32 [00:25<00:49,  2.47s/it]llm_judge_ans = 1.0\n",
      "Average Metric: 8.90 / 32 (27.8%):  41%|████      | 13/32 [00:28<00:50,  2.63s/it]llm_judge_ans = 0.2\n",
      "Average Metric: 9.10 / 32 (28.4%):  44%|████▍     | 14/32 [00:30<00:42,  2.33s/it]llm_judge_ans = 1.0\n",
      "Average Metric: 10.10 / 32 (31.6%):  47%|████▋     | 15/32 [00:32<00:39,  2.31s/it]llm_judge_ans = 0.9\n",
      "Average Metric: 11.00 / 32 (34.4%):  50%|█████     | 16/32 [00:35<00:38,  2.39s/it]llm_judge_ans = 1.0\n",
      "Average Metric: 12.00 / 32 (37.5%):  53%|█████▎    | 17/32 [00:37<00:32,  2.16s/it]llm_judge_ans = 0.0\n",
      "Average Metric: 12.00 / 32 (37.5%):  56%|█████▋    | 18/32 [00:39<00:32,  2.29s/it]llm_judge_ans = 0.1\n",
      "Average Metric: 12.10 / 32 (37.8%):  59%|█████▉    | 19/32 [00:41<00:28,  2.19s/it]llm_judge_ans = 0.1\n",
      "Average Metric: 12.20 / 32 (38.1%):  62%|██████▎   | 20/32 [00:44<00:27,  2.30s/it]llm_judge_ans = 1.0\n",
      "Average Metric: 13.20 / 32 (41.2%):  66%|██████▌   | 21/32 [00:46<00:26,  2.38s/it]llm_judge_ans = 0.9\n",
      "Average Metric: 14.10 / 32 (44.1%):  69%|██████▉   | 22/32 [00:49<00:25,  2.55s/it]llm_judge_ans = 0.9\n",
      "Average Metric: 15.00 / 32 (46.9%):  72%|███████▏  | 23/32 [00:52<00:23,  2.66s/it]llm_judge_ans = 1.0\n",
      "Average Metric: 16.00 / 32 (50.0%):  75%|███████▌  | 24/32 [00:55<00:22,  2.77s/it]llm_judge_ans = 1.0\n",
      "Average Metric: 17.00 / 32 (53.1%):  78%|███████▊  | 25/32 [00:57<00:16,  2.42s/it]llm_judge_ans = 0.3\n",
      "Average Metric: 17.30 / 32 (54.1%):  81%|████████▏ | 26/32 [00:59<00:15,  2.50s/it]llm_judge_ans = 0.1\n",
      "Average Metric: 17.40 / 32 (54.4%):  84%|████████▍ | 27/32 [01:02<00:12,  2.58s/it]llm_judge_ans = 0.2\n",
      "Average Metric: 17.60 / 32 (55.0%):  88%|████████▊ | 28/32 [01:05<00:09,  2.49s/it]llm_judge_ans = 1.0\n",
      "Average Metric: 18.60 / 32 (58.1%):  91%|█████████ | 29/32 [01:08<00:08,  2.73s/it]llm_judge_ans = 0.9\n",
      "Average Metric: 19.50 / 32 (60.9%):  94%|█████████▍| 30/32 [01:10<00:04,  2.48s/it]llm_judge_ans = 1.0\n",
      "Average Metric: 20.50 / 32 (64.1%):  97%|█████████▋| 31/32 [01:11<00:02,  2.20s/it]llm_judge_ans = 1.0\n",
      "Average Metric: 21.50 / 32 (67.2%): 100%|██████████| 32/32 [01:13<00:00,  2.30s/it]"
     ]
    },
    {
     "name": "stderr",
     "output_type": "stream",
     "text": [
      "2025/01/22 03:05:04 INFO dspy.evaluate.evaluate: Average Metric: 21.5 / 32 (67.2%)\n"
     ]
    },
    {
     "name": "stdout",
     "output_type": "stream",
     "text": [
      "\n",
      "------------- Final DSPy Evaluation score :::: 67.19 ---------\n"
     ]
    }
   ],
   "source": [
    "evaluate_llm_judge = Evaluate(devset=generate_dspy_example_dataset(df_dpo_data), \n",
    "                              metric=metric_LLM_1, \n",
    "                              num_threads=1, \n",
    "                              display_progress=True, \n",
    "                              display_table=0, \n",
    "                              provide_traceback=True)\n",
    "\n",
    "eval_score = evaluate_llm_judge(llm_judge_1, num_threads=1)\n",
    "print(f\"------------- Final DSPy Evaluation score :::: {eval_score} ---------\")"
   ]
  },
  {
   "cell_type": "code",
   "execution_count": 57,
   "id": "875a7e9c-18b5-44db-9f0a-f2a3151a98e9",
   "metadata": {},
   "outputs": [
    {
     "data": {
      "text/plain": [
       "0.6718999999999999"
      ]
     },
     "execution_count": 57,
     "metadata": {},
     "output_type": "execute_result"
    }
   ],
   "source": [
    "dpo_score_1 = eval_score/100\n",
    "dpo_score_1"
   ]
  },
  {
   "cell_type": "markdown",
   "id": "ae572ca6",
   "metadata": {},
   "source": [
    "Evaluation scores for ORPO results by LLM-judge class"
   ]
  },
  {
   "cell_type": "code",
   "execution_count": 58,
   "id": "8dd84a67",
   "metadata": {},
   "outputs": [
    {
     "name": "stdout",
     "output_type": "stream",
     "text": [
      "0 : 1.0|1 : 1.0|2 : 0.2|3 : 0.2|4 : 0.9|5 : 1.0|6 : 0.2|7 : 1.0|8 : 0.2|9 : 0.2|10 : 1.0|11 : 1.0|12 : 0.9|13 : 0.2|14 : 1.0|15 : 0.9|16 : 1.0|17 : 0.0|18 : 0.1|19 : 0.1|20 : 1.0|21 : 0.9|22 : 0.9|23 : 1.0|24 : 1.0|25 : 0.8|26 : 0.0|27 : 0.2|28 : 1.0|29 : 0.9|30 : 1.0|31 : 1.0|"
     ]
    },
    {
     "data": {
      "text/plain": [
       "0.6812499999999999"
      ]
     },
     "execution_count": 58,
     "metadata": {},
     "output_type": "execute_result"
    }
   ],
   "source": [
    "orpo_score_1 = get_judge_score_1(df_orpo_data)\n",
    "orpo_score_1"
   ]
  },
  {
   "cell_type": "markdown",
   "id": "a8a51dcf",
   "metadata": {},
   "source": [
    "Evaluation scores for ORPO results by dspy"
   ]
  },
  {
   "cell_type": "code",
   "execution_count": 59,
   "id": "f40dbfd4",
   "metadata": {},
   "outputs": [
    {
     "name": "stdout",
     "output_type": "stream",
     "text": [
      "  0%|          | 0/32 [00:00<?, ?it/s]llm_judge_ans = 1.0\n",
      "Average Metric: 1.00 / 32 (3.1%):   3%|▎         | 1/32 [00:02<01:07,  2.17s/it]llm_judge_ans = 1.0\n",
      "Average Metric: 2.00 / 32 (6.2%):   6%|▋         | 2/32 [00:04<01:04,  2.13s/it]llm_judge_ans = 0.2\n",
      "Average Metric: 2.20 / 32 (6.9%):   9%|▉         | 3/32 [00:06<00:56,  1.95s/it]llm_judge_ans = 0.2\n",
      "Average Metric: 2.40 / 32 (7.5%):  12%|█▎        | 4/32 [00:07<00:45,  1.64s/it]llm_judge_ans = 0.9\n",
      "Average Metric: 3.30 / 32 (10.3%):  16%|█▌        | 5/32 [00:08<00:45,  1.68s/it]llm_judge_ans = 1.0\n",
      "Average Metric: 4.30 / 32 (13.4%):  19%|█▉        | 6/32 [00:10<00:44,  1.70s/it]llm_judge_ans = 0.2\n",
      "Average Metric: 4.50 / 32 (14.1%):  22%|██▏       | 7/32 [00:12<00:41,  1.68s/it]llm_judge_ans = 1.0\n",
      "Average Metric: 5.50 / 32 (17.2%):  25%|██▌       | 8/32 [00:14<00:40,  1.69s/it]llm_judge_ans = 0.2\n",
      "Average Metric: 5.70 / 32 (17.8%):  28%|██▊       | 9/32 [00:16<00:47,  2.06s/it]llm_judge_ans = 0.2\n",
      "Average Metric: 5.90 / 32 (18.4%):  31%|███▏      | 10/32 [00:20<00:54,  2.48s/it]llm_judge_ans = 1.0\n",
      "Average Metric: 6.90 / 32 (21.6%):  34%|███▍      | 11/32 [00:22<00:50,  2.39s/it]llm_judge_ans = 1.0\n",
      "Average Metric: 7.90 / 32 (24.7%):  38%|███▊      | 12/32 [00:25<00:49,  2.48s/it]llm_judge_ans = 0.9\n",
      "Average Metric: 8.80 / 32 (27.5%):  41%|████      | 13/32 [00:27<00:46,  2.42s/it]llm_judge_ans = 0.2\n",
      "Average Metric: 9.00 / 32 (28.1%):  44%|████▍     | 14/32 [00:29<00:40,  2.27s/it]llm_judge_ans = 1.0\n",
      "Average Metric: 10.00 / 32 (31.2%):  47%|████▋     | 15/32 [00:32<00:45,  2.66s/it]llm_judge_ans = 0.9\n",
      "Average Metric: 10.90 / 32 (34.1%):  50%|█████     | 16/32 [00:36<00:44,  2.78s/it]llm_judge_ans = 1.0\n",
      "Average Metric: 11.90 / 32 (37.2%):  53%|█████▎    | 17/32 [00:37<00:37,  2.49s/it]llm_judge_ans = 0.0\n",
      "Average Metric: 11.90 / 32 (37.2%):  56%|█████▋    | 18/32 [00:39<00:31,  2.24s/it]llm_judge_ans = 0.1\n",
      "Average Metric: 12.00 / 32 (37.5%):  59%|█████▉    | 19/32 [00:41<00:29,  2.25s/it]llm_judge_ans = 0.1\n",
      "Average Metric: 12.10 / 32 (37.8%):  62%|██████▎   | 20/32 [00:44<00:28,  2.34s/it]llm_judge_ans = 1.0\n",
      "Average Metric: 13.10 / 32 (40.9%):  66%|██████▌   | 21/32 [00:46<00:25,  2.36s/it]llm_judge_ans = 0.9\n",
      "Average Metric: 14.00 / 32 (43.8%):  69%|██████▉   | 22/32 [00:48<00:22,  2.22s/it]llm_judge_ans = 0.9\n",
      "Average Metric: 14.90 / 32 (46.6%):  72%|███████▏  | 23/32 [00:51<00:21,  2.35s/it]llm_judge_ans = 1.0\n",
      "Average Metric: 15.90 / 32 (49.7%):  75%|███████▌  | 24/32 [00:53<00:19,  2.41s/it]llm_judge_ans = 1.0\n",
      "Average Metric: 16.90 / 32 (52.8%):  78%|███████▊  | 25/32 [00:55<00:15,  2.25s/it]llm_judge_ans = 0.8\n",
      "Average Metric: 17.70 / 32 (55.3%):  81%|████████▏ | 26/32 [00:59<00:16,  2.67s/it]llm_judge_ans = 0.0\n",
      "Average Metric: 17.70 / 32 (55.3%):  84%|████████▍ | 27/32 [01:02<00:13,  2.71s/it]llm_judge_ans = 0.2\n",
      "Average Metric: 17.90 / 32 (55.9%):  88%|████████▊ | 28/32 [01:03<00:09,  2.40s/it]llm_judge_ans = 1.0\n",
      "Average Metric: 18.90 / 32 (59.1%):  91%|█████████ | 29/32 [01:06<00:07,  2.44s/it]llm_judge_ans = 0.9\n",
      "Average Metric: 19.80 / 32 (61.9%):  94%|█████████▍| 30/32 [01:09<00:05,  2.58s/it]llm_judge_ans = 1.0\n",
      "Average Metric: 20.80 / 32 (65.0%):  97%|█████████▋| 31/32 [01:11<00:02,  2.51s/it]llm_judge_ans = 1.0\n",
      "Average Metric: 21.80 / 32 (68.1%): 100%|██████████| 32/32 [01:13<00:00,  2.31s/it]"
     ]
    },
    {
     "name": "stderr",
     "output_type": "stream",
     "text": [
      "2025/01/22 03:06:56 INFO dspy.evaluate.evaluate: Average Metric: 21.799999999999997 / 32 (68.1%)\n"
     ]
    },
    {
     "name": "stdout",
     "output_type": "stream",
     "text": [
      "\n",
      "------------- Final DSPy Evaluation score :::: 68.12 ---------\n"
     ]
    }
   ],
   "source": [
    "evaluate_llm_judge = Evaluate(devset=generate_dspy_example_dataset(df_orpo_data), \n",
    "                              metric=metric_LLM_1, \n",
    "                              num_threads=1, \n",
    "                              display_progress=True, \n",
    "                              display_table=0, \n",
    "                              provide_traceback=True)\n",
    "\n",
    "eval_score = evaluate_llm_judge(llm_judge_1, num_threads=1)\n",
    "print(f\"------------- Final DSPy Evaluation score :::: {eval_score} ---------\")"
   ]
  },
  {
   "cell_type": "code",
   "execution_count": 60,
   "id": "fd5db4ef-0941-4985-afe7-07d81b3f219e",
   "metadata": {},
   "outputs": [
    {
     "data": {
      "text/plain": [
       "0.6812"
      ]
     },
     "execution_count": 60,
     "metadata": {},
     "output_type": "execute_result"
    }
   ],
   "source": [
    "orpo_score_1 = eval_score/100\n",
    "orpo_score_1"
   ]
  },
  {
   "cell_type": "markdown",
   "id": "ba86b22b",
   "metadata": {},
   "source": [
    "Evaluation scores for RAG HAIKU results by LLM-judge class"
   ]
  },
  {
   "cell_type": "code",
   "execution_count": 61,
   "id": "fa00992a",
   "metadata": {},
   "outputs": [
    {
     "name": "stdout",
     "output_type": "stream",
     "text": [
      "0 : 0.1|1 : 1.0|2 : 0.1|3 : 0.1|4 : 0.5|5 : 0.9|6 : 0.2|7 : 1.0|8 : 0.3|9 : 0.3|10 : 0.1|11 : 0.1|12 : 0.9|13 : 0.0|14 : 0.2|15 : 0.9|16 : 0.9|17 : 0.5|18 : 0.1|19 : 0.1|20 : 0.2|21 : 0.4|22 : 0.1|23 : 0.6|24 : 0.7|25 : 0.8|26 : 0.3|27 : 0.1|28 : 0.6|29 : 0.5|30 : 0.2|31 : 0.0|"
     ]
    },
    {
     "data": {
      "text/plain": [
       "0.39999999999999997"
      ]
     },
     "execution_count": 61,
     "metadata": {},
     "output_type": "execute_result"
    }
   ],
   "source": [
    "rag_haiku_score_1 = get_judge_score_1(df_rag_haiku_data)\n",
    "rag_haiku_score_1"
   ]
  },
  {
   "cell_type": "markdown",
   "id": "29b8b4f3",
   "metadata": {},
   "source": [
    "Evaluation scores for RAG HAIKU results by dspy"
   ]
  },
  {
   "cell_type": "code",
   "execution_count": 62,
   "id": "bab1f187-d865-47e1-bc83-0fb439a65d4e",
   "metadata": {},
   "outputs": [
    {
     "name": "stdout",
     "output_type": "stream",
     "text": [
      "  0%|          | 0/32 [00:00<?, ?it/s]llm_judge_ans = 0.1\n",
      "Average Metric: 0.10 / 32 (0.3%):   3%|▎         | 1/32 [00:03<01:54,  3.70s/it]llm_judge_ans = 1.0\n",
      "Average Metric: 1.10 / 32 (3.4%):   6%|▋         | 2/32 [00:07<01:46,  3.55s/it]llm_judge_ans = 0.1\n",
      "Average Metric: 1.20 / 32 (3.8%):   9%|▉         | 3/32 [00:09<01:21,  2.81s/it]llm_judge_ans = 0.1\n",
      "Average Metric: 1.30 / 32 (4.1%):  12%|█▎        | 4/32 [00:11<01:17,  2.76s/it]llm_judge_ans = 0.5\n",
      "Average Metric: 1.80 / 32 (5.6%):  16%|█▌        | 5/32 [00:14<01:12,  2.67s/it]llm_judge_ans = 0.9\n",
      "Average Metric: 2.70 / 32 (8.4%):  19%|█▉        | 6/32 [00:16<01:07,  2.60s/it]llm_judge_ans = 0.2\n",
      "Average Metric: 2.90 / 32 (9.1%):  22%|██▏       | 7/32 [00:20<01:13,  2.92s/it]llm_judge_ans = 1.0\n",
      "Average Metric: 3.90 / 32 (12.2%):  25%|██▌       | 8/32 [00:23<01:09,  2.89s/it]llm_judge_ans = 0.3\n",
      "Average Metric: 4.20 / 32 (13.1%):  28%|██▊       | 9/32 [00:26<01:10,  3.05s/it]llm_judge_ans = 0.3\n",
      "Average Metric: 4.50 / 32 (14.1%):  31%|███▏      | 10/32 [00:29<01:03,  2.89s/it]llm_judge_ans = 0.1\n",
      "Average Metric: 4.60 / 32 (14.4%):  34%|███▍      | 11/32 [00:31<00:55,  2.66s/it]llm_judge_ans = 0.1\n",
      "Average Metric: 4.70 / 32 (14.7%):  38%|███▊      | 12/32 [00:34<00:54,  2.73s/it]llm_judge_ans = 0.9\n",
      "Average Metric: 5.60 / 32 (17.5%):  41%|████      | 13/32 [00:37<00:53,  2.84s/it]llm_judge_ans = 0.0\n",
      "Average Metric: 5.60 / 32 (17.5%):  44%|████▍     | 14/32 [00:39<00:45,  2.53s/it]llm_judge_ans = 0.2\n",
      "Average Metric: 5.80 / 32 (18.1%):  47%|████▋     | 15/32 [00:41<00:45,  2.65s/it]llm_judge_ans = 0.9\n",
      "Average Metric: 6.70 / 32 (20.9%):  50%|█████     | 16/32 [00:44<00:43,  2.72s/it]llm_judge_ans = 0.9\n",
      "Average Metric: 7.60 / 32 (23.8%):  53%|█████▎    | 17/32 [00:46<00:38,  2.56s/it]llm_judge_ans = 0.5\n",
      "Average Metric: 8.10 / 32 (25.3%):  56%|█████▋    | 18/32 [00:48<00:30,  2.21s/it]llm_judge_ans = 0.1\n",
      "Average Metric: 8.20 / 32 (25.6%):  59%|█████▉    | 19/32 [00:50<00:29,  2.26s/it]llm_judge_ans = 0.1\n",
      "Average Metric: 8.30 / 32 (25.9%):  62%|██████▎   | 20/32 [00:53<00:27,  2.26s/it]llm_judge_ans = 0.2\n",
      "Average Metric: 8.50 / 32 (26.6%):  66%|██████▌   | 21/32 [00:56<00:27,  2.50s/it]llm_judge_ans = 0.4\n",
      "Average Metric: 8.90 / 32 (27.8%):  69%|██████▉   | 22/32 [01:00<00:29,  2.93s/it]llm_judge_ans = 0.1\n",
      "Average Metric: 9.00 / 32 (28.1%):  72%|███████▏  | 23/32 [01:03<00:27,  3.04s/it]llm_judge_ans = 0.6\n",
      "Average Metric: 9.60 / 32 (30.0%):  75%|███████▌  | 24/32 [01:06<00:23,  2.99s/it]llm_judge_ans = 0.7\n",
      "Average Metric: 10.30 / 32 (32.2%):  78%|███████▊  | 25/32 [01:09<00:20,  2.97s/it]llm_judge_ans = 0.8\n",
      "Average Metric: 11.10 / 32 (34.7%):  81%|████████▏ | 26/32 [01:11<00:16,  2.79s/it]llm_judge_ans = 0.3\n",
      "Average Metric: 11.40 / 32 (35.6%):  84%|████████▍ | 27/32 [01:14<00:14,  2.82s/it]llm_judge_ans = 0.1\n",
      "Average Metric: 11.50 / 32 (35.9%):  88%|████████▊ | 28/32 [01:16<00:10,  2.61s/it]llm_judge_ans = 0.8\n",
      "Average Metric: 12.30 / 32 (38.4%):  91%|█████████ | 29/32 [01:19<00:08,  2.74s/it]llm_judge_ans = 0.6\n",
      "Average Metric: 12.90 / 32 (40.3%):  94%|█████████▍| 30/32 [01:22<00:05,  2.66s/it]llm_judge_ans = 0.2\n",
      "Average Metric: 13.10 / 32 (40.9%):  97%|█████████▋| 31/32 [01:23<00:02,  2.41s/it]llm_judge_ans = 0.0\n",
      "Average Metric: 13.10 / 32 (40.9%): 100%|██████████| 32/32 [01:26<00:00,  2.70s/it]"
     ]
    },
    {
     "name": "stderr",
     "output_type": "stream",
     "text": [
      "2025/01/22 03:09:02 INFO dspy.evaluate.evaluate: Average Metric: 13.1 / 32 (40.9%)\n"
     ]
    },
    {
     "name": "stdout",
     "output_type": "stream",
     "text": [
      "\n",
      "------------- Final DSPy Evaluation score :::: 40.94 ---------\n"
     ]
    }
   ],
   "source": [
    "evaluate_llm_judge = Evaluate(devset=generate_dspy_example_dataset(df_rag_haiku_data), \n",
    "                              metric=metric_LLM_1, \n",
    "                              num_threads=1, \n",
    "                              display_progress=True, \n",
    "                              display_table=0, \n",
    "                              provide_traceback=True)\n",
    "\n",
    "eval_score = evaluate_llm_judge(llm_judge_1, num_threads=1)\n",
    "print(f\"------------- Final DSPy Evaluation score :::: {eval_score} ---------\")"
   ]
  },
  {
   "cell_type": "code",
   "execution_count": 63,
   "id": "ea3942dd-8a2e-4948-a4ee-ad17cb4c530f",
   "metadata": {},
   "outputs": [
    {
     "data": {
      "text/plain": [
       "0.4094"
      ]
     },
     "execution_count": 63,
     "metadata": {},
     "output_type": "execute_result"
    }
   ],
   "source": [
    "rag_haiku_score_1 = eval_score/100\n",
    "rag_haiku_score_1"
   ]
  },
  {
   "cell_type": "markdown",
   "id": "d81bf4ad",
   "metadata": {},
   "source": [
    "Evaluation scores for RAG compiled HAIKU results by LLM-judge class"
   ]
  },
  {
   "cell_type": "code",
   "execution_count": 64,
   "id": "acc77eea",
   "metadata": {},
   "outputs": [
    {
     "name": "stdout",
     "output_type": "stream",
     "text": [
      "0 : 0.2|1 : 1.0|2 : 1.0|3 : 1.0|4 : 0.5|5 : 0.9|6 : 0.9|7 : 0.9|8 : 0.8|9 : 0.6|10 : 0.1|11 : 0.2|12 : 0.9|13 : 1.0|14 : 0.2|15 : 0.8|16 : 0.8|17 : 0.9|18 : 0.0|19 : 0.2|20 : 0.9|21 : 0.3|22 : 0.9|23 : 0.5|24 : 0.9|25 : 0.8|26 : 0.7|27 : 0.0|28 : 0.8|29 : 0.8|30 : 0.9|31 : 0.9|"
     ]
    },
    {
     "data": {
      "text/plain": [
       "0.665625"
      ]
     },
     "execution_count": 64,
     "metadata": {},
     "output_type": "execute_result"
    }
   ],
   "source": [
    "ragc_haiku_score_1 = get_judge_score_1(df_ragc_haiku_data)\n",
    "ragc_haiku_score_1"
   ]
  },
  {
   "cell_type": "markdown",
   "id": "63fcf4c2",
   "metadata": {},
   "source": [
    "Evaluation scores for RAG compiled HAIKU results by dspy"
   ]
  },
  {
   "cell_type": "code",
   "execution_count": 65,
   "id": "d0edbc03",
   "metadata": {},
   "outputs": [
    {
     "name": "stdout",
     "output_type": "stream",
     "text": [
      "  0%|          | 0/32 [00:00<?, ?it/s]llm_judge_ans = 0.2\n",
      "Average Metric: 0.20 / 32 (0.6%):   3%|▎         | 1/32 [00:01<00:46,  1.50s/it]llm_judge_ans = 1.0\n",
      "Average Metric: 1.20 / 32 (3.8%):   6%|▋         | 2/32 [00:03<00:50,  1.68s/it]llm_judge_ans = 1.0\n",
      "Average Metric: 2.20 / 32 (6.9%):   9%|▉         | 3/32 [00:04<00:41,  1.43s/it]llm_judge_ans = 1.0\n",
      "Average Metric: 3.20 / 32 (10.0%):  12%|█▎        | 4/32 [00:06<00:42,  1.53s/it]llm_judge_ans = 0.5\n",
      "Average Metric: 3.70 / 32 (11.6%):  16%|█▌        | 5/32 [00:08<00:46,  1.73s/it]llm_judge_ans = 0.9\n",
      "Average Metric: 4.60 / 32 (14.4%):  19%|█▉        | 6/32 [00:10<00:50,  1.94s/it]llm_judge_ans = 0.9\n",
      "Average Metric: 5.50 / 32 (17.2%):  22%|██▏       | 7/32 [00:13<00:52,  2.12s/it]llm_judge_ans = 0.9\n",
      "Average Metric: 6.40 / 32 (20.0%):  25%|██▌       | 8/32 [00:15<00:50,  2.11s/it]llm_judge_ans = 0.8\n",
      "Average Metric: 7.20 / 32 (22.5%):  28%|██▊       | 9/32 [00:18<00:58,  2.53s/it]llm_judge_ans = 0.6\n",
      "Average Metric: 7.80 / 32 (24.4%):  31%|███▏      | 10/32 [00:20<00:49,  2.25s/it]llm_judge_ans = 0.1\n",
      "Average Metric: 7.90 / 32 (24.7%):  34%|███▍      | 11/32 [00:22<00:47,  2.26s/it]llm_judge_ans = 0.2\n",
      "Average Metric: 8.10 / 32 (25.3%):  38%|███▊      | 12/32 [00:24<00:43,  2.17s/it]llm_judge_ans = 0.9\n",
      "Average Metric: 9.00 / 32 (28.1%):  41%|████      | 13/32 [00:26<00:42,  2.26s/it]llm_judge_ans = 1.0\n",
      "Average Metric: 10.00 / 32 (31.2%):  44%|████▍     | 14/32 [00:29<00:41,  2.32s/it]llm_judge_ans = 0.2\n",
      "Average Metric: 10.20 / 32 (31.9%):  47%|████▋     | 15/32 [00:31<00:39,  2.31s/it]llm_judge_ans = 0.8\n",
      "Average Metric: 11.00 / 32 (34.4%):  50%|█████     | 16/32 [00:34<00:41,  2.57s/it]llm_judge_ans = 0.8\n",
      "Average Metric: 11.80 / 32 (36.9%):  53%|█████▎    | 17/32 [00:37<00:37,  2.53s/it]llm_judge_ans = 0.9\n",
      "Average Metric: 12.70 / 32 (39.7%):  56%|█████▋    | 18/32 [00:38<00:31,  2.27s/it]llm_judge_ans = 0.0\n",
      "Average Metric: 12.70 / 32 (39.7%):  59%|█████▉    | 19/32 [00:40<00:27,  2.08s/it]llm_judge_ans = 0.2\n",
      "Average Metric: 12.90 / 32 (40.3%):  62%|██████▎   | 20/32 [00:42<00:23,  1.99s/it]llm_judge_ans = 0.9\n",
      "Average Metric: 13.80 / 32 (43.1%):  66%|██████▌   | 21/32 [00:45<00:26,  2.39s/it]llm_judge_ans = 0.3\n",
      "Average Metric: 14.10 / 32 (44.1%):  69%|██████▉   | 22/32 [00:47<00:22,  2.27s/it]llm_judge_ans = 0.9\n",
      "Average Metric: 15.00 / 32 (46.9%):  72%|███████▏  | 23/32 [00:50<00:22,  2.48s/it]llm_judge_ans = 0.5\n",
      "Average Metric: 15.50 / 32 (48.4%):  75%|███████▌  | 24/32 [00:51<00:17,  2.14s/it]llm_judge_ans = 0.9\n",
      "Average Metric: 16.40 / 32 (51.3%):  78%|███████▊  | 25/32 [00:55<00:17,  2.49s/it]llm_judge_ans = 0.8\n",
      "Average Metric: 17.20 / 32 (53.8%):  81%|████████▏ | 26/32 [00:57<00:14,  2.38s/it]llm_judge_ans = 0.7\n",
      "Average Metric: 17.90 / 32 (55.9%):  84%|████████▍ | 27/32 [00:59<00:12,  2.42s/it]llm_judge_ans = 0.0\n",
      "Average Metric: 17.90 / 32 (55.9%):  88%|████████▊ | 28/32 [01:02<00:09,  2.46s/it]llm_judge_ans = 0.8\n",
      "Average Metric: 18.70 / 32 (58.4%):  91%|█████████ | 29/32 [01:03<00:06,  2.18s/it]llm_judge_ans = 0.8\n",
      "Average Metric: 19.50 / 32 (60.9%):  94%|█████████▍| 30/32 [01:06<00:04,  2.19s/it]llm_judge_ans = 0.9\n",
      "Average Metric: 20.40 / 32 (63.8%):  97%|█████████▋| 31/32 [01:07<00:01,  1.92s/it]llm_judge_ans = 0.9\n",
      "Average Metric: 21.30 / 32 (66.6%): 100%|██████████| 32/32 [01:10<00:00,  2.20s/it]"
     ]
    },
    {
     "name": "stderr",
     "output_type": "stream",
     "text": [
      "2025/01/22 03:10:48 INFO dspy.evaluate.evaluate: Average Metric: 21.3 / 32 (66.6%)\n"
     ]
    },
    {
     "name": "stdout",
     "output_type": "stream",
     "text": [
      "\n",
      "------------- Final DSPy Evaluation score :::: 66.56 ---------\n"
     ]
    }
   ],
   "source": [
    "evaluate_llm_judge = Evaluate(devset=generate_dspy_example_dataset(df_ragc_haiku_data), \n",
    "                              metric=metric_LLM_1, \n",
    "                              num_threads=1, \n",
    "                              display_progress=True, \n",
    "                              display_table=0, \n",
    "                              provide_traceback=True)\n",
    "\n",
    "eval_score = evaluate_llm_judge(llm_judge_1, num_threads=1)\n",
    "print(f\"------------- Final DSPy Evaluation score :::: {eval_score} ---------\")"
   ]
  },
  {
   "cell_type": "code",
   "execution_count": 66,
   "id": "7f473a6c-bce7-4b50-922a-536a94a283b2",
   "metadata": {},
   "outputs": [
    {
     "data": {
      "text/plain": [
       "0.6656"
      ]
     },
     "execution_count": 66,
     "metadata": {},
     "output_type": "execute_result"
    }
   ],
   "source": [
    "ragc_haiku_score_1 = eval_score/100\n",
    "ragc_haiku_score_1"
   ]
  },
  {
   "cell_type": "markdown",
   "id": "b404713c",
   "metadata": {},
   "source": [
    "Evaluation scores for RAG Sonnet results by LLM-judge class"
   ]
  },
  {
   "cell_type": "code",
   "execution_count": null,
   "id": "bcec0181",
   "metadata": {},
   "outputs": [
    {
     "name": "stdout",
     "output_type": "stream",
     "text": [
      "0 : 0.2|1 : 0.9|2 : 0.2|3 : 0.1|4 : 0.5|5 : 0.2|6 : 0.2|7 : 0.9|8 : 0.2|9 : 0.5|10 : 0.0|11 : 0.2|12 : 0.0|13 : 0.5|14 : 0.2|15 : 0.2|16 : 0.8|17 : 0.0|18 : 0.0|19 : 0.2|20 : 0.2|21 : 0.5|22 : 0.1|23 : 0.2|24 : 0.2|25 : 0.2|26 : 0.8|27 : 0.0|28 : 0.2|29 : 0.2|30 : 1.0|31 : 0.2|"
     ]
    },
    {
     "data": {
      "text/plain": [
       "0.30624999999999997"
      ]
     },
     "execution_count": 67,
     "metadata": {},
     "output_type": "execute_result"
    }
   ],
   "source": [
    "rag_sonnet_score_1 = get_judge_score_1(df_rag_sonnet_data)\n",
    "rag_sonnet_score_1"
   ]
  },
  {
   "cell_type": "markdown",
   "id": "d709d3d0",
   "metadata": {},
   "source": [
    "Evaluation scores for RAG Sonnet results by dspy"
   ]
  },
  {
   "cell_type": "code",
   "execution_count": null,
   "id": "5d0d417f",
   "metadata": {},
   "outputs": [
    {
     "name": "stdout",
     "output_type": "stream",
     "text": [
      "  0%|          | 0/32 [00:00<?, ?it/s]llm_judge_ans = 0.2\n",
      "Average Metric: 0.20 / 32 (0.6%):   3%|▎         | 1/32 [00:02<01:03,  2.04s/it]llm_judge_ans = 0.9\n",
      "Average Metric: 1.10 / 32 (3.4%):   6%|▋         | 2/32 [00:03<00:54,  1.82s/it]llm_judge_ans = 0.2\n",
      "Average Metric: 1.30 / 32 (4.1%):   9%|▉         | 3/32 [00:05<00:50,  1.75s/it]llm_judge_ans = 0.1\n",
      "Average Metric: 1.40 / 32 (4.4%):  12%|█▎        | 4/32 [00:06<00:45,  1.61s/it]llm_judge_ans = 0.5\n",
      "Average Metric: 1.90 / 32 (5.9%):  16%|█▌        | 5/32 [00:08<00:43,  1.61s/it]llm_judge_ans = 0.2\n",
      "Average Metric: 2.10 / 32 (6.6%):  19%|█▉        | 6/32 [00:10<00:43,  1.67s/it]llm_judge_ans = 0.2\n",
      "Average Metric: 2.30 / 32 (7.2%):  22%|██▏       | 7/32 [00:11<00:40,  1.62s/it]llm_judge_ans = 0.8\n",
      "Average Metric: 3.10 / 32 (9.7%):  25%|██▌       | 8/32 [00:13<00:38,  1.60s/it]llm_judge_ans = 0.2\n",
      "Average Metric: 3.30 / 32 (10.3%):  28%|██▊       | 9/32 [00:15<00:42,  1.83s/it]llm_judge_ans = 0.5\n",
      "Average Metric: 3.80 / 32 (11.9%):  31%|███▏      | 10/32 [00:18<00:45,  2.06s/it]llm_judge_ans = 0.0\n",
      "Average Metric: 3.80 / 32 (11.9%):  34%|███▍      | 11/32 [00:22<00:56,  2.68s/it]llm_judge_ans = 0.2\n",
      "Average Metric: 4.00 / 32 (12.5%):  38%|███▊      | 12/32 [00:26<01:03,  3.16s/it]llm_judge_ans = 0.0\n",
      "Average Metric: 4.00 / 32 (12.5%):  41%|████      | 13/32 [00:29<00:58,  3.05s/it]llm_judge_ans = 0.5\n",
      "Average Metric: 4.50 / 32 (14.1%):  44%|████▍     | 14/32 [00:31<00:50,  2.81s/it]llm_judge_ans = 0.2\n",
      "Average Metric: 4.70 / 32 (14.7%):  47%|████▋     | 15/32 [00:33<00:42,  2.48s/it]llm_judge_ans = 0.2\n",
      "Average Metric: 4.90 / 32 (15.3%):  50%|█████     | 16/32 [00:36<00:41,  2.62s/it]llm_judge_ans = 0.8\n",
      "Average Metric: 5.70 / 32 (17.8%):  53%|█████▎    | 17/32 [00:38<00:36,  2.40s/it]llm_judge_ans = 0.0\n",
      "Average Metric: 5.70 / 32 (17.8%):  56%|█████▋    | 18/32 [00:39<00:29,  2.12s/it]llm_judge_ans = 0.0\n",
      "Average Metric: 5.70 / 32 (17.8%):  59%|█████▉    | 19/32 [00:42<00:29,  2.25s/it]llm_judge_ans = 0.2\n",
      "Average Metric: 5.90 / 32 (18.4%):  62%|██████▎   | 20/32 [00:43<00:25,  2.09s/it]llm_judge_ans = 0.2\n",
      "Average Metric: 6.10 / 32 (19.1%):  66%|██████▌   | 21/32 [00:47<00:28,  2.55s/it]llm_judge_ans = 0.5\n",
      "Average Metric: 6.60 / 32 (20.6%):  69%|██████▉   | 22/32 [00:51<00:28,  2.88s/it]llm_judge_ans = 0.1\n",
      "Average Metric: 6.70 / 32 (20.9%):  72%|███████▏  | 23/32 [00:53<00:23,  2.66s/it]llm_judge_ans = 0.2\n",
      "Average Metric: 6.90 / 32 (21.6%):  75%|███████▌  | 24/32 [00:55<00:20,  2.56s/it]llm_judge_ans = 0.2\n",
      "Average Metric: 7.10 / 32 (22.2%):  78%|███████▊  | 25/32 [00:57<00:16,  2.36s/it]llm_judge_ans = 0.2\n",
      "Average Metric: 7.30 / 32 (22.8%):  81%|████████▏ | 26/32 [01:00<00:15,  2.57s/it]llm_judge_ans = 0.8\n",
      "Average Metric: 8.10 / 32 (25.3%):  84%|████████▍ | 27/32 [01:03<00:12,  2.55s/it]llm_judge_ans = 0.0\n",
      "Average Metric: 8.10 / 32 (25.3%):  88%|████████▊ | 28/32 [01:04<00:09,  2.36s/it]llm_judge_ans = 0.2\n",
      "Average Metric: 8.30 / 32 (25.9%):  91%|█████████ | 29/32 [01:06<00:06,  2.16s/it]llm_judge_ans = 0.2\n",
      "Average Metric: 8.50 / 32 (26.6%):  94%|█████████▍| 30/32 [01:08<00:04,  2.14s/it]llm_judge_ans = 1.0\n",
      "Average Metric: 9.50 / 32 (29.7%):  97%|█████████▋| 31/32 [01:10<00:01,  1.89s/it]llm_judge_ans = 0.2\n",
      "Average Metric: 9.70 / 32 (30.3%): 100%|██████████| 32/32 [01:11<00:00,  2.24s/it]"
     ]
    },
    {
     "name": "stderr",
     "output_type": "stream",
     "text": [
      "2025/01/22 03:12:33 INFO dspy.evaluate.evaluate: Average Metric: 9.7 / 32 (30.3%)\n"
     ]
    },
    {
     "name": "stdout",
     "output_type": "stream",
     "text": [
      "\n",
      "------------- Final DSPy Evaluation score :::: 30.31 ---------\n"
     ]
    }
   ],
   "source": [
    "evaluate_llm_judge = Evaluate(devset=generate_dspy_example_dataset(df_rag_sonnet_data), \n",
    "                              metric=metric_LLM_1, \n",
    "                              num_threads=1, \n",
    "                              display_progress=True, \n",
    "                              display_table=0, \n",
    "                              provide_traceback=True)\n",
    "\n",
    "eval_score = evaluate_llm_judge(llm_judge_1, num_threads=1)\n",
    "print(f\"------------- Final DSPy Evaluation score :::: {eval_score} ---------\")"
   ]
  },
  {
   "cell_type": "code",
   "execution_count": null,
   "id": "d496d6b6-0c23-4924-9ff1-b29dc781a69b",
   "metadata": {},
   "outputs": [
    {
     "data": {
      "text/plain": [
       "0.3031"
      ]
     },
     "execution_count": 69,
     "metadata": {},
     "output_type": "execute_result"
    }
   ],
   "source": [
    "rag_sonnet_score_1 = eval_score/100\n",
    "rag_sonnet_score_1"
   ]
  },
  {
   "cell_type": "markdown",
   "id": "db4a1e7e",
   "metadata": {},
   "source": [
    "Evaluation scores for RAG compiled Sonnet results by LLM-judge class"
   ]
  },
  {
   "cell_type": "code",
   "execution_count": null,
   "id": "935028e8",
   "metadata": {},
   "outputs": [
    {
     "name": "stdout",
     "output_type": "stream",
     "text": [
      "0 : 0.1|1 : 1.0|2 : 0.1|3 : 0.1|4 : 0.7|5 : 0.9|6 : 0.9|7 : 0.9|8 : 0.3|9 : 0.5|10 : 0.1|11 : 0.1|12 : 0.9|13 : 1.0|14 : 0.2|15 : 0.8|16 : 0.9|17 : 0.9|18 : 0.8|19 : 0.3|20 : 0.9|21 : 0.4|22 : 0.8|23 : 0.9|24 : 0.9|25 : 0.9|26 : 0.4|27 : 0.1|28 : 0.9|29 : 0.9|30 : 0.9|31 : 0.9|"
     ]
    },
    {
     "data": {
      "text/plain": [
       "0.6375"
      ]
     },
     "execution_count": 70,
     "metadata": {},
     "output_type": "execute_result"
    }
   ],
   "source": [
    "ragc_sonnet_score_1 = get_judge_score_1(df_ragc_sonnet_data)\n",
    "ragc_sonnet_score_1"
   ]
  },
  {
   "cell_type": "markdown",
   "id": "a5d0a7b4",
   "metadata": {},
   "source": [
    "Evaluation scores for RAG compiled Sonnet results by dspy"
   ]
  },
  {
   "cell_type": "code",
   "execution_count": null,
   "id": "7846b646",
   "metadata": {},
   "outputs": [
    {
     "name": "stdout",
     "output_type": "stream",
     "text": [
      "  0%|          | 0/32 [00:00<?, ?it/s]llm_judge_ans = 0.1\n",
      "Average Metric: 0.10 / 32 (0.3%):   3%|▎         | 1/32 [00:02<01:13,  2.38s/it]llm_judge_ans = 1.0\n",
      "Average Metric: 1.10 / 32 (3.4%):   6%|▋         | 2/32 [00:04<00:59,  1.99s/it]llm_judge_ans = 0.1\n",
      "Average Metric: 1.20 / 32 (3.8%):   9%|▉         | 3/32 [00:05<00:49,  1.69s/it]llm_judge_ans = 0.1\n",
      "Average Metric: 1.30 / 32 (4.1%):  12%|█▎        | 4/32 [00:07<00:52,  1.88s/it]llm_judge_ans = 0.7\n",
      "Average Metric: 2.00 / 32 (6.2%):  16%|█▌        | 5/32 [00:10<00:58,  2.16s/it]llm_judge_ans = 0.9\n",
      "Average Metric: 2.90 / 32 (9.1%):  19%|█▉        | 6/32 [00:12<01:00,  2.33s/it]llm_judge_ans = 0.9\n",
      "Average Metric: 3.80 / 32 (11.9%):  22%|██▏       | 7/32 [00:15<00:56,  2.26s/it]llm_judge_ans = 0.9\n",
      "Average Metric: 4.70 / 32 (14.7%):  25%|██▌       | 8/32 [00:17<00:54,  2.29s/it]llm_judge_ans = 0.3\n",
      "Average Metric: 5.00 / 32 (15.6%):  28%|██▊       | 9/32 [00:20<00:56,  2.44s/it]llm_judge_ans = 0.5\n",
      "Average Metric: 5.50 / 32 (17.2%):  31%|███▏      | 10/32 [00:22<00:55,  2.53s/it]llm_judge_ans = 0.1\n",
      "Average Metric: 5.60 / 32 (17.5%):  34%|███▍      | 11/32 [00:25<00:56,  2.68s/it]llm_judge_ans = 0.1\n",
      "Average Metric: 5.70 / 32 (17.8%):  38%|███▊      | 12/32 [00:29<00:57,  2.90s/it]llm_judge_ans = 0.9\n",
      "Average Metric: 6.60 / 32 (20.6%):  41%|████      | 13/32 [00:31<00:48,  2.57s/it]llm_judge_ans = 1.0\n",
      "Average Metric: 7.60 / 32 (23.8%):  44%|████▍     | 14/32 [00:34<00:48,  2.70s/it]llm_judge_ans = 0.2\n",
      "Average Metric: 7.80 / 32 (24.4%):  47%|████▋     | 15/32 [00:36<00:45,  2.70s/it]llm_judge_ans = 0.8\n",
      "Average Metric: 8.60 / 32 (26.9%):  50%|█████     | 16/32 [00:40<00:49,  3.08s/it]llm_judge_ans = 0.9\n",
      "Average Metric: 9.50 / 32 (29.7%):  53%|█████▎    | 17/32 [00:43<00:43,  2.90s/it]llm_judge_ans = 0.9\n",
      "Average Metric: 10.40 / 32 (32.5%):  56%|█████▋    | 18/32 [00:46<00:40,  2.87s/it]llm_judge_ans = 0.8\n",
      "Average Metric: 11.20 / 32 (35.0%):  59%|█████▉    | 19/32 [00:49<00:39,  3.06s/it]llm_judge_ans = 0.3\n",
      "Average Metric: 11.50 / 32 (35.9%):  62%|██████▎   | 20/32 [00:51<00:34,  2.85s/it]llm_judge_ans = 0.9\n",
      "Average Metric: 12.40 / 32 (38.8%):  66%|██████▌   | 21/32 [00:55<00:33,  3.03s/it]llm_judge_ans = 0.4\n",
      "Average Metric: 12.80 / 32 (40.0%):  69%|██████▉   | 22/32 [01:01<00:38,  3.84s/it]llm_judge_ans = 0.8\n",
      "Average Metric: 13.60 / 32 (42.5%):  72%|███████▏  | 23/32 [01:05<00:35,  3.89s/it]llm_judge_ans = 0.9\n",
      "Average Metric: 14.50 / 32 (45.3%):  75%|███████▌  | 24/32 [01:08<00:29,  3.63s/it]llm_judge_ans = 0.9\n",
      "Average Metric: 15.40 / 32 (48.1%):  78%|███████▊  | 25/32 [01:11<00:24,  3.53s/it]llm_judge_ans = 0.9\n",
      "Average Metric: 16.30 / 32 (50.9%):  81%|████████▏ | 26/32 [01:14<00:19,  3.30s/it]llm_judge_ans = 0.4\n",
      "Average Metric: 16.70 / 32 (52.2%):  84%|████████▍ | 27/32 [01:19<00:19,  3.84s/it]llm_judge_ans = 0.1\n",
      "Average Metric: 16.80 / 32 (52.5%):  88%|████████▊ | 28/32 [01:22<00:14,  3.71s/it]llm_judge_ans = 0.9\n",
      "Average Metric: 17.70 / 32 (55.3%):  91%|█████████ | 29/32 [01:25<00:10,  3.58s/it]llm_judge_ans = 0.9\n",
      "Average Metric: 18.60 / 32 (58.1%):  94%|█████████▍| 30/32 [01:30<00:07,  3.75s/it]llm_judge_ans = 0.9\n",
      "Average Metric: 19.50 / 32 (60.9%):  97%|█████████▋| 31/32 [01:32<00:03,  3.46s/it]llm_judge_ans = 0.9\n",
      "Average Metric: 20.40 / 32 (63.7%): 100%|██████████| 32/32 [01:35<00:00,  2.99s/it]"
     ]
    },
    {
     "name": "stderr",
     "output_type": "stream",
     "text": [
      "2025/01/22 03:14:44 INFO dspy.evaluate.evaluate: Average Metric: 20.4 / 32 (63.7%)\n"
     ]
    },
    {
     "name": "stdout",
     "output_type": "stream",
     "text": [
      "\n",
      "------------- Final DSPy Evaluation score :::: 63.75 ---------\n"
     ]
    }
   ],
   "source": [
    "evaluate_llm_judge = Evaluate(devset=generate_dspy_example_dataset(df_ragc_sonnet_data), \n",
    "                              metric=metric_LLM_1, \n",
    "                              num_threads=1, \n",
    "                              display_progress=True, \n",
    "                              display_table=0, \n",
    "                              provide_traceback=True)\n",
    "\n",
    "eval_score = evaluate_llm_judge(llm_judge_1, num_threads=1)\n",
    "print(f\"------------- Final DSPy Evaluation score :::: {eval_score} ---------\")"
   ]
  },
  {
   "cell_type": "code",
   "execution_count": null,
   "id": "76cdefe6-f938-400c-8a1e-cff14807ad49",
   "metadata": {},
   "outputs": [
    {
     "data": {
      "text/plain": [
       "0.6375"
      ]
     },
     "execution_count": 72,
     "metadata": {},
     "output_type": "execute_result"
    }
   ],
   "source": [
    "ragc_sonnet_score_1 = eval_score/100\n",
    "ragc_sonnet_score_1"
   ]
  },
  {
   "cell_type": "markdown",
   "id": "7b9f9c3b",
   "metadata": {},
   "source": [
    "### Benchmarking the performance across RAG with foundation models and fine-tuned models "
   ]
  },
  {
   "cell_type": "code",
   "execution_count": null,
   "id": "be3660bd",
   "metadata": {},
   "outputs": [
    {
     "data": {
      "image/png": "[encoded data removed]",
      "text/plain": [
       "<Figure size 1000x500 with 1 Axes>"
      ]
     },
     "metadata": {},
     "output_type": "display_data"
    }
   ],
   "source": [
    "train_class_type = ['RAG_Haiku','RAG_Haiku_Compiled','SFT(Llama3-8B)','DPO(Llama3-8B)','ORPO(Llama3-8B)']\n",
    "train_class_count = [rag_haiku_score_1,ragc_haiku_score_1,sft_score_1,dpo_score_1,orpo_score_1,]\n",
    "\n",
    "fig = plt.figure(figsize = (10, 5))\n",
    "\n",
    "# creating the bar plot\n",
    "plt.bar(train_class_type, train_class_count, color ='green', width = 0.4)\n",
    "\n",
    "plt.xlabel(\"\")\n",
    "plt.ylabel(\"Accuracy\")\n",
    "plt.title(\"Accuracy by LLM-as-a-judge (Score 0~1)\")\n",
    "plt.show()"
   ]
  },
  {
   "cell_type": "code",
   "execution_count": null,
   "id": "13794f37",
   "metadata": {},
   "outputs": [],
   "source": []
  }
 ],
 "metadata": {
  "kernelspec": {
   "display_name": "conda_pytorch_p310",
   "language": "python",
   "name": "conda_pytorch_p310"
  },
  "language_info": {
   "codemirror_mode": {
    "name": "ipython",
    "version": 3
   },
   "file_extension": ".py",
   "mimetype": "text/x-python",
   "name": "python",
   "nbconvert_exporter": "python",
   "pygments_lexer": "ipython3",
   "version": "3.10.14"
  }
 },
 "nbformat": 4,
 "nbformat_minor": 5
}
