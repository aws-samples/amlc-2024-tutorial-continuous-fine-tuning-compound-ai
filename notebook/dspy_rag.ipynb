{
 "cells": [
  {
   "cell_type": "markdown",
   "id": "5b5e70f0",
   "metadata": {},
   "source": [
    "# RAG and prompt automation in dspy\n",
    "\n",
    "In this notebook, we implement RAG pipeline and RAG compiled with prompt automation with DSPy on Amazon Bedrock. \n",
    "\n",
    "We use following models in the notebook. \n",
    "- claude-3-sonnet\n",
    "- claude-3-haiku\"\n",
    "- titan-embed-text-v2\n",
    "- mistral.mistral-7b-instruct\n",
    "- llama3-8b-instruct\n",
    "\n",
    "Acquire [access to models hosted on Amazon Bedrock](https://docs.aws.amazon.com/bedrock/latest/userguide/model-access.html). Choose “Manage model access” in the navigation pane on the Amazon Bedrock console and choose from the list of available options. \n",
    "\n",
    "You can select 'us-west-2' region to run this notebook. "
   ]
  },
  {
   "cell_type": "markdown",
   "id": "13ecaec9-7ea9-4267-bdc7-009f7f7c41c1",
   "metadata": {},
   "source": [
    "### Environment Setup"
   ]
  },
  {
   "cell_type": "markdown",
   "id": "8af62fea",
   "metadata": {},
   "source": [
    "Uncomment the following lines if the packages are not installed "
   ]
  },
  {
   "cell_type": "code",
   "execution_count": 1,
   "id": "15443e45-c466-4fea-8678-867bbfcd2119",
   "metadata": {
    "tags": []
   },
   "outputs": [],
   "source": [
    "%%capture\n",
    "!pip3 install langchain\n",
    "!pip3 install -U langchain-community\n",
    "!pip3 install pypdf\n",
    "!pip3 install chromadb\n",
    "!pip3 install dspy\n",
    "!pip3 install dspy-ai[faiss-cpu]"
   ]
  },
  {
   "cell_type": "code",
   "execution_count": 2,
   "id": "af8dc840",
   "metadata": {},
   "outputs": [
    {
     "name": "stderr",
     "output_type": "stream",
     "text": [
      "Matplotlib is building the font cache; this may take a moment.\n"
     ]
    }
   ],
   "source": [
    "import json, os, sys\n",
    "import io, base64\n",
    "import pandas as pd\n",
    "import pathlib\n",
    "from PIL import Image as PILImage\n",
    "import unicodedata\n",
    "from IPython.display import Markdown\n",
    "import boto3\n",
    "import dspy\n",
    "from dspy.teleprompt import BootstrapFewShot\n",
    "import pandas as pd\n",
    "import logging\n",
    "import json, os, shutil\n",
    "import boto3, re, os, shutil\n",
    "import matplotlib.pyplot as plt\n",
    "    "
   ]
  },
  {
   "cell_type": "markdown",
   "id": "628e13c8",
   "metadata": {},
   "source": [
    "Environment setup : clean up temporary trace files and data files , set up loggers, bedrock session"
   ]
  },
  {
   "cell_type": "code",
   "execution_count": 3,
   "id": "a18d1d05-82aa-48ab-9b5c-4aa987e3095b",
   "metadata": {
    "tags": []
   },
   "outputs": [],
   "source": [
    "def clean_up_files_in_dir(dir):\n",
    "    # cleanup trace files to avoid issues\n",
    "    if os.path.isdir(dir):\n",
    "        shutil.rmtree(dir)\n",
    "    os.mkdir(dir)"
   ]
  },
  {
   "cell_type": "code",
   "execution_count": 4,
   "id": "8334784d-36c6-4735-b7b6-bf2e9fed7d13",
   "metadata": {
    "tags": []
   },
   "outputs": [],
   "source": [
    "clean_up_files_in_dir('./cuad_db')\n",
    "clean_up_files_in_dir('./trace_files')"
   ]
  },
  {
   "cell_type": "code",
   "execution_count": 5,
   "id": "94d3123f-3994-4cb5-8fd3-9420d85e59b5",
   "metadata": {},
   "outputs": [],
   "source": [
    "# setting logging\n",
    "logging.basicConfig(filename='lab2_trace.log', \n",
    "                    filemode='a', \n",
    "                    encoding='utf-8',\n",
    "                    format='[%(asctime)s] p%(process)s {%(filename)s:%(lineno)d} %(levelname)s - %(message)s', \n",
    "                    level=logging.INFO)"
   ]
  },
  {
   "cell_type": "code",
   "execution_count": 6,
   "id": "91d0d213",
   "metadata": {},
   "outputs": [
    {
     "name": "stdout",
     "output_type": "stream",
     "text": [
      "us-west-2\n"
     ]
    }
   ],
   "source": [
    "boto_session = boto3.session.Session()\n",
    "region_name = boto_session.region_name\n",
    "print(region_name)\n",
    "\n",
    "session = boto3.Session()\n",
    "\n",
    "bedrock = session.client(\"bedrock\", region_name=region_name)\n",
    "br = session.client(\"bedrock-runtime\", region_name=region_name)\n",
    "\n"
   ]
  },
  {
   "cell_type": "markdown",
   "id": "8bd73fc2-12d9-4cb8-9ec6-97f2cbbc1af7",
   "metadata": {},
   "source": [
    "### DSPy Language Model and Retriever Model configuration"
   ]
  },
  {
   "cell_type": "code",
   "execution_count": 7,
   "id": "aef97f75",
   "metadata": {},
   "outputs": [],
   "source": [
    "claude_sonnet_model_id = \"anthropic.claude-3-sonnet-20240229-v1:0\"\n",
    "clade_haiku_model_id = \"anthropic.claude-3-haiku-20240307-v1:0\"\n",
    "titan_embed_model_id = \"amazon.titan-embed-text-v2:0\"\n",
    "mistral_7b_model_id = \"mistral.mistral-7b-instruct-v0:2\"\n",
    "llama_8b_model_id = \"meta.llama3-8b-instruct-v1:0\""
   ]
  },
  {
   "cell_type": "markdown",
   "id": "cba5b60c-ae34-4f62-9fdc-17fa894cb90a",
   "metadata": {},
   "source": [
    "##### DSPy Initialization requires you to explicitly set the reion"
   ]
  },
  {
   "cell_type": "code",
   "execution_count": 8,
   "id": "1c10beaa",
   "metadata": {},
   "outputs": [],
   "source": [
    "dsp_bedrock = dspy.Bedrock(region_name=region_name)\n",
    "\n",
    "bedrock_sonnet = dspy.AWSAnthropic(aws_provider=dsp_bedrock,\n",
    "                                  model=claude_sonnet_model_id,\n",
    "                                  max_new_tokens=4096,\n",
    "                                  max_tokens=4096)\n",
    "\n",
    "bedrock_mistral_7b = dspy.AWSMistral(aws_provider=dsp_bedrock,\n",
    "                                 model=mistral_7b_model_id,\n",
    "                                 max_new_tokens=4096,\n",
    "                                 max_tokens=4096)\n",
    "\n",
    "bedrock_haiku = dspy.AWSAnthropic(aws_provider=dsp_bedrock,\n",
    "                                 model=clade_haiku_model_id,\n",
    "                                 max_new_tokens=4096,\n",
    "                                 max_tokens=4096)\n",
    "\n",
    "bedrock_llama_8b = dspy.AWSMeta(aws_provider=dsp_bedrock, \n",
    "                                model=llama_8b_model_id,\n",
    "                                max_new_tokens=2048,\n",
    "                                max_tokens=2048)"
   ]
  },
  {
   "cell_type": "markdown",
   "id": "8d8a8a09-38b0-4afb-97f9-bf2f43295d4e",
   "metadata": {},
   "source": [
    "### Splitters and chunking configuration    \n",
    "\n",
    "We will be using the RecursiveCharacterTextSplitter to generate logical and syntactically readable chunks. The size and overlap percentage can be empirically determined based on the dataset. For more flexibility it is possible to generate multiple files from the dataset file and make 1 file 1 chunk."
   ]
  },
  {
   "cell_type": "code",
   "execution_count": 9,
   "id": "81f46be9",
   "metadata": {},
   "outputs": [],
   "source": [
    "from langchain.document_loaders import PyPDFLoader, PyPDFDirectoryLoader, CSVLoader\n",
    "from langchain.text_splitter import CharacterTextSplitter, RecursiveCharacterTextSplitter\n",
    "\n",
    "# Load documents \n",
    "loader = PyPDFLoader(\"../cuad_data/ENERGOUSCORP_03_16_2017-EX-10.24-STRATEGIC ALLIANCE AGREEMENT.PDF\")\n",
    "documents = loader.load()\n",
    "\n",
    "# Split documents by setting chunk size\n",
    "text_splitter = RecursiveCharacterTextSplitter(\n",
    "    separators=[\n",
    "        \"\\n\\n\",\n",
    "        \"\\n\",\n",
    "        \" \",\n",
    "        \".\",\n",
    "        \",\",\n",
    "        \"\\u200b\",  # Zero-width space\n",
    "        \"\\uff0c\",  # Fullwidth comma\n",
    "        \"\\u3001\",  # Ideographic comma\n",
    "        \"\\uff0e\",  # Fullwidth full stop\n",
    "        \"\\u3002\",  # Ideographic full stop\n",
    "        \"\",\n",
    "    ],\n",
    "    chunk_size = 5000,      \n",
    "    chunk_overlap = 30, \n",
    "    length_function=len,\n",
    ")\n",
    "\n",
    "docs = text_splitter.split_documents(documents)"
   ]
  },
  {
   "cell_type": "markdown",
   "id": "4fd6567a-39ae-4460-9a22-fc9a56152acc",
   "metadata": {
    "tags": []
   },
   "source": [
    "### Clean and remove any empty pages in the PDF"
   ]
  },
  {
   "cell_type": "code",
   "execution_count": 10,
   "id": "7b0bc88d-95e4-472a-a554-34ac23914928",
   "metadata": {
    "tags": []
   },
   "outputs": [
    {
     "name": "stdout",
     "output_type": "stream",
     "text": [
      "32\n",
      "32\n"
     ]
    }
   ],
   "source": [
    "print(len(docs))\n",
    "clean_docs = []\n",
    "for doc in docs:\n",
    "    if len(doc.page_content):\n",
    "        clean_docs.append(doc)\n",
    "\n",
    "docs = clean_docs\n",
    "print(len(docs))"
   ]
  },
  {
   "cell_type": "markdown",
   "id": "667df598-ff47-49b9-9b4f-523eb83f288c",
   "metadata": {},
   "source": [
    "### Setup Retriever on local disk using ChromaDB    \n",
    "\n",
    "We are using chromaDB to demonstrate the use of vector databases. "
   ]
  },
  {
   "cell_type": "code",
   "execution_count": 12,
   "id": "407e2e3c",
   "metadata": {},
   "outputs": [],
   "source": [
    "import chromadb\n",
    "from chromadb.utils import embedding_functions\n",
    "from chromadb.utils.embedding_functions import AmazonBedrockEmbeddingFunction\n",
    "\n",
    "bedrock_ef = AmazonBedrockEmbeddingFunction(session=session, model_name=titan_embed_model_id)\n",
    "\n",
    "bedrock_embeddings = bedrock_ef([doc.page_content for doc in docs])"
   ]
  },
  {
   "cell_type": "code",
   "execution_count": 13,
   "id": "fbfca2c8",
   "metadata": {},
   "outputs": [],
   "source": [
    "from dspy.retrieve.chromadb_rm import ChromadbRM\n",
    "\n",
    "collection_name=\"contexts\"\n",
    "persist_dir=\"cuad_db/\"\n",
    "\n",
    "chroma_client = chromadb.PersistentClient(persist_dir)\n",
    "collection = chroma_client.get_or_create_collection(name=collection_name)\n",
    "\n",
    "if collection.count() == 0:\n",
    "    collection.add(embeddings=bedrock_embeddings,\n",
    "                   documents=[doc.page_content for doc in docs],\n",
    "                   ids=[str(i) for i in range(len(docs))])"
   ]
  },
  {
   "cell_type": "code",
   "execution_count": 14,
   "id": "f559d169",
   "metadata": {},
   "outputs": [],
   "source": [
    "rm = ChromadbRM(collection_name=collection_name, \n",
    "                persist_directory=persist_dir, \n",
    "                embedding_function=bedrock_ef,\n",
    "                k=3)"
   ]
  },
  {
   "cell_type": "markdown",
   "id": "e8a7249f-d8c2-4afd-8c3e-06767c7c254c",
   "metadata": {},
   "source": [
    "### Dataset setup in DSPy"
   ]
  },
  {
   "cell_type": "markdown",
   "id": "4aa7e2ab",
   "metadata": {},
   "source": [
    "\n",
    "Contract Understanding Atticus Dataset (CUAD) is a dataset for legal contract review. CUAD was created with dozens of legal experts from The Atticus Project and consists of over 13,000 annotations.\n"
   ]
  },
  {
   "cell_type": "code",
   "execution_count": 15,
   "id": "8d932a99",
   "metadata": {},
   "outputs": [
    {
     "data": {
      "text/html": [
       "<div>\n",
       "<style scoped>\n",
       "    .dataframe tbody tr th:only-of-type {\n",
       "        vertical-align: middle;\n",
       "    }\n",
       "\n",
       "    .dataframe tbody tr th {\n",
       "        vertical-align: top;\n",
       "    }\n",
       "\n",
       "    .dataframe thead th {\n",
       "        text-align: right;\n",
       "    }\n",
       "</style>\n",
       "<table border=\"1\" class=\"dataframe\">\n",
       "  <thead>\n",
       "    <tr style=\"text-align: right;\">\n",
       "      <th></th>\n",
       "      <th>index</th>\n",
       "      <th>question</th>\n",
       "      <th>input</th>\n",
       "      <th>answer</th>\n",
       "      <th>qa_id</th>\n",
       "    </tr>\n",
       "  </thead>\n",
       "  <tbody>\n",
       "    <tr>\n",
       "      <th>0</th>\n",
       "      <td>0</td>\n",
       "      <td>What is The name of the contract?</td>\n",
       "      <td>Highlight the parts (if any) of this contract ...</td>\n",
       "      <td>STRATEGIC ALLIANCE AGREEMENT</td>\n",
       "      <td>ENERGOUSCORP_03_16_2017-EX-10.24-STRATEGIC ALL...</td>\n",
       "    </tr>\n",
       "    <tr>\n",
       "      <th>1</th>\n",
       "      <td>1</td>\n",
       "      <td>What is The two or more parties who signed the...</td>\n",
       "      <td>Highlight the parts (if any) of this contract ...</td>\n",
       "      <td>Dialog Semiconductor (UK) Ltd., DIALOG, Energo...</td>\n",
       "      <td>ENERGOUSCORP_03_16_2017-EX-10.24-STRATEGIC ALL...</td>\n",
       "    </tr>\n",
       "    <tr>\n",
       "      <th>2</th>\n",
       "      <td>2</td>\n",
       "      <td>What is The date of the contract?</td>\n",
       "      <td>Highlight the parts (if any) of this contract ...</td>\n",
       "      <td>November 6, 2016</td>\n",
       "      <td>ENERGOUSCORP_03_16_2017-EX-10.24-STRATEGIC ALL...</td>\n",
       "    </tr>\n",
       "    <tr>\n",
       "      <th>3</th>\n",
       "      <td>3</td>\n",
       "      <td>What is The date when the contract is effective?</td>\n",
       "      <td>Highlight the parts (if any) of this contract ...</td>\n",
       "      <td>November 6, 2016</td>\n",
       "      <td>ENERGOUSCORP_03_16_2017-EX-10.24-STRATEGIC ALL...</td>\n",
       "    </tr>\n",
       "    <tr>\n",
       "      <th>4</th>\n",
       "      <td>4</td>\n",
       "      <td>On what date will the contract's initial term ...</td>\n",
       "      <td>Highlight the parts (if any) of this contract ...</td>\n",
       "      <td>Unless earlier terminated as provided herein, ...</td>\n",
       "      <td>ENERGOUSCORP_03_16_2017-EX-10.24-STRATEGIC ALL...</td>\n",
       "    </tr>\n",
       "  </tbody>\n",
       "</table>\n",
       "</div>"
      ],
      "text/plain": [
       "   index                                           question  \\\n",
       "0      0                  What is The name of the contract?   \n",
       "1      1  What is The two or more parties who signed the...   \n",
       "2      2                  What is The date of the contract?   \n",
       "3      3   What is The date when the contract is effective?   \n",
       "4      4  On what date will the contract's initial term ...   \n",
       "\n",
       "                                               input  \\\n",
       "0  Highlight the parts (if any) of this contract ...   \n",
       "1  Highlight the parts (if any) of this contract ...   \n",
       "2  Highlight the parts (if any) of this contract ...   \n",
       "3  Highlight the parts (if any) of this contract ...   \n",
       "4  Highlight the parts (if any) of this contract ...   \n",
       "\n",
       "                                              answer  \\\n",
       "0                       STRATEGIC ALLIANCE AGREEMENT   \n",
       "1  Dialog Semiconductor (UK) Ltd., DIALOG, Energo...   \n",
       "2                                   November 6, 2016   \n",
       "3                                   November 6, 2016   \n",
       "4  Unless earlier terminated as provided herein, ...   \n",
       "\n",
       "                                               qa_id  \n",
       "0  ENERGOUSCORP_03_16_2017-EX-10.24-STRATEGIC ALL...  \n",
       "1  ENERGOUSCORP_03_16_2017-EX-10.24-STRATEGIC ALL...  \n",
       "2  ENERGOUSCORP_03_16_2017-EX-10.24-STRATEGIC ALL...  \n",
       "3  ENERGOUSCORP_03_16_2017-EX-10.24-STRATEGIC ALL...  \n",
       "4  ENERGOUSCORP_03_16_2017-EX-10.24-STRATEGIC ALL...  "
      ]
     },
     "execution_count": 15,
     "metadata": {},
     "output_type": "execute_result"
    }
   ],
   "source": [
    "TRN_FILE = '../cuad_data/ENERGOUSCORP_qa.csv'\n",
    "df_cuad_data = pd.read_csv(TRN_FILE)\n",
    "df_cuad_data.head()\n"
   ]
  },
  {
   "cell_type": "code",
   "execution_count": 16,
   "id": "175a1055",
   "metadata": {},
   "outputs": [],
   "source": [
    "dataset_cuad = []\n",
    "\n",
    "for index, question, input, answer, qa_id in df_cuad_data.values:\n",
    "    dataset_cuad.append(dspy.Example(question=question, answer=answer).with_inputs(\"question\"))\n",
    "\n",
    "trainset = [x.with_inputs('question') for x in dataset_cuad[0:28]]\n",
    "devset = [x.with_inputs('question') for x in dataset_cuad[28:32]]"
   ]
  },
  {
   "cell_type": "markdown",
   "id": "8f116218-8301-4274-8186-c223184ba862",
   "metadata": {},
   "source": [
    "### Factuality Judge and Metrics setup (LLM as a judge)"
   ]
  },
  {
   "cell_type": "markdown",
   "id": "4004b00d",
   "metadata": {},
   "source": [
    "We will now create a Factuality Judge that will adjudicate if the predicted answer factually correct to the groundtruth answer and means the same as the groundtruth answer.\n",
    "\n",
    "A new factuality metric is created to mark whether the predicted answer is True or not."
   ]
  },
  {
   "cell_type": "code",
   "execution_count": 17,
   "id": "624ed66e-31f0-4efc-a4ea-34d65f2c226d",
   "metadata": {},
   "outputs": [],
   "source": [
    "class FactJudge(dspy.Signature):\n",
    "    \"\"\"Judge if the predicted answer factually correct to the groundtruth answer and same as groundtruth answer. Answer either Factual[True] or Factual[False]\"\"\"\n",
    "\n",
    "    question = dspy.InputField(desc=\"Question to be answered\")\n",
    "    groundtruth_answer = dspy.InputField(desc=\"groundtruth answer for the question\")\n",
    "    predicted_answer = dspy.InputField(desc=\"predicted answer for the question\")\n",
    "    factually_correct = dspy.OutputField(desc=\"Is the predicted answer factually correct to the groundtruth answer and same as groundtruth answer ?\", prefix=\"Factual[True/False]:\")\n",
    "\n",
    "\n",
    "judge = dspy.ChainOfThought(FactJudge)\n",
    "\n",
    "\n",
    "def factuality_metric(example, pred):\n",
    "    factual = judge(question=example.question, groundtruth_answer=example.answer, predicted_answer=pred.answer) #context=pred.context, \n",
    "    #logging.info(f\"\\n factual LLM judge {factual}\")\n",
    "    #logging.info(f\"\\n example.answer {example.answer}\")\n",
    "    #logging.info(f\"\\n pred.answer {pred.answer}\")\n",
    "    llm_judge_ans = bool(\"Factual[True]\" in factual.factually_correct \n",
    "                         or '100% True' in factual.factually_correct\n",
    "                         or '100% factually correct' in factual.factually_correct\n",
    "                         or factual.factually_correct=='True') #or \"correct\" in factual.factually_correct.lower()\n",
    "    print(f\"llm_judge_ans = {llm_judge_ans}\")\n",
    "    logging.info(f\"llm_judge_ans = {llm_judge_ans}\")\n",
    "    return llm_judge_ans"
   ]
  },
  {
   "cell_type": "markdown",
   "id": "12c9162c-171a-43ca-8ac5-3ac9f934464e",
   "metadata": {},
   "source": [
    "### LLM as a judge evaluation"
   ]
  },
  {
   "cell_type": "markdown",
   "id": "fcea61d2",
   "metadata": {},
   "source": [
    "Let us setup the metric, dataset and RAG pipeline with input and output fields. Then we customize how to validate where we can combine multiple metrics to come up with the final output. "
   ]
  },
  {
   "cell_type": "code",
   "execution_count": 18,
   "id": "160bac99",
   "metadata": {},
   "outputs": [],
   "source": [
    "from dspy.evaluate import Evaluate\n",
    "\n",
    "# Evaluation\n",
    "metric_LLM = factuality_metric\n",
    "\n",
    "evaluate_cuad = Evaluate(devset=dataset_cuad, metric=metric_LLM, num_threads=1, display_progress=True, display_table=0)"
   ]
  },
  {
   "cell_type": "markdown",
   "id": "6ed47f29",
   "metadata": {},
   "source": [
    "### Setup RAG pipeline"
   ]
  },
  {
   "cell_type": "code",
   "execution_count": 19,
   "id": "354c2fbd",
   "metadata": {},
   "outputs": [],
   "source": [
    "# RAG pipeline\n",
    "\n",
    "class GenerateAnswer(dspy.Signature):\n",
    "    \"\"\"Answer questions with short factoid answers.\"\"\"\n",
    "\n",
    "    context = dspy.InputField(desc=\"may contain relevant facts\")\n",
    "    question = dspy.InputField()\n",
    "    answer = dspy.OutputField(desc=\"often between 1 and 5 words\")"
   ]
  },
  {
   "cell_type": "code",
   "execution_count": 20,
   "id": "4067df55",
   "metadata": {},
   "outputs": [],
   "source": [
    "class RAG(dspy.Module):\n",
    "    def __init__(self, num_passages=3):\n",
    "        super().__init__()\n",
    "        self.retrieve = dspy.Retrieve(k=num_passages)\n",
    "        #self.retrieve = ChromadbRM(\"contexts\", \"./chroma\", k=num_passages)\n",
    "        self.generate_answer = dspy.ChainOfThought(GenerateAnswer)\n",
    "    \n",
    "    def forward(self, question):\n",
    "        #context = self.retrieve(question).passages\n",
    "        context = [unicodedata.normalize(\"NFKD\", r) for r in self.retrieve(question).passages]\n",
    "        prediction = self.generate_answer(context=context, question=question)\n",
    "        return dspy.Prediction(context=context, answer=prediction.answer)"
   ]
  },
  {
   "cell_type": "code",
   "execution_count": 21,
   "id": "d63ea122-1bfd-4a26-910c-22b6607ae31a",
   "metadata": {
    "tags": []
   },
   "outputs": [],
   "source": [
    "def validate_context_and_answer(example, pred, trace=None):\n",
    "        answer_EM = dspy.evaluate.answer_exact_match(example, pred)\n",
    "        answer_PM = dspy.evaluate.answer_passage_match(example, pred)\n",
    "        answer_LLMJudge = factuality_metric(example, pred)\n",
    "\n",
    "        logging.info(f\"\\n example question :: {example.question} , example answer :: {example.answer} \")\n",
    "        logging.info(f\"\\n pred answer :: {pred.answer}\")\n",
    "        logging.info(f\"\\n answer_EM :: {answer_EM}, answer_PM ::{answer_PM} answer_LLMJudge :: {answer_LLMJudge}\")\n",
    "        return answer_LLMJudge or answer_EM or answer_PM\n"
   ]
  },
  {
   "cell_type": "markdown",
   "id": "5d102b8e-e386-488a-8408-8c30721b95fa",
   "metadata": {},
   "source": [
    "### Raw Model Evaluation and Compiled Model Evaluation"
   ]
  },
  {
   "cell_type": "markdown",
   "id": "861ffdb4",
   "metadata": {},
   "source": [
    "We will compare the performance against the raw and compiled DSPy network in this section with different model families and sub-types. Here we try out Haiku, Sonnet and Mistral 7B. This will take some time to run."
   ]
  },
  {
   "cell_type": "code",
   "execution_count": 22,
   "id": "e0fbc18b-d79c-445f-839d-92edbb20f8a6",
   "metadata": {
    "tags": []
   },
   "outputs": [],
   "source": [
    "def generate_csv(rag_lm, model_id):\n",
    "    # Loop and generate CSV\n",
    "\n",
    "    csv_list = list()\n",
    "    for index, question, input, answer, qa_id in df_cuad_data.values:\n",
    "        # Get the prediction. This contains `pred.context` and `pred.answer`.\n",
    "        pred = rag_lm(question)\n",
    "        csv_list.append([question, answer, pred.answer])\n",
    "\n",
    "    df = pd.DataFrame(csv_list, columns=['question', 'gt_answer', 'pred_answer'])\n",
    "    df.to_csv(f\"RAG_{model_id}.csv\", header=True)"
   ]
  },
  {
   "cell_type": "code",
   "execution_count": null,
   "id": "de27f40b",
   "metadata": {},
   "outputs": [
    {
     "name": "stdout",
     "output_type": "stream",
     "text": [
      "START OF model_id = anthropic.claude-3-haiku-20240307-v1:0 --------------->\n",
      "  0%|          | 0/32 [00:00<?, ?it/s]"
     ]
    },
    {
     "name": "stderr",
     "output_type": "stream",
     "text": [
      "\t*** In DSPy 2.5, all LM clients except `dspy.LM` are deprecated, underperform, and are about to be deleted. ***\n",
      " \t\tYou are using the client AWSAnthropic, which will be removed in DSPy 2.6.\n",
      " \t\tChanging the client is straightforward and will let you use new features (Adapters) that improve the consistency of LM outputs, especially when using chat LMs. \n",
      "\n",
      " \t\tLearn more about the changes and how to migrate at\n",
      " \t\thttps://github.com/stanfordnlp/dspy/blob/main/examples/migration.ipynb\n"
     ]
    },
    {
     "name": "stdout",
     "output_type": "stream",
     "text": [
      "llm_judge_ans = False\n",
      "  0%|          | 0/32 [00:03<?, ?it/s]"
     ]
    },
    {
     "name": "stderr",
     "output_type": "stream",
     "text": [
      "llm_judge_ans = False\n"
     ]
    },
    {
     "name": "stdout",
     "output_type": "stream",
     "text": [
      "Average Metric: 0.00 / 32 (0.0%):   3%|▎         | 1/32 [00:03<01:49,  3.52s/it]llm_judge_ans = False\n",
      "Average Metric: 0.00 / 32 (0.0%):   3%|▎         | 1/32 [00:07<01:49,  3.52s/it]"
     ]
    },
    {
     "name": "stderr",
     "output_type": "stream",
     "text": [
      "llm_judge_ans = False\n"
     ]
    },
    {
     "name": "stdout",
     "output_type": "stream",
     "text": [
      "Average Metric: 0.00 / 32 (0.0%):   6%|▋         | 2/32 [00:07<01:46,  3.56s/it]llm_judge_ans = False\n",
      "Average Metric: 0.00 / 32 (0.0%):   6%|▋         | 2/32 [00:10<01:46,  3.56s/it]"
     ]
    },
    {
     "name": "stderr",
     "output_type": "stream",
     "text": [
      "llm_judge_ans = False\n"
     ]
    },
    {
     "name": "stdout",
     "output_type": "stream",
     "text": [
      "Average Metric: 0.00 / 32 (0.0%):   9%|▉         | 3/32 [00:10<01:45,  3.64s/it]llm_judge_ans = False\n",
      "Average Metric: 0.00 / 32 (0.0%):   9%|▉         | 3/32 [00:14<01:45,  3.64s/it]"
     ]
    },
    {
     "name": "stderr",
     "output_type": "stream",
     "text": [
      "llm_judge_ans = False\n"
     ]
    },
    {
     "name": "stdout",
     "output_type": "stream",
     "text": [
      "Average Metric: 0.00 / 32 (0.0%):  12%|█▎        | 4/32 [00:14<01:45,  3.75s/it]llm_judge_ans = False\n",
      "Average Metric: 0.00 / 32 (0.0%):  12%|█▎        | 4/32 [00:18<01:45,  3.75s/it]"
     ]
    },
    {
     "name": "stderr",
     "output_type": "stream",
     "text": [
      "llm_judge_ans = False\n"
     ]
    },
    {
     "name": "stdout",
     "output_type": "stream",
     "text": [
      "Average Metric: 0.00 / 32 (0.0%):  16%|█▌        | 5/32 [00:18<01:40,  3.73s/it]llm_judge_ans = True\n",
      "Average Metric: 0.00 / 32 (0.0%):  16%|█▌        | 5/32 [00:22<01:40,  3.73s/it]"
     ]
    },
    {
     "name": "stderr",
     "output_type": "stream",
     "text": [
      "llm_judge_ans = True\n"
     ]
    },
    {
     "name": "stdout",
     "output_type": "stream",
     "text": [
      "Average Metric: 1.00 / 32 (3.1%):  19%|█▉        | 6/32 [00:23<01:44,  4.01s/it]llm_judge_ans = True\n",
      "Average Metric: 1.00 / 32 (3.1%):  19%|█▉        | 6/32 [00:26<01:44,  4.01s/it]"
     ]
    },
    {
     "name": "stderr",
     "output_type": "stream",
     "text": [
      "llm_judge_ans = True\n"
     ]
    },
    {
     "name": "stdout",
     "output_type": "stream",
     "text": [
      "Average Metric: 2.00 / 32 (6.2%):  22%|██▏       | 7/32 [00:26<01:36,  3.85s/it]llm_judge_ans = True\n",
      "Average Metric: 2.00 / 32 (6.2%):  22%|██▏       | 7/32 [00:29<01:36,  3.85s/it]"
     ]
    },
    {
     "name": "stderr",
     "output_type": "stream",
     "text": [
      "llm_judge_ans = True\n"
     ]
    },
    {
     "name": "stdout",
     "output_type": "stream",
     "text": [
      "Average Metric: 3.00 / 32 (9.4%):  25%|██▌       | 8/32 [00:29<01:28,  3.69s/it]llm_judge_ans = True\n",
      "Average Metric: 3.00 / 32 (9.4%):  25%|██▌       | 8/32 [00:35<01:28,  3.69s/it]"
     ]
    },
    {
     "name": "stderr",
     "output_type": "stream",
     "text": [
      "llm_judge_ans = True\n"
     ]
    },
    {
     "name": "stdout",
     "output_type": "stream",
     "text": [
      "Average Metric: 4.00 / 32 (12.5%):  28%|██▊       | 9/32 [00:35<01:36,  4.19s/it]llm_judge_ans = True\n",
      "Average Metric: 4.00 / 32 (12.5%):  28%|██▊       | 9/32 [00:39<01:36,  4.19s/it]"
     ]
    },
    {
     "name": "stderr",
     "output_type": "stream",
     "text": [
      "llm_judge_ans = True\n"
     ]
    },
    {
     "name": "stdout",
     "output_type": "stream",
     "text": [
      "Average Metric: 5.00 / 32 (15.6%):  31%|███▏      | 10/32 [00:39<01:32,  4.23s/it]llm_judge_ans = False\n",
      "Average Metric: 5.00 / 32 (15.6%):  31%|███▏      | 10/32 [00:43<01:32,  4.23s/it]"
     ]
    },
    {
     "name": "stderr",
     "output_type": "stream",
     "text": [
      "llm_judge_ans = False\n"
     ]
    },
    {
     "name": "stdout",
     "output_type": "stream",
     "text": [
      "Average Metric: 5.00 / 32 (15.6%):  34%|███▍      | 11/32 [00:43<01:29,  4.25s/it]llm_judge_ans = True\n",
      "Average Metric: 5.00 / 32 (15.6%):  34%|███▍      | 11/32 [00:47<01:29,  4.25s/it]"
     ]
    },
    {
     "name": "stderr",
     "output_type": "stream",
     "text": [
      "llm_judge_ans = True\n"
     ]
    },
    {
     "name": "stdout",
     "output_type": "stream",
     "text": [
      "Average Metric: 6.00 / 32 (18.8%):  38%|███▊      | 12/32 [00:47<01:21,  4.05s/it]llm_judge_ans = True\n",
      "Average Metric: 6.00 / 32 (18.8%):  38%|███▊      | 12/32 [00:51<01:21,  4.05s/it]"
     ]
    },
    {
     "name": "stderr",
     "output_type": "stream",
     "text": [
      "llm_judge_ans = True\n"
     ]
    },
    {
     "name": "stdout",
     "output_type": "stream",
     "text": [
      "Average Metric: 7.00 / 32 (21.9%):  41%|████      | 13/32 [00:51<01:15,  3.95s/it]llm_judge_ans = True\n",
      "Average Metric: 7.00 / 32 (21.9%):  41%|████      | 13/32 [00:54<01:15,  3.95s/it]"
     ]
    },
    {
     "name": "stderr",
     "output_type": "stream",
     "text": [
      "llm_judge_ans = True\n"
     ]
    },
    {
     "name": "stdout",
     "output_type": "stream",
     "text": [
      "Average Metric: 8.00 / 32 (25.0%):  44%|████▍     | 14/32 [00:54<01:10,  3.89s/it]llm_judge_ans = True\n",
      "Average Metric: 8.00 / 32 (25.0%):  44%|████▍     | 14/32 [00:57<01:10,  3.89s/it]"
     ]
    },
    {
     "name": "stderr",
     "output_type": "stream",
     "text": [
      "llm_judge_ans = True\n"
     ]
    },
    {
     "name": "stdout",
     "output_type": "stream",
     "text": [
      "Average Metric: 9.00 / 32 (28.1%):  47%|████▋     | 15/32 [00:57<01:02,  3.66s/it]llm_judge_ans = True\n",
      "Average Metric: 9.00 / 32 (28.1%):  47%|████▋     | 15/32 [01:01<01:02,  3.66s/it]"
     ]
    },
    {
     "name": "stderr",
     "output_type": "stream",
     "text": [
      "llm_judge_ans = True\n"
     ]
    },
    {
     "name": "stdout",
     "output_type": "stream",
     "text": [
      "Average Metric: 10.00 / 32 (31.2%):  50%|█████     | 16/32 [01:01<00:57,  3.58s/it]llm_judge_ans = True\n",
      "Average Metric: 10.00 / 32 (31.2%):  50%|█████     | 16/32 [01:05<00:57,  3.58s/it]"
     ]
    },
    {
     "name": "stderr",
     "output_type": "stream",
     "text": [
      "llm_judge_ans = True\n"
     ]
    },
    {
     "name": "stdout",
     "output_type": "stream",
     "text": [
      "Average Metric: 11.00 / 32 (34.4%):  53%|█████▎    | 17/32 [01:05<00:54,  3.62s/it]llm_judge_ans = True\n",
      "Average Metric: 11.00 / 32 (34.4%):  53%|█████▎    | 17/32 [01:08<00:54,  3.62s/it]"
     ]
    },
    {
     "name": "stderr",
     "output_type": "stream",
     "text": [
      "llm_judge_ans = True\n"
     ]
    },
    {
     "name": "stdout",
     "output_type": "stream",
     "text": [
      "Average Metric: 12.00 / 32 (37.5%):  56%|█████▋    | 18/32 [01:08<00:51,  3.65s/it]llm_judge_ans = True\n",
      "Average Metric: 12.00 / 32 (37.5%):  56%|█████▋    | 18/32 [01:12<00:51,  3.65s/it]"
     ]
    },
    {
     "name": "stderr",
     "output_type": "stream",
     "text": [
      "llm_judge_ans = True\n"
     ]
    },
    {
     "name": "stdout",
     "output_type": "stream",
     "text": [
      "Average Metric: 13.00 / 32 (40.6%):  59%|█████▉    | 19/32 [01:12<00:46,  3.55s/it]llm_judge_ans = False\n",
      "Average Metric: 13.00 / 32 (40.6%):  59%|█████▉    | 19/32 [01:15<00:46,  3.55s/it]"
     ]
    },
    {
     "name": "stderr",
     "output_type": "stream",
     "text": [
      "llm_judge_ans = False\n"
     ]
    },
    {
     "name": "stdout",
     "output_type": "stream",
     "text": [
      "Average Metric: 13.00 / 32 (40.6%):  62%|██████▎   | 20/32 [01:15<00:43,  3.58s/it]llm_judge_ans = True\n",
      "Average Metric: 13.00 / 32 (40.6%):  62%|██████▎   | 20/32 [01:19<00:43,  3.58s/it]"
     ]
    },
    {
     "name": "stderr",
     "output_type": "stream",
     "text": [
      "llm_judge_ans = True\n"
     ]
    },
    {
     "name": "stdout",
     "output_type": "stream",
     "text": [
      "Average Metric: 14.00 / 32 (43.8%):  66%|██████▌   | 21/32 [01:19<00:39,  3.58s/it]llm_judge_ans = True\n",
      "Average Metric: 14.00 / 32 (43.8%):  66%|██████▌   | 21/32 [01:23<00:39,  3.58s/it]"
     ]
    },
    {
     "name": "stderr",
     "output_type": "stream",
     "text": [
      "llm_judge_ans = True\n"
     ]
    },
    {
     "name": "stdout",
     "output_type": "stream",
     "text": [
      "Average Metric: 15.00 / 32 (46.9%):  69%|██████▉   | 22/32 [01:23<00:36,  3.69s/it]llm_judge_ans = True\n",
      "Average Metric: 15.00 / 32 (46.9%):  69%|██████▉   | 22/32 [01:27<00:36,  3.69s/it]"
     ]
    },
    {
     "name": "stderr",
     "output_type": "stream",
     "text": [
      "llm_judge_ans = True\n"
     ]
    },
    {
     "name": "stdout",
     "output_type": "stream",
     "text": [
      "Average Metric: 16.00 / 32 (50.0%):  72%|███████▏  | 23/32 [01:27<00:34,  3.78s/it]llm_judge_ans = True\n",
      "Average Metric: 16.00 / 32 (50.0%):  72%|███████▏  | 23/32 [01:30<00:34,  3.78s/it]"
     ]
    },
    {
     "name": "stderr",
     "output_type": "stream",
     "text": [
      "llm_judge_ans = True\n"
     ]
    },
    {
     "name": "stdout",
     "output_type": "stream",
     "text": [
      "Average Metric: 17.00 / 32 (53.1%):  75%|███████▌  | 24/32 [01:30<00:29,  3.75s/it]llm_judge_ans = True\n",
      "Average Metric: 17.00 / 32 (53.1%):  75%|███████▌  | 24/32 [01:34<00:29,  3.75s/it]"
     ]
    },
    {
     "name": "stderr",
     "output_type": "stream",
     "text": [
      "llm_judge_ans = True\n"
     ]
    },
    {
     "name": "stdout",
     "output_type": "stream",
     "text": [
      "Average Metric: 18.00 / 32 (56.2%):  78%|███████▊  | 25/32 [01:34<00:24,  3.57s/it]llm_judge_ans = True\n",
      "Average Metric: 18.00 / 32 (56.2%):  78%|███████▊  | 25/32 [01:37<00:24,  3.57s/it]"
     ]
    },
    {
     "name": "stderr",
     "output_type": "stream",
     "text": [
      "llm_judge_ans = True\n"
     ]
    },
    {
     "name": "stdout",
     "output_type": "stream",
     "text": [
      "Average Metric: 19.00 / 32 (59.4%):  81%|████████▏ | 26/32 [01:37<00:21,  3.53s/it]llm_judge_ans = True\n",
      "Average Metric: 19.00 / 32 (59.4%):  81%|████████▏ | 26/32 [01:41<00:21,  3.53s/it]"
     ]
    },
    {
     "name": "stderr",
     "output_type": "stream",
     "text": [
      "llm_judge_ans = True\n"
     ]
    },
    {
     "name": "stdout",
     "output_type": "stream",
     "text": [
      "Average Metric: 20.00 / 32 (62.5%):  84%|████████▍ | 27/32 [01:41<00:18,  3.67s/it]llm_judge_ans = False\n",
      "Average Metric: 20.00 / 32 (62.5%):  84%|████████▍ | 27/32 [01:45<00:18,  3.67s/it]"
     ]
    },
    {
     "name": "stderr",
     "output_type": "stream",
     "text": [
      "llm_judge_ans = False\n"
     ]
    },
    {
     "name": "stdout",
     "output_type": "stream",
     "text": [
      "Average Metric: 20.00 / 32 (62.5%):  88%|████████▊ | 28/32 [01:45<00:14,  3.64s/it]llm_judge_ans = True\n",
      "Average Metric: 20.00 / 32 (62.5%):  88%|████████▊ | 28/32 [01:49<00:14,  3.64s/it]"
     ]
    },
    {
     "name": "stderr",
     "output_type": "stream",
     "text": [
      "llm_judge_ans = True\n"
     ]
    },
    {
     "name": "stdout",
     "output_type": "stream",
     "text": [
      "Average Metric: 21.00 / 32 (65.6%):  91%|█████████ | 29/32 [01:49<00:11,  3.85s/it]llm_judge_ans = True\n",
      "Average Metric: 21.00 / 32 (65.6%):  91%|█████████ | 29/32 [01:53<00:11,  3.85s/it]"
     ]
    },
    {
     "name": "stderr",
     "output_type": "stream",
     "text": [
      "llm_judge_ans = True\n"
     ]
    },
    {
     "name": "stdout",
     "output_type": "stream",
     "text": [
      "Average Metric: 22.00 / 32 (68.8%):  94%|█████████▍| 30/32 [01:53<00:07,  3.89s/it]llm_judge_ans = True\n",
      "Average Metric: 22.00 / 32 (68.8%):  94%|█████████▍| 30/32 [01:56<00:07,  3.89s/it]"
     ]
    },
    {
     "name": "stderr",
     "output_type": "stream",
     "text": [
      "llm_judge_ans = True\n"
     ]
    },
    {
     "name": "stdout",
     "output_type": "stream",
     "text": [
      "Average Metric: 23.00 / 32 (71.9%):  97%|█████████▋| 31/32 [01:56<00:03,  3.54s/it]llm_judge_ans = True\n",
      "Average Metric: 23.00 / 32 (71.9%):  97%|█████████▋| 31/32 [02:00<00:03,  3.54s/it]"
     ]
    },
    {
     "name": "stderr",
     "output_type": "stream",
     "text": [
      "llm_judge_ans = True\n"
     ]
    },
    {
     "name": "stdout",
     "output_type": "stream",
     "text": [
      "Average Metric: 24.00 / 32 (75.0%): 100%|██████████| 32/32 [02:00<00:00,  3.76s/it]"
     ]
    },
    {
     "name": "stderr",
     "output_type": "stream",
     "text": [
      "2024/12/18 15:45:06 INFO dspy.evaluate.evaluate: Average Metric: 24 / 32 (75.0%)\n"
     ]
    },
    {
     "name": "stdout",
     "output_type": "stream",
     "text": [
      "\n",
      "raw_score for lm_id = anthropic.claude-3-haiku-20240307-v1:0 and raw_score =  75.0\n",
      "******* COMPILING model_id = anthropic.claude-3-haiku-20240307-v1:0 ******* --------------->\n"
     ]
    },
    {
     "name": "stderr",
     "output_type": "stream",
     "text": [
      "  4%|▎         | 1/28 [00:03<01:46,  3.96s/it]"
     ]
    },
    {
     "name": "stdout",
     "output_type": "stream",
     "text": [
      "llm_judge_ans = False\n"
     ]
    },
    {
     "name": "stderr",
     "output_type": "stream",
     "text": [
      "  7%|▋         | 2/28 [00:07<01:39,  3.83s/it]"
     ]
    },
    {
     "name": "stdout",
     "output_type": "stream",
     "text": [
      "llm_judge_ans = True\n"
     ]
    },
    {
     "name": "stderr",
     "output_type": "stream",
     "text": [
      " 11%|█         | 3/28 [00:12<01:43,  4.12s/it]"
     ]
    },
    {
     "name": "stdout",
     "output_type": "stream",
     "text": [
      "llm_judge_ans = False\n"
     ]
    },
    {
     "name": "stderr",
     "output_type": "stream",
     "text": [
      " 14%|█▍        | 4/28 [00:15<01:29,  3.72s/it]"
     ]
    },
    {
     "name": "stdout",
     "output_type": "stream",
     "text": [
      "llm_judge_ans = False\n"
     ]
    },
    {
     "name": "stderr",
     "output_type": "stream",
     "text": [
      " 18%|█▊        | 5/28 [00:19<01:29,  3.87s/it]"
     ]
    },
    {
     "name": "stdout",
     "output_type": "stream",
     "text": [
      "llm_judge_ans = True\n"
     ]
    },
    {
     "name": "stderr",
     "output_type": "stream",
     "text": [
      " 21%|██▏       | 6/28 [00:23<01:27,  3.98s/it]"
     ]
    },
    {
     "name": "stdout",
     "output_type": "stream",
     "text": [
      "llm_judge_ans = True\n"
     ]
    },
    {
     "name": "stderr",
     "output_type": "stream",
     "text": [
      " 25%|██▌       | 7/28 [00:27<01:23,  3.95s/it]\n"
     ]
    },
    {
     "name": "stdout",
     "output_type": "stream",
     "text": [
      "llm_judge_ans = True\n",
      "Bootstrapped 4 full traces after 7 examples for up to 1 rounds, amounting to 7 attempts.\n",
      "  0%|          | 0/32 [00:00<?, ?it/s]llm_judge_ans = True\n",
      "  0%|          | 0/32 [00:05<?, ?it/s]"
     ]
    },
    {
     "name": "stderr",
     "output_type": "stream",
     "text": [
      "llm_judge_ans = True\n"
     ]
    },
    {
     "name": "stdout",
     "output_type": "stream",
     "text": [
      "Average Metric: 1.00 / 32 (3.1%):   3%|▎         | 1/32 [00:05<02:35,  5.01s/it]llm_judge_ans = True\n",
      "Average Metric: 1.00 / 32 (3.1%):   3%|▎         | 1/32 [00:10<02:35,  5.01s/it]"
     ]
    },
    {
     "name": "stderr",
     "output_type": "stream",
     "text": [
      "llm_judge_ans = True\n"
     ]
    },
    {
     "name": "stdout",
     "output_type": "stream",
     "text": [
      "Average Metric: 2.00 / 32 (6.2%):   6%|▋         | 2/32 [00:10<02:44,  5.48s/it]llm_judge_ans = False\n",
      "Average Metric: 2.00 / 32 (6.2%):   6%|▋         | 2/32 [00:16<02:44,  5.48s/it]"
     ]
    },
    {
     "name": "stderr",
     "output_type": "stream",
     "text": [
      "llm_judge_ans = False\n"
     ]
    },
    {
     "name": "stdout",
     "output_type": "stream",
     "text": [
      "Average Metric: 2.00 / 32 (6.2%):   9%|▉         | 3/32 [00:16<02:42,  5.60s/it]llm_judge_ans = False\n",
      "Average Metric: 2.00 / 32 (6.2%):   9%|▉         | 3/32 [00:23<02:42,  5.60s/it]"
     ]
    },
    {
     "name": "stderr",
     "output_type": "stream",
     "text": [
      "llm_judge_ans = False\n"
     ]
    },
    {
     "name": "stdout",
     "output_type": "stream",
     "text": [
      "Average Metric: 2.00 / 32 (6.2%):  12%|█▎        | 4/32 [00:23<02:48,  6.03s/it]llm_judge_ans = True\n",
      "Average Metric: 2.00 / 32 (6.2%):  12%|█▎        | 4/32 [00:29<02:48,  6.03s/it]"
     ]
    },
    {
     "name": "stderr",
     "output_type": "stream",
     "text": [
      "llm_judge_ans = True\n"
     ]
    },
    {
     "name": "stdout",
     "output_type": "stream",
     "text": [
      "Average Metric: 3.00 / 32 (9.4%):  16%|█▌        | 5/32 [00:29<02:45,  6.13s/it]llm_judge_ans = True\n",
      "Average Metric: 3.00 / 32 (9.4%):  16%|█▌        | 5/32 [00:35<02:45,  6.13s/it]"
     ]
    },
    {
     "name": "stderr",
     "output_type": "stream",
     "text": [
      "llm_judge_ans = True\n"
     ]
    },
    {
     "name": "stdout",
     "output_type": "stream",
     "text": [
      "Average Metric: 4.00 / 32 (12.5%):  19%|█▉        | 6/32 [00:35<02:34,  5.94s/it]llm_judge_ans = True\n",
      "Average Metric: 4.00 / 32 (12.5%):  19%|█▉        | 6/32 [00:41<02:34,  5.94s/it]"
     ]
    },
    {
     "name": "stderr",
     "output_type": "stream",
     "text": [
      "llm_judge_ans = True\n"
     ]
    },
    {
     "name": "stdout",
     "output_type": "stream",
     "text": [
      "Average Metric: 5.00 / 32 (15.6%):  22%|██▏       | 7/32 [00:41<02:31,  6.05s/it]llm_judge_ans = True\n",
      "Average Metric: 5.00 / 32 (15.6%):  22%|██▏       | 7/32 [00:47<02:31,  6.05s/it]"
     ]
    },
    {
     "name": "stderr",
     "output_type": "stream",
     "text": [
      "llm_judge_ans = True\n"
     ]
    },
    {
     "name": "stdout",
     "output_type": "stream",
     "text": [
      "Average Metric: 6.00 / 32 (18.8%):  25%|██▌       | 8/32 [00:47<02:25,  6.04s/it]llm_judge_ans = True\n",
      "Average Metric: 6.00 / 32 (18.8%):  25%|██▌       | 8/32 [00:53<02:25,  6.04s/it]"
     ]
    },
    {
     "name": "stderr",
     "output_type": "stream",
     "text": [
      "llm_judge_ans = True\n"
     ]
    },
    {
     "name": "stdout",
     "output_type": "stream",
     "text": [
      "Average Metric: 7.00 / 32 (21.9%):  28%|██▊       | 9/32 [00:53<02:21,  6.14s/it]llm_judge_ans = True\n",
      "Average Metric: 7.00 / 32 (21.9%):  28%|██▊       | 9/32 [00:59<02:21,  6.14s/it]"
     ]
    },
    {
     "name": "stderr",
     "output_type": "stream",
     "text": [
      "llm_judge_ans = True\n"
     ]
    },
    {
     "name": "stdout",
     "output_type": "stream",
     "text": [
      "Average Metric: 8.00 / 32 (25.0%):  31%|███▏      | 10/32 [00:59<02:15,  6.15s/it]llm_judge_ans = False\n",
      "Average Metric: 8.00 / 32 (25.0%):  31%|███▏      | 10/32 [01:06<02:15,  6.15s/it]"
     ]
    },
    {
     "name": "stderr",
     "output_type": "stream",
     "text": [
      "llm_judge_ans = False\n"
     ]
    },
    {
     "name": "stdout",
     "output_type": "stream",
     "text": [
      "Average Metric: 8.00 / 32 (25.0%):  34%|███▍      | 11/32 [01:06<02:12,  6.29s/it]llm_judge_ans = True\n",
      "Average Metric: 8.00 / 32 (25.0%):  34%|███▍      | 11/32 [01:12<02:12,  6.29s/it]"
     ]
    },
    {
     "name": "stderr",
     "output_type": "stream",
     "text": [
      "llm_judge_ans = True\n"
     ]
    },
    {
     "name": "stdout",
     "output_type": "stream",
     "text": [
      "Average Metric: 9.00 / 32 (28.1%):  38%|███▊      | 12/32 [01:12<02:03,  6.17s/it]llm_judge_ans = True\n",
      "Average Metric: 9.00 / 32 (28.1%):  38%|███▊      | 12/32 [01:18<02:03,  6.17s/it]"
     ]
    },
    {
     "name": "stderr",
     "output_type": "stream",
     "text": [
      "llm_judge_ans = True\n"
     ]
    },
    {
     "name": "stdout",
     "output_type": "stream",
     "text": [
      "Average Metric: 10.00 / 32 (31.2%):  41%|████      | 13/32 [01:18<01:57,  6.18s/it]llm_judge_ans = True\n",
      "Average Metric: 10.00 / 32 (31.2%):  41%|████      | 13/32 [01:24<01:57,  6.18s/it]"
     ]
    },
    {
     "name": "stderr",
     "output_type": "stream",
     "text": [
      "llm_judge_ans = True\n"
     ]
    },
    {
     "name": "stdout",
     "output_type": "stream",
     "text": [
      "Average Metric: 11.00 / 32 (34.4%):  44%|████▍     | 14/32 [01:24<01:48,  6.04s/it]llm_judge_ans = True\n",
      "Average Metric: 11.00 / 32 (34.4%):  44%|████▍     | 14/32 [01:30<01:48,  6.04s/it]"
     ]
    },
    {
     "name": "stderr",
     "output_type": "stream",
     "text": [
      "llm_judge_ans = True\n"
     ]
    },
    {
     "name": "stdout",
     "output_type": "stream",
     "text": [
      "Average Metric: 12.00 / 32 (37.5%):  47%|████▋     | 15/32 [01:30<01:42,  6.05s/it]llm_judge_ans = True\n",
      "Average Metric: 12.00 / 32 (37.5%):  47%|████▋     | 15/32 [01:36<01:42,  6.05s/it]"
     ]
    },
    {
     "name": "stderr",
     "output_type": "stream",
     "text": [
      "llm_judge_ans = True\n"
     ]
    },
    {
     "name": "stdout",
     "output_type": "stream",
     "text": [
      "Average Metric: 13.00 / 32 (40.6%):  50%|█████     | 16/32 [01:36<01:36,  6.03s/it]llm_judge_ans = True\n",
      "Average Metric: 13.00 / 32 (40.6%):  50%|█████     | 16/32 [01:42<01:36,  6.03s/it]"
     ]
    },
    {
     "name": "stderr",
     "output_type": "stream",
     "text": [
      "llm_judge_ans = True\n"
     ]
    },
    {
     "name": "stdout",
     "output_type": "stream",
     "text": [
      "Average Metric: 14.00 / 32 (43.8%):  53%|█████▎    | 17/32 [01:42<01:32,  6.17s/it]llm_judge_ans = True\n",
      "Average Metric: 14.00 / 32 (43.8%):  53%|█████▎    | 17/32 [01:49<01:32,  6.17s/it]"
     ]
    },
    {
     "name": "stderr",
     "output_type": "stream",
     "text": [
      "llm_judge_ans = True\n"
     ]
    },
    {
     "name": "stdout",
     "output_type": "stream",
     "text": [
      "Average Metric: 15.00 / 32 (46.9%):  56%|█████▋    | 18/32 [01:49<01:27,  6.23s/it]llm_judge_ans = True\n",
      "Average Metric: 15.00 / 32 (46.9%):  56%|█████▋    | 18/32 [01:54<01:27,  6.23s/it]"
     ]
    },
    {
     "name": "stderr",
     "output_type": "stream",
     "text": [
      "llm_judge_ans = True\n"
     ]
    },
    {
     "name": "stdout",
     "output_type": "stream",
     "text": [
      "Average Metric: 16.00 / 32 (50.0%):  59%|█████▉    | 19/32 [01:54<01:18,  6.05s/it]llm_judge_ans = False\n",
      "Average Metric: 16.00 / 32 (50.0%):  59%|█████▉    | 19/32 [02:00<01:18,  6.05s/it]"
     ]
    },
    {
     "name": "stderr",
     "output_type": "stream",
     "text": [
      "llm_judge_ans = False\n"
     ]
    },
    {
     "name": "stdout",
     "output_type": "stream",
     "text": [
      "Average Metric: 16.00 / 32 (50.0%):  62%|██████▎   | 20/32 [02:00<01:10,  5.92s/it]llm_judge_ans = True\n",
      "Average Metric: 16.00 / 32 (50.0%):  62%|██████▎   | 20/32 [02:07<01:10,  5.92s/it]"
     ]
    },
    {
     "name": "stderr",
     "output_type": "stream",
     "text": [
      "llm_judge_ans = True\n"
     ]
    },
    {
     "name": "stdout",
     "output_type": "stream",
     "text": [
      "Average Metric: 17.00 / 32 (53.1%):  66%|██████▌   | 21/32 [02:07<01:07,  6.12s/it]llm_judge_ans = True\n",
      "Average Metric: 17.00 / 32 (53.1%):  66%|██████▌   | 21/32 [02:14<01:07,  6.12s/it]"
     ]
    },
    {
     "name": "stderr",
     "output_type": "stream",
     "text": [
      "llm_judge_ans = True\n"
     ]
    },
    {
     "name": "stdout",
     "output_type": "stream",
     "text": [
      "Average Metric: 18.00 / 32 (56.2%):  69%|██████▉   | 22/32 [02:14<01:05,  6.51s/it]llm_judge_ans = True\n",
      "Average Metric: 18.00 / 32 (56.2%):  69%|██████▉   | 22/32 [02:20<01:05,  6.51s/it]"
     ]
    },
    {
     "name": "stderr",
     "output_type": "stream",
     "text": [
      "llm_judge_ans = True\n"
     ]
    },
    {
     "name": "stdout",
     "output_type": "stream",
     "text": [
      "Average Metric: 19.00 / 32 (59.4%):  72%|███████▏  | 23/32 [02:20<00:56,  6.23s/it]llm_judge_ans = True\n",
      "Average Metric: 19.00 / 32 (59.4%):  72%|███████▏  | 23/32 [02:25<00:56,  6.23s/it]"
     ]
    },
    {
     "name": "stderr",
     "output_type": "stream",
     "text": [
      "llm_judge_ans = True\n"
     ]
    },
    {
     "name": "stdout",
     "output_type": "stream",
     "text": [
      "Average Metric: 20.00 / 32 (62.5%):  75%|███████▌  | 24/32 [02:25<00:48,  6.04s/it]llm_judge_ans = True\n",
      "Average Metric: 20.00 / 32 (62.5%):  75%|███████▌  | 24/32 [02:31<00:48,  6.04s/it]"
     ]
    },
    {
     "name": "stderr",
     "output_type": "stream",
     "text": [
      "llm_judge_ans = True\n"
     ]
    },
    {
     "name": "stdout",
     "output_type": "stream",
     "text": [
      "Average Metric: 21.00 / 32 (65.6%):  78%|███████▊  | 25/32 [02:31<00:42,  6.01s/it]llm_judge_ans = True\n",
      "Average Metric: 21.00 / 32 (65.6%):  78%|███████▊  | 25/32 [02:38<00:42,  6.01s/it]"
     ]
    },
    {
     "name": "stderr",
     "output_type": "stream",
     "text": [
      "llm_judge_ans = True\n"
     ]
    },
    {
     "name": "stdout",
     "output_type": "stream",
     "text": [
      "Average Metric: 22.00 / 32 (68.8%):  81%|████████▏ | 26/32 [02:38<00:36,  6.16s/it]llm_judge_ans = True\n",
      "Average Metric: 22.00 / 32 (68.8%):  81%|████████▏ | 26/32 [02:44<00:36,  6.16s/it]"
     ]
    },
    {
     "name": "stderr",
     "output_type": "stream",
     "text": [
      "llm_judge_ans = True\n"
     ]
    },
    {
     "name": "stdout",
     "output_type": "stream",
     "text": [
      "Average Metric: 23.00 / 32 (71.9%):  84%|████████▍ | 27/32 [02:44<00:31,  6.26s/it]llm_judge_ans = False\n",
      "Average Metric: 23.00 / 32 (71.9%):  84%|████████▍ | 27/32 [02:50<00:31,  6.26s/it]"
     ]
    },
    {
     "name": "stderr",
     "output_type": "stream",
     "text": [
      "llm_judge_ans = False\n"
     ]
    },
    {
     "name": "stdout",
     "output_type": "stream",
     "text": [
      "Average Metric: 23.00 / 32 (71.9%):  88%|████████▊ | 28/32 [02:50<00:24,  6.24s/it]llm_judge_ans = False\n",
      "Average Metric: 23.00 / 32 (71.9%):  88%|████████▊ | 28/32 [02:57<00:24,  6.24s/it]"
     ]
    },
    {
     "name": "stderr",
     "output_type": "stream",
     "text": [
      "llm_judge_ans = False\n"
     ]
    },
    {
     "name": "stdout",
     "output_type": "stream",
     "text": [
      "Average Metric: 23.00 / 32 (71.9%):  91%|█████████ | 29/32 [02:57<00:18,  6.27s/it]llm_judge_ans = True\n",
      "Average Metric: 23.00 / 32 (71.9%):  91%|█████████ | 29/32 [03:03<00:18,  6.27s/it]"
     ]
    },
    {
     "name": "stderr",
     "output_type": "stream",
     "text": [
      "llm_judge_ans = True\n"
     ]
    },
    {
     "name": "stdout",
     "output_type": "stream",
     "text": [
      "Average Metric: 24.00 / 32 (75.0%):  94%|█████████▍| 30/32 [03:03<00:12,  6.27s/it]llm_judge_ans = True\n",
      "Average Metric: 24.00 / 32 (75.0%):  94%|█████████▍| 30/32 [03:10<00:12,  6.27s/it]"
     ]
    },
    {
     "name": "stderr",
     "output_type": "stream",
     "text": [
      "llm_judge_ans = True\n"
     ]
    },
    {
     "name": "stdout",
     "output_type": "stream",
     "text": [
      "Average Metric: 25.00 / 32 (78.1%):  97%|█████████▋| 31/32 [03:10<00:06,  6.52s/it]llm_judge_ans = True\n",
      "Average Metric: 25.00 / 32 (78.1%):  97%|█████████▋| 31/32 [03:17<00:06,  6.52s/it]"
     ]
    },
    {
     "name": "stderr",
     "output_type": "stream",
     "text": [
      "llm_judge_ans = True\n"
     ]
    },
    {
     "name": "stdout",
     "output_type": "stream",
     "text": [
      "Average Metric: 26.00 / 32 (81.2%): 100%|██████████| 32/32 [03:17<00:00,  6.17s/it]"
     ]
    },
    {
     "name": "stderr",
     "output_type": "stream",
     "text": [
      "2024/12/18 15:48:51 INFO dspy.evaluate.evaluate: Average Metric: 26 / 32 (81.2%)\n"
     ]
    },
    {
     "name": "stdout",
     "output_type": "stream",
     "text": [
      "\n",
      "compiled_score for COMPILED lm_id = anthropic.claude-3-haiku-20240307-v1:0 and raw_score =  81.25\n",
      "\n",
      "\n",
      "\n",
      "\n",
      "\n",
      "Human: Judge if the predicted answer factually correct to the groundtruth answer and same as groundtruth answer. Answer either Factual[True] or Factual[False]\n",
      "\n",
      "---\n",
      "\n",
      "Follow the following format.\n",
      "\n",
      "Question: Question to be answered\n",
      "\n",
      "Groundtruth Answer: groundtruth answer for the question\n",
      "\n",
      "Predicted Answer: predicted answer for the question\n",
      "\n",
      "Reasoning: Let's think step by step in order to ${produce the factually_correct}. We ...\n",
      "\n",
      "Factual[True/False]: Is the predicted answer factually correct to the groundtruth answer and same as groundtruth answer ?\n",
      "\n",
      "---\n",
      "\n",
      "Question: Is there a requirement for insurance that must be maintained by one party for the benefit of the counterparty?\n",
      "\n",
      "Groundtruth Answer: Each party will maintain, during the Term and for three (3) years thereafter, such comprehensive general liability insurance (including without limitation, products liability) as will adequately protect it against its potential liabilities under this Agreement, in amounts customary in the semiconductor industry for similar services and products., Each party will, at the other party's request, provide to the other party a certificate of insurance evidencing the foregoing insurance coverage.\n",
      "\n",
      "Predicted Answer: Yes, the contract requires each party to maintain comprehensive general liability insurance (including products liability) during the term of the agreement and for 3 years thereafter, in amounts customary in the semiconductor industry for similar services and products. Each party must provide the other party with a certificate of insurance evidencing this coverage upon request.\n",
      "\n",
      "Reasoning: Let's think step by step in order to Factual[True]: The predicted answer is factually correct and the same as the groundtruth answer. The predicted answer accurately summarizes the key requirements for insurance that must be maintained by each party for the benefit of the counterparty, as stated in the groundtruth answer.\n",
      "\n",
      "Factual[True/False]:\n",
      "\n",
      "Assistant:\u001b[32mFactual[True]\n",
      "\n",
      "The predicted answer is factually correct and the same as the groundtruth answer. The predicted answer accurately summarizes the key requirements for insurance that must be maintained by each party for the benefit of the counterparty, as stated in the groundtruth answer.\u001b[0m\n",
      "\n",
      "\n",
      "\n",
      "END OF model_id = anthropic.claude-3-haiku-20240307-v1:0 --------------->\n",
      "START OF model_id = anthropic.claude-3-sonnet-20240229-v1:0 --------------->\n",
      "  0%|          | 0/32 [00:00<?, ?it/s]llm_judge_ans = False\n",
      "  0%|          | 0/32 [00:05<?, ?it/s]"
     ]
    },
    {
     "name": "stderr",
     "output_type": "stream",
     "text": [
      "llm_judge_ans = False\n"
     ]
    },
    {
     "name": "stdout",
     "output_type": "stream",
     "text": [
      "Average Metric: 0.00 / 32 (0.0%):   3%|▎         | 1/32 [00:05<02:56,  5.69s/it]llm_judge_ans = True\n",
      "Average Metric: 0.00 / 32 (0.0%):   3%|▎         | 1/32 [00:14<02:56,  5.69s/it]"
     ]
    },
    {
     "name": "stderr",
     "output_type": "stream",
     "text": [
      "llm_judge_ans = True\n"
     ]
    },
    {
     "name": "stdout",
     "output_type": "stream",
     "text": [
      "Average Metric: 1.00 / 32 (3.1%):   6%|▋         | 2/32 [00:14<03:48,  7.61s/it]llm_judge_ans = False\n",
      "Average Metric: 1.00 / 32 (3.1%):   6%|▋         | 2/32 [00:21<03:48,  7.61s/it]"
     ]
    },
    {
     "name": "stderr",
     "output_type": "stream",
     "text": [
      "llm_judge_ans = False\n"
     ]
    },
    {
     "name": "stdout",
     "output_type": "stream",
     "text": [
      "Average Metric: 1.00 / 32 (3.1%):   9%|▉         | 3/32 [00:21<03:36,  7.45s/it]llm_judge_ans = False\n",
      "Average Metric: 1.00 / 32 (3.1%):   9%|▉         | 3/32 [00:27<03:36,  7.45s/it]"
     ]
    },
    {
     "name": "stderr",
     "output_type": "stream",
     "text": [
      "llm_judge_ans = False\n"
     ]
    },
    {
     "name": "stdout",
     "output_type": "stream",
     "text": [
      "Average Metric: 1.00 / 32 (3.1%):  12%|█▎        | 4/32 [00:27<03:10,  6.80s/it]llm_judge_ans = False\n",
      "Average Metric: 1.00 / 32 (3.1%):  12%|█▎        | 4/32 [00:36<03:10,  6.80s/it]"
     ]
    },
    {
     "name": "stderr",
     "output_type": "stream",
     "text": [
      "llm_judge_ans = False\n"
     ]
    },
    {
     "name": "stdout",
     "output_type": "stream",
     "text": [
      "Average Metric: 1.00 / 32 (3.1%):  16%|█▌        | 5/32 [00:36<03:20,  7.41s/it]llm_judge_ans = False\n",
      "Average Metric: 1.00 / 32 (3.1%):  16%|█▌        | 5/32 [00:41<03:20,  7.41s/it]"
     ]
    },
    {
     "name": "stderr",
     "output_type": "stream",
     "text": [
      "llm_judge_ans = False\n"
     ]
    },
    {
     "name": "stdout",
     "output_type": "stream",
     "text": [
      "Average Metric: 1.00 / 32 (3.1%):  19%|█▉        | 6/32 [00:41<02:55,  6.76s/it]llm_judge_ans = True\n",
      "Average Metric: 1.00 / 32 (3.1%):  19%|█▉        | 6/32 [00:48<02:55,  6.76s/it]"
     ]
    },
    {
     "name": "stderr",
     "output_type": "stream",
     "text": [
      "llm_judge_ans = True\n"
     ]
    },
    {
     "name": "stdout",
     "output_type": "stream",
     "text": [
      "Average Metric: 2.00 / 32 (6.2%):  22%|██▏       | 7/32 [00:48<02:46,  6.66s/it]llm_judge_ans = False\n",
      "Average Metric: 2.00 / 32 (6.2%):  22%|██▏       | 7/32 [00:54<02:46,  6.66s/it]"
     ]
    },
    {
     "name": "stderr",
     "output_type": "stream",
     "text": [
      "llm_judge_ans = False\n"
     ]
    },
    {
     "name": "stdout",
     "output_type": "stream",
     "text": [
      "Average Metric: 2.00 / 32 (6.2%):  25%|██▌       | 8/32 [00:54<02:40,  6.68s/it]llm_judge_ans = True\n",
      "Average Metric: 2.00 / 32 (6.2%):  25%|██▌       | 8/32 [01:00<02:40,  6.68s/it]"
     ]
    },
    {
     "name": "stderr",
     "output_type": "stream",
     "text": [
      "llm_judge_ans = True\n"
     ]
    },
    {
     "name": "stdout",
     "output_type": "stream",
     "text": [
      "Average Metric: 3.00 / 32 (9.4%):  28%|██▊       | 9/32 [01:00<02:25,  6.35s/it]llm_judge_ans = True\n",
      "Average Metric: 3.00 / 32 (9.4%):  28%|██▊       | 9/32 [01:08<02:25,  6.35s/it]"
     ]
    },
    {
     "name": "stderr",
     "output_type": "stream",
     "text": [
      "llm_judge_ans = True\n"
     ]
    },
    {
     "name": "stdout",
     "output_type": "stream",
     "text": [
      "Average Metric: 4.00 / 32 (12.5%):  31%|███▏      | 10/32 [01:08<02:32,  6.93s/it]llm_judge_ans = False\n",
      "Average Metric: 4.00 / 32 (12.5%):  31%|███▏      | 10/32 [01:13<02:32,  6.93s/it]"
     ]
    },
    {
     "name": "stderr",
     "output_type": "stream",
     "text": [
      "llm_judge_ans = False\n"
     ]
    },
    {
     "name": "stdout",
     "output_type": "stream",
     "text": [
      "Average Metric: 4.00 / 32 (12.5%):  34%|███▍      | 11/32 [01:13<02:12,  6.29s/it]llm_judge_ans = False\n",
      "Average Metric: 4.00 / 32 (12.5%):  34%|███▍      | 11/32 [01:17<02:12,  6.29s/it]"
     ]
    },
    {
     "name": "stderr",
     "output_type": "stream",
     "text": [
      "llm_judge_ans = False\n"
     ]
    },
    {
     "name": "stdout",
     "output_type": "stream",
     "text": [
      "Average Metric: 4.00 / 32 (12.5%):  38%|███▊      | 12/32 [01:17<01:53,  5.67s/it]llm_judge_ans = True\n",
      "Average Metric: 4.00 / 32 (12.5%):  38%|███▊      | 12/32 [01:23<01:53,  5.67s/it]"
     ]
    },
    {
     "name": "stderr",
     "output_type": "stream",
     "text": [
      "llm_judge_ans = True\n"
     ]
    },
    {
     "name": "stdout",
     "output_type": "stream",
     "text": [
      "Average Metric: 5.00 / 32 (15.6%):  41%|████      | 13/32 [01:23<01:50,  5.79s/it]llm_judge_ans = False\n",
      "Average Metric: 5.00 / 32 (15.6%):  41%|████      | 13/32 [01:28<01:50,  5.79s/it]"
     ]
    },
    {
     "name": "stderr",
     "output_type": "stream",
     "text": [
      "llm_judge_ans = False\n"
     ]
    },
    {
     "name": "stdout",
     "output_type": "stream",
     "text": [
      "Average Metric: 5.00 / 32 (15.6%):  44%|████▍     | 14/32 [01:28<01:39,  5.52s/it]llm_judge_ans = True\n",
      "Average Metric: 5.00 / 32 (15.6%):  44%|████▍     | 14/32 [01:35<01:39,  5.52s/it]"
     ]
    },
    {
     "name": "stderr",
     "output_type": "stream",
     "text": [
      "llm_judge_ans = True\n"
     ]
    },
    {
     "name": "stdout",
     "output_type": "stream",
     "text": [
      "Average Metric: 6.00 / 32 (18.8%):  47%|████▋     | 15/32 [01:35<01:41,  5.99s/it]llm_judge_ans = True\n",
      "Average Metric: 6.00 / 32 (18.8%):  47%|████▋     | 15/32 [01:43<01:41,  5.99s/it]"
     ]
    },
    {
     "name": "stderr",
     "output_type": "stream",
     "text": [
      "llm_judge_ans = True\n"
     ]
    },
    {
     "name": "stdout",
     "output_type": "stream",
     "text": [
      "Average Metric: 7.00 / 32 (21.9%):  50%|█████     | 16/32 [01:43<01:42,  6.40s/it]llm_judge_ans = False\n",
      "Average Metric: 7.00 / 32 (21.9%):  50%|█████     | 16/32 [01:49<01:42,  6.40s/it]"
     ]
    },
    {
     "name": "stderr",
     "output_type": "stream",
     "text": [
      "llm_judge_ans = False\n"
     ]
    },
    {
     "name": "stdout",
     "output_type": "stream",
     "text": [
      "Average Metric: 7.00 / 32 (21.9%):  53%|█████▎    | 17/32 [01:49<01:35,  6.38s/it]llm_judge_ans = False\n",
      "Average Metric: 7.00 / 32 (21.9%):  53%|█████▎    | 17/32 [01:55<01:35,  6.38s/it]"
     ]
    },
    {
     "name": "stderr",
     "output_type": "stream",
     "text": [
      "llm_judge_ans = False\n"
     ]
    },
    {
     "name": "stdout",
     "output_type": "stream",
     "text": [
      "Average Metric: 7.00 / 32 (21.9%):  56%|█████▋    | 18/32 [01:55<01:26,  6.21s/it]llm_judge_ans = True\n",
      "Average Metric: 7.00 / 32 (21.9%):  56%|█████▋    | 18/32 [02:00<01:26,  6.21s/it]"
     ]
    },
    {
     "name": "stderr",
     "output_type": "stream",
     "text": [
      "llm_judge_ans = True\n"
     ]
    },
    {
     "name": "stdout",
     "output_type": "stream",
     "text": [
      "Average Metric: 8.00 / 32 (25.0%):  59%|█████▉    | 19/32 [02:00<01:18,  6.04s/it]llm_judge_ans = True\n",
      "Average Metric: 8.00 / 32 (25.0%):  59%|█████▉    | 19/32 [02:06<01:18,  6.04s/it]"
     ]
    },
    {
     "name": "stderr",
     "output_type": "stream",
     "text": [
      "llm_judge_ans = True\n"
     ]
    },
    {
     "name": "stdout",
     "output_type": "stream",
     "text": [
      "Average Metric: 9.00 / 32 (28.1%):  62%|██████▎   | 20/32 [02:06<01:10,  5.89s/it]llm_judge_ans = True\n",
      "Average Metric: 9.00 / 32 (28.1%):  62%|██████▎   | 20/32 [02:11<01:10,  5.89s/it]"
     ]
    },
    {
     "name": "stderr",
     "output_type": "stream",
     "text": [
      "llm_judge_ans = True\n"
     ]
    },
    {
     "name": "stdout",
     "output_type": "stream",
     "text": [
      "Average Metric: 10.00 / 32 (31.2%):  66%|██████▌   | 21/32 [02:11<01:03,  5.74s/it]llm_judge_ans = True\n",
      "Average Metric: 10.00 / 32 (31.2%):  66%|██████▌   | 21/32 [02:16<01:03,  5.74s/it]"
     ]
    },
    {
     "name": "stderr",
     "output_type": "stream",
     "text": [
      "llm_judge_ans = True\n"
     ]
    },
    {
     "name": "stdout",
     "output_type": "stream",
     "text": [
      "Average Metric: 11.00 / 32 (34.4%):  69%|██████▉   | 22/32 [02:16<00:54,  5.41s/it]llm_judge_ans = True\n",
      "Average Metric: 11.00 / 32 (34.4%):  69%|██████▉   | 22/32 [02:22<00:54,  5.41s/it]"
     ]
    },
    {
     "name": "stderr",
     "output_type": "stream",
     "text": [
      "llm_judge_ans = True\n"
     ]
    },
    {
     "name": "stdout",
     "output_type": "stream",
     "text": [
      "Average Metric: 12.00 / 32 (37.5%):  72%|███████▏  | 23/32 [02:22<00:50,  5.65s/it]llm_judge_ans = True\n",
      "Average Metric: 12.00 / 32 (37.5%):  72%|███████▏  | 23/32 [02:28<00:50,  5.65s/it]"
     ]
    },
    {
     "name": "stderr",
     "output_type": "stream",
     "text": [
      "llm_judge_ans = True\n"
     ]
    },
    {
     "name": "stdout",
     "output_type": "stream",
     "text": [
      "Average Metric: 13.00 / 32 (40.6%):  75%|███████▌  | 24/32 [02:28<00:44,  5.53s/it]llm_judge_ans = False\n",
      "Average Metric: 13.00 / 32 (40.6%):  75%|███████▌  | 24/32 [02:32<00:44,  5.53s/it]"
     ]
    },
    {
     "name": "stderr",
     "output_type": "stream",
     "text": [
      "llm_judge_ans = False\n"
     ]
    },
    {
     "name": "stdout",
     "output_type": "stream",
     "text": [
      "Average Metric: 13.00 / 32 (40.6%):  78%|███████▊  | 25/32 [02:32<00:36,  5.22s/it]llm_judge_ans = True\n",
      "Average Metric: 13.00 / 32 (40.6%):  78%|███████▊  | 25/32 [02:40<00:36,  5.22s/it]"
     ]
    },
    {
     "name": "stderr",
     "output_type": "stream",
     "text": [
      "llm_judge_ans = True\n"
     ]
    },
    {
     "name": "stdout",
     "output_type": "stream",
     "text": [
      "Average Metric: 14.00 / 32 (43.8%):  81%|████████▏ | 26/32 [02:40<00:36,  6.05s/it]llm_judge_ans = True\n",
      "Average Metric: 14.00 / 32 (43.8%):  81%|████████▏ | 26/32 [02:47<00:36,  6.05s/it]"
     ]
    },
    {
     "name": "stderr",
     "output_type": "stream",
     "text": [
      "llm_judge_ans = True\n"
     ]
    },
    {
     "name": "stdout",
     "output_type": "stream",
     "text": [
      "Average Metric: 15.00 / 32 (46.9%):  84%|████████▍ | 27/32 [02:47<00:31,  6.23s/it]llm_judge_ans = False\n",
      "Average Metric: 15.00 / 32 (46.9%):  84%|████████▍ | 27/32 [02:52<00:31,  6.23s/it]"
     ]
    },
    {
     "name": "stderr",
     "output_type": "stream",
     "text": [
      "llm_judge_ans = False\n"
     ]
    },
    {
     "name": "stdout",
     "output_type": "stream",
     "text": [
      "Average Metric: 15.00 / 32 (46.9%):  88%|████████▊ | 28/32 [02:52<00:23,  5.96s/it]llm_judge_ans = False\n",
      "Average Metric: 15.00 / 32 (46.9%):  88%|████████▊ | 28/32 [03:00<00:23,  5.96s/it]"
     ]
    },
    {
     "name": "stderr",
     "output_type": "stream",
     "text": [
      "llm_judge_ans = False\n"
     ]
    },
    {
     "name": "stdout",
     "output_type": "stream",
     "text": [
      "Average Metric: 15.00 / 32 (46.9%):  91%|█████████ | 29/32 [03:00<00:19,  6.59s/it]llm_judge_ans = True\n",
      "Average Metric: 15.00 / 32 (46.9%):  91%|█████████ | 29/32 [03:06<00:19,  6.59s/it]"
     ]
    },
    {
     "name": "stderr",
     "output_type": "stream",
     "text": [
      "llm_judge_ans = True\n"
     ]
    },
    {
     "name": "stdout",
     "output_type": "stream",
     "text": [
      "Average Metric: 16.00 / 32 (50.0%):  94%|█████████▍| 30/32 [03:06<00:12,  6.42s/it]llm_judge_ans = True\n",
      "Average Metric: 16.00 / 32 (50.0%):  94%|█████████▍| 30/32 [03:12<00:12,  6.42s/it]"
     ]
    },
    {
     "name": "stderr",
     "output_type": "stream",
     "text": [
      "llm_judge_ans = True\n"
     ]
    },
    {
     "name": "stdout",
     "output_type": "stream",
     "text": [
      "Average Metric: 17.00 / 32 (53.1%):  97%|█████████▋| 31/32 [03:12<00:06,  6.33s/it]llm_judge_ans = True\n",
      "Average Metric: 17.00 / 32 (53.1%):  97%|█████████▋| 31/32 [03:20<00:06,  6.33s/it]"
     ]
    },
    {
     "name": "stderr",
     "output_type": "stream",
     "text": [
      "llm_judge_ans = True\n"
     ]
    },
    {
     "name": "stdout",
     "output_type": "stream",
     "text": [
      "Average Metric: 18.00 / 32 (56.2%): 100%|██████████| 32/32 [03:20<00:00,  6.26s/it]"
     ]
    },
    {
     "name": "stderr",
     "output_type": "stream",
     "text": [
      "2024/12/18 15:53:16 INFO dspy.evaluate.evaluate: Average Metric: 18 / 32 (56.2%)\n"
     ]
    },
    {
     "name": "stdout",
     "output_type": "stream",
     "text": [
      "\n",
      "raw_score for lm_id = anthropic.claude-3-sonnet-20240229-v1:0 and raw_score =  56.25\n",
      "******* COMPILING model_id = anthropic.claude-3-sonnet-20240229-v1:0 ******* --------------->\n"
     ]
    },
    {
     "name": "stderr",
     "output_type": "stream",
     "text": [
      "  4%|▎         | 1/28 [00:07<03:30,  7.79s/it]"
     ]
    },
    {
     "name": "stdout",
     "output_type": "stream",
     "text": [
      "llm_judge_ans = False\n"
     ]
    },
    {
     "name": "stderr",
     "output_type": "stream",
     "text": [
      "  7%|▋         | 2/28 [00:16<03:41,  8.54s/it]"
     ]
    },
    {
     "name": "stdout",
     "output_type": "stream",
     "text": [
      "llm_judge_ans = False\n"
     ]
    },
    {
     "name": "stderr",
     "output_type": "stream",
     "text": [
      " 11%|█         | 3/28 [00:26<03:46,  9.05s/it]"
     ]
    },
    {
     "name": "stdout",
     "output_type": "stream",
     "text": [
      "llm_judge_ans = False\n"
     ]
    },
    {
     "name": "stderr",
     "output_type": "stream",
     "text": [
      " 14%|█▍        | 4/28 [00:35<03:41,  9.21s/it]"
     ]
    },
    {
     "name": "stdout",
     "output_type": "stream",
     "text": [
      "llm_judge_ans = True\n"
     ]
    },
    {
     "name": "stderr",
     "output_type": "stream",
     "text": [
      " 18%|█▊        | 5/28 [00:48<04:03, 10.59s/it]"
     ]
    },
    {
     "name": "stdout",
     "output_type": "stream",
     "text": [
      "llm_judge_ans = False\n"
     ]
    },
    {
     "name": "stderr",
     "output_type": "stream",
     "text": [
      " 21%|██▏       | 6/28 [00:58<03:46, 10.31s/it]"
     ]
    },
    {
     "name": "stdout",
     "output_type": "stream",
     "text": [
      "llm_judge_ans = False\n"
     ]
    },
    {
     "name": "stderr",
     "output_type": "stream",
     "text": [
      " 25%|██▌       | 7/28 [01:08<03:33, 10.17s/it]"
     ]
    },
    {
     "name": "stdout",
     "output_type": "stream",
     "text": [
      "llm_judge_ans = True\n"
     ]
    },
    {
     "name": "stderr",
     "output_type": "stream",
     "text": [
      " 29%|██▊       | 8/28 [01:16<03:07,  9.35s/it]"
     ]
    },
    {
     "name": "stdout",
     "output_type": "stream",
     "text": [
      "llm_judge_ans = True\n"
     ]
    },
    {
     "name": "stderr",
     "output_type": "stream",
     "text": [
      " 32%|███▏      | 9/28 [01:27<03:03,  9.68s/it]\n"
     ]
    },
    {
     "name": "stdout",
     "output_type": "stream",
     "text": [
      "llm_judge_ans = True\n",
      "Bootstrapped 4 full traces after 9 examples for up to 1 rounds, amounting to 9 attempts.\n",
      "  0%|          | 0/32 [00:00<?, ?it/s]llm_judge_ans = True\n",
      "  0%|          | 0/32 [00:12<?, ?it/s]"
     ]
    },
    {
     "name": "stderr",
     "output_type": "stream",
     "text": [
      "llm_judge_ans = True\n"
     ]
    },
    {
     "name": "stdout",
     "output_type": "stream",
     "text": [
      "Average Metric: 1.00 / 32 (3.1%):   3%|▎         | 1/32 [00:12<06:33, 12.69s/it]llm_judge_ans = False\n",
      "Average Metric: 1.00 / 32 (3.1%):   3%|▎         | 1/32 [00:27<06:33, 12.69s/it]"
     ]
    },
    {
     "name": "stderr",
     "output_type": "stream",
     "text": [
      "llm_judge_ans = False\n"
     ]
    },
    {
     "name": "stdout",
     "output_type": "stream",
     "text": [
      "Average Metric: 1.00 / 32 (3.1%):   6%|▋         | 2/32 [00:27<07:04, 14.16s/it]llm_judge_ans = True\n",
      "Average Metric: 1.00 / 32 (3.1%):   6%|▋         | 2/32 [00:50<07:04, 14.16s/it]"
     ]
    },
    {
     "name": "stderr",
     "output_type": "stream",
     "text": [
      "llm_judge_ans = True\n"
     ]
    },
    {
     "name": "stdout",
     "output_type": "stream",
     "text": [
      "Average Metric: 2.00 / 32 (6.2%):   9%|▉         | 3/32 [00:50<08:38, 17.87s/it]llm_judge_ans = True\n",
      "Average Metric: 2.00 / 32 (6.2%):   9%|▉         | 3/32 [01:10<08:38, 17.87s/it]"
     ]
    },
    {
     "name": "stderr",
     "output_type": "stream",
     "text": [
      "llm_judge_ans = True\n"
     ]
    },
    {
     "name": "stdout",
     "output_type": "stream",
     "text": [
      "Average Metric: 3.00 / 32 (9.4%):  12%|█▎        | 4/32 [01:10<08:49, 18.92s/it]llm_judge_ans = True\n",
      "Average Metric: 3.00 / 32 (9.4%):  12%|█▎        | 4/32 [01:51<08:49, 18.92s/it]"
     ]
    },
    {
     "name": "stderr",
     "output_type": "stream",
     "text": [
      "llm_judge_ans = True\n"
     ]
    },
    {
     "name": "stdout",
     "output_type": "stream",
     "text": [
      "Average Metric: 4.00 / 32 (12.5%):  16%|█▌        | 5/32 [01:51<12:01, 26.71s/it]llm_judge_ans = True\n",
      "Average Metric: 4.00 / 32 (12.5%):  16%|█▌        | 5/32 [02:36<12:01, 26.71s/it]"
     ]
    },
    {
     "name": "stderr",
     "output_type": "stream",
     "text": [
      "llm_judge_ans = True\n"
     ]
    },
    {
     "name": "stdout",
     "output_type": "stream",
     "text": [
      "Average Metric: 5.00 / 32 (15.6%):  19%|█▉        | 6/32 [02:36<14:15, 32.89s/it]"
     ]
    },
    {
     "name": "stderr",
     "output_type": "stream",
     "text": [
      "2024/12/18 15:57:35 ERROR dspy.utils.parallelizer: Error processing item Example({'question': 'What is the notice period required to terminate renewal?', 'answer': 'Unless earlier terminated as provided herein, this Agreement continues in effect for an initial term of seven (7) years (\"Initial Term\") and will automatically renew for one or more annual periods after the Initial Term (each a \"Renewal Term\") unless either party gives notice of non-renewal at least one hundred eighty (180) days prior to the beginning of any Renewal Term.'}) (input_keys={'question'}): An error occurred (ServiceUnavailableException) when calling the InvokeModel operation (reached max retries: 4): Bedrock is unable to process your request.. Set `provide_traceback=True` to see the stack trace.\n"
     ]
    },
    {
     "name": "stdout",
     "output_type": "stream",
     "text": [
      "Average Metric: 5.00 / 32 (15.6%):  22%|██▏       | 7/32 [02:51<11:23, 27.33s/it]llm_judge_ans = False\n",
      "Average Metric: 5.00 / 32 (15.6%):  22%|██▏       | 7/32 [03:15<11:23, 27.33s/it]"
     ]
    },
    {
     "name": "stderr",
     "output_type": "stream",
     "text": [
      "llm_judge_ans = False\n"
     ]
    },
    {
     "name": "stdout",
     "output_type": "stream",
     "text": [
      "Average Metric: 5.00 / 32 (15.6%):  25%|██▌       | 8/32 [03:15<10:27, 26.13s/it]llm_judge_ans = True\n",
      "Average Metric: 5.00 / 32 (15.6%):  25%|██▌       | 8/32 [03:32<10:27, 26.13s/it]"
     ]
    },
    {
     "name": "stderr",
     "output_type": "stream",
     "text": [
      "llm_judge_ans = True\n"
     ]
    },
    {
     "name": "stdout",
     "output_type": "stream",
     "text": [
      "Average Metric: 6.00 / 32 (18.8%):  28%|██▊       | 9/32 [03:32<08:54, 23.26s/it]llm_judge_ans = True\n",
      "Average Metric: 6.00 / 32 (18.8%):  28%|██▊       | 9/32 [03:48<08:54, 23.26s/it]"
     ]
    },
    {
     "name": "stderr",
     "output_type": "stream",
     "text": [
      "llm_judge_ans = True\n"
     ]
    },
    {
     "name": "stdout",
     "output_type": "stream",
     "text": [
      "Average Metric: 7.00 / 32 (21.9%):  31%|███▏      | 10/32 [03:48<07:44, 21.11s/it]llm_judge_ans = False\n",
      "Average Metric: 7.00 / 32 (21.9%):  31%|███▏      | 10/32 [04:03<07:44, 21.11s/it]"
     ]
    },
    {
     "name": "stderr",
     "output_type": "stream",
     "text": [
      "llm_judge_ans = False\n"
     ]
    },
    {
     "name": "stdout",
     "output_type": "stream",
     "text": [
      "Average Metric: 7.00 / 32 (21.9%):  34%|███▍      | 11/32 [04:03<06:42, 19.18s/it]llm_judge_ans = True\n",
      "Average Metric: 7.00 / 32 (21.9%):  34%|███▍      | 11/32 [04:18<06:42, 19.18s/it]"
     ]
    },
    {
     "name": "stderr",
     "output_type": "stream",
     "text": [
      "llm_judge_ans = True\n"
     ]
    },
    {
     "name": "stdout",
     "output_type": "stream",
     "text": [
      "Average Metric: 8.00 / 32 (25.0%):  38%|███▊      | 12/32 [04:18<05:57, 17.86s/it]llm_judge_ans = True\n",
      "Average Metric: 8.00 / 32 (25.0%):  38%|███▊      | 12/32 [04:31<05:57, 17.86s/it]"
     ]
    },
    {
     "name": "stderr",
     "output_type": "stream",
     "text": [
      "llm_judge_ans = True\n"
     ]
    },
    {
     "name": "stdout",
     "output_type": "stream",
     "text": [
      "Average Metric: 9.00 / 32 (28.1%):  41%|████      | 13/32 [04:31<05:12, 16.44s/it]llm_judge_ans = False\n",
      "Average Metric: 9.00 / 32 (28.1%):  41%|████      | 13/32 [04:45<05:12, 16.44s/it]"
     ]
    },
    {
     "name": "stderr",
     "output_type": "stream",
     "text": [
      "llm_judge_ans = False\n"
     ]
    },
    {
     "name": "stdout",
     "output_type": "stream",
     "text": [
      "Average Metric: 9.00 / 32 (28.1%):  44%|████▍     | 14/32 [04:45<04:43, 15.73s/it]llm_judge_ans = True\n",
      "Average Metric: 9.00 / 32 (28.1%):  44%|████▍     | 14/32 [05:04<04:43, 15.73s/it]"
     ]
    },
    {
     "name": "stderr",
     "output_type": "stream",
     "text": [
      "llm_judge_ans = True\n"
     ]
    },
    {
     "name": "stdout",
     "output_type": "stream",
     "text": [
      "Average Metric: 10.00 / 32 (31.2%):  47%|████▋     | 15/32 [05:04<04:40, 16.52s/it]llm_judge_ans = True\n",
      "Average Metric: 10.00 / 32 (31.2%):  47%|████▋     | 15/32 [05:20<04:40, 16.52s/it]"
     ]
    },
    {
     "name": "stderr",
     "output_type": "stream",
     "text": [
      "llm_judge_ans = True\n"
     ]
    },
    {
     "name": "stdout",
     "output_type": "stream",
     "text": [
      "Average Metric: 11.00 / 32 (34.4%):  50%|█████     | 16/32 [05:20<04:25, 16.57s/it]llm_judge_ans = False\n",
      "Average Metric: 11.00 / 32 (34.4%):  50%|█████     | 16/32 [05:35<04:25, 16.57s/it]"
     ]
    },
    {
     "name": "stderr",
     "output_type": "stream",
     "text": [
      "llm_judge_ans = False\n"
     ]
    },
    {
     "name": "stdout",
     "output_type": "stream",
     "text": [
      "Average Metric: 11.00 / 32 (34.4%):  53%|█████▎    | 17/32 [05:35<03:58, 15.89s/it]llm_judge_ans = True\n",
      "Average Metric: 11.00 / 32 (34.4%):  53%|█████▎    | 17/32 [05:50<03:58, 15.89s/it]"
     ]
    },
    {
     "name": "stderr",
     "output_type": "stream",
     "text": [
      "llm_judge_ans = True\n"
     ]
    },
    {
     "name": "stdout",
     "output_type": "stream",
     "text": [
      "Average Metric: 12.00 / 32 (37.5%):  56%|█████▋    | 18/32 [05:50<03:39, 15.70s/it]llm_judge_ans = False\n",
      "Average Metric: 12.00 / 32 (37.5%):  56%|█████▋    | 18/32 [06:07<03:39, 15.70s/it]"
     ]
    },
    {
     "name": "stderr",
     "output_type": "stream",
     "text": [
      "llm_judge_ans = False\n"
     ]
    },
    {
     "name": "stdout",
     "output_type": "stream",
     "text": [
      "Average Metric: 12.00 / 32 (37.5%):  59%|█████▉    | 19/32 [06:07<03:30, 16.21s/it]llm_judge_ans = False\n",
      "Average Metric: 12.00 / 32 (37.5%):  59%|█████▉    | 19/32 [06:24<03:30, 16.21s/it]"
     ]
    },
    {
     "name": "stderr",
     "output_type": "stream",
     "text": [
      "llm_judge_ans = False\n"
     ]
    },
    {
     "name": "stdout",
     "output_type": "stream",
     "text": [
      "Average Metric: 12.00 / 32 (37.5%):  62%|██████▎   | 20/32 [06:24<03:17, 16.43s/it]llm_judge_ans = True\n",
      "Average Metric: 12.00 / 32 (37.5%):  62%|██████▎   | 20/32 [06:42<03:17, 16.43s/it]"
     ]
    },
    {
     "name": "stderr",
     "output_type": "stream",
     "text": [
      "llm_judge_ans = True\n"
     ]
    },
    {
     "name": "stdout",
     "output_type": "stream",
     "text": [
      "Average Metric: 13.00 / 32 (40.6%):  66%|██████▌   | 21/32 [06:42<03:05, 16.89s/it]llm_judge_ans = True\n",
      "Average Metric: 13.00 / 32 (40.6%):  66%|██████▌   | 21/32 [06:59<03:05, 16.89s/it]"
     ]
    },
    {
     "name": "stderr",
     "output_type": "stream",
     "text": [
      "llm_judge_ans = True\n"
     ]
    },
    {
     "name": "stdout",
     "output_type": "stream",
     "text": [
      "Average Metric: 14.00 / 32 (43.8%):  69%|██████▉   | 22/32 [06:59<02:47, 16.79s/it]llm_judge_ans = True\n",
      "Average Metric: 14.00 / 32 (43.8%):  69%|██████▉   | 22/32 [07:14<02:47, 16.79s/it]"
     ]
    },
    {
     "name": "stderr",
     "output_type": "stream",
     "text": [
      "llm_judge_ans = True\n"
     ]
    },
    {
     "name": "stdout",
     "output_type": "stream",
     "text": [
      "Average Metric: 15.00 / 32 (46.9%):  72%|███████▏  | 23/32 [07:14<02:27, 16.36s/it]llm_judge_ans = False\n",
      "Average Metric: 15.00 / 32 (46.9%):  72%|███████▏  | 23/32 [07:29<02:27, 16.36s/it]"
     ]
    },
    {
     "name": "stderr",
     "output_type": "stream",
     "text": [
      "llm_judge_ans = False\n"
     ]
    },
    {
     "name": "stdout",
     "output_type": "stream",
     "text": [
      "Average Metric: 15.00 / 32 (46.9%):  75%|███████▌  | 24/32 [07:29<02:07, 15.94s/it]llm_judge_ans = True\n",
      "Average Metric: 15.00 / 32 (46.9%):  75%|███████▌  | 24/32 [07:43<02:07, 15.94s/it]"
     ]
    },
    {
     "name": "stderr",
     "output_type": "stream",
     "text": [
      "llm_judge_ans = True\n"
     ]
    },
    {
     "name": "stdout",
     "output_type": "stream",
     "text": [
      "Average Metric: 16.00 / 32 (50.0%):  78%|███████▊  | 25/32 [07:43<01:47, 15.35s/it]llm_judge_ans = True\n",
      "Average Metric: 16.00 / 32 (50.0%):  78%|███████▊  | 25/32 [08:01<01:47, 15.35s/it]"
     ]
    },
    {
     "name": "stderr",
     "output_type": "stream",
     "text": [
      "llm_judge_ans = True\n"
     ]
    },
    {
     "name": "stdout",
     "output_type": "stream",
     "text": [
      "Average Metric: 17.00 / 32 (53.1%):  81%|████████▏ | 26/32 [08:01<01:36, 16.05s/it]llm_judge_ans = True\n",
      "Average Metric: 17.00 / 32 (53.1%):  81%|████████▏ | 26/32 [08:16<01:36, 16.05s/it]"
     ]
    },
    {
     "name": "stderr",
     "output_type": "stream",
     "text": [
      "llm_judge_ans = True\n"
     ]
    },
    {
     "name": "stdout",
     "output_type": "stream",
     "text": [
      "Average Metric: 18.00 / 32 (56.2%):  84%|████████▍ | 27/32 [08:16<01:19, 15.82s/it]llm_judge_ans = False\n",
      "Average Metric: 18.00 / 32 (56.2%):  84%|████████▍ | 27/32 [08:31<01:19, 15.82s/it]"
     ]
    },
    {
     "name": "stderr",
     "output_type": "stream",
     "text": [
      "llm_judge_ans = False\n"
     ]
    },
    {
     "name": "stdout",
     "output_type": "stream",
     "text": [
      "Average Metric: 18.00 / 32 (56.2%):  88%|████████▊ | 28/32 [08:31<01:02, 15.68s/it]llm_judge_ans = True\n",
      "Average Metric: 18.00 / 32 (56.2%):  88%|████████▊ | 28/32 [08:48<01:02, 15.68s/it]"
     ]
    },
    {
     "name": "stderr",
     "output_type": "stream",
     "text": [
      "llm_judge_ans = True\n"
     ]
    },
    {
     "name": "stdout",
     "output_type": "stream",
     "text": [
      "Average Metric: 19.00 / 32 (59.4%):  91%|█████████ | 29/32 [08:48<00:48, 16.12s/it]llm_judge_ans = True\n",
      "Average Metric: 19.00 / 32 (59.4%):  91%|█████████ | 29/32 [09:05<00:48, 16.12s/it]"
     ]
    },
    {
     "name": "stderr",
     "output_type": "stream",
     "text": [
      "llm_judge_ans = True\n"
     ]
    },
    {
     "name": "stdout",
     "output_type": "stream",
     "text": [
      "Average Metric: 20.00 / 32 (62.5%):  94%|█████████▍| 30/32 [09:05<00:32, 16.12s/it]llm_judge_ans = True\n",
      "Average Metric: 20.00 / 32 (62.5%):  94%|█████████▍| 30/32 [09:22<00:32, 16.12s/it]"
     ]
    },
    {
     "name": "stderr",
     "output_type": "stream",
     "text": [
      "llm_judge_ans = True\n"
     ]
    },
    {
     "name": "stdout",
     "output_type": "stream",
     "text": [
      "Average Metric: 21.00 / 32 (65.6%):  97%|█████████▋| 31/32 [09:22<00:16, 16.61s/it]llm_judge_ans = False\n",
      "Average Metric: 21.00 / 32 (65.6%):  97%|█████████▋| 31/32 [09:36<00:16, 16.61s/it]"
     ]
    },
    {
     "name": "stderr",
     "output_type": "stream",
     "text": [
      "llm_judge_ans = False\n"
     ]
    },
    {
     "name": "stdout",
     "output_type": "stream",
     "text": [
      "Average Metric: 21.00 / 32 (65.6%): 100%|██████████| 32/32 [09:36<00:00, 18.03s/it]"
     ]
    },
    {
     "name": "stderr",
     "output_type": "stream",
     "text": [
      "2024/12/18 16:04:20 INFO dspy.evaluate.evaluate: Average Metric: 21.0 / 32 (65.6%)\n"
     ]
    },
    {
     "name": "stdout",
     "output_type": "stream",
     "text": [
      "\n",
      "compiled_score for COMPILED lm_id = anthropic.claude-3-sonnet-20240229-v1:0 and raw_score =  65.62\n",
      "\n",
      "\n",
      "\n",
      "\n",
      "\n",
      "Human: Judge if the predicted answer factually correct to the groundtruth answer and same as groundtruth answer. Answer either Factual[True] or Factual[False]\n",
      "\n",
      "---\n",
      "\n",
      "Follow the following format.\n",
      "\n",
      "Question: Question to be answered\n",
      "\n",
      "Groundtruth Answer: groundtruth answer for the question\n",
      "\n",
      "Predicted Answer: predicted answer for the question\n",
      "\n",
      "Reasoning: Let's think step by step in order to ${produce the factually_correct}. We ...\n",
      "\n",
      "Factual[True/False]: Is the predicted answer factually correct to the groundtruth answer and same as groundtruth answer ?\n",
      "\n",
      "---\n",
      "\n",
      "Question: Is there a requirement for insurance that must be maintained by one party for the benefit of the counterparty?\n",
      "\n",
      "Groundtruth Answer: Each party will maintain, during the Term and for three (3) years thereafter, such comprehensive general liability insurance (including without limitation, products liability) as will adequately protect it against its potential liabilities under this Agreement, in amounts customary in the semiconductor industry for similar services and products., Each party will, at the other party's request, provide to the other party a certificate of insurance evidencing the foregoing insurance coverage.\n",
      "\n",
      "Predicted Answer: Yes, there is a requirement for both parties to maintain insurance coverage according to Section 12.4: \"Each party will maintain, during the Term and for three (3) years thereafter, such comprehensive general liability insurance (including without limitation, products liability) as will adequately protect it against its potential liabilities under this Agreement, in amounts customary in the semiconductor\n",
      "\n",
      "Reasoning: Let's think step by step in order to Reasoning: To determine if the predicted answer is factually correct and the same as the groundtruth answer, we need to carefully analyze both answers. The groundtruth answer states: \"Each party will maintain, during the Term and for three (3) years thereafter, such comprehensive general liability insurance (including without limitation, products liability) as will adequately protect\n",
      "\n",
      "Factual[True/False]:\n",
      "\n",
      "Assistant:\u001b[32mReasoning: To determine if the predicted answer is factually correct and the same as the groundtruth answer, we need to carefully analyze both answers. The groundtruth answer states: \"Each party will maintain, during the Term and for three (3) years thereafter, such comprehensive general liability insurance (including without limitation, products liability) as will adequately protect it\u001b[0m\n",
      "\n",
      "\n",
      "\n",
      "llm_judge_ans = False\n",
      "Average Metric: 4.00 / 32 (12.5%):  25%|██▌       | 8/32 [00:22<00:44,  1.87s/it]"
     ]
    },
    {
     "name": "stderr",
     "output_type": "stream",
     "text": [
      "llm_judge_ans = False\n"
     ]
    },
    {
     "name": "stdout",
     "output_type": "stream",
     "text": [
      "Average Metric: 4.00 / 32 (12.5%):  28%|██▊       | 9/32 [00:22<01:10,  3.08s/it]llm_judge_ans = True\n",
      "Average Metric: 4.00 / 32 (12.5%):  28%|██▊       | 9/32 [00:25<01:10,  3.08s/it]"
     ]
    },
    {
     "name": "stderr",
     "output_type": "stream",
     "text": [
      "llm_judge_ans = True\n"
     ]
    },
    {
     "name": "stdout",
     "output_type": "stream",
     "text": [
      "Average Metric: 5.00 / 32 (15.6%):  31%|███▏      | 10/32 [00:25<01:06,  3.04s/it]llm_judge_ans = True\n",
      "Average Metric: 5.00 / 32 (15.6%):  31%|███▏      | 10/32 [00:27<01:06,  3.04s/it]"
     ]
    },
    {
     "name": "stderr",
     "output_type": "stream",
     "text": [
      "llm_judge_ans = True\n"
     ]
    },
    {
     "name": "stdout",
     "output_type": "stream",
     "text": [
      "Average Metric: 6.00 / 32 (18.8%):  34%|███▍      | 11/32 [00:27<00:59,  2.86s/it]llm_judge_ans = False\n",
      "Average Metric: 6.00 / 32 (18.8%):  34%|███▍      | 11/32 [00:29<00:59,  2.86s/it]"
     ]
    },
    {
     "name": "stderr",
     "output_type": "stream",
     "text": [
      "llm_judge_ans = False\n"
     ]
    },
    {
     "name": "stdout",
     "output_type": "stream",
     "text": [
      "Average Metric: 6.00 / 32 (18.8%):  38%|███▊      | 12/32 [00:29<00:52,  2.65s/it]llm_judge_ans = True\n",
      "Average Metric: 6.00 / 32 (18.8%):  38%|███▊      | 12/32 [00:31<00:52,  2.65s/it]"
     ]
    },
    {
     "name": "stderr",
     "output_type": "stream",
     "text": [
      "llm_judge_ans = True\n"
     ]
    },
    {
     "name": "stdout",
     "output_type": "stream",
     "text": [
      "Average Metric: 7.00 / 32 (21.9%):  41%|████      | 13/32 [00:31<00:45,  2.41s/it]llm_judge_ans = False\n",
      "Average Metric: 7.00 / 32 (21.9%):  41%|████      | 13/32 [00:34<00:45,  2.41s/it]"
     ]
    },
    {
     "name": "stderr",
     "output_type": "stream",
     "text": [
      "llm_judge_ans = False\n"
     ]
    },
    {
     "name": "stdout",
     "output_type": "stream",
     "text": [
      "Average Metric: 7.00 / 32 (21.9%):  44%|████▍     | 14/32 [00:34<00:48,  2.68s/it]llm_judge_ans = False\n",
      "Average Metric: 7.00 / 32 (21.9%):  44%|████▍     | 14/32 [00:36<00:48,  2.68s/it]"
     ]
    },
    {
     "name": "stderr",
     "output_type": "stream",
     "text": [
      "llm_judge_ans = False\n"
     ]
    },
    {
     "name": "stdout",
     "output_type": "stream",
     "text": [
      "Average Metric: 7.00 / 32 (21.9%):  47%|████▋     | 15/32 [00:36<00:40,  2.40s/it]llm_judge_ans = True\n",
      "Average Metric: 7.00 / 32 (21.9%):  47%|████▋     | 15/32 [00:39<00:40,  2.40s/it]"
     ]
    },
    {
     "name": "stderr",
     "output_type": "stream",
     "text": [
      "llm_judge_ans = True\n"
     ]
    },
    {
     "name": "stdout",
     "output_type": "stream",
     "text": [
      "Average Metric: 8.00 / 32 (25.0%):  50%|█████     | 16/32 [00:39<00:40,  2.53s/it]llm_judge_ans = True\n",
      "Average Metric: 8.00 / 32 (25.0%):  50%|█████     | 16/32 [00:41<00:40,  2.53s/it]"
     ]
    },
    {
     "name": "stderr",
     "output_type": "stream",
     "text": [
      "llm_judge_ans = True\n"
     ]
    },
    {
     "name": "stdout",
     "output_type": "stream",
     "text": [
      "Average Metric: 9.00 / 32 (28.1%):  53%|█████▎    | 17/32 [00:41<00:34,  2.28s/it]llm_judge_ans = True\n",
      "Average Metric: 9.00 / 32 (28.1%):  53%|█████▎    | 17/32 [00:43<00:34,  2.28s/it]"
     ]
    },
    {
     "name": "stderr",
     "output_type": "stream",
     "text": [
      "llm_judge_ans = True\n"
     ]
    },
    {
     "name": "stdout",
     "output_type": "stream",
     "text": [
      "Average Metric: 10.00 / 32 (31.2%):  56%|█████▋    | 18/32 [00:43<00:30,  2.21s/it]llm_judge_ans = True\n",
      "Average Metric: 10.00 / 32 (31.2%):  56%|█████▋    | 18/32 [00:45<00:30,  2.21s/it]"
     ]
    },
    {
     "name": "stderr",
     "output_type": "stream",
     "text": [
      "llm_judge_ans = True\n"
     ]
    },
    {
     "name": "stdout",
     "output_type": "stream",
     "text": [
      "Average Metric: 11.00 / 32 (34.4%):  59%|█████▉    | 19/32 [00:45<00:29,  2.30s/it]llm_judge_ans = False\n",
      "Average Metric: 11.00 / 32 (34.4%):  59%|█████▉    | 19/32 [00:47<00:29,  2.30s/it]"
     ]
    },
    {
     "name": "stderr",
     "output_type": "stream",
     "text": [
      "llm_judge_ans = False\n"
     ]
    },
    {
     "name": "stdout",
     "output_type": "stream",
     "text": [
      "Average Metric: 11.00 / 32 (34.4%):  62%|██████▎   | 20/32 [00:47<00:26,  2.22s/it]llm_judge_ans = True\n",
      "Average Metric: 11.00 / 32 (34.4%):  62%|██████▎   | 20/32 [00:49<00:26,  2.22s/it]"
     ]
    },
    {
     "name": "stderr",
     "output_type": "stream",
     "text": [
      "llm_judge_ans = True\n"
     ]
    },
    {
     "name": "stdout",
     "output_type": "stream",
     "text": [
      "Average Metric: 12.00 / 32 (37.5%):  66%|██████▌   | 21/32 [00:49<00:22,  2.04s/it]llm_judge_ans = False\n",
      "Average Metric: 12.00 / 32 (37.5%):  66%|██████▌   | 21/32 [00:52<00:22,  2.04s/it]"
     ]
    },
    {
     "name": "stderr",
     "output_type": "stream",
     "text": [
      "llm_judge_ans = False\n"
     ]
    },
    {
     "name": "stdout",
     "output_type": "stream",
     "text": [
      "Average Metric: 12.00 / 32 (37.5%):  69%|██████▉   | 22/32 [00:52<00:23,  2.34s/it]llm_judge_ans = False\n",
      "Average Metric: 12.00 / 32 (37.5%):  69%|██████▉   | 22/32 [00:55<00:23,  2.34s/it]"
     ]
    },
    {
     "name": "stderr",
     "output_type": "stream",
     "text": [
      "llm_judge_ans = False\n"
     ]
    },
    {
     "name": "stdout",
     "output_type": "stream",
     "text": [
      "Average Metric: 12.00 / 32 (37.5%):  72%|███████▏  | 23/32 [00:55<00:22,  2.52s/it]llm_judge_ans = True\n",
      "Average Metric: 12.00 / 32 (37.5%):  72%|███████▏  | 23/32 [00:57<00:22,  2.52s/it]"
     ]
    },
    {
     "name": "stderr",
     "output_type": "stream",
     "text": [
      "llm_judge_ans = True\n"
     ]
    },
    {
     "name": "stdout",
     "output_type": "stream",
     "text": [
      "Average Metric: 13.00 / 32 (40.6%):  75%|███████▌  | 24/32 [00:57<00:20,  2.51s/it]llm_judge_ans = True\n",
      "Average Metric: 13.00 / 32 (40.6%):  75%|███████▌  | 24/32 [01:01<00:20,  2.51s/it]"
     ]
    },
    {
     "name": "stderr",
     "output_type": "stream",
     "text": [
      "llm_judge_ans = True\n"
     ]
    },
    {
     "name": "stdout",
     "output_type": "stream",
     "text": [
      "Average Metric: 14.00 / 32 (43.8%):  78%|███████▊  | 25/32 [01:01<00:19,  2.72s/it]llm_judge_ans = True\n",
      "Average Metric: 14.00 / 32 (43.8%):  78%|███████▊  | 25/32 [01:02<00:19,  2.72s/it]"
     ]
    },
    {
     "name": "stderr",
     "output_type": "stream",
     "text": [
      "llm_judge_ans = True\n"
     ]
    },
    {
     "name": "stdout",
     "output_type": "stream",
     "text": [
      "Average Metric: 15.00 / 32 (46.9%):  81%|████████▏ | 26/32 [01:02<00:14,  2.46s/it]llm_judge_ans = True\n",
      "Average Metric: 15.00 / 32 (46.9%):  81%|████████▏ | 26/32 [01:05<00:14,  2.46s/it]"
     ]
    },
    {
     "name": "stderr",
     "output_type": "stream",
     "text": [
      "llm_judge_ans = True\n"
     ]
    },
    {
     "name": "stdout",
     "output_type": "stream",
     "text": [
      "Average Metric: 16.00 / 32 (50.0%):  84%|████████▍ | 27/32 [01:05<00:11,  2.38s/it]llm_judge_ans = False\n",
      "Average Metric: 16.00 / 32 (50.0%):  84%|████████▍ | 27/32 [01:09<00:11,  2.38s/it]"
     ]
    },
    {
     "name": "stderr",
     "output_type": "stream",
     "text": [
      "llm_judge_ans = False\n"
     ]
    },
    {
     "name": "stdout",
     "output_type": "stream",
     "text": [
      "Average Metric: 16.00 / 32 (50.0%):  88%|████████▊ | 28/32 [01:09<00:11,  2.99s/it]llm_judge_ans = True\n",
      "Average Metric: 16.00 / 32 (50.0%):  88%|████████▊ | 28/32 [01:11<00:11,  2.99s/it]"
     ]
    },
    {
     "name": "stderr",
     "output_type": "stream",
     "text": [
      "llm_judge_ans = True\n"
     ]
    },
    {
     "name": "stdout",
     "output_type": "stream",
     "text": [
      "Average Metric: 17.00 / 32 (53.1%):  91%|█████████ | 29/32 [01:11<00:08,  2.79s/it]llm_judge_ans = True\n",
      "Average Metric: 17.00 / 32 (53.1%):  91%|█████████ | 29/32 [01:14<00:08,  2.79s/it]"
     ]
    },
    {
     "name": "stderr",
     "output_type": "stream",
     "text": [
      "llm_judge_ans = True\n"
     ]
    },
    {
     "name": "stdout",
     "output_type": "stream",
     "text": [
      "Average Metric: 18.00 / 32 (56.2%):  94%|█████████▍| 30/32 [01:14<00:05,  2.82s/it]llm_judge_ans = True\n",
      "Average Metric: 18.00 / 32 (56.2%):  94%|█████████▍| 30/32 [01:16<00:05,  2.82s/it]"
     ]
    },
    {
     "name": "stderr",
     "output_type": "stream",
     "text": [
      "llm_judge_ans = True\n"
     ]
    },
    {
     "name": "stdout",
     "output_type": "stream",
     "text": [
      "Average Metric: 19.00 / 32 (59.4%):  97%|█████████▋| 31/32 [01:16<00:02,  2.52s/it]llm_judge_ans = True\n",
      "Average Metric: 19.00 / 32 (59.4%):  97%|█████████▋| 31/32 [01:17<00:02,  2.52s/it]"
     ]
    },
    {
     "name": "stderr",
     "output_type": "stream",
     "text": [
      "llm_judge_ans = True\n"
     ]
    },
    {
     "name": "stdout",
     "output_type": "stream",
     "text": [
      "Average Metric: 20.00 / 32 (62.5%): 100%|██████████| 32/32 [01:17<00:00,  2.43s/it]"
     ]
    },
    {
     "name": "stderr",
     "output_type": "stream",
     "text": [
      "2024/12/18 16:07:12 INFO dspy.evaluate.evaluate: Average Metric: 20 / 32 (62.5%)\n"
     ]
    },
    {
     "name": "stdout",
     "output_type": "stream",
     "text": [
      "\n",
      "raw_score for lm_id = mistral.mistral-7b-instruct-v0:2 and raw_score =  62.5\n",
      "******* COMPILING model_id = mistral.mistral-7b-instruct-v0:2 ******* --------------->\n"
     ]
    },
    {
     "name": "stderr",
     "output_type": "stream",
     "text": [
      "  4%|▎         | 1/28 [00:02<00:58,  2.18s/it]"
     ]
    },
    {
     "name": "stdout",
     "output_type": "stream",
     "text": [
      "llm_judge_ans = False\n"
     ]
    },
    {
     "name": "stderr",
     "output_type": "stream",
     "text": [
      "  7%|▋         | 2/28 [00:04<00:52,  2.00s/it]"
     ]
    },
    {
     "name": "stdout",
     "output_type": "stream",
     "text": [
      "llm_judge_ans = True\n"
     ]
    },
    {
     "name": "stderr",
     "output_type": "stream",
     "text": [
      " 11%|█         | 3/28 [00:06<00:53,  2.13s/it]"
     ]
    },
    {
     "name": "stdout",
     "output_type": "stream",
     "text": [
      "llm_judge_ans = False\n"
     ]
    },
    {
     "name": "stderr",
     "output_type": "stream",
     "text": [
      " 14%|█▍        | 4/28 [00:08<00:48,  2.00s/it]"
     ]
    },
    {
     "name": "stdout",
     "output_type": "stream",
     "text": [
      "llm_judge_ans = True\n"
     ]
    },
    {
     "name": "stderr",
     "output_type": "stream",
     "text": [
      " 18%|█▊        | 5/28 [00:21<02:16,  5.95s/it]"
     ]
    },
    {
     "name": "stdout",
     "output_type": "stream",
     "text": [
      "llm_judge_ans = True\n"
     ]
    },
    {
     "name": "stderr",
     "output_type": "stream",
     "text": [
      " 21%|██▏       | 6/28 [00:23<01:27,  3.97s/it]\n"
     ]
    },
    {
     "name": "stdout",
     "output_type": "stream",
     "text": [
      "llm_judge_ans = True\n",
      "Bootstrapped 4 full traces after 6 examples for up to 1 rounds, amounting to 6 attempts.\n",
      "  0%|          | 0/32 [00:00<?, ?it/s]llm_judge_ans = False\n",
      "  0%|          | 0/32 [00:03<?, ?it/s]"
     ]
    },
    {
     "name": "stderr",
     "output_type": "stream",
     "text": [
      "llm_judge_ans = False\n"
     ]
    },
    {
     "name": "stdout",
     "output_type": "stream",
     "text": [
      "Average Metric: 0.00 / 32 (0.0%):   3%|▎         | 1/32 [00:03<02:03,  3.98s/it]llm_judge_ans = True\n",
      "Average Metric: 0.00 / 32 (0.0%):   3%|▎         | 1/32 [00:07<02:03,  3.98s/it]"
     ]
    },
    {
     "name": "stderr",
     "output_type": "stream",
     "text": [
      "llm_judge_ans = True\n"
     ]
    },
    {
     "name": "stdout",
     "output_type": "stream",
     "text": [
      "Average Metric: 1.00 / 32 (3.1%):   6%|▋         | 2/32 [00:07<01:47,  3.57s/it]llm_judge_ans = False\n",
      "Average Metric: 1.00 / 32 (3.1%):   6%|▋         | 2/32 [00:11<01:47,  3.57s/it]"
     ]
    },
    {
     "name": "stderr",
     "output_type": "stream",
     "text": [
      "llm_judge_ans = False\n"
     ]
    },
    {
     "name": "stdout",
     "output_type": "stream",
     "text": [
      "Average Metric: 1.00 / 32 (3.1%):   9%|▉         | 3/32 [00:11<01:49,  3.77s/it]llm_judge_ans = False\n",
      "Average Metric: 1.00 / 32 (3.1%):   9%|▉         | 3/32 [00:15<01:49,  3.77s/it]"
     ]
    },
    {
     "name": "stderr",
     "output_type": "stream",
     "text": [
      "llm_judge_ans = False\n"
     ]
    },
    {
     "name": "stdout",
     "output_type": "stream",
     "text": [
      "Average Metric: 1.00 / 32 (3.1%):  12%|█▎        | 4/32 [00:15<01:53,  4.05s/it]llm_judge_ans = True\n",
      "Average Metric: 1.00 / 32 (3.1%):  12%|█▎        | 4/32 [00:30<01:53,  4.05s/it]"
     ]
    },
    {
     "name": "stderr",
     "output_type": "stream",
     "text": [
      "llm_judge_ans = True\n"
     ]
    },
    {
     "name": "stdout",
     "output_type": "stream",
     "text": [
      "Average Metric: 2.00 / 32 (6.2%):  16%|█▌        | 5/32 [00:30<03:34,  7.96s/it]llm_judge_ans = True\n",
      "Average Metric: 2.00 / 32 (6.2%):  16%|█▌        | 5/32 [00:38<03:34,  7.96s/it]"
     ]
    },
    {
     "name": "stderr",
     "output_type": "stream",
     "text": [
      "llm_judge_ans = True\n"
     ]
    },
    {
     "name": "stdout",
     "output_type": "stream",
     "text": [
      "Average Metric: 3.00 / 32 (9.4%):  19%|█▉        | 6/32 [00:38<03:22,  7.80s/it]llm_judge_ans = True\n",
      "Average Metric: 3.00 / 32 (9.4%):  19%|█▉        | 6/32 [00:41<03:22,  7.80s/it]"
     ]
    },
    {
     "name": "stderr",
     "output_type": "stream",
     "text": [
      "llm_judge_ans = True\n"
     ]
    },
    {
     "name": "stdout",
     "output_type": "stream",
     "text": [
      "Average Metric: 4.00 / 32 (12.5%):  22%|██▏       | 7/32 [00:41<02:40,  6.42s/it]llm_judge_ans = True\n",
      "Average Metric: 4.00 / 32 (12.5%):  22%|██▏       | 7/32 [00:44<02:40,  6.42s/it]"
     ]
    },
    {
     "name": "stderr",
     "output_type": "stream",
     "text": [
      "llm_judge_ans = True\n"
     ]
    },
    {
     "name": "stdout",
     "output_type": "stream",
     "text": [
      "Average Metric: 5.00 / 32 (15.6%):  25%|██▌       | 8/32 [00:44<02:08,  5.36s/it]llm_judge_ans = True\n",
      "Average Metric: 5.00 / 32 (15.6%):  25%|██▌       | 8/32 [00:56<02:08,  5.36s/it]"
     ]
    },
    {
     "name": "stderr",
     "output_type": "stream",
     "text": [
      "llm_judge_ans = True\n"
     ]
    },
    {
     "name": "stdout",
     "output_type": "stream",
     "text": [
      "Average Metric: 6.00 / 32 (18.8%):  28%|██▊       | 9/32 [00:56<02:47,  7.29s/it]llm_judge_ans = True\n",
      "Average Metric: 6.00 / 32 (18.8%):  28%|██▊       | 9/32 [01:03<02:47,  7.29s/it]"
     ]
    },
    {
     "name": "stderr",
     "output_type": "stream",
     "text": [
      "llm_judge_ans = True\n"
     ]
    },
    {
     "name": "stdout",
     "output_type": "stream",
     "text": [
      "Average Metric: 7.00 / 32 (21.9%):  31%|███▏      | 10/32 [01:03<02:41,  7.35s/it]llm_judge_ans = False\n",
      "Average Metric: 7.00 / 32 (21.9%):  31%|███▏      | 10/32 [01:11<02:41,  7.35s/it]"
     ]
    },
    {
     "name": "stderr",
     "output_type": "stream",
     "text": [
      "llm_judge_ans = False\n"
     ]
    },
    {
     "name": "stdout",
     "output_type": "stream",
     "text": [
      "Average Metric: 7.00 / 32 (21.9%):  34%|███▍      | 11/32 [01:11<02:37,  7.50s/it]llm_judge_ans = False\n",
      "Average Metric: 7.00 / 32 (21.9%):  34%|███▍      | 11/32 [01:22<02:37,  7.50s/it]"
     ]
    },
    {
     "name": "stderr",
     "output_type": "stream",
     "text": [
      "llm_judge_ans = False\n"
     ]
    },
    {
     "name": "stdout",
     "output_type": "stream",
     "text": [
      "Average Metric: 7.00 / 32 (21.9%):  38%|███▊      | 12/32 [01:22<02:50,  8.54s/it]llm_judge_ans = True\n",
      "Average Metric: 7.00 / 32 (21.9%):  38%|███▊      | 12/32 [01:29<02:50,  8.54s/it]"
     ]
    },
    {
     "name": "stderr",
     "output_type": "stream",
     "text": [
      "llm_judge_ans = True\n"
     ]
    },
    {
     "name": "stdout",
     "output_type": "stream",
     "text": [
      "Average Metric: 8.00 / 32 (25.0%):  41%|████      | 13/32 [01:29<02:34,  8.13s/it]llm_judge_ans = True\n",
      "Average Metric: 8.00 / 32 (25.0%):  41%|████      | 13/32 [01:37<02:34,  8.13s/it]"
     ]
    },
    {
     "name": "stderr",
     "output_type": "stream",
     "text": [
      "llm_judge_ans = True\n"
     ]
    },
    {
     "name": "stdout",
     "output_type": "stream",
     "text": [
      "Average Metric: 9.00 / 32 (28.1%):  44%|████▍     | 14/32 [01:37<02:23,  7.97s/it]llm_judge_ans = False\n",
      "Average Metric: 9.00 / 32 (28.1%):  44%|████▍     | 14/32 [01:42<02:23,  7.97s/it]"
     ]
    },
    {
     "name": "stderr",
     "output_type": "stream",
     "text": [
      "llm_judge_ans = False\n"
     ]
    },
    {
     "name": "stdout",
     "output_type": "stream",
     "text": [
      "Average Metric: 9.00 / 32 (28.1%):  47%|████▋     | 15/32 [01:42<02:02,  7.23s/it]llm_judge_ans = True\n",
      "Average Metric: 9.00 / 32 (28.1%):  47%|████▋     | 15/32 [01:52<02:02,  7.23s/it]"
     ]
    },
    {
     "name": "stderr",
     "output_type": "stream",
     "text": [
      "llm_judge_ans = True\n"
     ]
    },
    {
     "name": "stdout",
     "output_type": "stream",
     "text": [
      "Average Metric: 10.00 / 32 (31.2%):  50%|█████     | 16/32 [01:52<02:07,  7.95s/it]llm_judge_ans = True\n",
      "Average Metric: 10.00 / 32 (31.2%):  50%|█████     | 16/32 [01:58<02:07,  7.95s/it]"
     ]
    },
    {
     "name": "stderr",
     "output_type": "stream",
     "text": [
      "llm_judge_ans = True\n"
     ]
    },
    {
     "name": "stdout",
     "output_type": "stream",
     "text": [
      "Average Metric: 11.00 / 32 (34.4%):  53%|█████▎    | 17/32 [01:58<01:48,  7.25s/it]llm_judge_ans = True\n",
      "Average Metric: 11.00 / 32 (34.4%):  53%|█████▎    | 17/32 [02:03<01:48,  7.25s/it]"
     ]
    },
    {
     "name": "stderr",
     "output_type": "stream",
     "text": [
      "llm_judge_ans = True\n"
     ]
    },
    {
     "name": "stdout",
     "output_type": "stream",
     "text": [
      "Average Metric: 12.00 / 32 (37.5%):  56%|█████▋    | 18/32 [02:03<01:34,  6.74s/it]llm_judge_ans = True\n",
      "Average Metric: 12.00 / 32 (37.5%):  56%|█████▋    | 18/32 [02:09<01:34,  6.74s/it]"
     ]
    },
    {
     "name": "stderr",
     "output_type": "stream",
     "text": [
      "llm_judge_ans = True\n"
     ]
    },
    {
     "name": "stdout",
     "output_type": "stream",
     "text": [
      "Average Metric: 13.00 / 32 (40.6%):  59%|█████▉    | 19/32 [02:09<01:22,  6.36s/it]llm_judge_ans = False\n",
      "Average Metric: 13.00 / 32 (40.6%):  59%|█████▉    | 19/32 [02:16<01:22,  6.36s/it]"
     ]
    },
    {
     "name": "stderr",
     "output_type": "stream",
     "text": [
      "llm_judge_ans = False\n"
     ]
    },
    {
     "name": "stdout",
     "output_type": "stream",
     "text": [
      "Average Metric: 13.00 / 32 (40.6%):  62%|██████▎   | 20/32 [02:16<01:18,  6.56s/it]llm_judge_ans = True\n",
      "Average Metric: 13.00 / 32 (40.6%):  62%|██████▎   | 20/32 [02:21<01:18,  6.56s/it]"
     ]
    },
    {
     "name": "stderr",
     "output_type": "stream",
     "text": [
      "llm_judge_ans = True\n"
     ]
    },
    {
     "name": "stdout",
     "output_type": "stream",
     "text": [
      "Average Metric: 14.00 / 32 (43.8%):  66%|██████▌   | 21/32 [02:21<01:09,  6.32s/it]llm_judge_ans = True\n",
      "Average Metric: 14.00 / 32 (43.8%):  66%|██████▌   | 21/32 [02:30<01:09,  6.32s/it]"
     ]
    },
    {
     "name": "stderr",
     "output_type": "stream",
     "text": [
      "llm_judge_ans = True\n"
     ]
    },
    {
     "name": "stdout",
     "output_type": "stream",
     "text": [
      "Average Metric: 15.00 / 32 (46.9%):  69%|██████▉   | 22/32 [02:30<01:10,  7.08s/it]llm_judge_ans = True\n",
      "Average Metric: 15.00 / 32 (46.9%):  69%|██████▉   | 22/32 [02:35<01:10,  7.08s/it]"
     ]
    },
    {
     "name": "stderr",
     "output_type": "stream",
     "text": [
      "llm_judge_ans = True\n"
     ]
    },
    {
     "name": "stdout",
     "output_type": "stream",
     "text": [
      "Average Metric: 16.00 / 32 (50.0%):  72%|███████▏  | 23/32 [02:35<00:58,  6.45s/it]llm_judge_ans = True\n",
      "Average Metric: 16.00 / 32 (50.0%):  72%|███████▏  | 23/32 [02:39<00:58,  6.45s/it]"
     ]
    },
    {
     "name": "stderr",
     "output_type": "stream",
     "text": [
      "llm_judge_ans = True\n"
     ]
    },
    {
     "name": "stdout",
     "output_type": "stream",
     "text": [
      "Average Metric: 17.00 / 32 (53.1%):  75%|███████▌  | 24/32 [02:39<00:45,  5.75s/it]llm_judge_ans = False\n",
      "Average Metric: 17.00 / 32 (53.1%):  75%|███████▌  | 24/32 [02:47<00:45,  5.75s/it]"
     ]
    },
    {
     "name": "stderr",
     "output_type": "stream",
     "text": [
      "llm_judge_ans = False\n"
     ]
    },
    {
     "name": "stdout",
     "output_type": "stream",
     "text": [
      "Average Metric: 17.00 / 32 (53.1%):  78%|███████▊  | 25/32 [02:47<00:45,  6.43s/it]llm_judge_ans = True\n",
      "Average Metric: 17.00 / 32 (53.1%):  78%|███████▊  | 25/32 [02:57<00:45,  6.43s/it]"
     ]
    },
    {
     "name": "stderr",
     "output_type": "stream",
     "text": [
      "llm_judge_ans = True\n"
     ]
    },
    {
     "name": "stdout",
     "output_type": "stream",
     "text": [
      "Average Metric: 18.00 / 32 (56.2%):  81%|████████▏ | 26/32 [02:57<00:45,  7.51s/it]llm_judge_ans = True\n",
      "Average Metric: 18.00 / 32 (56.2%):  81%|████████▏ | 26/32 [03:06<00:45,  7.51s/it]"
     ]
    },
    {
     "name": "stderr",
     "output_type": "stream",
     "text": [
      "llm_judge_ans = True\n"
     ]
    },
    {
     "name": "stdout",
     "output_type": "stream",
     "text": [
      "Average Metric: 19.00 / 32 (59.4%):  84%|████████▍ | 27/32 [03:06<00:39,  7.93s/it]llm_judge_ans = True\n",
      "Average Metric: 19.00 / 32 (59.4%):  84%|████████▍ | 27/32 [03:11<00:39,  7.93s/it]"
     ]
    },
    {
     "name": "stderr",
     "output_type": "stream",
     "text": [
      "llm_judge_ans = True\n"
     ]
    },
    {
     "name": "stdout",
     "output_type": "stream",
     "text": [
      "Average Metric: 20.00 / 32 (62.5%):  88%|████████▊ | 28/32 [03:11<00:28,  7.07s/it]llm_judge_ans = True\n",
      "Average Metric: 20.00 / 32 (62.5%):  88%|████████▊ | 28/32 [03:19<00:28,  7.07s/it]"
     ]
    },
    {
     "name": "stderr",
     "output_type": "stream",
     "text": [
      "llm_judge_ans = True\n"
     ]
    },
    {
     "name": "stdout",
     "output_type": "stream",
     "text": [
      "Average Metric: 21.00 / 32 (65.6%):  91%|█████████ | 29/32 [03:19<00:21,  7.24s/it]llm_judge_ans = True\n",
      "Average Metric: 21.00 / 32 (65.6%):  91%|█████████ | 29/32 [03:27<00:21,  7.24s/it]"
     ]
    },
    {
     "name": "stderr",
     "output_type": "stream",
     "text": [
      "llm_judge_ans = True\n"
     ]
    },
    {
     "name": "stdout",
     "output_type": "stream",
     "text": [
      "Average Metric: 22.00 / 32 (68.8%):  94%|█████████▍| 30/32 [03:27<00:15,  7.60s/it]llm_judge_ans = False\n",
      "Average Metric: 22.00 / 32 (68.8%):  94%|█████████▍| 30/32 [03:37<00:15,  7.60s/it]"
     ]
    },
    {
     "name": "stderr",
     "output_type": "stream",
     "text": [
      "llm_judge_ans = False\n"
     ]
    },
    {
     "name": "stdout",
     "output_type": "stream",
     "text": [
      "Average Metric: 22.00 / 32 (68.8%):  97%|█████████▋| 31/32 [03:37<00:08,  8.23s/it]llm_judge_ans = True\n",
      "Average Metric: 22.00 / 32 (68.8%):  97%|█████████▋| 31/32 [03:51<00:08,  8.23s/it]"
     ]
    },
    {
     "name": "stderr",
     "output_type": "stream",
     "text": [
      "llm_judge_ans = True\n"
     ]
    },
    {
     "name": "stdout",
     "output_type": "stream",
     "text": [
      "Average Metric: 23.00 / 32 (71.9%): 100%|██████████| 32/32 [03:51<00:00,  7.24s/it]"
     ]
    },
    {
     "name": "stderr",
     "output_type": "stream",
     "text": [
      "2024/12/18 16:11:27 INFO dspy.evaluate.evaluate: Average Metric: 23 / 32 (71.9%)\n"
     ]
    },
    {
     "name": "stdout",
     "output_type": "stream",
     "text": [
      "\n",
      "compiled_score for COMPILED lm_id = mistral.mistral-7b-instruct-v0:2 and raw_score =  71.88\n",
      "\n",
      "\n",
      "\n",
      "<s> [INST] Human: Judge if the predicted answer factually correct to the groundtruth answer and same as groundtruth answer. Answer either Factual[True] or Factual[False]\n",
      "\n",
      "---\n",
      "\n",
      "Follow the following format.\n",
      "\n",
      "Question: Question to be answered\n",
      "\n",
      "Groundtruth Answer: groundtruth answer for the question\n",
      "\n",
      "Predicted Answer: predicted answer for the question\n",
      "\n",
      "Reasoning: Let's think step by step in order to ${produce the factually_correct}. We ...\n",
      "\n",
      "Factual[True/False]: Is the predicted answer factually correct to the groundtruth answer and same as groundtruth answer ?\n",
      "\n",
      "---\n",
      "\n",
      "Question: Is there a requirement for insurance that must be maintained by one party for the benefit of the counterparty?\n",
      "\n",
      "Groundtruth Answer: Each party will maintain, during the Term and for three (3) years thereafter, such comprehensive general liability insurance (including without limitation, products liability) as will adequately protect it against its potential liabilities under this Agreement, in amounts customary in the semiconductor industry for similar services and products., Each party will, at the other party's request, provide to the other party a certificate of insurance evidencing the foregoing insurance coverage.\n",
      "\n",
      "Predicted Answer: Each party must maintain and provide proof of comprehensive general liability insurance to the other party.\n",
      "\n",
      "Reasoning: Let's think step by step in order to Factual[True]. Both the groundtruth answer and the predicted answer state that each party must maintain and provide proof of comprehensive general liability insurance to the other party.\n",
      "\n",
      "Factual[True/False]: [/INST] Assistant: \u001b[32m Factual[True]\u001b[0m\n",
      "\n",
      "\n",
      "\n",
      "END OF model_id = mistral.mistral-7b-instruct-v0:2 --------------->\n",
      "CPU times: user 8.26 s, sys: 516 ms, total: 8.78 s\n",
      "Wall time: 29min 1s\n"
     ]
    }
   ],
   "source": [
    "%%time\n",
    "# Evaluation\n",
    "\n",
    "raw_scores = list()\n",
    "compiled_scores = list()\n",
    "model_ids = [\"anthropic.claude-3-haiku-20240307-v1:0\", \"anthropic.claude-3-sonnet-20240229-v1:0\", \"mistral.mistral-7b-instruct-v0:2\"]\n",
    "counter = 0\n",
    "\n",
    "for lm_id in [bedrock_haiku, bedrock_sonnet, bedrock_mistral_7b]:\n",
    "\n",
    "    dspy.settings.configure(lm=lm_id)\n",
    "    dspy.settings.configure(rm=rm)\n",
    "    rag_lm = RAG()\n",
    "    print(f\"START OF model_id = {model_ids[counter]} --------------->\")\n",
    "    raw_score = evaluate_cuad(rag_lm, num_threads=1)\n",
    "    raw_scores.append(raw_score)\n",
    "    \n",
    "    print(f\"raw_score for lm_id = {model_ids[counter]} and raw_score =  {raw_score}\")\n",
    "    logging.info(f\"raw_score for lm_id = {model_ids[counter]} and raw_score =  {raw_score}\")\n",
    "    \n",
    "    # Validation logic: check that the predicted answer is correct.\n",
    "    # Also check that the retrieved context does actually contain that answer.\n",
    "    \n",
    "    # Set up a basic teleprompter, which will compile our RAG program.\n",
    "    teleprompter = BootstrapFewShot(metric=validate_context_and_answer)\n",
    "    \n",
    "    print(f\"******* COMPILING model_id = {model_ids[counter]} ******* --------------->\")\n",
    "    # Compile!\n",
    "    compiled_rag = teleprompter.compile(rag_lm, trainset=trainset)\n",
    "    \n",
    "    compiled_score = evaluate_cuad(compiled_rag, num_threads=1)\n",
    "    compiled_scores.append(compiled_score)\n",
    "    \n",
    "    print(f\"compiled_score for COMPILED lm_id = {model_ids[counter]} and raw_score =  {compiled_score}\")\n",
    "    logging.info(f\"compiled_score for COMPILED lm_id = {model_ids[counter]} and raw_score =  {compiled_score}\")\n",
    "    \n",
    "    lm_id.inspect_history(n=1)\n",
    "    generate_csv(rag_lm, model_ids[counter])\n",
    "    print(f\"END OF model_id = {model_ids[counter]} --------------->\")\n",
    "    counter +=1\n",
    "    "
   ]
  },
  {
   "cell_type": "markdown",
   "id": "8675812f",
   "metadata": {},
   "source": [
    "### Retriever Evaluation (RM is same across models)"
   ]
  },
  {
   "cell_type": "markdown",
   "id": "bb6ad8ad",
   "metadata": {},
   "source": [
    "In RAG workflows, it is very crucial to understand the retriever performance to be able to improve the performance of the overall system. We will now create a retriever judge to understand how well the retriever is able to pull out the relevant chunks for the incoming user question. Context and Answer relevance is measured using this Retriever Judge."
   ]
  },
  {
   "cell_type": "code",
   "execution_count": null,
   "id": "16868fe6-0953-465b-962a-b749cfc2e154",
   "metadata": {},
   "outputs": [],
   "source": [
    "class RetreivalJudge(dspy.Signature):\n",
    "    \"\"\"Judge given the question to be answered, check if the groundtruth answer can be derived from the predicted context.  Answer either Retrieved[True] or Retrieved[False]\"\"\"\n",
    "\n",
    "    context = dspy.InputField(desc=\"Context for the prediction\")\n",
    "    question = dspy.InputField(desc=\"Question to be answered\")\n",
    "    groundtruth_answer = dspy.InputField(desc=\"groundtruth answer for the question\")\n",
    "    retrieval_correctness = dspy.OutputField(desc=\"Can the groundtruth answer be derived from the predicted context?\", prefix=\"Retrieved[True/False]:\")\n",
    "\n",
    "retreival_judge = dspy.ChainOfThought(RetreivalJudge)\n",
    "\n",
    "\n",
    "def retrieval_metric(example, pred):\n",
    "    retrieval = retreival_judge(question=example.question, groundtruth_answer=example.answer, context=pred.context) \n",
    "    #logging.info(f\"\\n retrieval LLM judge {retrieval}\")\n",
    "    #logging.info(f\"\\n example {example}\")\n",
    "    #logging.info(f\"\\n pred {pred}\")\n",
    "    llm_retreiver_ans = bool(\"Retrieved[True]\" in retrieval.retrieval_correctness \n",
    "                         or '100% True' in retrieval.retrieval_correctness\n",
    "                         or '100% retrieved correct' in retrieval.retrieval_correctness\n",
    "                         or 'True.' in retrieval.retrieval_correctness) \n",
    "    #logging.info(f\"llm_retreiver_ans = {llm_retreiver_ans}\")\n",
    "    return llm_retreiver_ans"
   ]
  },
  {
   "cell_type": "code",
   "execution_count": null,
   "id": "a06e8ce7-c34a-4637-99f4-cd578e33da7e",
   "metadata": {},
   "outputs": [
    {
     "name": "stdout",
     "output_type": "stream",
     "text": [
      "Average Metric: 29.00 / 32 (90.6%): 100%|██████████| 32/32 [04:01<00:00,  7.55s/it]"
     ]
    },
    {
     "name": "stderr",
     "output_type": "stream",
     "text": [
      "2024/12/18 16:16:08 INFO dspy.evaluate.evaluate: Average Metric: 29 / 32 (90.6%)\n"
     ]
    },
    {
     "name": "stdout",
     "output_type": "stream",
     "text": [
      "\n"
     ]
    },
    {
     "data": {
      "text/plain": [
       "90.62"
      ]
     },
     "execution_count": 25,
     "metadata": {},
     "output_type": "execute_result"
    }
   ],
   "source": [
    "def answer_passages_retrieved(example, pred, trace=None):\n",
    "    gt_answer = example['answer']\n",
    "    pred_context = set(map(dspy.evaluate.normalize_text, [c.split(' | ')[0] for c in pred.context]))\n",
    "    logging.info(f\"example['answer'] :: {example['answer']}\")\n",
    "    logging.info(f\"gt_answer :: {gt_answer}\")\n",
    "    #logging.info(f\"pred_context :: {pred_context}\")\n",
    "    return gt_answer.issubset(pred_context)\n",
    "\n",
    "compiled_rag_retrieval_score = evaluate_cuad(compiled_rag, num_threads = 1, metric=retrieval_metric)\n",
    "compiled_rag_retrieval_score"
   ]
  },
  {
   "cell_type": "markdown",
   "id": "967d4aaf-caf0-4ffa-addb-8b05f413a6d3",
   "metadata": {},
   "source": [
    "### RAG performance across models"
   ]
  },
  {
   "cell_type": "markdown",
   "id": "d250647c",
   "metadata": {},
   "source": [
    "Let us see the performance across various model familes and types using raw and compiled DSPy framework to understand what value DSPy may bring to the table. "
   ]
  },
  {
   "cell_type": "code",
   "execution_count": null,
   "id": "0329abca-cb99-4efd-8f0e-554fe914502c",
   "metadata": {},
   "outputs": [
    {
     "data": {
      "image/png": "[encoded data removed]",
      "text/plain": [
       "<Figure size 1000x500 with 1 Axes>"
      ]
     },
     "metadata": {},
     "output_type": "display_data"
    }
   ],
   "source": [
    "class_type = ['RAG_Haiku','RAG_Haiku_Compiled','RAG_Sonnet','RAG_Sonnet_Compiled','RAG_Mistral','RAG_Mistral_Compiled']\n",
    "class_count = [raw_scores[0],compiled_scores[0],raw_scores[1],compiled_scores[1],raw_scores[2],compiled_scores[2]]\n",
    "\n",
    "fig = plt.figure(figsize = (10, 5))\n",
    "\n",
    "# creating the bar plot\n",
    "plt.bar(class_type, class_count, color ='green', width = 0.4)\n",
    "\n",
    "for i in range(len(class_type)):\n",
    "        plt.text(i,class_count[i],class_count[i], ha = 'center')\n",
    "\n",
    "plt.xlabel(\"\")\n",
    "plt.ylabel(\"RAG Accuracy performance \")\n",
    "plt.title(\"RAG performance across models\")\n",
    "plt.show()"
   ]
  },
  {
   "cell_type": "code",
   "execution_count": null,
   "id": "613f8519",
   "metadata": {},
   "outputs": [],
   "source": []
  },
  {
   "cell_type": "code",
   "execution_count": null,
   "id": "317b84b8-0c8e-4e02-a7f8-b4e6f5749cad",
   "metadata": {},
   "outputs": [],
   "source": []
  },
  {
   "cell_type": "code",
   "execution_count": null,
   "id": "a333cbbb-9b24-4fbe-b8ce-999e4823b3a7",
   "metadata": {},
   "outputs": [],
   "source": []
  },
  {
   "cell_type": "code",
   "execution_count": null,
   "id": "3fe3d8d1-65ed-4dc0-8f40-17b53953204d",
   "metadata": {},
   "outputs": [],
   "source": []
  }
 ],
 "metadata": {
  "availableInstances": [
   {
    "_defaultOrder": 0,
    "_isFastLaunch": true,
    "category": "General purpose",
    "gpuNum": 0,
    "hideHardwareSpecs": false,
    "memoryGiB": 4,
    "name": "ml.t3.medium",
    "vcpuNum": 2
   },
   {
    "_defaultOrder": 1,
    "_isFastLaunch": false,
    "category": "General purpose",
    "gpuNum": 0,
    "hideHardwareSpecs": false,
    "memoryGiB": 8,
    "name": "ml.t3.large",
    "vcpuNum": 2
   },
   {
    "_defaultOrder": 2,
    "_isFastLaunch": false,
    "category": "General purpose",
    "gpuNum": 0,
    "hideHardwareSpecs": false,
    "memoryGiB": 16,
    "name": "ml.t3.xlarge",
    "vcpuNum": 4
   },
   {
    "_defaultOrder": 3,
    "_isFastLaunch": false,
    "category": "General purpose",
    "gpuNum": 0,
    "hideHardwareSpecs": false,
    "memoryGiB": 32,
    "name": "ml.t3.2xlarge",
    "vcpuNum": 8
   },
   {
    "_defaultOrder": 4,
    "_isFastLaunch": true,
    "category": "General purpose",
    "gpuNum": 0,
    "hideHardwareSpecs": false,
    "memoryGiB": 8,
    "name": "ml.m5.large",
    "vcpuNum": 2
   },
   {
    "_defaultOrder": 5,
    "_isFastLaunch": false,
    "category": "General purpose",
    "gpuNum": 0,
    "hideHardwareSpecs": false,
    "memoryGiB": 16,
    "name": "ml.m5.xlarge",
    "vcpuNum": 4
   },
   {
    "_defaultOrder": 6,
    "_isFastLaunch": false,
    "category": "General purpose",
    "gpuNum": 0,
    "hideHardwareSpecs": false,
    "memoryGiB": 32,
    "name": "ml.m5.2xlarge",
    "vcpuNum": 8
   },
   {
    "_defaultOrder": 7,
    "_isFastLaunch": false,
    "category": "General purpose",
    "gpuNum": 0,
    "hideHardwareSpecs": false,
    "memoryGiB": 64,
    "name": "ml.m5.4xlarge",
    "vcpuNum": 16
   },
   {
    "_defaultOrder": 8,
    "_isFastLaunch": false,
    "category": "General purpose",
    "gpuNum": 0,
    "hideHardwareSpecs": false,
    "memoryGiB": 128,
    "name": "ml.m5.8xlarge",
    "vcpuNum": 32
   },
   {
    "_defaultOrder": 9,
    "_isFastLaunch": false,
    "category": "General purpose",
    "gpuNum": 0,
    "hideHardwareSpecs": false,
    "memoryGiB": 192,
    "name": "ml.m5.12xlarge",
    "vcpuNum": 48
   },
   {
    "_defaultOrder": 10,
    "_isFastLaunch": false,
    "category": "General purpose",
    "gpuNum": 0,
    "hideHardwareSpecs": false,
    "memoryGiB": 256,
    "name": "ml.m5.16xlarge",
    "vcpuNum": 64
   },
   {
    "_defaultOrder": 11,
    "_isFastLaunch": false,
    "category": "General purpose",
    "gpuNum": 0,
    "hideHardwareSpecs": false,
    "memoryGiB": 384,
    "name": "ml.m5.24xlarge",
    "vcpuNum": 96
   },
   {
    "_defaultOrder": 12,
    "_isFastLaunch": false,
    "category": "General purpose",
    "gpuNum": 0,
    "hideHardwareSpecs": false,
    "memoryGiB": 8,
    "name": "ml.m5d.large",
    "vcpuNum": 2
   },
   {
    "_defaultOrder": 13,
    "_isFastLaunch": false,
    "category": "General purpose",
    "gpuNum": 0,
    "hideHardwareSpecs": false,
    "memoryGiB": 16,
    "name": "ml.m5d.xlarge",
    "vcpuNum": 4
   },
   {
    "_defaultOrder": 14,
    "_isFastLaunch": false,
    "category": "General purpose",
    "gpuNum": 0,
    "hideHardwareSpecs": false,
    "memoryGiB": 32,
    "name": "ml.m5d.2xlarge",
    "vcpuNum": 8
   },
   {
    "_defaultOrder": 15,
    "_isFastLaunch": false,
    "category": "General purpose",
    "gpuNum": 0,
    "hideHardwareSpecs": false,
    "memoryGiB": 64,
    "name": "ml.m5d.4xlarge",
    "vcpuNum": 16
   },
   {
    "_defaultOrder": 16,
    "_isFastLaunch": false,
    "category": "General purpose",
    "gpuNum": 0,
    "hideHardwareSpecs": false,
    "memoryGiB": 128,
    "name": "ml.m5d.8xlarge",
    "vcpuNum": 32
   },
   {
    "_defaultOrder": 17,
    "_isFastLaunch": false,
    "category": "General purpose",
    "gpuNum": 0,
    "hideHardwareSpecs": false,
    "memoryGiB": 192,
    "name": "ml.m5d.12xlarge",
    "vcpuNum": 48
   },
   {
    "_defaultOrder": 18,
    "_isFastLaunch": false,
    "category": "General purpose",
    "gpuNum": 0,
    "hideHardwareSpecs": false,
    "memoryGiB": 256,
    "name": "ml.m5d.16xlarge",
    "vcpuNum": 64
   },
   {
    "_defaultOrder": 19,
    "_isFastLaunch": false,
    "category": "General purpose",
    "gpuNum": 0,
    "hideHardwareSpecs": false,
    "memoryGiB": 384,
    "name": "ml.m5d.24xlarge",
    "vcpuNum": 96
   },
   {
    "_defaultOrder": 20,
    "_isFastLaunch": false,
    "category": "General purpose",
    "gpuNum": 0,
    "hideHardwareSpecs": true,
    "memoryGiB": 0,
    "name": "ml.geospatial.interactive",
    "supportedImageNames": [
     "sagemaker-geospatial-v1-0"
    ],
    "vcpuNum": 0
   },
   {
    "_defaultOrder": 21,
    "_isFastLaunch": true,
    "category": "Compute optimized",
    "gpuNum": 0,
    "hideHardwareSpecs": false,
    "memoryGiB": 4,
    "name": "ml.c5.large",
    "vcpuNum": 2
   },
   {
    "_defaultOrder": 22,
    "_isFastLaunch": false,
    "category": "Compute optimized",
    "gpuNum": 0,
    "hideHardwareSpecs": false,
    "memoryGiB": 8,
    "name": "ml.c5.xlarge",
    "vcpuNum": 4
   },
   {
    "_defaultOrder": 23,
    "_isFastLaunch": false,
    "category": "Compute optimized",
    "gpuNum": 0,
    "hideHardwareSpecs": false,
    "memoryGiB": 16,
    "name": "ml.c5.2xlarge",
    "vcpuNum": 8
   },
   {
    "_defaultOrder": 24,
    "_isFastLaunch": false,
    "category": "Compute optimized",
    "gpuNum": 0,
    "hideHardwareSpecs": false,
    "memoryGiB": 32,
    "name": "ml.c5.4xlarge",
    "vcpuNum": 16
   },
   {
    "_defaultOrder": 25,
    "_isFastLaunch": false,
    "category": "Compute optimized",
    "gpuNum": 0,
    "hideHardwareSpecs": false,
    "memoryGiB": 72,
    "name": "ml.c5.9xlarge",
    "vcpuNum": 36
   },
   {
    "_defaultOrder": 26,
    "_isFastLaunch": false,
    "category": "Compute optimized",
    "gpuNum": 0,
    "hideHardwareSpecs": false,
    "memoryGiB": 96,
    "name": "ml.c5.12xlarge",
    "vcpuNum": 48
   },
   {
    "_defaultOrder": 27,
    "_isFastLaunch": false,
    "category": "Compute optimized",
    "gpuNum": 0,
    "hideHardwareSpecs": false,
    "memoryGiB": 144,
    "name": "ml.c5.18xlarge",
    "vcpuNum": 72
   },
   {
    "_defaultOrder": 28,
    "_isFastLaunch": false,
    "category": "Compute optimized",
    "gpuNum": 0,
    "hideHardwareSpecs": false,
    "memoryGiB": 192,
    "name": "ml.c5.24xlarge",
    "vcpuNum": 96
   },
   {
    "_defaultOrder": 29,
    "_isFastLaunch": true,
    "category": "Accelerated computing",
    "gpuNum": 1,
    "hideHardwareSpecs": false,
    "memoryGiB": 16,
    "name": "ml.g4dn.xlarge",
    "vcpuNum": 4
   },
   {
    "_defaultOrder": 30,
    "_isFastLaunch": false,
    "category": "Accelerated computing",
    "gpuNum": 1,
    "hideHardwareSpecs": false,
    "memoryGiB": 32,
    "name": "ml.g4dn.2xlarge",
    "vcpuNum": 8
   },
   {
    "_defaultOrder": 31,
    "_isFastLaunch": false,
    "category": "Accelerated computing",
    "gpuNum": 1,
    "hideHardwareSpecs": false,
    "memoryGiB": 64,
    "name": "ml.g4dn.4xlarge",
    "vcpuNum": 16
   },
   {
    "_defaultOrder": 32,
    "_isFastLaunch": false,
    "category": "Accelerated computing",
    "gpuNum": 1,
    "hideHardwareSpecs": false,
    "memoryGiB": 128,
    "name": "ml.g4dn.8xlarge",
    "vcpuNum": 32
   },
   {
    "_defaultOrder": 33,
    "_isFastLaunch": false,
    "category": "Accelerated computing",
    "gpuNum": 4,
    "hideHardwareSpecs": false,
    "memoryGiB": 192,
    "name": "ml.g4dn.12xlarge",
    "vcpuNum": 48
   },
   {
    "_defaultOrder": 34,
    "_isFastLaunch": false,
    "category": "Accelerated computing",
    "gpuNum": 1,
    "hideHardwareSpecs": false,
    "memoryGiB": 256,
    "name": "ml.g4dn.16xlarge",
    "vcpuNum": 64
   },
   {
    "_defaultOrder": 35,
    "_isFastLaunch": false,
    "category": "Accelerated computing",
    "gpuNum": 1,
    "hideHardwareSpecs": false,
    "memoryGiB": 61,
    "name": "ml.p3.2xlarge",
    "vcpuNum": 8
   },
   {
    "_defaultOrder": 36,
    "_isFastLaunch": false,
    "category": "Accelerated computing",
    "gpuNum": 4,
    "hideHardwareSpecs": false,
    "memoryGiB": 244,
    "name": "ml.p3.8xlarge",
    "vcpuNum": 32
   },
   {
    "_defaultOrder": 37,
    "_isFastLaunch": false,
    "category": "Accelerated computing",
    "gpuNum": 8,
    "hideHardwareSpecs": false,
    "memoryGiB": 488,
    "name": "ml.p3.16xlarge",
    "vcpuNum": 64
   },
   {
    "_defaultOrder": 38,
    "_isFastLaunch": false,
    "category": "Accelerated computing",
    "gpuNum": 8,
    "hideHardwareSpecs": false,
    "memoryGiB": 768,
    "name": "ml.p3dn.24xlarge",
    "vcpuNum": 96
   },
   {
    "_defaultOrder": 39,
    "_isFastLaunch": false,
    "category": "Memory Optimized",
    "gpuNum": 0,
    "hideHardwareSpecs": false,
    "memoryGiB": 16,
    "name": "ml.r5.large",
    "vcpuNum": 2
   },
   {
    "_defaultOrder": 40,
    "_isFastLaunch": false,
    "category": "Memory Optimized",
    "gpuNum": 0,
    "hideHardwareSpecs": false,
    "memoryGiB": 32,
    "name": "ml.r5.xlarge",
    "vcpuNum": 4
   },
   {
    "_defaultOrder": 41,
    "_isFastLaunch": false,
    "category": "Memory Optimized",
    "gpuNum": 0,
    "hideHardwareSpecs": false,
    "memoryGiB": 64,
    "name": "ml.r5.2xlarge",
    "vcpuNum": 8
   },
   {
    "_defaultOrder": 42,
    "_isFastLaunch": false,
    "category": "Memory Optimized",
    "gpuNum": 0,
    "hideHardwareSpecs": false,
    "memoryGiB": 128,
    "name": "ml.r5.4xlarge",
    "vcpuNum": 16
   },
   {
    "_defaultOrder": 43,
    "_isFastLaunch": false,
    "category": "Memory Optimized",
    "gpuNum": 0,
    "hideHardwareSpecs": false,
    "memoryGiB": 256,
    "name": "ml.r5.8xlarge",
    "vcpuNum": 32
   },
   {
    "_defaultOrder": 44,
    "_isFastLaunch": false,
    "category": "Memory Optimized",
    "gpuNum": 0,
    "hideHardwareSpecs": false,
    "memoryGiB": 384,
    "name": "ml.r5.12xlarge",
    "vcpuNum": 48
   },
   {
    "_defaultOrder": 45,
    "_isFastLaunch": false,
    "category": "Memory Optimized",
    "gpuNum": 0,
    "hideHardwareSpecs": false,
    "memoryGiB": 512,
    "name": "ml.r5.16xlarge",
    "vcpuNum": 64
   },
   {
    "_defaultOrder": 46,
    "_isFastLaunch": false,
    "category": "Memory Optimized",
    "gpuNum": 0,
    "hideHardwareSpecs": false,
    "memoryGiB": 768,
    "name": "ml.r5.24xlarge",
    "vcpuNum": 96
   },
   {
    "_defaultOrder": 47,
    "_isFastLaunch": false,
    "category": "Accelerated computing",
    "gpuNum": 1,
    "hideHardwareSpecs": false,
    "memoryGiB": 16,
    "name": "ml.g5.xlarge",
    "vcpuNum": 4
   },
   {
    "_defaultOrder": 48,
    "_isFastLaunch": false,
    "category": "Accelerated computing",
    "gpuNum": 1,
    "hideHardwareSpecs": false,
    "memoryGiB": 32,
    "name": "ml.g5.2xlarge",
    "vcpuNum": 8
   },
   {
    "_defaultOrder": 49,
    "_isFastLaunch": false,
    "category": "Accelerated computing",
    "gpuNum": 1,
    "hideHardwareSpecs": false,
    "memoryGiB": 64,
    "name": "ml.g5.4xlarge",
    "vcpuNum": 16
   },
   {
    "_defaultOrder": 50,
    "_isFastLaunch": false,
    "category": "Accelerated computing",
    "gpuNum": 1,
    "hideHardwareSpecs": false,
    "memoryGiB": 128,
    "name": "ml.g5.8xlarge",
    "vcpuNum": 32
   },
   {
    "_defaultOrder": 51,
    "_isFastLaunch": false,
    "category": "Accelerated computing",
    "gpuNum": 1,
    "hideHardwareSpecs": false,
    "memoryGiB": 256,
    "name": "ml.g5.16xlarge",
    "vcpuNum": 64
   },
   {
    "_defaultOrder": 52,
    "_isFastLaunch": false,
    "category": "Accelerated computing",
    "gpuNum": 4,
    "hideHardwareSpecs": false,
    "memoryGiB": 192,
    "name": "ml.g5.12xlarge",
    "vcpuNum": 48
   },
   {
    "_defaultOrder": 53,
    "_isFastLaunch": false,
    "category": "Accelerated computing",
    "gpuNum": 4,
    "hideHardwareSpecs": false,
    "memoryGiB": 384,
    "name": "ml.g5.24xlarge",
    "vcpuNum": 96
   },
   {
    "_defaultOrder": 54,
    "_isFastLaunch": false,
    "category": "Accelerated computing",
    "gpuNum": 8,
    "hideHardwareSpecs": false,
    "memoryGiB": 768,
    "name": "ml.g5.48xlarge",
    "vcpuNum": 192
   },
   {
    "_defaultOrder": 55,
    "_isFastLaunch": false,
    "category": "Accelerated computing",
    "gpuNum": 8,
    "hideHardwareSpecs": false,
    "memoryGiB": 1152,
    "name": "ml.p4d.24xlarge",
    "vcpuNum": 96
   },
   {
    "_defaultOrder": 56,
    "_isFastLaunch": false,
    "category": "Accelerated computing",
    "gpuNum": 8,
    "hideHardwareSpecs": false,
    "memoryGiB": 1152,
    "name": "ml.p4de.24xlarge",
    "vcpuNum": 96
   },
   {
    "_defaultOrder": 57,
    "_isFastLaunch": false,
    "category": "Accelerated computing",
    "gpuNum": 0,
    "hideHardwareSpecs": false,
    "memoryGiB": 32,
    "name": "ml.trn1.2xlarge",
    "vcpuNum": 8
   },
   {
    "_defaultOrder": 58,
    "_isFastLaunch": false,
    "category": "Accelerated computing",
    "gpuNum": 0,
    "hideHardwareSpecs": false,
    "memoryGiB": 512,
    "name": "ml.trn1.32xlarge",
    "vcpuNum": 128
   },
   {
    "_defaultOrder": 59,
    "_isFastLaunch": false,
    "category": "Accelerated computing",
    "gpuNum": 0,
    "hideHardwareSpecs": false,
    "memoryGiB": 512,
    "name": "ml.trn1n.32xlarge",
    "vcpuNum": 128
   }
  ],
  "instance_type": "ml.g4dn.2xlarge",
  "kernelspec": {
   "display_name": "Python 3 (PyTorch 2.4.0 Python 3.11 GPU Optimized)",
   "language": "python",
   "name": "python3__SAGEMAKER_INTERNAL__arn:aws:sagemaker:us-west-2:236514542706:image/pytorch-2.4.0-gpu-py311"
  },
  "language_info": {
   "codemirror_mode": {
    "name": "ipython",
    "version": 3
   },
   "file_extension": ".py",
   "mimetype": "text/x-python",
   "name": "python",
   "nbconvert_exporter": "python",
   "pygments_lexer": "ipython3",
   "version": "3.11.9"
  }
 },
 "nbformat": 4,
 "nbformat_minor": 5
}
