{
 "cells": [
  {
   "cell_type": "markdown",
   "id": "eb3e157e",
   "metadata": {},
   "source": [
    "# Fine-tuned model and evaluation in dspy\n",
    "\n",
    "In this notebook, we use DSPy Evaluate module to benchmark results from standard RAG, RAG compiled with prompt automation, and fine-tuned LLM. \n",
    "\n",
    "You can select 'us-west-2' region to run this notebook. "
   ]
  },
  {
   "cell_type": "markdown",
   "id": "13ecaec9-7ea9-4267-bdc7-009f7f7c41c1",
   "metadata": {},
   "source": [
    "### Environment Setup"
   ]
  },
  {
   "cell_type": "markdown",
   "id": "d452ee1a",
   "metadata": {},
   "source": [
    "Uncomment the following lines if the packages are not installed "
   ]
  },
  {
   "cell_type": "code",
   "execution_count": 1,
   "id": "7dc0ed97-09fe-4601-ab64-a0ef356021cc",
   "metadata": {
    "tags": []
   },
   "outputs": [],
   "source": [
    "%%capture\n",
    "!pip3 install langchain\n",
    "!pip3 install -U langchain-community\n",
    "!pip3 install pypdf\n",
    "!pip3 install chromadb\n",
    "!pip3 install dspy-ai[faiss-cpu]\n",
    "!pip3 install sentence_transformers\n",
    "!pip3 install continuous_eval"
   ]
  },
  {
   "cell_type": "code",
   "execution_count": 2,
   "id": "9a20d894",
   "metadata": {},
   "outputs": [],
   "source": [
    "import pandas as pd\n",
    "import dspy\n",
    "from dspy.teleprompt import BootstrapFewShot\n",
    "from dspy.evaluate import Evaluate\n",
    "\n",
    "import pandas as pd\n",
    "import logging\n",
    "import json, os, shutil\n",
    "import boto3, re, os, shutil\n",
    "import sentence_transformers, continuous_eval\n",
    "\n",
    "import matplotlib.pyplot as plt"
   ]
  },
  {
   "cell_type": "markdown",
   "id": "b75a3539",
   "metadata": {},
   "source": [
    "### RAG generator model fine-tuned by SFT, DPO and ORPO    \n",
    "   \n",
    "DSPy does not yet support LLM fine-tuning through Instruction Tuning, Reinforcement Learning and Preference Alignment. Therefore, we conducted the llama 3 8B model fine-tuning separately, and generated the following results for benchmarking across multiple methods using the same dataset for the RAG inference in the notebook dapy_rag_compile.ipynb. \n",
    "\n",
    "If you are interested in how to fine-tune LLM using those methodologies, please refer to the code samples [here]."
   ]
  },
  {
   "cell_type": "markdown",
   "id": "e83a00e8",
   "metadata": {},
   "source": [
    "SFT"
   ]
  },
  {
   "cell_type": "code",
   "execution_count": 3,
   "id": "f2caf99b",
   "metadata": {},
   "outputs": [
    {
     "data": {
      "text/html": [
       "<div>\n",
       "<style scoped>\n",
       "    .dataframe tbody tr th:only-of-type {\n",
       "        vertical-align: middle;\n",
       "    }\n",
       "\n",
       "    .dataframe tbody tr th {\n",
       "        vertical-align: top;\n",
       "    }\n",
       "\n",
       "    .dataframe thead th {\n",
       "        text-align: right;\n",
       "    }\n",
       "</style>\n",
       "<table border=\"1\" class=\"dataframe\">\n",
       "  <thead>\n",
       "    <tr style=\"text-align: right;\">\n",
       "      <th></th>\n",
       "      <th>question</th>\n",
       "      <th>ref_answer</th>\n",
       "      <th>response</th>\n",
       "    </tr>\n",
       "  </thead>\n",
       "  <tbody>\n",
       "    <tr>\n",
       "      <th>0</th>\n",
       "      <td>What is The name of the contract?</td>\n",
       "      <td>STRATEGIC ALLIANCE AGREEMENT</td>\n",
       "      <td>STRATEGIC ALLIANCE AGREEMENT</td>\n",
       "    </tr>\n",
       "    <tr>\n",
       "      <th>1</th>\n",
       "      <td>What is The two or more parties who signed the...</td>\n",
       "      <td>Dialog Semiconductor (UK) Ltd., DIALOG, Energo...</td>\n",
       "      <td>DIALOG SEMICONDUCTOR (PENANG) SDN BHD, DIALOG ...</td>\n",
       "    </tr>\n",
       "    <tr>\n",
       "      <th>2</th>\n",
       "      <td>What is The date of the contract?</td>\n",
       "      <td>November 6, 2016</td>\n",
       "      <td>October 1, 2016</td>\n",
       "    </tr>\n",
       "    <tr>\n",
       "      <th>3</th>\n",
       "      <td>What is The date when the contract is effective?</td>\n",
       "      <td>November 6, 2016</td>\n",
       "      <td>November 6, 2016</td>\n",
       "    </tr>\n",
       "    <tr>\n",
       "      <th>4</th>\n",
       "      <td>On what date will the contract's initial term ...</td>\n",
       "      <td>Unless earlier terminated as provided herein, ...</td>\n",
       "      <td>Unless earlier terminated as provided herein, ...</td>\n",
       "    </tr>\n",
       "  </tbody>\n",
       "</table>\n",
       "</div>"
      ],
      "text/plain": [
       "                                            question  \\\n",
       "0                  What is The name of the contract?   \n",
       "1  What is The two or more parties who signed the...   \n",
       "2                  What is The date of the contract?   \n",
       "3   What is The date when the contract is effective?   \n",
       "4  On what date will the contract's initial term ...   \n",
       "\n",
       "                                          ref_answer  \\\n",
       "0                       STRATEGIC ALLIANCE AGREEMENT   \n",
       "1  Dialog Semiconductor (UK) Ltd., DIALOG, Energo...   \n",
       "2                                   November 6, 2016   \n",
       "3                                   November 6, 2016   \n",
       "4  Unless earlier terminated as provided herein, ...   \n",
       "\n",
       "                                            response  \n",
       "0                       STRATEGIC ALLIANCE AGREEMENT  \n",
       "1  DIALOG SEMICONDUCTOR (PENANG) SDN BHD, DIALOG ...  \n",
       "2                                    October 1, 2016  \n",
       "3                                   November 6, 2016  \n",
       "4  Unless earlier terminated as provided herein, ...  "
      ]
     },
     "execution_count": 3,
     "metadata": {},
     "output_type": "execute_result"
    }
   ],
   "source": [
    "SFT_RESULTS = 'sft_trn_full_result.csv'\n",
    "df_sft_data = pd.read_csv(SFT_RESULTS)\n",
    "df_sft_data[:][[\"question\", \"ref_answer\", \"response\"]].head()"
   ]
  },
  {
   "cell_type": "markdown",
   "id": "e9f6138f",
   "metadata": {},
   "source": [
    "DPO"
   ]
  },
  {
   "cell_type": "code",
   "execution_count": 4,
   "id": "5a83b631",
   "metadata": {},
   "outputs": [
    {
     "data": {
      "text/html": [
       "<div>\n",
       "<style scoped>\n",
       "    .dataframe tbody tr th:only-of-type {\n",
       "        vertical-align: middle;\n",
       "    }\n",
       "\n",
       "    .dataframe tbody tr th {\n",
       "        vertical-align: top;\n",
       "    }\n",
       "\n",
       "    .dataframe thead th {\n",
       "        text-align: right;\n",
       "    }\n",
       "</style>\n",
       "<table border=\"1\" class=\"dataframe\">\n",
       "  <thead>\n",
       "    <tr style=\"text-align: right;\">\n",
       "      <th></th>\n",
       "      <th>question</th>\n",
       "      <th>ref_answer</th>\n",
       "      <th>response</th>\n",
       "      <th>semantic_similarity</th>\n",
       "      <th>token_overlap_recall</th>\n",
       "      <th>rouge_l_recall</th>\n",
       "    </tr>\n",
       "  </thead>\n",
       "  <tbody>\n",
       "    <tr>\n",
       "      <th>0</th>\n",
       "      <td>What is The name of the contract?</td>\n",
       "      <td>STRATEGIC ALLIANCE AGREEMENT</td>\n",
       "      <td>STRATEGIC ALLIANCE AGREEMENT</td>\n",
       "      <td>1.000000</td>\n",
       "      <td>1.000000</td>\n",
       "      <td>1.000000</td>\n",
       "    </tr>\n",
       "    <tr>\n",
       "      <th>1</th>\n",
       "      <td>What is The two or more parties who signed the...</td>\n",
       "      <td>Dialog Semiconductor (UK) Ltd., DIALOG, Energo...</td>\n",
       "      <td>Dialog Semiconductor (UK) Ltd., DIALOG, Energo...</td>\n",
       "      <td>1.000000</td>\n",
       "      <td>0.750000</td>\n",
       "      <td>1.000000</td>\n",
       "    </tr>\n",
       "    <tr>\n",
       "      <th>2</th>\n",
       "      <td>What is The date of the contract?</td>\n",
       "      <td>November 6, 2016</td>\n",
       "      <td>2016, October 1</td>\n",
       "      <td>0.267889</td>\n",
       "      <td>0.333333</td>\n",
       "      <td>0.000000</td>\n",
       "    </tr>\n",
       "    <tr>\n",
       "      <th>3</th>\n",
       "      <td>What is The date when the contract is effective?</td>\n",
       "      <td>November 6, 2016</td>\n",
       "      <td>May 6, 2016</td>\n",
       "      <td>0.306074</td>\n",
       "      <td>0.666667</td>\n",
       "      <td>0.666667</td>\n",
       "    </tr>\n",
       "    <tr>\n",
       "      <th>4</th>\n",
       "      <td>On what date will the contract's initial term ...</td>\n",
       "      <td>Unless earlier terminated as provided herein, ...</td>\n",
       "      <td>7 years after the Effective Date, and thereaft...</td>\n",
       "      <td>0.629246</td>\n",
       "      <td>0.450000</td>\n",
       "      <td>0.370370</td>\n",
       "    </tr>\n",
       "  </tbody>\n",
       "</table>\n",
       "</div>"
      ],
      "text/plain": [
       "                                            question  \\\n",
       "0                  What is The name of the contract?   \n",
       "1  What is The two or more parties who signed the...   \n",
       "2                  What is The date of the contract?   \n",
       "3   What is The date when the contract is effective?   \n",
       "4  On what date will the contract's initial term ...   \n",
       "\n",
       "                                          ref_answer  \\\n",
       "0                       STRATEGIC ALLIANCE AGREEMENT   \n",
       "1  Dialog Semiconductor (UK) Ltd., DIALOG, Energo...   \n",
       "2                                   November 6, 2016   \n",
       "3                                   November 6, 2016   \n",
       "4  Unless earlier terminated as provided herein, ...   \n",
       "\n",
       "                                            response  semantic_similarity  \\\n",
       "0                       STRATEGIC ALLIANCE AGREEMENT             1.000000   \n",
       "1  Dialog Semiconductor (UK) Ltd., DIALOG, Energo...             1.000000   \n",
       "2                                    2016, October 1             0.267889   \n",
       "3                                        May 6, 2016             0.306074   \n",
       "4  7 years after the Effective Date, and thereaft...             0.629246   \n",
       "\n",
       "   token_overlap_recall  rouge_l_recall  \n",
       "0              1.000000        1.000000  \n",
       "1              0.750000        1.000000  \n",
       "2              0.333333        0.000000  \n",
       "3              0.666667        0.666667  \n",
       "4              0.450000        0.370370  "
      ]
     },
     "execution_count": 4,
     "metadata": {},
     "output_type": "execute_result"
    }
   ],
   "source": [
    "DPO_RESULTS = 'dpo_trn_full_result.csv'\n",
    "df_dpo_data = pd.read_csv(DPO_RESULTS)\n",
    "df_dpo_data.head()"
   ]
  },
  {
   "cell_type": "markdown",
   "id": "148827ed",
   "metadata": {},
   "source": [
    "ORPO"
   ]
  },
  {
   "cell_type": "code",
   "execution_count": 5,
   "id": "a650ac78",
   "metadata": {},
   "outputs": [
    {
     "data": {
      "text/html": [
       "<div>\n",
       "<style scoped>\n",
       "    .dataframe tbody tr th:only-of-type {\n",
       "        vertical-align: middle;\n",
       "    }\n",
       "\n",
       "    .dataframe tbody tr th {\n",
       "        vertical-align: top;\n",
       "    }\n",
       "\n",
       "    .dataframe thead th {\n",
       "        text-align: right;\n",
       "    }\n",
       "</style>\n",
       "<table border=\"1\" class=\"dataframe\">\n",
       "  <thead>\n",
       "    <tr style=\"text-align: right;\">\n",
       "      <th></th>\n",
       "      <th>question</th>\n",
       "      <th>ref_answer</th>\n",
       "      <th>response</th>\n",
       "      <th>semantic_similarity</th>\n",
       "      <th>token_overlap_recall</th>\n",
       "      <th>rouge_l_recall</th>\n",
       "    </tr>\n",
       "  </thead>\n",
       "  <tbody>\n",
       "    <tr>\n",
       "      <th>0</th>\n",
       "      <td>What is The name of the contract?</td>\n",
       "      <td>STRATEGIC ALLIANCE AGREEMENT</td>\n",
       "      <td>STRATEGIC ALLIANCE AGREEMENT</td>\n",
       "      <td>1.000000</td>\n",
       "      <td>1.000000</td>\n",
       "      <td>1.000000</td>\n",
       "    </tr>\n",
       "    <tr>\n",
       "      <th>1</th>\n",
       "      <td>What is The two or more parties who signed the...</td>\n",
       "      <td>Dialog Semiconductor (UK) Ltd., DIALOG, Energo...</td>\n",
       "      <td>Dialog Semiconductor (UK) Ltd., DIALOG, Energo...</td>\n",
       "      <td>1.000000</td>\n",
       "      <td>0.750000</td>\n",
       "      <td>1.000000</td>\n",
       "    </tr>\n",
       "    <tr>\n",
       "      <th>2</th>\n",
       "      <td>What is The date of the contract?</td>\n",
       "      <td>November 6, 2016</td>\n",
       "      <td>2016, October 1</td>\n",
       "      <td>0.267889</td>\n",
       "      <td>0.333333</td>\n",
       "      <td>0.000000</td>\n",
       "    </tr>\n",
       "    <tr>\n",
       "      <th>3</th>\n",
       "      <td>What is The date when the contract is effective?</td>\n",
       "      <td>November 6, 2016</td>\n",
       "      <td>May 6, 2016</td>\n",
       "      <td>0.306074</td>\n",
       "      <td>0.666667</td>\n",
       "      <td>0.666667</td>\n",
       "    </tr>\n",
       "    <tr>\n",
       "      <th>4</th>\n",
       "      <td>On what date will the contract's initial term ...</td>\n",
       "      <td>Unless earlier terminated as provided herein, ...</td>\n",
       "      <td>7 years after the Effective Date, and thereaft...</td>\n",
       "      <td>0.629246</td>\n",
       "      <td>0.450000</td>\n",
       "      <td>0.370370</td>\n",
       "    </tr>\n",
       "  </tbody>\n",
       "</table>\n",
       "</div>"
      ],
      "text/plain": [
       "                                            question  \\\n",
       "0                  What is The name of the contract?   \n",
       "1  What is The two or more parties who signed the...   \n",
       "2                  What is The date of the contract?   \n",
       "3   What is The date when the contract is effective?   \n",
       "4  On what date will the contract's initial term ...   \n",
       "\n",
       "                                          ref_answer  \\\n",
       "0                       STRATEGIC ALLIANCE AGREEMENT   \n",
       "1  Dialog Semiconductor (UK) Ltd., DIALOG, Energo...   \n",
       "2                                   November 6, 2016   \n",
       "3                                   November 6, 2016   \n",
       "4  Unless earlier terminated as provided herein, ...   \n",
       "\n",
       "                                            response  semantic_similarity  \\\n",
       "0                       STRATEGIC ALLIANCE AGREEMENT             1.000000   \n",
       "1  Dialog Semiconductor (UK) Ltd., DIALOG, Energo...             1.000000   \n",
       "2                                    2016, October 1             0.267889   \n",
       "3                                        May 6, 2016             0.306074   \n",
       "4  7 years after the Effective Date, and thereaft...             0.629246   \n",
       "\n",
       "   token_overlap_recall  rouge_l_recall  \n",
       "0              1.000000        1.000000  \n",
       "1              0.750000        1.000000  \n",
       "2              0.333333        0.000000  \n",
       "3              0.666667        0.666667  \n",
       "4              0.450000        0.370370  "
      ]
     },
     "execution_count": 5,
     "metadata": {},
     "output_type": "execute_result"
    }
   ],
   "source": [
    "ORPO_RESULTS = 'orpo_trn_full_result.csv'\n",
    "df_orpo_data = pd.read_csv(ORPO_RESULTS)\n",
    "df_orpo_data.head()"
   ]
  },
  {
   "cell_type": "markdown",
   "id": "af185395",
   "metadata": {},
   "source": [
    "### RAG generator model by foundation models on Bedrock"
   ]
  },
  {
   "cell_type": "markdown",
   "id": "9297c4bb",
   "metadata": {},
   "source": [
    "RAG with Claude Haiku for generator model (generated from the notebook dspy_rag_compile.ipynb)"
   ]
  },
  {
   "cell_type": "code",
   "execution_count": 6,
   "id": "89b826ff",
   "metadata": {},
   "outputs": [
    {
     "data": {
      "text/html": [
       "<div>\n",
       "<style scoped>\n",
       "    .dataframe tbody tr th:only-of-type {\n",
       "        vertical-align: middle;\n",
       "    }\n",
       "\n",
       "    .dataframe tbody tr th {\n",
       "        vertical-align: top;\n",
       "    }\n",
       "\n",
       "    .dataframe thead th {\n",
       "        text-align: right;\n",
       "    }\n",
       "</style>\n",
       "<table border=\"1\" class=\"dataframe\">\n",
       "  <thead>\n",
       "    <tr style=\"text-align: right;\">\n",
       "      <th></th>\n",
       "      <th>question</th>\n",
       "      <th>ref_answer</th>\n",
       "      <th>response</th>\n",
       "    </tr>\n",
       "  </thead>\n",
       "  <tbody>\n",
       "    <tr>\n",
       "      <th>0</th>\n",
       "      <td>What is The name of the contract?</td>\n",
       "      <td>STRATEGIC ALLIANCE AGREEMENT</td>\n",
       "      <td>The name of the contract is not provided in th...</td>\n",
       "    </tr>\n",
       "    <tr>\n",
       "      <th>1</th>\n",
       "      <td>What is The two or more parties who signed the...</td>\n",
       "      <td>Dialog Semiconductor (UK) Ltd., DIALOG, Energo...</td>\n",
       "      <td>The two parties who signed the contract are En...</td>\n",
       "    </tr>\n",
       "    <tr>\n",
       "      <th>2</th>\n",
       "      <td>What is The date of the contract?</td>\n",
       "      <td>November 6, 2016</td>\n",
       "      <td>The date of the contract is not explicitly sta...</td>\n",
       "    </tr>\n",
       "    <tr>\n",
       "      <th>3</th>\n",
       "      <td>What is The date when the contract is effective?</td>\n",
       "      <td>November 6, 2016</td>\n",
       "      <td>The Effective Date</td>\n",
       "    </tr>\n",
       "    <tr>\n",
       "      <th>4</th>\n",
       "      <td>On what date will the contract's initial term ...</td>\n",
       "      <td>Unless earlier terminated as provided herein, ...</td>\n",
       "      <td>Answer: 7 years\\n\\nReasoning: According to the...</td>\n",
       "    </tr>\n",
       "  </tbody>\n",
       "</table>\n",
       "</div>"
      ],
      "text/plain": [
       "                                            question  \\\n",
       "0                  What is The name of the contract?   \n",
       "1  What is The two or more parties who signed the...   \n",
       "2                  What is The date of the contract?   \n",
       "3   What is The date when the contract is effective?   \n",
       "4  On what date will the contract's initial term ...   \n",
       "\n",
       "                                          ref_answer  \\\n",
       "0                       STRATEGIC ALLIANCE AGREEMENT   \n",
       "1  Dialog Semiconductor (UK) Ltd., DIALOG, Energo...   \n",
       "2                                   November 6, 2016   \n",
       "3                                   November 6, 2016   \n",
       "4  Unless earlier terminated as provided herein, ...   \n",
       "\n",
       "                                            response  \n",
       "0  The name of the contract is not provided in th...  \n",
       "1  The two parties who signed the contract are En...  \n",
       "2  The date of the contract is not explicitly sta...  \n",
       "3                                 The Effective Date  \n",
       "4  Answer: 7 years\\n\\nReasoning: According to the...  "
      ]
     },
     "execution_count": 6,
     "metadata": {},
     "output_type": "execute_result"
    }
   ],
   "source": [
    "RAG_HAIKU_RESULTS = 'rag_haiku_results_2.csv'\n",
    "df_rag_haiku_data = pd.read_csv(RAG_HAIKU_RESULTS)\n",
    "df_rag_haiku_data.head()"
   ]
  },
  {
   "cell_type": "markdown",
   "id": "318193ed",
   "metadata": {},
   "source": [
    "RAG with Claude 3 Haiku for generator model, optimize by DSPy (generated from the notebook dspy_rag_compile.ipynb)"
   ]
  },
  {
   "cell_type": "code",
   "execution_count": 7,
   "id": "5ce27f1b",
   "metadata": {},
   "outputs": [
    {
     "data": {
      "text/html": [
       "<div>\n",
       "<style scoped>\n",
       "    .dataframe tbody tr th:only-of-type {\n",
       "        vertical-align: middle;\n",
       "    }\n",
       "\n",
       "    .dataframe tbody tr th {\n",
       "        vertical-align: top;\n",
       "    }\n",
       "\n",
       "    .dataframe thead th {\n",
       "        text-align: right;\n",
       "    }\n",
       "</style>\n",
       "<table border=\"1\" class=\"dataframe\">\n",
       "  <thead>\n",
       "    <tr style=\"text-align: right;\">\n",
       "      <th></th>\n",
       "      <th>question</th>\n",
       "      <th>ref_answer</th>\n",
       "      <th>response</th>\n",
       "    </tr>\n",
       "  </thead>\n",
       "  <tbody>\n",
       "    <tr>\n",
       "      <th>0</th>\n",
       "      <td>What is The name of the contract?</td>\n",
       "      <td>STRATEGIC ALLIANCE AGREEMENT</td>\n",
       "      <td>The context provided does not explicitly state...</td>\n",
       "    </tr>\n",
       "    <tr>\n",
       "      <th>1</th>\n",
       "      <td>What is The two or more parties who signed the...</td>\n",
       "      <td>Dialog Semiconductor (UK) Ltd., DIALOG, Energo...</td>\n",
       "      <td>The two parties who signed the contract are:\\n...</td>\n",
       "    </tr>\n",
       "    <tr>\n",
       "      <th>2</th>\n",
       "      <td>What is The date of the contract?</td>\n",
       "      <td>November 6, 2016</td>\n",
       "      <td>The effective date of the contract is November...</td>\n",
       "    </tr>\n",
       "    <tr>\n",
       "      <th>3</th>\n",
       "      <td>What is The date when the contract is effective?</td>\n",
       "      <td>November 6, 2016</td>\n",
       "      <td>The effective date of the contract is November...</td>\n",
       "    </tr>\n",
       "    <tr>\n",
       "      <th>4</th>\n",
       "      <td>On what date will the contract's initial term ...</td>\n",
       "      <td>Unless earlier terminated as provided herein, ...</td>\n",
       "      <td>The initial term of the contract will expire 7...</td>\n",
       "    </tr>\n",
       "  </tbody>\n",
       "</table>\n",
       "</div>"
      ],
      "text/plain": [
       "                                            question  \\\n",
       "0                  What is The name of the contract?   \n",
       "1  What is The two or more parties who signed the...   \n",
       "2                  What is The date of the contract?   \n",
       "3   What is The date when the contract is effective?   \n",
       "4  On what date will the contract's initial term ...   \n",
       "\n",
       "                                          ref_answer  \\\n",
       "0                       STRATEGIC ALLIANCE AGREEMENT   \n",
       "1  Dialog Semiconductor (UK) Ltd., DIALOG, Energo...   \n",
       "2                                   November 6, 2016   \n",
       "3                                   November 6, 2016   \n",
       "4  Unless earlier terminated as provided herein, ...   \n",
       "\n",
       "                                            response  \n",
       "0  The context provided does not explicitly state...  \n",
       "1  The two parties who signed the contract are:\\n...  \n",
       "2  The effective date of the contract is November...  \n",
       "3  The effective date of the contract is November...  \n",
       "4  The initial term of the contract will expire 7...  "
      ]
     },
     "execution_count": 7,
     "metadata": {},
     "output_type": "execute_result"
    }
   ],
   "source": [
    "RAG_HAIKU_COMPILED_RESULTS = 'ragc_haiku_results_2.csv'\n",
    "df_ragc_haiku_data = pd.read_csv(RAG_HAIKU_COMPILED_RESULTS)\n",
    "df_ragc_haiku_data.head()"
   ]
  },
  {
   "cell_type": "markdown",
   "id": "237ac589",
   "metadata": {},
   "source": [
    "RAG with Claude 3 Sonnet for generator model (generated from the notebook dspy_rag_compile.ipynb)"
   ]
  },
  {
   "cell_type": "code",
   "execution_count": 8,
   "id": "880ee83c",
   "metadata": {},
   "outputs": [
    {
     "data": {
      "text/html": [
       "<div>\n",
       "<style scoped>\n",
       "    .dataframe tbody tr th:only-of-type {\n",
       "        vertical-align: middle;\n",
       "    }\n",
       "\n",
       "    .dataframe tbody tr th {\n",
       "        vertical-align: top;\n",
       "    }\n",
       "\n",
       "    .dataframe thead th {\n",
       "        text-align: right;\n",
       "    }\n",
       "</style>\n",
       "<table border=\"1\" class=\"dataframe\">\n",
       "  <thead>\n",
       "    <tr style=\"text-align: right;\">\n",
       "      <th></th>\n",
       "      <th>question</th>\n",
       "      <th>ref_answer</th>\n",
       "      <th>response</th>\n",
       "    </tr>\n",
       "  </thead>\n",
       "  <tbody>\n",
       "    <tr>\n",
       "      <th>0</th>\n",
       "      <td>What is The name of the contract?</td>\n",
       "      <td>STRATEGIC ALLIANCE AGREEMENT</td>\n",
       "      <td>This appears to be an agreement between Energo...</td>\n",
       "    </tr>\n",
       "    <tr>\n",
       "      <th>1</th>\n",
       "      <td>What is The two or more parties who signed the...</td>\n",
       "      <td>Dialog Semiconductor (UK) Ltd., DIALOG, Energo...</td>\n",
       "      <td>Energous Corporation, Dialog Semiconductor (UK...</td>\n",
       "    </tr>\n",
       "    <tr>\n",
       "      <th>2</th>\n",
       "      <td>What is The date of the contract?</td>\n",
       "      <td>November 6, 2016</td>\n",
       "      <td>The context does not provide the specific date...</td>\n",
       "    </tr>\n",
       "    <tr>\n",
       "      <th>3</th>\n",
       "      <td>What is The date when the contract is effective?</td>\n",
       "      <td>November 6, 2016</td>\n",
       "      <td>The Effective Date</td>\n",
       "    </tr>\n",
       "    <tr>\n",
       "      <th>4</th>\n",
       "      <td>On what date will the contract's initial term ...</td>\n",
       "      <td>Unless earlier terminated as provided herein, ...</td>\n",
       "      <td>7 years</td>\n",
       "    </tr>\n",
       "  </tbody>\n",
       "</table>\n",
       "</div>"
      ],
      "text/plain": [
       "                                            question  \\\n",
       "0                  What is The name of the contract?   \n",
       "1  What is The two or more parties who signed the...   \n",
       "2                  What is The date of the contract?   \n",
       "3   What is The date when the contract is effective?   \n",
       "4  On what date will the contract's initial term ...   \n",
       "\n",
       "                                          ref_answer  \\\n",
       "0                       STRATEGIC ALLIANCE AGREEMENT   \n",
       "1  Dialog Semiconductor (UK) Ltd., DIALOG, Energo...   \n",
       "2                                   November 6, 2016   \n",
       "3                                   November 6, 2016   \n",
       "4  Unless earlier terminated as provided herein, ...   \n",
       "\n",
       "                                            response  \n",
       "0  This appears to be an agreement between Energo...  \n",
       "1  Energous Corporation, Dialog Semiconductor (UK...  \n",
       "2  The context does not provide the specific date...  \n",
       "3                                 The Effective Date  \n",
       "4                                            7 years  "
      ]
     },
     "execution_count": 8,
     "metadata": {},
     "output_type": "execute_result"
    }
   ],
   "source": [
    "RAG_SONNET_RESULTS = 'rag_sonnet_results_2.csv'\n",
    "df_rag_sonnet_data = pd.read_csv(RAG_SONNET_RESULTS)\n",
    "df_rag_sonnet_data.head()"
   ]
  },
  {
   "cell_type": "markdown",
   "id": "9323a332",
   "metadata": {},
   "source": [
    "RAG with Claude 3 Sonnet for generator model, optimize by DSPy (generated from the notebook dspy_rag_compile.ipynb)"
   ]
  },
  {
   "cell_type": "code",
   "execution_count": 9,
   "id": "af4556d8",
   "metadata": {},
   "outputs": [
    {
     "data": {
      "text/html": [
       "<div>\n",
       "<style scoped>\n",
       "    .dataframe tbody tr th:only-of-type {\n",
       "        vertical-align: middle;\n",
       "    }\n",
       "\n",
       "    .dataframe tbody tr th {\n",
       "        vertical-align: top;\n",
       "    }\n",
       "\n",
       "    .dataframe thead th {\n",
       "        text-align: right;\n",
       "    }\n",
       "</style>\n",
       "<table border=\"1\" class=\"dataframe\">\n",
       "  <thead>\n",
       "    <tr style=\"text-align: right;\">\n",
       "      <th></th>\n",
       "      <th>question</th>\n",
       "      <th>ref_answer</th>\n",
       "      <th>response</th>\n",
       "    </tr>\n",
       "  </thead>\n",
       "  <tbody>\n",
       "    <tr>\n",
       "      <th>0</th>\n",
       "      <td>What is The name of the contract?</td>\n",
       "      <td>STRATEGIC ALLIANCE AGREEMENT</td>\n",
       "      <td>Unfortunately the name or title of the contrac...</td>\n",
       "    </tr>\n",
       "    <tr>\n",
       "      <th>1</th>\n",
       "      <td>What is The two or more parties who signed the...</td>\n",
       "      <td>Dialog Semiconductor (UK) Ltd., DIALOG, Energo...</td>\n",
       "      <td>The two parties who signed the contract are:\\n...</td>\n",
       "    </tr>\n",
       "    <tr>\n",
       "      <th>2</th>\n",
       "      <td>What is The date of the contract?</td>\n",
       "      <td>November 6, 2016</td>\n",
       "      <td>Unfortunately, the specific date of the contra...</td>\n",
       "    </tr>\n",
       "    <tr>\n",
       "      <th>3</th>\n",
       "      <td>What is The date when the contract is effective?</td>\n",
       "      <td>November 6, 2016</td>\n",
       "      <td>Unfortunately, the effective date of the contr...</td>\n",
       "    </tr>\n",
       "    <tr>\n",
       "      <th>4</th>\n",
       "      <td>On what date will the contract's initial term ...</td>\n",
       "      <td>Unless earlier terminated as provided herein, ...</td>\n",
       "      <td>The contract does not specify an exact date fo...</td>\n",
       "    </tr>\n",
       "  </tbody>\n",
       "</table>\n",
       "</div>"
      ],
      "text/plain": [
       "                                            question  \\\n",
       "0                  What is The name of the contract?   \n",
       "1  What is The two or more parties who signed the...   \n",
       "2                  What is The date of the contract?   \n",
       "3   What is The date when the contract is effective?   \n",
       "4  On what date will the contract's initial term ...   \n",
       "\n",
       "                                          ref_answer  \\\n",
       "0                       STRATEGIC ALLIANCE AGREEMENT   \n",
       "1  Dialog Semiconductor (UK) Ltd., DIALOG, Energo...   \n",
       "2                                   November 6, 2016   \n",
       "3                                   November 6, 2016   \n",
       "4  Unless earlier terminated as provided herein, ...   \n",
       "\n",
       "                                            response  \n",
       "0  Unfortunately the name or title of the contrac...  \n",
       "1  The two parties who signed the contract are:\\n...  \n",
       "2  Unfortunately, the specific date of the contra...  \n",
       "3  Unfortunately, the effective date of the contr...  \n",
       "4  The contract does not specify an exact date fo...  "
      ]
     },
     "execution_count": 9,
     "metadata": {},
     "output_type": "execute_result"
    }
   ],
   "source": [
    "RAG_SONNET_COMPILED_RESULTS = 'ragc_sonnet_results_2.csv'\n",
    "df_ragc_sonnet_data = pd.read_csv(RAG_SONNET_COMPILED_RESULTS)\n",
    "df_ragc_sonnet_data.head()"
   ]
  },
  {
   "cell_type": "markdown",
   "id": "9823156f",
   "metadata": {},
   "source": [
    "### Evaluation method 1: LLM-as-a-judge with True/False as score"
   ]
  },
  {
   "cell_type": "markdown",
   "id": "e6055310",
   "metadata": {},
   "source": [
    "Setup Claude and Meta models on Bedrock for LLM-as-a-judge"
   ]
  },
  {
   "cell_type": "code",
   "execution_count": 10,
   "id": "0c00e188",
   "metadata": {},
   "outputs": [
    {
     "name": "stdout",
     "output_type": "stream",
     "text": [
      "us-west-2\n"
     ]
    }
   ],
   "source": [
    "session = boto3.Session()\n",
    "region_name = session.region_name\n",
    "print(region_name)\n",
    "\n",
    "bedrock = session.client(\"bedrock\", region_name=region_name)\n",
    "br = session.client(\"bedrock-runtime\", region_name=region_name)\n",
    "\n",
    "dsp_bedrock = dspy.Bedrock(region_name=region_name)\n",
    "\n",
    "claude_sonnet_model_id = \"anthropic.claude-3-sonnet-20240229-v1:0\"\n",
    "clade_haiku_model_id = \"anthropic.claude-3-haiku-20240307-v1:0\"\n",
    "llama_model_id = \"us.meta.llama3-2-90b-instruct-v1:0\"\n",
    "\n",
    "bedrock_sonnet = dspy.AWSAnthropic(aws_provider=dsp_bedrock,\n",
    "                                  model=claude_sonnet_model_id,\n",
    "                                  max_new_tokens=4096,\n",
    "                                  max_tokens=4096)\n",
    "\n",
    "bedrock_haiku = dspy.AWSAnthropic(aws_provider=dsp_bedrock,\n",
    "                                 model=clade_haiku_model_id,\n",
    "                                 max_new_tokens=4096,\n",
    "                                 max_tokens=4096)\n",
    "\n",
    "bedrock_llama = dspy.AWSMeta(aws_provider=dsp_bedrock, \n",
    "                             model=llama_model_id, \n",
    "                             max_new_tokens=2048,\n",
    "                             max_tokens=2048)"
   ]
  },
  {
   "cell_type": "code",
   "execution_count": 11,
   "id": "a15d2962",
   "metadata": {},
   "outputs": [],
   "source": [
    "dspy.settings.configure(lm=bedrock_sonnet, temperature=0.1)"
   ]
  },
  {
   "cell_type": "markdown",
   "id": "4bf51e80-b959-4f50-afb2-be015203db56",
   "metadata": {},
   "source": [
    "Define the LLM judge class: eval = True/False"
   ]
  },
  {
   "cell_type": "code",
   "execution_count": 12,
   "id": "c66cde85-90bd-460d-83d4-948e784241ff",
   "metadata": {
    "tags": []
   },
   "outputs": [],
   "source": [
    "class FactualityJudge_0(dspy.Signature):\n",
    "    \"\"\"Judge if the predicted answer is factually correct and similar to the groundtruth answer. Only provide 'True' or 'False' in the response.\"\"\"\n",
    "\n",
    "    groundtruth_answer = dspy.InputField(desc=\"groundtruth answer\", format=str)\n",
    "    predicted_answer = dspy.InputField(desc=\"predicted answer\", format=str)\n",
    "    factually_correct = dspy.OutputField(desc=\"Is the predicted answer factually correct and semantically similar to the groundtruth answer?\", format=str) #, prefix=\"Factual[True/False]:\")\n"
   ]
  },
  {
   "cell_type": "code",
   "execution_count": 13,
   "id": "27bd330c-3dca-466a-a36f-156dbd596c00",
   "metadata": {},
   "outputs": [],
   "source": [
    "factualityJudge_0 = dspy.ChainOfThought(FactualityJudge_0)"
   ]
  },
  {
   "cell_type": "markdown",
   "id": "0059ef73-7255-4385-a3fb-6e067801dce2",
   "metadata": {},
   "source": [
    "Define the factuality metric for DSPy evaluate to run through LLM response/answer, and use LLM judge to generate evaluation metrics"
   ]
  },
  {
   "cell_type": "code",
   "execution_count": 14,
   "id": "f43b823e-fda3-46aa-bee0-61d1703a46d1",
   "metadata": {
    "tags": []
   },
   "outputs": [],
   "source": [
    "def factuality_metric_0(gt_answer, pred_answer):\n",
    "    #print(f\" type(gt_answer) :: {type(gt_answer)}\")\n",
    "    pred_answer = gt_answer.pred_answer\n",
    "    gt_answer = gt_answer.gt_answer\n",
    "        \n",
    "        \n",
    "    factual_metrc = factualityJudge_0(groundtruth_answer=gt_answer, predicted_answer=pred_answer), \n",
    "    '''\n",
    "    #debug\n",
    "    print(f\"\\n factual LLM judge  >>>>>>>> {factual_metrc}\")\n",
    "    print(f\"\\n factual LLM judge  >>>>>>>> {factual_metrc[0].factually_correct}\")\n",
    "    print(f\"\\n gt_answer  >>>>>>>  {gt_answer}\")\n",
    "    print(f\"\\n pred_answer  >>>>>>> {pred_answer}\")\n",
    "    '''\n",
    "    llm_judge_ans = bool(\"Factual[True]\" in factual_metrc[0].factually_correct or factual_metrc[0].factually_correct=='True') #or \"correct\" in factual.factually_correct.lower()\n",
    "    print(f\"llm_judge_ans = {llm_judge_ans}\")\n",
    "    return llm_judge_ans"
   ]
  },
  {
   "cell_type": "code",
   "execution_count": 15,
   "id": "7e7bc537-deb9-4241-8e7a-26ed43a56255",
   "metadata": {},
   "outputs": [],
   "source": [
    "metric_LLM_0 = factuality_metric_0"
   ]
  },
  {
   "cell_type": "markdown",
   "id": "d8e51145-bb7b-45a7-b380-b25a2142ea13",
   "metadata": {},
   "source": [
    "LLM Judge class to generate the answer and factual consistency"
   ]
  },
  {
   "cell_type": "code",
   "execution_count": 16,
   "id": "88774a1b-4b63-4a67-8f53-eac416b31b66",
   "metadata": {
    "tags": []
   },
   "outputs": [],
   "source": [
    "class LLMJudge_0(dspy.Module):\n",
    "    def __init__(self):\n",
    "        super().__init__()\n",
    "        self.generate_answer = dspy.ChainOfThought(FactualityJudge_0)\n",
    "    \n",
    "    def forward(self, gt_answer, pred_answer):\n",
    "        '''\n",
    "        print(f\"LLMJudge_0 gt_answer ----- {gt_answer}\")\n",
    "        print(f\"LLMJudge_0 pred_answer ----- {pred_answer}\")\n",
    "        '''\n",
    "        factual = self.generate_answer(groundtruth_answer=gt_answer, predicted_answer=pred_answer)\n",
    "        #gprint(f\"LLMJudge_0 factual ----- {factual}\")\n",
    "        #llm_judge_ans = factual.factually_correct\n",
    "        \n",
    "        llm_judge_ans = bool(\"Factual[True]\" in factual.factually_correct \n",
    "                         or '100% True' in factual.factually_correct\n",
    "                         or '100% factually correct' in factual.factually_correct\n",
    "                         or 'True' in factual.factually_correct    \n",
    "                         or factual.factually_correct=='True') #or \"correct\" in factual.factually_correct.lower()\n",
    "        return llm_judge_ans"
   ]
  },
  {
   "cell_type": "code",
   "execution_count": 17,
   "id": "11f03a93-17b2-4f1b-8c4b-0cd8700adbbb",
   "metadata": {},
   "outputs": [],
   "source": [
    "llm_judge_0 = LLMJudge_0()"
   ]
  },
  {
   "cell_type": "markdown",
   "id": "4fef38f6",
   "metadata": {},
   "source": [
    "Convert dataset into dspy format "
   ]
  },
  {
   "cell_type": "code",
   "execution_count": 18,
   "id": "f5f40fce-3c99-43f8-aad8-2f2346dca023",
   "metadata": {},
   "outputs": [],
   "source": [
    "def generate_dspy_example_dataset(df):\n",
    "    dataset_dspy_data = []\n",
    "\n",
    "    for question, gt_answer, pred_answer in df[:][[\"question\", \"ref_answer\", \"response\"]].values:\n",
    "        '''\n",
    "        print(f\"question >>>>>>> {question}\")\n",
    "        print(f\"gt_answer >>>>>>> {gt_answer}\")\n",
    "        print(f\"pred_answer >>>>>>> {pred_answer}\")\n",
    "        '''\n",
    "        dataset_dspy_data.append(dspy.Example(gt_answer=gt_answer, pred_answer=pred_answer).with_inputs(\"gt_answer\", \"pred_answer\"))\n",
    "\n",
    "    return dataset_dspy_data\n"
   ]
  },
  {
   "cell_type": "markdown",
   "id": "28ae6e9a",
   "metadata": {},
   "source": [
    "Batch evaluation using LLM-Judge class for dataset in dataframe format "
   ]
  },
  {
   "cell_type": "code",
   "execution_count": 19,
   "id": "c5c8f95d",
   "metadata": {},
   "outputs": [],
   "source": [
    "def get_judge_scores_0(test_data):\n",
    "    scores = []\n",
    "\n",
    "    for index, row in test_data.iterrows():\n",
    "        #print(\"=== \",index,\" ===\")\n",
    "        #print(f\"---------------\")\n",
    "        #print(f\"row['ref_answer'] >>>  {row['ref_answer']}\")\n",
    "        #print(f\"row['response'] {row['response']}\")\n",
    "        llm_judge_ans = float(llm_judge_0(row['ref_answer'], row['response']))\n",
    "        #print(f\"llm_judge_ans :: {llm_judge_ans}\")\n",
    "        scores.append(llm_judge_ans)\n",
    "        print(index,':',llm_judge_ans, end='|')\n",
    "\n",
    "    accuracy_score = (sum(bool(score) for score in scores))/len(scores)\n",
    "    \n",
    "    return accuracy_score"
   ]
  },
  {
   "cell_type": "markdown",
   "id": "6094ae6d-0f35-4556-8285-b400d7530cc9",
   "metadata": {},
   "source": [
    "#### LLM judge metrics by dspy "
   ]
  },
  {
   "cell_type": "markdown",
   "id": "136a2d1e-ee91-4aec-8b42-9bfc17d53f2a",
   "metadata": {
    "tags": []
   },
   "source": [
    "Evaluation scores for SFT results by LLM-judge class"
   ]
  },
  {
   "cell_type": "code",
   "execution_count": 20,
   "id": "6efc3d68",
   "metadata": {},
   "outputs": [
    {
     "name": "stderr",
     "output_type": "stream",
     "text": [
      "WARNING:root:\t*** In DSPy 2.5, all LM clients except `dspy.LM` are deprecated, underperform, and are about to be deleted. ***\n",
      " \t\tYou are using the client AWSAnthropic, which will be removed in DSPy 2.6.\n",
      " \t\tChanging the client is straightforward and will let you use new features (Adapters) that improve the consistency of LM outputs, especially when using chat LMs. \n",
      "\n",
      " \t\tLearn more about the changes and how to migrate at\n",
      " \t\thttps://github.com/stanfordnlp/dspy/blob/main/examples/migration.ipynb\n"
     ]
    },
    {
     "name": "stdout",
     "output_type": "stream",
     "text": [
      "0 : 1.0|1 : 0.0|2 : 0.0|3 : 1.0|4 : 1.0|5 : 1.0|6 : 1.0|7 : 1.0|8 : 0.0|9 : 0.0|10 : 0.0|11 : 0.0|12 : 0.0|13 : 0.0|14 : 0.0|15 : 0.0|16 : 1.0|17 : 0.0|18 : 0.0|19 : 0.0|20 : 1.0|21 : 0.0|22 : 1.0|23 : 0.0|24 : 1.0|25 : 0.0|26 : 0.0|27 : 0.0|28 : 1.0|29 : 0.0|30 : 0.0|31 : 0.0|"
     ]
    },
    {
     "data": {
      "text/plain": [
       "0.34375"
      ]
     },
     "execution_count": 20,
     "metadata": {},
     "output_type": "execute_result"
    }
   ],
   "source": [
    "sft_score_0 = get_judge_scores_0(df_sft_data)\n",
    "sft_score_0"
   ]
  },
  {
   "cell_type": "markdown",
   "id": "96246d4d",
   "metadata": {},
   "source": [
    "Evaluation scores for SFT results by dspy"
   ]
  },
  {
   "cell_type": "code",
   "execution_count": 21,
   "id": "d25d88a9-53d5-469e-8c5d-9a6834e2cdcd",
   "metadata": {
    "tags": []
   },
   "outputs": [
    {
     "name": "stdout",
     "output_type": "stream",
     "text": [
      "  0%|          | 0/32 [00:00<?, ?it/s]llm_judge_ans = True\n",
      "Average Metric: 1.00 / 32 (3.1%):   3%|▎         | 1/32 [00:01<00:39,  1.27s/it]llm_judge_ans = False\n",
      "Average Metric: 1.00 / 32 (3.1%):   6%|▋         | 2/32 [00:05<01:23,  2.78s/it]llm_judge_ans = False\n",
      "Average Metric: 1.00 / 32 (3.1%):   9%|▉         | 3/32 [00:06<00:57,  1.98s/it]llm_judge_ans = True\n",
      "Average Metric: 2.00 / 32 (6.2%):  12%|█▎        | 4/32 [00:07<00:52,  1.87s/it]llm_judge_ans = True\n",
      "Average Metric: 3.00 / 32 (9.4%):  16%|█▌        | 5/32 [00:09<00:45,  1.70s/it]llm_judge_ans = True\n",
      "Average Metric: 4.00 / 32 (12.5%):  19%|█▉        | 6/32 [00:10<00:42,  1.63s/it]llm_judge_ans = True\n",
      "Average Metric: 5.00 / 32 (15.6%):  22%|██▏       | 7/32 [00:12<00:40,  1.61s/it]llm_judge_ans = True\n",
      "Average Metric: 6.00 / 32 (18.8%):  25%|██▌       | 8/32 [00:14<00:44,  1.84s/it]llm_judge_ans = False\n",
      "Average Metric: 6.00 / 32 (18.8%):  28%|██▊       | 9/32 [00:16<00:43,  1.87s/it]llm_judge_ans = False\n",
      "Average Metric: 6.00 / 32 (18.8%):  31%|███▏      | 10/32 [00:18<00:39,  1.78s/it]llm_judge_ans = False\n",
      "Average Metric: 6.00 / 32 (18.8%):  34%|███▍      | 11/32 [00:19<00:35,  1.69s/it]llm_judge_ans = False\n",
      "Average Metric: 6.00 / 32 (18.8%):  38%|███▊      | 12/32 [00:21<00:32,  1.64s/it]llm_judge_ans = False\n",
      "Average Metric: 6.00 / 32 (18.8%):  41%|████      | 13/32 [00:23<00:32,  1.71s/it]llm_judge_ans = False\n",
      "Average Metric: 6.00 / 32 (18.8%):  44%|████▍     | 14/32 [00:24<00:28,  1.57s/it]llm_judge_ans = False\n",
      "Average Metric: 6.00 / 32 (18.8%):  47%|████▋     | 15/32 [00:26<00:27,  1.63s/it]llm_judge_ans = False\n",
      "Average Metric: 6.00 / 32 (18.8%):  50%|█████     | 16/32 [00:28<00:32,  2.02s/it]llm_judge_ans = True\n",
      "Average Metric: 7.00 / 32 (21.9%):  53%|█████▎    | 17/32 [00:30<00:27,  1.84s/it]llm_judge_ans = False\n",
      "Average Metric: 7.00 / 32 (21.9%):  56%|█████▋    | 18/32 [00:31<00:24,  1.73s/it]llm_judge_ans = False\n",
      "Average Metric: 7.00 / 32 (21.9%):  59%|█████▉    | 19/32 [00:33<00:22,  1.72s/it]llm_judge_ans = False\n",
      "Average Metric: 7.00 / 32 (21.9%):  62%|██████▎   | 20/32 [00:35<00:22,  1.84s/it]llm_judge_ans = True\n",
      "Average Metric: 8.00 / 32 (25.0%):  66%|██████▌   | 21/32 [00:37<00:20,  1.84s/it]llm_judge_ans = False\n",
      "Average Metric: 8.00 / 32 (25.0%):  69%|██████▉   | 22/32 [00:39<00:17,  1.76s/it]llm_judge_ans = True\n",
      "Average Metric: 9.00 / 32 (28.1%):  72%|███████▏  | 23/32 [00:40<00:15,  1.78s/it]llm_judge_ans = False\n",
      "Average Metric: 9.00 / 32 (28.1%):  75%|███████▌  | 24/32 [00:42<00:13,  1.67s/it]llm_judge_ans = True\n",
      "Average Metric: 10.00 / 32 (31.2%):  78%|███████▊  | 25/32 [00:43<00:11,  1.58s/it]llm_judge_ans = False\n",
      "Average Metric: 10.00 / 32 (31.2%):  81%|████████▏ | 26/32 [00:45<00:09,  1.59s/it]llm_judge_ans = False\n",
      "Average Metric: 10.00 / 32 (31.2%):  84%|████████▍ | 27/32 [00:50<00:13,  2.65s/it]llm_judge_ans = False\n",
      "Average Metric: 10.00 / 32 (31.2%):  88%|████████▊ | 28/32 [00:51<00:09,  2.27s/it]llm_judge_ans = True\n",
      "Average Metric: 11.00 / 32 (34.4%):  91%|█████████ | 29/32 [00:53<00:06,  2.10s/it]llm_judge_ans = False\n",
      "Average Metric: 11.00 / 32 (34.4%):  94%|█████████▍| 30/32 [00:56<00:05,  2.50s/it]llm_judge_ans = False\n",
      "Average Metric: 11.00 / 32 (34.4%):  97%|█████████▋| 31/32 [00:58<00:02,  2.19s/it]llm_judge_ans = False\n",
      "Average Metric: 11.00 / 32 (34.4%): 100%|██████████| 32/32 [01:01<00:00,  1.92s/it]"
     ]
    },
    {
     "name": "stderr",
     "output_type": "stream",
     "text": [
      "2024/12/18 16:59:23 INFO dspy.evaluate.evaluate: Average Metric: 11 / 32 (34.4%)\n"
     ]
    },
    {
     "name": "stdout",
     "output_type": "stream",
     "text": [
      "\n",
      "------------- Final DSPy Evaluation score :::: 34.38 ---------\n"
     ]
    }
   ],
   "source": [
    "evaluate_llm_judge = Evaluate(devset=generate_dspy_example_dataset(df_sft_data), \n",
    "                              metric=metric_LLM_0, \n",
    "                              num_threads=1, \n",
    "                              display_progress=True, \n",
    "                              display_table=0, \n",
    "                              provide_traceback=True)\n",
    "\n",
    "eval_score = evaluate_llm_judge(llm_judge_0, num_threads=1)\n",
    "print(f\"------------- Final DSPy Evaluation score :::: {eval_score} ---------\")"
   ]
  },
  {
   "cell_type": "code",
   "execution_count": 22,
   "id": "2340ce59-1d4f-4797-a63a-bc76dc083a05",
   "metadata": {
    "tags": []
   },
   "outputs": [
    {
     "data": {
      "text/plain": [
       "0.34380000000000005"
      ]
     },
     "execution_count": 22,
     "metadata": {},
     "output_type": "execute_result"
    }
   ],
   "source": [
    "sft_score_0 = eval_score/100\n",
    "sft_score_0"
   ]
  },
  {
   "cell_type": "markdown",
   "id": "de846386-639b-4c5e-b4a2-ebea89261477",
   "metadata": {},
   "source": [
    "Evaluation scores for DPO results by LLM-judge class"
   ]
  },
  {
   "cell_type": "code",
   "execution_count": 23,
   "id": "63c23f82",
   "metadata": {},
   "outputs": [
    {
     "name": "stdout",
     "output_type": "stream",
     "text": [
      "0 : 1.0|1 : 1.0|2 : 0.0|3 : 0.0|4 : 1.0|5 : 1.0|6 : 0.0|7 : 1.0|8 : 0.0|9 : 0.0|10 : 1.0|11 : 1.0|12 : 1.0|13 : 0.0|14 : 1.0|15 : 1.0|16 : 1.0|17 : 0.0|18 : 0.0|19 : 0.0|20 : 1.0|21 : 0.0|22 : 1.0|23 : 1.0|24 : 1.0|25 : 0.0|26 : 0.0|27 : 0.0|28 : 1.0|29 : 1.0|30 : 1.0|31 : 1.0|"
     ]
    },
    {
     "data": {
      "text/plain": [
       "0.59375"
      ]
     },
     "execution_count": 23,
     "metadata": {},
     "output_type": "execute_result"
    }
   ],
   "source": [
    "dpo_score_0 = get_judge_scores_0(df_dpo_data)\n",
    "dpo_score_0"
   ]
  },
  {
   "cell_type": "markdown",
   "id": "85f727bc",
   "metadata": {},
   "source": [
    "Evaluation scores for DPO results by dspy"
   ]
  },
  {
   "cell_type": "code",
   "execution_count": 24,
   "id": "8c6ecbd6-7dc4-4e83-9b0b-b9487de60763",
   "metadata": {},
   "outputs": [
    {
     "name": "stdout",
     "output_type": "stream",
     "text": [
      "  0%|          | 0/32 [00:00<?, ?it/s]llm_judge_ans = True\n",
      "Average Metric: 1.00 / 32 (3.1%):   3%|▎         | 1/32 [00:01<00:55,  1.80s/it]llm_judge_ans = True\n",
      "Average Metric: 2.00 / 32 (6.2%):   6%|▋         | 2/32 [00:03<00:49,  1.66s/it]llm_judge_ans = False\n",
      "Average Metric: 2.00 / 32 (6.2%):   9%|▉         | 3/32 [00:04<00:44,  1.55s/it]llm_judge_ans = False\n",
      "Average Metric: 2.00 / 32 (6.2%):  12%|█▎        | 4/32 [00:07<00:52,  1.89s/it]llm_judge_ans = True\n",
      "Average Metric: 3.00 / 32 (9.4%):  16%|█▌        | 5/32 [00:09<00:50,  1.87s/it]llm_judge_ans = True\n",
      "Average Metric: 4.00 / 32 (12.5%):  19%|█▉        | 6/32 [00:10<00:47,  1.81s/it]llm_judge_ans = False\n",
      "Average Metric: 4.00 / 32 (12.5%):  22%|██▏       | 7/32 [00:15<01:12,  2.90s/it]llm_judge_ans = True\n",
      "Average Metric: 5.00 / 32 (15.6%):  25%|██▌       | 8/32 [00:17<00:59,  2.46s/it]llm_judge_ans = False\n",
      "Average Metric: 5.00 / 32 (15.6%):  28%|██▊       | 9/32 [00:19<00:53,  2.35s/it]llm_judge_ans = False\n",
      "Average Metric: 5.00 / 32 (15.6%):  31%|███▏      | 10/32 [00:23<01:03,  2.87s/it]llm_judge_ans = True\n",
      "Average Metric: 6.00 / 32 (18.8%):  34%|███▍      | 11/32 [00:24<00:50,  2.41s/it]llm_judge_ans = True\n",
      "Average Metric: 7.00 / 32 (21.9%):  38%|███▊      | 12/32 [00:26<00:45,  2.30s/it]llm_judge_ans = True\n",
      "Average Metric: 8.00 / 32 (25.0%):  41%|████      | 13/32 [00:28<00:41,  2.20s/it]llm_judge_ans = False\n",
      "Average Metric: 8.00 / 32 (25.0%):  44%|████▍     | 14/32 [00:33<00:54,  3.02s/it]llm_judge_ans = True\n",
      "Average Metric: 9.00 / 32 (28.1%):  47%|████▋     | 15/32 [00:36<00:49,  2.91s/it]llm_judge_ans = True\n",
      "Average Metric: 10.00 / 32 (31.2%):  50%|█████     | 16/32 [00:38<00:41,  2.60s/it]llm_judge_ans = True\n",
      "Average Metric: 11.00 / 32 (34.4%):  53%|█████▎    | 17/32 [00:39<00:33,  2.22s/it]llm_judge_ans = False\n",
      "Average Metric: 11.00 / 32 (34.4%):  56%|█████▋    | 18/32 [00:41<00:28,  2.07s/it]llm_judge_ans = False\n",
      "Average Metric: 11.00 / 32 (34.4%):  59%|█████▉    | 19/32 [00:45<00:36,  2.78s/it]llm_judge_ans = False\n",
      "Average Metric: 11.00 / 32 (34.4%):  62%|██████▎   | 20/32 [00:47<00:29,  2.44s/it]llm_judge_ans = True\n",
      "Average Metric: 12.00 / 32 (37.5%):  66%|██████▌   | 21/32 [00:50<00:28,  2.56s/it]llm_judge_ans = False\n",
      "Average Metric: 12.00 / 32 (37.5%):  69%|██████▉   | 22/32 [00:55<00:33,  3.38s/it]llm_judge_ans = True\n",
      "Average Metric: 13.00 / 32 (40.6%):  72%|███████▏  | 23/32 [00:58<00:28,  3.13s/it]llm_judge_ans = True\n",
      "Average Metric: 14.00 / 32 (43.8%):  75%|███████▌  | 24/32 [00:59<00:21,  2.68s/it]llm_judge_ans = True\n",
      "Average Metric: 15.00 / 32 (46.9%):  78%|███████▊  | 25/32 [01:01<00:16,  2.37s/it]llm_judge_ans = False\n",
      "Average Metric: 15.00 / 32 (46.9%):  81%|████████▏ | 26/32 [01:06<00:19,  3.18s/it]llm_judge_ans = False\n",
      "Average Metric: 15.00 / 32 (46.9%):  84%|████████▍ | 27/32 [01:08<00:14,  2.90s/it]llm_judge_ans = False\n",
      "Average Metric: 15.00 / 32 (46.9%):  88%|████████▊ | 28/32 [01:10<00:10,  2.63s/it]llm_judge_ans = True\n",
      "Average Metric: 16.00 / 32 (50.0%):  91%|█████████ | 29/32 [01:12<00:07,  2.41s/it]llm_judge_ans = True\n",
      "Average Metric: 17.00 / 32 (53.1%):  94%|█████████▍| 30/32 [01:15<00:05,  2.66s/it]llm_judge_ans = True\n",
      "Average Metric: 18.00 / 32 (56.2%):  97%|█████████▋| 31/32 [01:17<00:02,  2.24s/it]llm_judge_ans = True\n",
      "Average Metric: 19.00 / 32 (59.4%): 100%|██████████| 32/32 [01:18<00:00,  2.46s/it]"
     ]
    },
    {
     "name": "stderr",
     "output_type": "stream",
     "text": [
      "2024/12/18 17:01:25 INFO dspy.evaluate.evaluate: Average Metric: 19 / 32 (59.4%)\n"
     ]
    },
    {
     "name": "stdout",
     "output_type": "stream",
     "text": [
      "\n",
      "------------- Final DSPy Evaluation score :::: 59.38 ---------\n"
     ]
    }
   ],
   "source": [
    "evaluate_llm_judge = Evaluate(devset=generate_dspy_example_dataset(df_dpo_data), \n",
    "                              metric=metric_LLM_0, \n",
    "                              num_threads=1, \n",
    "                              display_progress=True, display_table=0, provide_traceback=True)\n",
    "\n",
    "eval_score = evaluate_llm_judge(llm_judge_0, num_threads=1)\n",
    "print(f\"------------- Final DSPy Evaluation score :::: {eval_score} ---------\")"
   ]
  },
  {
   "cell_type": "code",
   "execution_count": 25,
   "id": "3eed68fe-0d9d-4ab3-982c-7e6e9fa2956a",
   "metadata": {},
   "outputs": [
    {
     "data": {
      "text/plain": [
       "0.5938"
      ]
     },
     "execution_count": 25,
     "metadata": {},
     "output_type": "execute_result"
    }
   ],
   "source": [
    "dpo_score_0 = eval_score/100\n",
    "dpo_score_0"
   ]
  },
  {
   "cell_type": "markdown",
   "id": "24c8498c-c950-4c18-8413-81665b66abbc",
   "metadata": {},
   "source": [
    "Evaluation scores for ORPO results by LLM-judge class"
   ]
  },
  {
   "cell_type": "code",
   "execution_count": 26,
   "id": "1a37e3cf",
   "metadata": {},
   "outputs": [
    {
     "name": "stdout",
     "output_type": "stream",
     "text": [
      "0 : 1.0|1 : 1.0|2 : 0.0|3 : 0.0|4 : 1.0|5 : 1.0|6 : 0.0|7 : 1.0|8 : 0.0|9 : 0.0|10 : 1.0|11 : 1.0|12 : 0.0|13 : 0.0|14 : 1.0|15 : 1.0|16 : 1.0|17 : 0.0|18 : 0.0|19 : 0.0|20 : 1.0|21 : 0.0|22 : 1.0|23 : 1.0|24 : 1.0|25 : 0.0|26 : 0.0|27 : 0.0|28 : 1.0|29 : 1.0|30 : 1.0|31 : 1.0|"
     ]
    },
    {
     "data": {
      "text/plain": [
       "0.5625"
      ]
     },
     "execution_count": 26,
     "metadata": {},
     "output_type": "execute_result"
    }
   ],
   "source": [
    "orpo_score_0 = get_judge_scores_0(df_orpo_data)\n",
    "orpo_score_0"
   ]
  },
  {
   "cell_type": "markdown",
   "id": "c43cacda",
   "metadata": {},
   "source": [
    "Evaluation scores for ORPO results by dspy"
   ]
  },
  {
   "cell_type": "code",
   "execution_count": 27,
   "id": "d9989d70",
   "metadata": {},
   "outputs": [
    {
     "name": "stdout",
     "output_type": "stream",
     "text": [
      "  0%|          | 0/32 [00:00<?, ?it/s]llm_judge_ans = True\n",
      "Average Metric: 1.00 / 32 (3.1%):   3%|▎         | 1/32 [00:01<00:35,  1.15s/it]llm_judge_ans = True\n",
      "Average Metric: 2.00 / 32 (6.2%):   6%|▋         | 2/32 [00:02<00:33,  1.11s/it]llm_judge_ans = False\n",
      "Average Metric: 2.00 / 32 (6.2%):   9%|▉         | 3/32 [00:03<00:32,  1.12s/it]llm_judge_ans = False\n",
      "Average Metric: 2.00 / 32 (6.2%):  12%|█▎        | 4/32 [00:04<00:31,  1.11s/it]llm_judge_ans = True\n",
      "Average Metric: 3.00 / 32 (9.4%):  16%|█▌        | 5/32 [00:05<00:33,  1.25s/it]llm_judge_ans = True\n",
      "Average Metric: 4.00 / 32 (12.5%):  19%|█▉        | 6/32 [00:09<00:51,  2.00s/it]llm_judge_ans = False\n",
      "Average Metric: 4.00 / 32 (12.5%):  22%|██▏       | 7/32 [00:14<01:19,  3.17s/it]llm_judge_ans = True\n",
      "Average Metric: 5.00 / 32 (15.6%):  25%|██▌       | 8/32 [00:16<01:05,  2.73s/it]llm_judge_ans = False\n",
      "Average Metric: 5.00 / 32 (15.6%):  28%|██▊       | 9/32 [00:23<01:32,  4.00s/it]llm_judge_ans = False\n",
      "Average Metric: 5.00 / 32 (15.6%):  31%|███▏      | 10/32 [00:26<01:20,  3.67s/it]llm_judge_ans = True\n",
      "Average Metric: 6.00 / 32 (18.8%):  34%|███▍      | 11/32 [00:28<01:07,  3.22s/it]llm_judge_ans = True\n",
      "Average Metric: 7.00 / 32 (21.9%):  38%|███▊      | 12/32 [00:30<00:57,  2.87s/it]llm_judge_ans = False\n",
      "Average Metric: 7.00 / 32 (21.9%):  41%|████      | 13/32 [00:32<00:49,  2.60s/it]llm_judge_ans = False\n",
      "Average Metric: 7.00 / 32 (21.9%):  44%|████▍     | 14/32 [00:34<00:40,  2.28s/it]llm_judge_ans = True\n",
      "Average Metric: 8.00 / 32 (25.0%):  47%|████▋     | 15/32 [00:37<00:45,  2.65s/it]llm_judge_ans = True\n",
      "Average Metric: 9.00 / 32 (28.1%):  50%|█████     | 16/32 [00:39<00:39,  2.45s/it]llm_judge_ans = True\n",
      "Average Metric: 10.00 / 32 (31.2%):  53%|█████▎    | 17/32 [00:41<00:34,  2.29s/it]llm_judge_ans = False\n",
      "Average Metric: 10.00 / 32 (31.2%):  56%|█████▋    | 18/32 [00:43<00:28,  2.06s/it]llm_judge_ans = False\n",
      "Average Metric: 10.00 / 32 (31.2%):  59%|█████▉    | 19/32 [00:48<00:40,  3.11s/it]llm_judge_ans = False\n",
      "Average Metric: 10.00 / 32 (31.2%):  62%|██████▎   | 20/32 [00:50<00:33,  2.82s/it]llm_judge_ans = True\n",
      "Average Metric: 11.00 / 32 (34.4%):  66%|██████▌   | 21/32 [00:53<00:31,  2.89s/it]llm_judge_ans = False\n",
      "Average Metric: 11.00 / 32 (34.4%):  69%|██████▉   | 22/32 [01:01<00:43,  4.36s/it]llm_judge_ans = True\n",
      "Average Metric: 12.00 / 32 (37.5%):  72%|███████▏  | 23/32 [01:03<00:33,  3.68s/it]llm_judge_ans = True\n",
      "Average Metric: 13.00 / 32 (40.6%):  75%|███████▌  | 24/32 [01:05<00:24,  3.11s/it]llm_judge_ans = True\n",
      "Average Metric: 14.00 / 32 (43.8%):  78%|███████▊  | 25/32 [01:07<00:20,  2.86s/it]llm_judge_ans = False\n",
      "Average Metric: 14.00 / 32 (43.8%):  81%|████████▏ | 26/32 [01:15<00:25,  4.24s/it]llm_judge_ans = False\n",
      "Average Metric: 14.00 / 32 (43.8%):  84%|████████▍ | 27/32 [01:18<00:20,  4.01s/it]llm_judge_ans = False\n",
      "Average Metric: 14.00 / 32 (43.8%):  88%|████████▊ | 28/32 [01:20<00:13,  3.26s/it]llm_judge_ans = True\n",
      "Average Metric: 15.00 / 32 (46.9%):  91%|█████████ | 29/32 [01:22<00:08,  2.87s/it]llm_judge_ans = True\n",
      "Average Metric: 16.00 / 32 (50.0%):  94%|█████████▍| 30/32 [01:24<00:05,  2.77s/it]llm_judge_ans = True\n",
      "Average Metric: 17.00 / 32 (53.1%):  97%|█████████▋| 31/32 [01:26<00:02,  2.33s/it]llm_judge_ans = True\n",
      "Average Metric: 18.00 / 32 (56.2%): 100%|██████████| 32/32 [01:27<00:00,  2.74s/it]"
     ]
    },
    {
     "name": "stderr",
     "output_type": "stream",
     "text": [
      "2024/12/18 17:03:29 INFO dspy.evaluate.evaluate: Average Metric: 18 / 32 (56.2%)\n"
     ]
    },
    {
     "name": "stdout",
     "output_type": "stream",
     "text": [
      "\n",
      "------------- Final DSPy Evaluation score :::: 56.25 ---------\n"
     ]
    }
   ],
   "source": [
    "evaluate_llm_judge = Evaluate(devset=generate_dspy_example_dataset(df_orpo_data), \n",
    "                              metric=metric_LLM_0, \n",
    "                              num_threads=1, \n",
    "                              display_progress=True, \n",
    "                              display_table=0, \n",
    "                              provide_traceback=True)\n",
    "\n",
    "eval_score = evaluate_llm_judge(llm_judge_0, num_threads=1)\n",
    "print(f\"------------- Final DSPy Evaluation score :::: {eval_score} ---------\")"
   ]
  },
  {
   "cell_type": "code",
   "execution_count": 28,
   "id": "294a77c7-1b74-4d5b-83ad-6946bf7acce9",
   "metadata": {},
   "outputs": [
    {
     "data": {
      "text/plain": [
       "0.5625"
      ]
     },
     "execution_count": 28,
     "metadata": {},
     "output_type": "execute_result"
    }
   ],
   "source": [
    "orpo_score_0 = eval_score/100\n",
    "orpo_score_0"
   ]
  },
  {
   "cell_type": "markdown",
   "id": "1c73f353-661d-43ec-9a7f-0359457738a1",
   "metadata": {
    "tags": []
   },
   "source": [
    "Evaluation scores for RAG HAIKU results by LLM-judge class"
   ]
  },
  {
   "cell_type": "code",
   "execution_count": 29,
   "id": "9c74f687",
   "metadata": {},
   "outputs": [
    {
     "name": "stdout",
     "output_type": "stream",
     "text": [
      "0 : 0.0|1 : 0.0|2 : 0.0|3 : 0.0|4 : 1.0|5 : 1.0|6 : 1.0|7 : 1.0|8 : 0.0|9 : 0.0|10 : 0.0|11 : 0.0|12 : 1.0|13 : 0.0|14 : 0.0|15 : 1.0|16 : 0.0|17 : 0.0|18 : 0.0|19 : 0.0|20 : 0.0|21 : 0.0|22 : 0.0|23 : 0.0|24 : 1.0|25 : 0.0|26 : 0.0|27 : 0.0|28 : 0.0|29 : 0.0|30 : 0.0|31 : 0.0|"
     ]
    },
    {
     "data": {
      "text/plain": [
       "0.21875"
      ]
     },
     "execution_count": 29,
     "metadata": {},
     "output_type": "execute_result"
    }
   ],
   "source": [
    "rag_haiku_score_0 = get_judge_scores_0(df_rag_haiku_data)\n",
    "rag_haiku_score_0"
   ]
  },
  {
   "cell_type": "markdown",
   "id": "d48578ae",
   "metadata": {},
   "source": [
    "Evaluation scores for RAG HAIKU results by dspy"
   ]
  },
  {
   "cell_type": "code",
   "execution_count": 31,
   "id": "1c1fee8c",
   "metadata": {},
   "outputs": [
    {
     "name": "stdout",
     "output_type": "stream",
     "text": [
      "  0%|          | 0/32 [00:00<?, ?it/s]llm_judge_ans = False\n",
      "Average Metric: 0.00 / 32 (0.0%):   3%|▎         | 1/32 [00:07<03:48,  7.38s/it]llm_judge_ans = False\n",
      "Average Metric: 0.00 / 32 (0.0%):   6%|▋         | 2/32 [00:20<05:30, 11.02s/it]llm_judge_ans = False\n",
      "Average Metric: 0.00 / 32 (0.0%):   9%|▉         | 3/32 [00:34<05:54, 12.23s/it]llm_judge_ans = False\n",
      "Average Metric: 0.00 / 32 (0.0%):  12%|█▎        | 4/32 [00:41<04:40, 10.02s/it]llm_judge_ans = False\n",
      "Average Metric: 0.00 / 32 (0.0%):  16%|█▌        | 5/32 [00:45<03:38,  8.08s/it]llm_judge_ans = True\n",
      "Average Metric: 1.00 / 32 (3.1%):  19%|█▉        | 6/32 [00:47<02:34,  5.93s/it]llm_judge_ans = False\n",
      "Average Metric: 1.00 / 32 (3.1%):  22%|██▏       | 7/32 [00:51<02:10,  5.22s/it]llm_judge_ans = True\n",
      "Average Metric: 2.00 / 32 (6.2%):  25%|██▌       | 8/32 [00:53<01:41,  4.24s/it]llm_judge_ans = False\n",
      "Average Metric: 2.00 / 32 (6.2%):  28%|██▊       | 9/32 [01:00<01:58,  5.16s/it]llm_judge_ans = False\n",
      "Average Metric: 2.00 / 32 (6.2%):  31%|███▏      | 10/32 [01:07<02:01,  5.51s/it]llm_judge_ans = False\n",
      "Average Metric: 2.00 / 32 (6.2%):  34%|███▍      | 11/32 [01:09<01:36,  4.59s/it]llm_judge_ans = False\n",
      "Average Metric: 2.00 / 32 (6.2%):  38%|███▊      | 12/32 [01:11<01:15,  3.76s/it]llm_judge_ans = True\n",
      "Average Metric: 3.00 / 32 (9.4%):  41%|████      | 13/32 [01:12<00:58,  3.09s/it]llm_judge_ans = False\n",
      "Average Metric: 3.00 / 32 (9.4%):  44%|████▍     | 14/32 [01:18<01:07,  3.74s/it]llm_judge_ans = False\n",
      "Average Metric: 3.00 / 32 (9.4%):  47%|████▋     | 15/32 [01:23<01:09,  4.08s/it]llm_judge_ans = True\n",
      "Average Metric: 4.00 / 32 (12.5%):  50%|█████     | 16/32 [01:24<00:54,  3.43s/it]llm_judge_ans = False\n",
      "Average Metric: 4.00 / 32 (12.5%):  53%|█████▎    | 17/32 [01:29<00:58,  3.91s/it]llm_judge_ans = False\n",
      "Average Metric: 4.00 / 32 (12.5%):  56%|█████▋    | 18/32 [01:34<00:58,  4.17s/it]llm_judge_ans = False\n",
      "Average Metric: 4.00 / 32 (12.5%):  59%|█████▉    | 19/32 [01:36<00:44,  3.42s/it]llm_judge_ans = False\n",
      "Average Metric: 4.00 / 32 (12.5%):  62%|██████▎   | 20/32 [01:40<00:43,  3.60s/it]llm_judge_ans = False\n",
      "Average Metric: 4.00 / 32 (12.5%):  66%|██████▌   | 21/32 [01:44<00:40,  3.70s/it]llm_judge_ans = False\n",
      "Average Metric: 4.00 / 32 (12.5%):  69%|██████▉   | 22/32 [01:48<00:39,  3.94s/it]llm_judge_ans = False\n",
      "Average Metric: 4.00 / 32 (12.5%):  72%|███████▏  | 23/32 [01:53<00:38,  4.28s/it]llm_judge_ans = False\n",
      "Average Metric: 4.00 / 32 (12.5%):  75%|███████▌  | 24/32 [01:57<00:33,  4.18s/it]llm_judge_ans = True\n",
      "Average Metric: 5.00 / 32 (15.6%):  78%|███████▊  | 25/32 [01:59<00:23,  3.42s/it]llm_judge_ans = False\n",
      "Average Metric: 5.00 / 32 (15.6%):  81%|████████▏ | 26/32 [02:04<00:24,  4.02s/it]llm_judge_ans = False\n",
      "Average Metric: 5.00 / 32 (15.6%):  84%|████████▍ | 27/32 [02:09<00:21,  4.29s/it]llm_judge_ans = False\n",
      "Average Metric: 5.00 / 32 (15.6%):  88%|████████▊ | 28/32 [02:13<00:16,  4.15s/it]llm_judge_ans = True\n",
      "Average Metric: 6.00 / 32 (18.8%):  91%|█████████ | 29/32 [02:16<00:11,  3.73s/it]llm_judge_ans = False\n",
      "Average Metric: 6.00 / 32 (18.8%):  94%|█████████▍| 30/32 [02:21<00:08,  4.15s/it]llm_judge_ans = False\n",
      "Average Metric: 6.00 / 32 (18.8%):  97%|█████████▋| 31/32 [02:22<00:03,  3.30s/it]llm_judge_ans = False\n",
      "Average Metric: 6.00 / 32 (18.8%): 100%|██████████| 32/32 [02:26<00:00,  4.56s/it]"
     ]
    },
    {
     "name": "stderr",
     "output_type": "stream",
     "text": [
      "2024/12/18 17:09:21 INFO dspy.evaluate.evaluate: Average Metric: 6 / 32 (18.8%)\n"
     ]
    },
    {
     "name": "stdout",
     "output_type": "stream",
     "text": [
      "\n",
      "------------- Final DSPy Evaluation score :::: 18.75 ---------\n"
     ]
    }
   ],
   "source": [
    "evaluate_llm_judge = Evaluate(devset=generate_dspy_example_dataset(df_rag_haiku_data), \n",
    "                              metric=metric_LLM_0, \n",
    "                              num_threads=1, \n",
    "                              display_progress=True, \n",
    "                              display_table=0, \n",
    "                              provide_traceback=True)\n",
    "\n",
    "eval_score = evaluate_llm_judge(llm_judge_0, num_threads=1)\n",
    "print(f\"------------- Final DSPy Evaluation score :::: {eval_score} ---------\")"
   ]
  },
  {
   "cell_type": "code",
   "execution_count": 32,
   "id": "2b8f8964-5c65-40eb-b267-d5669f882501",
   "metadata": {},
   "outputs": [
    {
     "data": {
      "text/plain": [
       "0.1875"
      ]
     },
     "execution_count": 32,
     "metadata": {},
     "output_type": "execute_result"
    }
   ],
   "source": [
    "rag_haiku_score_0 = eval_score/100\n",
    "rag_haiku_score_0"
   ]
  },
  {
   "cell_type": "markdown",
   "id": "23f2303b-f5d8-4879-a4bb-5f9ba42b7139",
   "metadata": {},
   "source": [
    "Evaluation scores for RAG compiled HAIKU results by LLM-judge class"
   ]
  },
  {
   "cell_type": "code",
   "execution_count": 33,
   "id": "7bfc0b9e",
   "metadata": {},
   "outputs": [
    {
     "name": "stdout",
     "output_type": "stream",
     "text": [
      "0 : 0.0|1 : 1.0|2 : 1.0|3 : 1.0|4 : 0.0|5 : 1.0|6 : 1.0|7 : 1.0|8 : 1.0|9 : 0.0|10 : 0.0|11 : 0.0|12 : 1.0|13 : 1.0|14 : 0.0|15 : 0.0|16 : 0.0|17 : 1.0|18 : 0.0|19 : 0.0|20 : 1.0|21 : 0.0|22 : 1.0|23 : 0.0|24 : 1.0|25 : 0.0|26 : 0.0|27 : 0.0|28 : 0.0|29 : 0.0|30 : 0.0|31 : 1.0|"
     ]
    },
    {
     "data": {
      "text/plain": [
       "0.4375"
      ]
     },
     "execution_count": 33,
     "metadata": {},
     "output_type": "execute_result"
    }
   ],
   "source": [
    "ragc_haiku_score_0 = get_judge_scores_0(df_ragc_haiku_data)\n",
    "ragc_haiku_score_0"
   ]
  },
  {
   "cell_type": "markdown",
   "id": "b2dca8b5",
   "metadata": {},
   "source": [
    "Evaluation scores for RAG compiled HAIKU results by dspy"
   ]
  },
  {
   "cell_type": "code",
   "execution_count": 34,
   "id": "37f87c29",
   "metadata": {},
   "outputs": [
    {
     "name": "stdout",
     "output_type": "stream",
     "text": [
      "  0%|          | 0/32 [00:00<?, ?it/s]llm_judge_ans = False\n",
      "Average Metric: 0.00 / 32 (0.0%):   3%|▎         | 1/32 [00:03<01:57,  3.80s/it]llm_judge_ans = True\n",
      "Average Metric: 1.00 / 32 (3.1%):   6%|▋         | 2/32 [00:05<01:16,  2.56s/it]llm_judge_ans = True\n",
      "Average Metric: 2.00 / 32 (6.2%):   9%|▉         | 3/32 [00:06<00:58,  2.01s/it]llm_judge_ans = True\n",
      "Average Metric: 3.00 / 32 (9.4%):  12%|█▎        | 4/32 [00:08<00:46,  1.67s/it]llm_judge_ans = False\n",
      "Average Metric: 3.00 / 32 (9.4%):  16%|█▌        | 5/32 [00:10<00:49,  1.84s/it]llm_judge_ans = True\n",
      "Average Metric: 4.00 / 32 (12.5%):  19%|█▉        | 6/32 [00:12<00:51,  1.97s/it]llm_judge_ans = True\n",
      "Average Metric: 5.00 / 32 (15.6%):  22%|██▏       | 7/32 [00:14<00:48,  1.92s/it]llm_judge_ans = True\n",
      "Average Metric: 6.00 / 32 (18.8%):  25%|██▌       | 8/32 [00:15<00:40,  1.71s/it]llm_judge_ans = True\n",
      "Average Metric: 7.00 / 32 (21.9%):  28%|██▊       | 9/32 [00:18<00:46,  2.03s/it]llm_judge_ans = False\n",
      "Average Metric: 7.00 / 32 (21.9%):  31%|███▏      | 10/32 [00:21<00:55,  2.52s/it]llm_judge_ans = False\n",
      "Average Metric: 7.00 / 32 (21.9%):  34%|███▍      | 11/32 [00:25<01:03,  3.02s/it]llm_judge_ans = False\n",
      "Average Metric: 7.00 / 32 (21.9%):  38%|███▊      | 12/32 [00:27<00:54,  2.71s/it]llm_judge_ans = True\n",
      "Average Metric: 8.00 / 32 (25.0%):  41%|████      | 13/32 [00:29<00:45,  2.40s/it]llm_judge_ans = True\n",
      "Average Metric: 9.00 / 32 (28.1%):  44%|████▍     | 14/32 [00:30<00:37,  2.08s/it]llm_judge_ans = False\n",
      "Average Metric: 9.00 / 32 (28.1%):  47%|████▋     | 15/32 [00:37<00:58,  3.45s/it]llm_judge_ans = False\n",
      "Average Metric: 9.00 / 32 (28.1%):  50%|█████     | 16/32 [00:41<00:55,  3.45s/it]llm_judge_ans = False\n",
      "Average Metric: 9.00 / 32 (28.1%):  53%|█████▎    | 17/32 [00:44<00:52,  3.53s/it]llm_judge_ans = True\n",
      "Average Metric: 10.00 / 32 (31.2%):  56%|█████▋    | 18/32 [00:46<00:41,  2.95s/it]llm_judge_ans = False\n",
      "Average Metric: 10.00 / 32 (31.2%):  59%|█████▉    | 19/32 [00:47<00:32,  2.53s/it]llm_judge_ans = False\n",
      "Average Metric: 10.00 / 32 (31.2%):  62%|██████▎   | 20/32 [00:53<00:42,  3.58s/it]llm_judge_ans = True\n",
      "Average Metric: 11.00 / 32 (34.4%):  66%|██████▌   | 21/32 [00:56<00:35,  3.24s/it]llm_judge_ans = False\n",
      "Average Metric: 11.00 / 32 (34.4%):  69%|██████▉   | 22/32 [01:02<00:40,  4.04s/it]llm_judge_ans = True\n",
      "Average Metric: 12.00 / 32 (37.5%):  72%|███████▏  | 23/32 [01:04<00:30,  3.44s/it]llm_judge_ans = False\n",
      "Average Metric: 12.00 / 32 (37.5%):  75%|███████▌  | 24/32 [01:08<00:29,  3.66s/it]llm_judge_ans = True\n",
      "Average Metric: 13.00 / 32 (40.6%):  78%|███████▊  | 25/32 [01:11<00:23,  3.38s/it]llm_judge_ans = False\n",
      "Average Metric: 13.00 / 32 (40.6%):  81%|████████▏ | 26/32 [01:25<00:39,  6.52s/it]llm_judge_ans = False\n",
      "Average Metric: 13.00 / 32 (40.6%):  84%|████████▍ | 27/32 [01:31<00:32,  6.53s/it]llm_judge_ans = False\n",
      "Average Metric: 13.00 / 32 (40.6%):  88%|████████▊ | 28/32 [01:43<00:32,  8.18s/it]llm_judge_ans = False\n",
      "Average Metric: 13.00 / 32 (40.6%):  91%|█████████ | 29/32 [01:57<00:29,  9.80s/it]llm_judge_ans = False\n",
      "Average Metric: 13.00 / 32 (40.6%):  94%|█████████▍| 30/32 [02:11<00:22, 11.11s/it]llm_judge_ans = False\n",
      "Average Metric: 13.00 / 32 (40.6%):  97%|█████████▋| 31/32 [02:13<00:08,  8.47s/it]llm_judge_ans = True\n",
      "Average Metric: 14.00 / 32 (43.8%): 100%|██████████| 32/32 [02:17<00:00,  4.28s/it]"
     ]
    },
    {
     "name": "stderr",
     "output_type": "stream",
     "text": [
      "2024/12/18 17:12:24 INFO dspy.evaluate.evaluate: Average Metric: 14 / 32 (43.8%)\n"
     ]
    },
    {
     "name": "stdout",
     "output_type": "stream",
     "text": [
      "\n",
      "------------- Final DSPy Evaluation score :::: 43.75 ---------\n"
     ]
    }
   ],
   "source": [
    "evaluate_llm_judge = Evaluate(devset=generate_dspy_example_dataset(df_ragc_haiku_data), \n",
    "                              metric=metric_LLM_0, \n",
    "                              num_threads=1, \n",
    "                              display_progress=True, \n",
    "                              display_table=0, \n",
    "                              provide_traceback=True)\n",
    "\n",
    "eval_score = evaluate_llm_judge(llm_judge_0, num_threads=1)\n",
    "print(f\"------------- Final DSPy Evaluation score :::: {eval_score} ---------\")"
   ]
  },
  {
   "cell_type": "code",
   "execution_count": 35,
   "id": "c7364fd9-2ab2-45ee-8b20-dcd43032a385",
   "metadata": {},
   "outputs": [
    {
     "data": {
      "text/plain": [
       "0.4375"
      ]
     },
     "execution_count": 35,
     "metadata": {},
     "output_type": "execute_result"
    }
   ],
   "source": [
    "ragc_haiku_score_0 = eval_score/100\n",
    "ragc_haiku_score_0"
   ]
  },
  {
   "cell_type": "markdown",
   "id": "5db4de9b-a064-45c5-9cb3-b6f9c271d695",
   "metadata": {},
   "source": [
    "Evaluation scores for RAG Sonnet results by LLM-judge class"
   ]
  },
  {
   "cell_type": "code",
   "execution_count": 38,
   "id": "6ab2c756",
   "metadata": {},
   "outputs": [
    {
     "name": "stdout",
     "output_type": "stream",
     "text": [
      "0 : 0.0|1 : 0.0|2 : 0.0|3 : 0.0|4 : 0.0|5 : 0.0|6 : 0.0|7 : 0.0|8 : 0.0|9 : 0.0|10 : 0.0|11 : 0.0|12 : 0.0|13 : 0.0|14 : 0.0|15 : 0.0|16 : 0.0|17 : 0.0|18 : 0.0|19 : 0.0|20 : 0.0|21 : 0.0|22 : 0.0|23 : 0.0|24 : 0.0|25 : 1.0|26 : 0.0|27 : 0.0|28 : 0.0|29 : 0.0|30 : 0.0|31 : 0.0|"
     ]
    },
    {
     "data": {
      "text/plain": [
       "0.03125"
      ]
     },
     "execution_count": 38,
     "metadata": {},
     "output_type": "execute_result"
    }
   ],
   "source": [
    "rag_sonnet_score_0 = get_judge_scores_0(df_rag_sonnet_data)\n",
    "rag_sonnet_score_0"
   ]
  },
  {
   "cell_type": "markdown",
   "id": "b0d4e606",
   "metadata": {},
   "source": [
    "Evaluation scores for RAG Sonnet results by dspy"
   ]
  },
  {
   "cell_type": "code",
   "execution_count": 39,
   "id": "03ff9c35",
   "metadata": {},
   "outputs": [
    {
     "name": "stdout",
     "output_type": "stream",
     "text": [
      "  0%|          | 0/32 [00:00<?, ?it/s]llm_judge_ans = False\n",
      "Average Metric: 0.00 / 32 (0.0%):   3%|▎         | 1/32 [00:03<01:49,  3.53s/it]llm_judge_ans = False\n",
      "Average Metric: 0.00 / 32 (0.0%):   6%|▋         | 2/32 [00:09<02:25,  4.84s/it]llm_judge_ans = False\n",
      "Average Metric: 0.00 / 32 (0.0%):   9%|▉         | 3/32 [00:10<01:32,  3.21s/it]llm_judge_ans = False\n",
      "Average Metric: 0.00 / 32 (0.0%):  12%|█▎        | 4/32 [00:11<01:08,  2.43s/it]llm_judge_ans = False\n",
      "Average Metric: 0.00 / 32 (0.0%):  16%|█▌        | 5/32 [00:13<00:55,  2.05s/it]llm_judge_ans = False\n",
      "Average Metric: 0.00 / 32 (0.0%):  19%|█▉        | 6/32 [00:14<00:47,  1.83s/it]llm_judge_ans = False\n",
      "Average Metric: 0.00 / 32 (0.0%):  22%|██▏       | 7/32 [00:16<00:45,  1.80s/it]llm_judge_ans = False\n",
      "Average Metric: 0.00 / 32 (0.0%):  25%|██▌       | 8/32 [00:19<00:54,  2.29s/it]llm_judge_ans = False\n",
      "Average Metric: 0.00 / 32 (0.0%):  28%|██▊       | 9/32 [00:25<01:15,  3.28s/it]llm_judge_ans = False\n",
      "Average Metric: 0.00 / 32 (0.0%):  31%|███▏      | 10/32 [00:29<01:20,  3.65s/it]llm_judge_ans = False\n",
      "Average Metric: 0.00 / 32 (0.0%):  34%|███▍      | 11/32 [00:31<01:04,  3.07s/it]llm_judge_ans = False\n",
      "Average Metric: 0.00 / 32 (0.0%):  38%|███▊      | 12/32 [00:32<00:51,  2.59s/it]llm_judge_ans = False\n",
      "Average Metric: 0.00 / 32 (0.0%):  41%|████      | 13/32 [00:36<00:57,  3.00s/it]llm_judge_ans = False\n",
      "Average Metric: 0.00 / 32 (0.0%):  44%|████▍     | 14/32 [00:40<00:58,  3.22s/it]llm_judge_ans = False\n",
      "Average Metric: 0.00 / 32 (0.0%):  47%|████▋     | 15/32 [00:45<01:04,  3.81s/it]llm_judge_ans = False\n",
      "Average Metric: 0.00 / 32 (0.0%):  50%|█████     | 16/32 [00:47<00:52,  3.27s/it]llm_judge_ans = False\n",
      "Average Metric: 0.00 / 32 (0.0%):  53%|█████▎    | 17/32 [00:51<00:53,  3.55s/it]llm_judge_ans = False\n",
      "Average Metric: 0.00 / 32 (0.0%):  56%|█████▋    | 18/32 [00:55<00:48,  3.43s/it]llm_judge_ans = False\n",
      "Average Metric: 0.00 / 32 (0.0%):  59%|█████▉    | 19/32 [00:56<00:38,  2.93s/it]llm_judge_ans = False\n",
      "Average Metric: 0.00 / 32 (0.0%):  62%|██████▎   | 20/32 [01:01<00:42,  3.53s/it]llm_judge_ans = False\n",
      "Average Metric: 0.00 / 32 (0.0%):  66%|██████▌   | 21/32 [01:06<00:43,  3.99s/it]llm_judge_ans = False\n",
      "Average Metric: 0.00 / 32 (0.0%):  69%|██████▉   | 22/32 [01:13<00:47,  4.73s/it]llm_judge_ans = False\n",
      "Average Metric: 0.00 / 32 (0.0%):  72%|███████▏  | 23/32 [01:18<00:43,  4.85s/it]llm_judge_ans = False\n",
      "Average Metric: 0.00 / 32 (0.0%):  75%|███████▌  | 24/32 [01:21<00:35,  4.48s/it]llm_judge_ans = False\n",
      "Average Metric: 0.00 / 32 (0.0%):  78%|███████▊  | 25/32 [01:31<00:42,  6.01s/it]llm_judge_ans = True\n",
      "Average Metric: 1.00 / 32 (3.1%):  81%|████████▏ | 26/32 [01:34<00:30,  5.08s/it]llm_judge_ans = False\n",
      "Average Metric: 1.00 / 32 (3.1%):  84%|████████▍ | 27/32 [01:39<00:24,  4.92s/it]llm_judge_ans = False\n",
      "Average Metric: 1.00 / 32 (3.1%):  88%|████████▊ | 28/32 [01:43<00:19,  4.75s/it]llm_judge_ans = False\n",
      "Average Metric: 1.00 / 32 (3.1%):  91%|█████████ | 29/32 [01:48<00:14,  4.74s/it]llm_judge_ans = False\n",
      "Average Metric: 1.00 / 32 (3.1%):  94%|█████████▍| 30/32 [01:53<00:09,  4.96s/it]llm_judge_ans = False\n",
      "Average Metric: 1.00 / 32 (3.1%):  97%|█████████▋| 31/32 [01:54<00:03,  3.88s/it]llm_judge_ans = False\n",
      "Average Metric: 1.00 / 32 (3.1%): 100%|██████████| 32/32 [02:00<00:00,  3.77s/it]"
     ]
    },
    {
     "name": "stderr",
     "output_type": "stream",
     "text": [
      "2024/12/18 17:17:56 INFO dspy.evaluate.evaluate: Average Metric: 1 / 32 (3.1%)\n"
     ]
    },
    {
     "name": "stdout",
     "output_type": "stream",
     "text": [
      "\n",
      "------------- Final DSPy Evaluation score :::: 3.12 ---------\n"
     ]
    }
   ],
   "source": [
    "evaluate_llm_judge = Evaluate(devset=generate_dspy_example_dataset(df_rag_sonnet_data), \n",
    "                              metric=metric_LLM_0, \n",
    "                              num_threads=1, \n",
    "                              display_progress=True, \n",
    "                              display_table=0, \n",
    "                              provide_traceback=True)\n",
    "\n",
    "eval_score = evaluate_llm_judge(llm_judge_0, num_threads=1)\n",
    "print(f\"------------- Final DSPy Evaluation score :::: {eval_score} ---------\")"
   ]
  },
  {
   "cell_type": "code",
   "execution_count": 40,
   "id": "184e16f3-c06e-47fb-8d90-00581138c37c",
   "metadata": {},
   "outputs": [
    {
     "data": {
      "text/plain": [
       "0.031200000000000002"
      ]
     },
     "execution_count": 40,
     "metadata": {},
     "output_type": "execute_result"
    }
   ],
   "source": [
    "rag_sonnet_score_0 = eval_score/100\n",
    "rag_sonnet_score_0"
   ]
  },
  {
   "cell_type": "markdown",
   "id": "534865e2-6d33-45e4-8aec-49dbe8ec40a1",
   "metadata": {},
   "source": [
    "Evaluation scores for RAG compiled Sonnet results by LLM-judge class"
   ]
  },
  {
   "cell_type": "code",
   "execution_count": 41,
   "id": "d82bfaf3",
   "metadata": {},
   "outputs": [
    {
     "name": "stdout",
     "output_type": "stream",
     "text": [
      "0 : 0.0|1 : 1.0|2 : 0.0|3 : 0.0|4 : 0.0|5 : 1.0|6 : 1.0|7 : 1.0|8 : 0.0|9 : 0.0|10 : 0.0|11 : 0.0|12 : 1.0|13 : 1.0|14 : 0.0|15 : 0.0|16 : 0.0|17 : 1.0|18 : 1.0|19 : 0.0|20 : 1.0|21 : 0.0|22 : 0.0|23 : 0.0|24 : 1.0|25 : 1.0|26 : 0.0|27 : 0.0|28 : 0.0|29 : 0.0|30 : 1.0|31 : 1.0|"
     ]
    },
    {
     "data": {
      "text/plain": [
       "0.40625"
      ]
     },
     "execution_count": 41,
     "metadata": {},
     "output_type": "execute_result"
    }
   ],
   "source": [
    "ragc_sonnet_score_0 = get_judge_scores_0(df_ragc_sonnet_data)\n",
    "ragc_sonnet_score_0"
   ]
  },
  {
   "cell_type": "markdown",
   "id": "4d195000",
   "metadata": {},
   "source": [
    "Evaluation scores for RAG compiled Sonnet results by dspy"
   ]
  },
  {
   "cell_type": "code",
   "execution_count": 42,
   "id": "a70597ff",
   "metadata": {},
   "outputs": [
    {
     "name": "stdout",
     "output_type": "stream",
     "text": [
      "  0%|          | 0/32 [00:00<?, ?it/s]llm_judge_ans = False\n",
      "Average Metric: 0.00 / 32 (0.0%):   3%|▎         | 1/32 [00:03<01:50,  3.56s/it]llm_judge_ans = True\n",
      "Average Metric: 1.00 / 32 (3.1%):   6%|▋         | 2/32 [00:05<01:14,  2.49s/it]llm_judge_ans = False\n",
      "Average Metric: 1.00 / 32 (3.1%):   9%|▉         | 3/32 [00:06<00:56,  1.95s/it]llm_judge_ans = False\n",
      "Average Metric: 1.00 / 32 (3.1%):  12%|█▎        | 4/32 [00:08<00:48,  1.74s/it]llm_judge_ans = False\n",
      "Average Metric: 1.00 / 32 (3.1%):  16%|█▌        | 5/32 [00:09<00:44,  1.65s/it]llm_judge_ans = True\n",
      "Average Metric: 2.00 / 32 (6.2%):  19%|█▉        | 6/32 [00:11<00:45,  1.73s/it]llm_judge_ans = True\n",
      "Average Metric: 3.00 / 32 (9.4%):  22%|██▏       | 7/32 [00:12<00:41,  1.64s/it]llm_judge_ans = True\n",
      "Average Metric: 4.00 / 32 (12.5%):  25%|██▌       | 8/32 [00:14<00:37,  1.55s/it]llm_judge_ans = False\n",
      "Average Metric: 4.00 / 32 (12.5%):  28%|██▊       | 9/32 [00:18<00:57,  2.52s/it]llm_judge_ans = False\n",
      "Average Metric: 4.00 / 32 (12.5%):  31%|███▏      | 10/32 [00:22<01:04,  2.94s/it]llm_judge_ans = False\n",
      "Average Metric: 4.00 / 32 (12.5%):  34%|███▍      | 11/32 [00:25<01:01,  2.91s/it]llm_judge_ans = False\n",
      "Average Metric: 4.00 / 32 (12.5%):  38%|███▊      | 12/32 [00:29<01:02,  3.12s/it]llm_judge_ans = True\n",
      "Average Metric: 5.00 / 32 (15.6%):  41%|████      | 13/32 [00:30<00:48,  2.57s/it]llm_judge_ans = True\n",
      "Average Metric: 6.00 / 32 (18.8%):  44%|████▍     | 14/32 [00:31<00:38,  2.14s/it]llm_judge_ans = False\n",
      "Average Metric: 6.00 / 32 (18.8%):  47%|████▋     | 15/32 [00:35<00:46,  2.76s/it]llm_judge_ans = False\n",
      "Average Metric: 6.00 / 32 (18.8%):  50%|█████     | 16/32 [00:40<00:52,  3.27s/it]llm_judge_ans = False\n",
      "Average Metric: 6.00 / 32 (18.8%):  53%|█████▎    | 17/32 [00:43<00:47,  3.14s/it]llm_judge_ans = True\n",
      "Average Metric: 7.00 / 32 (21.9%):  56%|█████▋    | 18/32 [00:44<00:36,  2.62s/it]llm_judge_ans = True\n",
      "Average Metric: 8.00 / 32 (25.0%):  59%|█████▉    | 19/32 [00:46<00:30,  2.35s/it]llm_judge_ans = False\n",
      "Average Metric: 8.00 / 32 (25.0%):  62%|██████▎   | 20/32 [00:50<00:34,  2.84s/it]llm_judge_ans = True\n",
      "Average Metric: 9.00 / 32 (28.1%):  66%|██████▌   | 21/32 [00:52<00:29,  2.72s/it]llm_judge_ans = False\n",
      "Average Metric: 9.00 / 32 (28.1%):  69%|██████▉   | 22/32 [00:58<00:35,  3.55s/it]llm_judge_ans = False\n",
      "Average Metric: 9.00 / 32 (28.1%):  72%|███████▏  | 23/32 [01:04<00:39,  4.33s/it]llm_judge_ans = False\n",
      "Average Metric: 9.00 / 32 (28.1%):  75%|███████▌  | 24/32 [01:07<00:32,  4.07s/it]llm_judge_ans = True\n",
      "Average Metric: 10.00 / 32 (31.2%):  78%|███████▊  | 25/32 [01:09<00:23,  3.38s/it]llm_judge_ans = True\n",
      "Average Metric: 11.00 / 32 (34.4%):  81%|████████▏ | 26/32 [01:12<00:18,  3.13s/it]llm_judge_ans = False\n",
      "Average Metric: 11.00 / 32 (34.4%):  84%|████████▍ | 27/32 [01:17<00:18,  3.72s/it]llm_judge_ans = False\n",
      "Average Metric: 11.00 / 32 (34.4%):  88%|████████▊ | 28/32 [01:22<00:16,  4.09s/it]llm_judge_ans = False\n",
      "Average Metric: 11.00 / 32 (34.4%):  91%|█████████ | 29/32 [01:25<00:11,  3.98s/it]llm_judge_ans = False\n",
      "Average Metric: 11.00 / 32 (34.4%):  94%|█████████▍| 30/32 [01:32<00:09,  4.76s/it]llm_judge_ans = True\n",
      "Average Metric: 12.00 / 32 (37.5%):  97%|█████████▋| 31/32 [01:34<00:04,  4.05s/it]llm_judge_ans = True\n",
      "Average Metric: 13.00 / 32 (40.6%): 100%|██████████| 32/32 [01:37<00:00,  3.04s/it]"
     ]
    },
    {
     "name": "stderr",
     "output_type": "stream",
     "text": [
      "2024/12/18 17:20:27 INFO dspy.evaluate.evaluate: Average Metric: 13 / 32 (40.6%)\n"
     ]
    },
    {
     "name": "stdout",
     "output_type": "stream",
     "text": [
      "\n",
      "------------- Final DSPy Evaluation score :::: 40.62 ---------\n"
     ]
    }
   ],
   "source": [
    "evaluate_llm_judge = Evaluate(devset=generate_dspy_example_dataset(df_ragc_sonnet_data), \n",
    "                              metric=metric_LLM_0, \n",
    "                              num_threads=1, \n",
    "                              display_progress=True, \n",
    "                              display_table=0, \n",
    "                              provide_traceback=True)\n",
    "\n",
    "eval_score = evaluate_llm_judge(llm_judge_0, num_threads=1)\n",
    "print(f\"------------- Final DSPy Evaluation score :::: {eval_score} ---------\")"
   ]
  },
  {
   "cell_type": "code",
   "execution_count": 43,
   "id": "32055e45-0567-45dd-9618-828ea456f685",
   "metadata": {},
   "outputs": [
    {
     "data": {
      "text/plain": [
       "0.40619999999999995"
      ]
     },
     "execution_count": 43,
     "metadata": {},
     "output_type": "execute_result"
    }
   ],
   "source": [
    "ragc_sonnet_score_0 = eval_score/100\n",
    "ragc_sonnet_score_0"
   ]
  },
  {
   "cell_type": "markdown",
   "id": "967d4aaf-caf0-4ffa-addb-8b05f413a6d3",
   "metadata": {},
   "source": [
    "#### Benchmarking the performance across RAG with foundation models and fine-tuned models "
   ]
  },
  {
   "cell_type": "code",
   "execution_count": 44,
   "id": "135d7f27",
   "metadata": {},
   "outputs": [
    {
     "data": {
      "image/png": "[encoded data removed]",
      "text/plain": [
       "<Figure size 1000x500 with 1 Axes>"
      ]
     },
     "metadata": {},
     "output_type": "display_data"
    }
   ],
   "source": [
    "train_class_type = ['RAG_Haiku','RAG_Haiku_Compiled','SFT(Llama3-8B)','DPO(Llama3-8B)','ORPO(Llama3-8B)']\n",
    "train_class_count = [rag_haiku_score_0,ragc_haiku_score_0,sft_score_0,dpo_score_0,orpo_score_0,]\n",
    "\n",
    "fig = plt.figure(figsize = (10, 5))\n",
    "\n",
    "# creating the bar plot\n",
    "plt.bar(train_class_type, train_class_count, color ='green', width = 0.4)\n",
    "\n",
    "plt.xlabel(\"\")\n",
    "plt.ylabel(\"Accuracy\")\n",
    "plt.title(\"Accuracy by LLM-as-a-judge (True/False)\")\n",
    "plt.show()"
   ]
  },
  {
   "cell_type": "code",
   "execution_count": null,
   "id": "986b5364",
   "metadata": {},
   "outputs": [],
   "source": []
  },
  {
   "cell_type": "markdown",
   "id": "e9aae777",
   "metadata": {},
   "source": [
    "### Evaluation Method 2: LLM-as-a-judge with a 0-1 score "
   ]
  },
  {
   "cell_type": "markdown",
   "id": "06de0054",
   "metadata": {},
   "source": [
    "Setup Claude and Meta models on Bedrock for LLM-as-a-judge"
   ]
  },
  {
   "cell_type": "code",
   "execution_count": 45,
   "id": "d4f1022a",
   "metadata": {},
   "outputs": [],
   "source": [
    "dsp_bedrock = dspy.Bedrock(region_name='us-west-2')\n",
    "\n",
    "claude_sonnet_model_id = \"anthropic.claude-3-sonnet-20240229-v1:0\"\n",
    "clade_haiku_model_id = \"anthropic.claude-3-haiku-20240307-v1:0\"\n",
    "llama_model_id = \"us.meta.llama3-2-90b-instruct-v1:0\"\n",
    "\n",
    "\n",
    "bedrock_sonnet = dspy.AWSAnthropic(aws_provider=dsp_bedrock,\n",
    "                                  model=claude_sonnet_model_id,\n",
    "                                  max_new_tokens=4096,\n",
    "                                  max_tokens=4096)\n",
    "\n",
    "bedrock_haiku = dspy.AWSAnthropic(aws_provider=dsp_bedrock,\n",
    "                                 model=clade_haiku_model_id,\n",
    "                                 max_new_tokens=4096,\n",
    "                                 max_tokens=4096)\n",
    "\n",
    "bedrock_llama = dspy.AWSMeta(aws_provider=dsp_bedrock, \n",
    "                             model=llama_model_id, \n",
    "                             max_new_tokens=2048,\n",
    "                             max_tokens=2048)"
   ]
  },
  {
   "cell_type": "code",
   "execution_count": 46,
   "id": "3559defa",
   "metadata": {},
   "outputs": [],
   "source": [
    "dspy.settings.configure(lm=bedrock_sonnet, temperature=0)"
   ]
  },
  {
   "cell_type": "markdown",
   "id": "533e00d8",
   "metadata": {},
   "source": [
    "Define the LLM judge class: eval = 0-1 score"
   ]
  },
  {
   "cell_type": "code",
   "execution_count": 47,
   "id": "3d5b9423",
   "metadata": {
    "tags": []
   },
   "outputs": [],
   "source": [
    "class FactualityJudge_1(dspy.Signature):\n",
    "    \"\"\"Judge if the predicted answer is semantically match the groundtruth answer. Provide a score between 0 and 1, 0 means completely mismatch and 1 means perfectly match. In the response, only present the score, DO NOT add any premables.\"\"\"\n",
    "\n",
    "    groundtruth_answer = dspy.InputField(desc=\"groundtruth answer\")\n",
    "    predicted_answer = dspy.InputField(desc=\"predicted answer\")\n",
    "    factually_correct = dspy.OutputField(desc=\"Is the predicted answer factually correct and semantically similar to the groundtruth answer?\") #, prefix=\"Factual[True/False]:\")\n"
   ]
  },
  {
   "cell_type": "code",
   "execution_count": 48,
   "id": "fffc6568",
   "metadata": {},
   "outputs": [],
   "source": [
    "factualityJudge_1 = dspy.ChainOfThought(FactualityJudge_1)"
   ]
  },
  {
   "cell_type": "markdown",
   "id": "c0d6c653",
   "metadata": {},
   "source": [
    "Define the factuality metric for DSPy evaluate to run through LLM response/answer, and use LLM judge to generate evaluation metrics"
   ]
  },
  {
   "cell_type": "code",
   "execution_count": 49,
   "id": "fa760a37",
   "metadata": {
    "tags": []
   },
   "outputs": [],
   "source": [
    "def factuality_metric_1(gt_answer, pred_answer):\n",
    "    #print(f\" type(gt_answer) :: {type(gt_answer)}\")\n",
    "    #if type(gt_answer) == \"<class 'dspy.primitives.example.Example'>\":\n",
    "    pred_answer = gt_answer.pred_answer\n",
    "    gt_answer = gt_answer.gt_answer\n",
    "        \n",
    "        \n",
    "    factual_metrc = factualityJudge_1(groundtruth_answer=gt_answer, predicted_answer=pred_answer), \n",
    "    '''\n",
    "    #debug\n",
    "    print(f\"\\n factual LLM judge  >>>>>>>> {factual_metrc}\")\n",
    "    print(f\"\\n factual LLM judge  >>>>>>>> {factual_metrc[0].factually_correct}\")\n",
    "    print(f\"\\n gt_answer  >>>>>>>  {gt_answer}\")\n",
    "    print(f\"\\n pred_answer  >>>>>>> {pred_answer}\")\n",
    "    '''\n",
    "    llm_judge_ans = float(factual_metrc[0].factually_correct)\n",
    "    print(f\"llm_judge_ans = {llm_judge_ans}\")\n",
    "    return llm_judge_ans"
   ]
  },
  {
   "cell_type": "code",
   "execution_count": 50,
   "id": "823c7641",
   "metadata": {},
   "outputs": [],
   "source": [
    "metric_LLM_1 = factuality_metric_1"
   ]
  },
  {
   "cell_type": "markdown",
   "id": "99caf85c",
   "metadata": {},
   "source": [
    "LLM Judge class to generate the answer and factual consistency"
   ]
  },
  {
   "cell_type": "code",
   "execution_count": 51,
   "id": "a123c6de",
   "metadata": {},
   "outputs": [],
   "source": [
    "class LLMJudge_1(dspy.Module):\n",
    "    def __init__(self):\n",
    "        super().__init__()\n",
    "        self.generate_answer = dspy.ChainOfThought(FactualityJudge_1)\n",
    "    \n",
    "    def forward(self, gt_answer, pred_answer):\n",
    "        factual = self.generate_answer(groundtruth_answer=gt_answer, predicted_answer=pred_answer)\n",
    "        #print(f\"factual LLM judge reasoning {factual}\")\n",
    "        llm_judge_ans = factual.factually_correct\n",
    "        \n",
    "        return llm_judge_ans"
   ]
  },
  {
   "cell_type": "code",
   "execution_count": 52,
   "id": "f4253430-4b57-4047-805c-4d5cae669bda",
   "metadata": {},
   "outputs": [],
   "source": [
    "llm_judge_1 = LLMJudge_1()"
   ]
  },
  {
   "cell_type": "markdown",
   "id": "b7ea6902",
   "metadata": {},
   "source": [
    "Batch evaluation using LLM-Judge class for dataset in dataframe format "
   ]
  },
  {
   "cell_type": "code",
   "execution_count": 53,
   "id": "82942678",
   "metadata": {},
   "outputs": [],
   "source": [
    "def get_judge_score_1(test_data):\n",
    "    scores = []\n",
    "\n",
    "    for index, row in test_data.iterrows():\n",
    "        #print(\"=== \",index,\" ===\")\n",
    "        #print(f\"---------------\")\n",
    "        #print(f\"row['ref_answer'] >>>  {row['ref_answer']}\")\n",
    "        #print(f\"row['response'] {row['response']}\")\n",
    "        llm_judge_ans = float(llm_judge_1(row['ref_answer'], row['response']))\n",
    "        #print(f\"llm_judge_ans :: {llm_judge_ans}\")\n",
    "        scores.append(llm_judge_ans)\n",
    "        print(index,':',llm_judge_ans, end='|')\n",
    "\n",
    "    accuracy_score = sum(scores)/len(scores)\n",
    "    \n",
    "    return accuracy_score"
   ]
  },
  {
   "cell_type": "markdown",
   "id": "2c3d80b2",
   "metadata": {},
   "source": [
    "### LLM judge metrics by dspy "
   ]
  },
  {
   "cell_type": "markdown",
   "id": "99f1d213",
   "metadata": {},
   "source": [
    "Evaluation scores for SFT results by LLM-judge class"
   ]
  },
  {
   "cell_type": "code",
   "execution_count": 54,
   "id": "ec4fabb0",
   "metadata": {},
   "outputs": [
    {
     "name": "stdout",
     "output_type": "stream",
     "text": [
      "0 : 1.0|1 : 0.3|2 : 0.2|3 : 1.0|4 : 1.0|5 : 1.0|6 : 1.0|7 : 0.9|8 : 0.0|9 : 0.0|10 : 0.2|11 : 0.2|12 : 0.6|13 : 0.2|14 : 0.0|15 : 0.0|16 : 1.0|17 : 0.0|18 : 0.1|19 : 0.2|20 : 0.9|21 : 0.3|22 : 0.9|23 : 0.2|24 : 1.0|25 : 0.1|26 : 0.0|27 : 0.3|28 : 1.0|29 : 0.8|30 : 0.1|31 : 0.9|"
     ]
    },
    {
     "data": {
      "text/plain": [
       "0.48125000000000007"
      ]
     },
     "execution_count": 54,
     "metadata": {},
     "output_type": "execute_result"
    }
   ],
   "source": [
    "sft_score_1 = get_judge_score_1(df_sft_data)\n",
    "sft_score_1"
   ]
  },
  {
   "cell_type": "markdown",
   "id": "fd843654",
   "metadata": {},
   "source": [
    "Evaluation scores for SFT results by dspy"
   ]
  },
  {
   "cell_type": "code",
   "execution_count": 56,
   "id": "998d96e8",
   "metadata": {},
   "outputs": [
    {
     "name": "stdout",
     "output_type": "stream",
     "text": [
      "  0%|          | 0/32 [00:00<?, ?it/s]llm_judge_ans = 1.0\n",
      "Average Metric: 1.00 / 32 (3.1%):   3%|▎         | 1/32 [00:01<00:50,  1.62s/it]llm_judge_ans = 0.3\n",
      "Average Metric: 1.30 / 32 (4.1%):   6%|▋         | 2/32 [00:03<00:45,  1.52s/it]llm_judge_ans = 0.2\n",
      "Average Metric: 1.50 / 32 (4.7%):   9%|▉         | 3/32 [00:04<00:41,  1.42s/it]llm_judge_ans = 1.0\n",
      "Average Metric: 2.50 / 32 (7.8%):  12%|█▎        | 4/32 [00:05<00:37,  1.36s/it]llm_judge_ans = 1.0\n",
      "Average Metric: 3.50 / 32 (10.9%):  16%|█▌        | 5/32 [00:07<00:42,  1.59s/it]llm_judge_ans = 1.0\n",
      "Average Metric: 4.50 / 32 (14.1%):  19%|█▉        | 6/32 [00:09<00:43,  1.67s/it]llm_judge_ans = 1.0\n",
      "Average Metric: 5.50 / 32 (17.2%):  22%|██▏       | 7/32 [00:12<00:49,  1.99s/it]llm_judge_ans = 0.9\n",
      "Average Metric: 6.40 / 32 (20.0%):  25%|██▌       | 8/32 [00:13<00:43,  1.83s/it]llm_judge_ans = 0.0\n",
      "Average Metric: 6.40 / 32 (20.0%):  28%|██▊       | 9/32 [00:15<00:45,  1.96s/it]llm_judge_ans = 0.0\n",
      "Average Metric: 6.40 / 32 (20.0%):  31%|███▏      | 10/32 [00:18<00:47,  2.16s/it]llm_judge_ans = 0.2\n",
      "Average Metric: 6.60 / 32 (20.6%):  34%|███▍      | 11/32 [00:20<00:41,  1.99s/it]llm_judge_ans = 0.2\n",
      "Average Metric: 6.80 / 32 (21.3%):  38%|███▊      | 12/32 [00:24<00:51,  2.59s/it]llm_judge_ans = 0.7\n",
      "Average Metric: 7.50 / 32 (23.4%):  41%|████      | 13/32 [00:25<00:43,  2.28s/it]llm_judge_ans = 0.2\n",
      "Average Metric: 7.70 / 32 (24.1%):  44%|████▍     | 14/32 [00:27<00:41,  2.29s/it]llm_judge_ans = 0.0\n",
      "Average Metric: 7.70 / 32 (24.1%):  47%|████▋     | 15/32 [00:30<00:42,  2.50s/it]llm_judge_ans = 0.0\n",
      "Average Metric: 7.70 / 32 (24.1%):  50%|█████     | 16/32 [00:33<00:42,  2.66s/it]llm_judge_ans = 1.0\n",
      "Average Metric: 8.70 / 32 (27.2%):  53%|█████▎    | 17/32 [00:36<00:39,  2.66s/it]llm_judge_ans = 0.0\n",
      "Average Metric: 8.70 / 32 (27.2%):  56%|█████▋    | 18/32 [00:39<00:39,  2.85s/it]llm_judge_ans = 0.1\n",
      "Average Metric: 8.80 / 32 (27.5%):  59%|█████▉    | 19/32 [00:42<00:37,  2.88s/it]llm_judge_ans = 0.2\n",
      "Average Metric: 9.00 / 32 (28.1%):  62%|██████▎   | 20/32 [00:48<00:43,  3.64s/it]llm_judge_ans = 0.9\n",
      "Average Metric: 9.90 / 32 (30.9%):  66%|██████▌   | 21/32 [00:52<00:43,  3.98s/it]llm_judge_ans = 0.3\n",
      "Average Metric: 10.20 / 32 (31.9%):  69%|██████▉   | 22/32 [00:57<00:41,  4.15s/it]llm_judge_ans = 0.9\n",
      "Average Metric: 11.10 / 32 (34.7%):  72%|███████▏  | 23/32 [01:06<00:50,  5.56s/it]llm_judge_ans = 0.2\n",
      "Average Metric: 11.30 / 32 (35.3%):  75%|███████▌  | 24/32 [01:14<00:49,  6.22s/it]llm_judge_ans = 1.0\n",
      "Average Metric: 12.30 / 32 (38.4%):  78%|███████▊  | 25/32 [01:20<00:42,  6.13s/it]"
     ]
    },
    {
     "name": "stderr",
     "output_type": "stream",
     "text": [
      "2024/12/18 17:27:23 ERROR dspy.utils.parallelizer: Error processing item Example({'gt_answer': 'ENERGOUS hereby grants DIALOG a non-exclusive, non-transferable (except as set forth in Section 2) license under the Product IP to use any of the Deposit Materials released from escrow for the purpose of fixing an Epidemic Defect or other Product design or production issue impacting yield or quality during the Term and, if applicable, any Wind Down Period or Continuing Obligation period, including, but not limited to, authorizing any third party subcontractor to manufacture and supply Products, provided, however, that DIALOG continues to make all Royalty payment owed to ENERGOUS (or the then-current owner of the Product IP) as provided in this Agreement., ENERGOUS will keep the Deposit Materials in escrow and ensure on a quarterly basis that all the information relating to the Deposit Materials in escrow is current, including deposit of any Product Updates., DIALOG agrees not to exercise such license until occurrence of a Release Condition, subject to the other restrictions set forth in this Section 16., In the event of any Insolvency Event and where the design files need to be accessed by DIALOG to fix an Epidemic Defect or other Product design or production issue impacting yield or quality (\"Release Condition\"), the Escrow Agent will, in accordance with the terms of the escrow agreement between the parties and the Escrow Agent (the \"Escrow Agreement\"), release the Deposit Materials to DIALOG., ENERGOUS will at its expense, at DIALOG\\'s written request during the Term and any Wind Down Period, enter into a three- party escrow deposit arrangement, in accordance with this Section 16, with a recognized escrow agent (the \"Escrow Agent\") of mutual agreement.', 'pred_answer': '2.6. The Initiating Party may, at any time prior to the expiration or termination of the Term, request in writing that the other Party deposit the Source Code with a mutually agreed third party escrow agent, which request will be promptly complied with by the other Party.'}) (input_keys={'gt_answer', 'pred_answer'}): An error occurred (ServiceUnavailableException) when calling the InvokeModel operation (reached max retries: 4): Bedrock is unable to process your request.\n",
      "Stack trace:\n",
      "Traceback (most recent call last):\n",
      "  File \"/home/ec2-user/anaconda3/envs/pytorch_p310/lib/python3.10/site-packages/dspy/utils/parallelizer.py\", line 47, in wrapped\n",
      "    return function(item)\n",
      "  File \"/home/ec2-user/anaconda3/envs/pytorch_p310/lib/python3.10/site-packages/dspy/evaluate/evaluate.py\", line 102, in process_item\n",
      "    score = metric(example, prediction)\n",
      "  File \"/tmp/ipykernel_24828/3395601766.py\", line 8, in factuality_metric_1\n",
      "    factual_metrc = factualityJudge_1(groundtruth_answer=gt_answer, predicted_answer=pred_answer),\n",
      "  File \"/home/ec2-user/anaconda3/envs/pytorch_p310/lib/python3.10/site-packages/dspy/utils/callback.py\", line 234, in wrapper\n",
      "    return fn(instance, *args, **kwargs)\n",
      "  File \"/home/ec2-user/anaconda3/envs/pytorch_p310/lib/python3.10/site-packages/dspy/primitives/program.py\", line 24, in __call__\n",
      "    return self.forward(*args, **kwargs)\n",
      "  File \"/home/ec2-user/anaconda3/envs/pytorch_p310/lib/python3.10/site-packages/dspy/predict/chain_of_thought.py\", line 44, in forward\n",
      "    return self._predict(signature=signature, **kwargs)\n",
      "  File \"/home/ec2-user/anaconda3/envs/pytorch_p310/lib/python3.10/site-packages/dspy/utils/callback.py\", line 234, in wrapper\n",
      "    return fn(instance, *args, **kwargs)\n",
      "  File \"/home/ec2-user/anaconda3/envs/pytorch_p310/lib/python3.10/site-packages/dspy/predict/predict.py\", line 93, in __call__\n",
      "    return self.forward(**kwargs)\n",
      "  File \"/home/ec2-user/anaconda3/envs/pytorch_p310/lib/python3.10/site-packages/dspy/predict/predict.py\", line 142, in forward\n",
      "    completions = old_generate(demos, signature, kwargs, config, self.lm, self.stage)\n",
      "  File \"/home/ec2-user/anaconda3/envs/pytorch_p310/lib/python3.10/site-packages/dspy/predict/predict.py\", line 168, in old_generate\n",
      "    x, C = dsp.generate(template, **config)(x, stage=stage)\n",
      "  File \"/home/ec2-user/anaconda3/envs/pytorch_p310/lib/python3.10/site-packages/dsp/primitives/predict.py\", line 73, in do_generate\n",
      "    completions: list[dict[str, Any]] = generator(prompt, **kwargs)\n",
      "  File \"/home/ec2-user/anaconda3/envs/pytorch_p310/lib/python3.10/site-packages/dsp/modules/aws_models.py\", line 128, in __call__\n",
      "    generated = self.basic_request(prompt, **kwargs)\n",
      "  File \"/home/ec2-user/anaconda3/envs/pytorch_p310/lib/python3.10/site-packages/dsp/modules/aws_models.py\", line 109, in basic_request\n",
      "    return self._simple_api_call(formatted_prompt=formatted_prompt, **kwargs)\n",
      "  File \"/home/ec2-user/anaconda3/envs/pytorch_p310/lib/python3.10/site-packages/dsp/modules/aws_models.py\", line 91, in _simple_api_call\n",
      "    llm_out = self._call_model(json_body)\n",
      "  File \"/home/ec2-user/anaconda3/envs/pytorch_p310/lib/python3.10/site-packages/dsp/modules/aws_models.py\", line 249, in _call_model\n",
      "    response = self.aws_provider.predictor.invoke_model(\n",
      "  File \"/home/ec2-user/anaconda3/envs/pytorch_p310/lib/python3.10/site-packages/botocore/client.py\", line 569, in _api_call\n",
      "    return self._make_api_call(operation_name, kwargs)\n",
      "  File \"/home/ec2-user/anaconda3/envs/pytorch_p310/lib/python3.10/site-packages/botocore/client.py\", line 1023, in _make_api_call\n",
      "    raise error_class(parsed_response, operation_name)\n",
      "botocore.errorfactory.ServiceUnavailableException: An error occurred (ServiceUnavailableException) when calling the InvokeModel operation (reached max retries: 4): Bedrock is unable to process your request.\n",
      "\n"
     ]
    },
    {
     "name": "stdout",
     "output_type": "stream",
     "text": [
      "Average Metric: 12.30 / 32 (38.4%):  81%|████████▏ | 26/32 [01:26<00:36,  6.12s/it]llm_judge_ans = 0.0\n",
      "Average Metric: 12.30 / 32 (38.4%):  84%|████████▍ | 27/32 [01:33<00:31,  6.39s/it]"
     ]
    },
    {
     "name": "stderr",
     "output_type": "stream",
     "text": [
      "2024/12/18 17:27:38 ERROR dspy.utils.parallelizer: Error processing item Example({'gt_answer': \"During the Record Retention Period, ENERGOUS may appoint a mutually agreed independent, internationally recognized third-party certified auditor who will have the right to inspect and copy the Records upon reasonable prior notice, and DIALOG will (and will cause its Affiliates to) allow necessary access including, as applicable, to its premises where such Records are located. ENERGOUS may exercise such right to this independent-third party audit no more than one time per calendar year and each such audit will be conducted during normal business hours., Such audit may also not interfere with DIALOG's or its Affliates' quarterly closing of its books.\", 'pred_answer': 'Each party, during [***], subject to the restrictions and notice requirements set forth below, may (a) inspect and copy the other party\\'s records and (b) have an independent auditor inspect and copy the other party\\'s records, all in connection with the foregoing audit rights, provided that the party initiating such inspection and copying (the \"Requesting Party\") delivers written notice to the other party (the \"Responding Party\") of any such inspection and copying at least [***] prior to the initiation thereof.'}) (input_keys={'gt_answer', 'pred_answer'}): An error occurred (ServiceUnavailableException) when calling the InvokeModel operation (reached max retries: 4): Bedrock is unable to process your request.\n",
      "Stack trace:\n",
      "Traceback (most recent call last):\n",
      "  File \"/home/ec2-user/anaconda3/envs/pytorch_p310/lib/python3.10/site-packages/dspy/utils/parallelizer.py\", line 47, in wrapped\n",
      "    return function(item)\n",
      "  File \"/home/ec2-user/anaconda3/envs/pytorch_p310/lib/python3.10/site-packages/dspy/evaluate/evaluate.py\", line 101, in process_item\n",
      "    prediction = program(**example.inputs())\n",
      "  File \"/home/ec2-user/anaconda3/envs/pytorch_p310/lib/python3.10/site-packages/dspy/utils/callback.py\", line 234, in wrapper\n",
      "    return fn(instance, *args, **kwargs)\n",
      "  File \"/home/ec2-user/anaconda3/envs/pytorch_p310/lib/python3.10/site-packages/dspy/primitives/program.py\", line 24, in __call__\n",
      "    return self.forward(*args, **kwargs)\n",
      "  File \"/tmp/ipykernel_24828/3378429360.py\", line 7, in forward\n",
      "    factual = self.generate_answer(groundtruth_answer=gt_answer, predicted_answer=pred_answer)\n",
      "  File \"/home/ec2-user/anaconda3/envs/pytorch_p310/lib/python3.10/site-packages/dspy/utils/callback.py\", line 234, in wrapper\n",
      "    return fn(instance, *args, **kwargs)\n",
      "  File \"/home/ec2-user/anaconda3/envs/pytorch_p310/lib/python3.10/site-packages/dspy/primitives/program.py\", line 24, in __call__\n",
      "    return self.forward(*args, **kwargs)\n",
      "  File \"/home/ec2-user/anaconda3/envs/pytorch_p310/lib/python3.10/site-packages/dspy/predict/chain_of_thought.py\", line 44, in forward\n",
      "    return self._predict(signature=signature, **kwargs)\n",
      "  File \"/home/ec2-user/anaconda3/envs/pytorch_p310/lib/python3.10/site-packages/dspy/utils/callback.py\", line 234, in wrapper\n",
      "    return fn(instance, *args, **kwargs)\n",
      "  File \"/home/ec2-user/anaconda3/envs/pytorch_p310/lib/python3.10/site-packages/dspy/predict/predict.py\", line 93, in __call__\n",
      "    return self.forward(**kwargs)\n",
      "  File \"/home/ec2-user/anaconda3/envs/pytorch_p310/lib/python3.10/site-packages/dspy/predict/predict.py\", line 142, in forward\n",
      "    completions = old_generate(demos, signature, kwargs, config, self.lm, self.stage)\n",
      "  File \"/home/ec2-user/anaconda3/envs/pytorch_p310/lib/python3.10/site-packages/dspy/predict/predict.py\", line 168, in old_generate\n",
      "    x, C = dsp.generate(template, **config)(x, stage=stage)\n",
      "  File \"/home/ec2-user/anaconda3/envs/pytorch_p310/lib/python3.10/site-packages/dsp/primitives/predict.py\", line 73, in do_generate\n",
      "    completions: list[dict[str, Any]] = generator(prompt, **kwargs)\n",
      "  File \"/home/ec2-user/anaconda3/envs/pytorch_p310/lib/python3.10/site-packages/dsp/modules/aws_models.py\", line 128, in __call__\n",
      "    generated = self.basic_request(prompt, **kwargs)\n",
      "  File \"/home/ec2-user/anaconda3/envs/pytorch_p310/lib/python3.10/site-packages/dsp/modules/aws_models.py\", line 109, in basic_request\n",
      "    return self._simple_api_call(formatted_prompt=formatted_prompt, **kwargs)\n",
      "  File \"/home/ec2-user/anaconda3/envs/pytorch_p310/lib/python3.10/site-packages/dsp/modules/aws_models.py\", line 91, in _simple_api_call\n",
      "    llm_out = self._call_model(json_body)\n",
      "  File \"/home/ec2-user/anaconda3/envs/pytorch_p310/lib/python3.10/site-packages/dsp/modules/aws_models.py\", line 249, in _call_model\n",
      "    response = self.aws_provider.predictor.invoke_model(\n",
      "  File \"/home/ec2-user/anaconda3/envs/pytorch_p310/lib/python3.10/site-packages/botocore/client.py\", line 569, in _api_call\n",
      "    return self._make_api_call(operation_name, kwargs)\n",
      "  File \"/home/ec2-user/anaconda3/envs/pytorch_p310/lib/python3.10/site-packages/botocore/client.py\", line 1023, in _make_api_call\n",
      "    raise error_class(parsed_response, operation_name)\n",
      "botocore.errorfactory.ServiceUnavailableException: An error occurred (ServiceUnavailableException) when calling the InvokeModel operation (reached max retries: 4): Bedrock is unable to process your request.\n",
      "\n"
     ]
    },
    {
     "name": "stdout",
     "output_type": "stream",
     "text": [
      "Average Metric: 12.30 / 32 (38.4%):  88%|████████▊ | 28/32 [01:40<00:27,  6.81s/it]"
     ]
    },
    {
     "name": "stderr",
     "output_type": "stream",
     "text": [
      "2024/12/18 17:27:51 ERROR dspy.utils.parallelizer: Error processing item Example({'gt_answer': \"EXCEPT IN THE CASE OF (a) ANY BREACH OF SECTION 10 (CONFIDENTIALITY), (b) THE PARTIES' OBLIGATIONS UNDER SECTION 12 (INDEMNIFICATION), (c) A PARTY'S GROSS NEGLIGENCE OR WILLFUL MISCONDUCT, OR (d) LIABILITY ARISING FROM EPIDEMIC DEFECTS (WHICH WILL BE SUBJECT TO THE LIMITATION SET FORTH IN SECTION 11.2(d)), IN NO EVENT WILL EITHER PARTY BE LIABLE UNDER THIS AGREEMENT, REGARDLESS OF THE FORM OF ANY CLAIM OR ACTION (WHETHER IN CONTRACT, NEGLIGENCE, STRICT LIABILITY OR OTHERWISE), FOR ANY (i) INDIRECT, PUNITIVE, INCIDENTAL, RELIANCE, SPECIAL, EXEMPLARY OR CONSEQUENTIAL DAMAGES, INCLUDING, BUT NOT LIMITED TO, LOSS OF BUSINESS, REVENUES, PROFITS OR GOODWILL, OR (ii) AGGREGATE DAMAGES IN EXCESS OF [***].\", 'pred_answer': \"EXCEPT IN THE CASE OF (a) ANY BREACH OF SECTION 10 (CONFIDENTIALITY), (b) THE PARTIES' OBLIGATIONS UNDER SECTION 12 (INDEMNIFICATION), (c) A PARTY'S GROSS NEGLIGENCE OR WILLFUL MISCONDUCT, OR (d) LIABILITY ARISING FROM EPIDEMIC DEFECTS (WHICH WILL BE SUBJECT TO THE LIMITATION SET FORTH IN SECTION 11.2(d)), IN NO EVENT WILL EITHER PARTY BE LIABLE UNDER THIS AGREEMENT, REGARDLESS OF THE FORM OF ANY CLAIM OR ACTION (WHETHER IN CONTRACT, NEGLIGENCE, STRICT LIABILITY OR OTHERWISE), FOR ANY (i) INDIRECT, PUNITIVE, INCIDENTAL, RELIANCE, SPECIAL, EXEMPLARY OR CONSEQUENTIAL DAMAGES, INCLUDING, BUT NOT LIMITED TO, LOSS OF BUSINESS, REVENUES, PROFITS OR GOODWILL, OR (ii) AGGREGATE DAMAGES IN EXCESS OF [***].\"}) (input_keys={'gt_answer', 'pred_answer'}): An error occurred (ServiceUnavailableException) when calling the InvokeModel operation (reached max retries: 4): Bedrock is unable to process your request.\n",
      "Stack trace:\n",
      "Traceback (most recent call last):\n",
      "  File \"/home/ec2-user/anaconda3/envs/pytorch_p310/lib/python3.10/site-packages/dspy/utils/parallelizer.py\", line 47, in wrapped\n",
      "    return function(item)\n",
      "  File \"/home/ec2-user/anaconda3/envs/pytorch_p310/lib/python3.10/site-packages/dspy/evaluate/evaluate.py\", line 101, in process_item\n",
      "    prediction = program(**example.inputs())\n",
      "  File \"/home/ec2-user/anaconda3/envs/pytorch_p310/lib/python3.10/site-packages/dspy/utils/callback.py\", line 234, in wrapper\n",
      "    return fn(instance, *args, **kwargs)\n",
      "  File \"/home/ec2-user/anaconda3/envs/pytorch_p310/lib/python3.10/site-packages/dspy/primitives/program.py\", line 24, in __call__\n",
      "    return self.forward(*args, **kwargs)\n",
      "  File \"/tmp/ipykernel_24828/3378429360.py\", line 7, in forward\n",
      "    factual = self.generate_answer(groundtruth_answer=gt_answer, predicted_answer=pred_answer)\n",
      "  File \"/home/ec2-user/anaconda3/envs/pytorch_p310/lib/python3.10/site-packages/dspy/utils/callback.py\", line 234, in wrapper\n",
      "    return fn(instance, *args, **kwargs)\n",
      "  File \"/home/ec2-user/anaconda3/envs/pytorch_p310/lib/python3.10/site-packages/dspy/primitives/program.py\", line 24, in __call__\n",
      "    return self.forward(*args, **kwargs)\n",
      "  File \"/home/ec2-user/anaconda3/envs/pytorch_p310/lib/python3.10/site-packages/dspy/predict/chain_of_thought.py\", line 44, in forward\n",
      "    return self._predict(signature=signature, **kwargs)\n",
      "  File \"/home/ec2-user/anaconda3/envs/pytorch_p310/lib/python3.10/site-packages/dspy/utils/callback.py\", line 234, in wrapper\n",
      "    return fn(instance, *args, **kwargs)\n",
      "  File \"/home/ec2-user/anaconda3/envs/pytorch_p310/lib/python3.10/site-packages/dspy/predict/predict.py\", line 93, in __call__\n",
      "    return self.forward(**kwargs)\n",
      "  File \"/home/ec2-user/anaconda3/envs/pytorch_p310/lib/python3.10/site-packages/dspy/predict/predict.py\", line 142, in forward\n",
      "    completions = old_generate(demos, signature, kwargs, config, self.lm, self.stage)\n",
      "  File \"/home/ec2-user/anaconda3/envs/pytorch_p310/lib/python3.10/site-packages/dspy/predict/predict.py\", line 168, in old_generate\n",
      "    x, C = dsp.generate(template, **config)(x, stage=stage)\n",
      "  File \"/home/ec2-user/anaconda3/envs/pytorch_p310/lib/python3.10/site-packages/dsp/primitives/predict.py\", line 100, in do_generate\n",
      "    return generate(template, **new_kwargs)(completion, stage=stage,\n",
      "  File \"/home/ec2-user/anaconda3/envs/pytorch_p310/lib/python3.10/site-packages/dsp/primitives/predict.py\", line 73, in do_generate\n",
      "    completions: list[dict[str, Any]] = generator(prompt, **kwargs)\n",
      "  File \"/home/ec2-user/anaconda3/envs/pytorch_p310/lib/python3.10/site-packages/dsp/modules/aws_models.py\", line 128, in __call__\n",
      "    generated = self.basic_request(prompt, **kwargs)\n",
      "  File \"/home/ec2-user/anaconda3/envs/pytorch_p310/lib/python3.10/site-packages/dsp/modules/aws_models.py\", line 109, in basic_request\n",
      "    return self._simple_api_call(formatted_prompt=formatted_prompt, **kwargs)\n",
      "  File \"/home/ec2-user/anaconda3/envs/pytorch_p310/lib/python3.10/site-packages/dsp/modules/aws_models.py\", line 91, in _simple_api_call\n",
      "    llm_out = self._call_model(json_body)\n",
      "  File \"/home/ec2-user/anaconda3/envs/pytorch_p310/lib/python3.10/site-packages/dsp/modules/aws_models.py\", line 249, in _call_model\n",
      "    response = self.aws_provider.predictor.invoke_model(\n",
      "  File \"/home/ec2-user/anaconda3/envs/pytorch_p310/lib/python3.10/site-packages/botocore/client.py\", line 569, in _api_call\n",
      "    return self._make_api_call(operation_name, kwargs)\n",
      "  File \"/home/ec2-user/anaconda3/envs/pytorch_p310/lib/python3.10/site-packages/botocore/client.py\", line 1023, in _make_api_call\n",
      "    raise error_class(parsed_response, operation_name)\n",
      "botocore.errorfactory.ServiceUnavailableException: An error occurred (ServiceUnavailableException) when calling the InvokeModel operation (reached max retries: 4): Bedrock is unable to process your request.\n",
      "\n"
     ]
    },
    {
     "name": "stdout",
     "output_type": "stream",
     "text": [
      "Average Metric: 12.30 / 32 (38.4%):  91%|█████████ | 29/32 [01:53<00:25,  8.65s/it]llm_judge_ans = 0.8\n",
      "Average Metric: 13.10 / 32 (40.9%):  94%|█████████▍| 30/32 [02:02<00:17,  8.66s/it]llm_judge_ans = 0.1\n",
      "Average Metric: 13.20 / 32 (41.2%):  97%|█████████▋| 31/32 [02:16<00:10, 10.30s/it]llm_judge_ans = 0.9\n",
      "Average Metric: 14.10 / 32 (44.1%): 100%|██████████| 32/32 [02:28<00:00,  4.64s/it]"
     ]
    },
    {
     "name": "stderr",
     "output_type": "stream",
     "text": [
      "2024/12/18 17:28:25 INFO dspy.evaluate.evaluate: Average Metric: 14.100000000000001 / 32 (44.1%)\n"
     ]
    },
    {
     "name": "stdout",
     "output_type": "stream",
     "text": [
      "\n",
      "------------- Final DSPy Evaluation score :::: 44.06 ---------\n"
     ]
    }
   ],
   "source": [
    "evaluate_llm_judge = Evaluate(devset=generate_dspy_example_dataset(df_sft_data), \n",
    "                              metric=metric_LLM_1, \n",
    "                              num_threads=1, \n",
    "                              display_progress=True, \n",
    "                              display_table=0, \n",
    "                              provide_traceback=True)\n",
    "\n",
    "eval_score = evaluate_llm_judge(llm_judge_1, num_threads=1)\n",
    "print(f\"------------- Final DSPy Evaluation score :::: {eval_score} ---------\")"
   ]
  },
  {
   "cell_type": "code",
   "execution_count": 57,
   "id": "5c18106c-7d4a-45ed-a8cc-3c93e786bed3",
   "metadata": {},
   "outputs": [
    {
     "data": {
      "text/plain": [
       "0.44060000000000005"
      ]
     },
     "execution_count": 57,
     "metadata": {},
     "output_type": "execute_result"
    }
   ],
   "source": [
    "sft_score_1 = eval_score/100\n",
    "sft_score_1"
   ]
  },
  {
   "cell_type": "markdown",
   "id": "7eab3061",
   "metadata": {},
   "source": [
    "Evaluation scores for DPO results by LLM-judge class"
   ]
  },
  {
   "cell_type": "code",
   "execution_count": 59,
   "id": "a24ece8a",
   "metadata": {},
   "outputs": [
    {
     "name": "stdout",
     "output_type": "stream",
     "text": [
      "0 : 1.0|1 : 1.0|2 : 0.2|3 : 0.2|4 : 0.9|5 : 1.0|6 : 0.2|7 : 1.0|8 : 0.2|9 : 0.2|10 : 1.0|11 : 1.0|12 : 1.0|13 : 0.2|14 : 1.0|15 : 1.0|16 : 1.0|17 : 0.0|18 : 0.1|19 : 0.1|20 : 1.0|21 : 0.9|22 : 0.9|23 : 1.0|24 : 1.0|25 : 0.3|26 : 0.1|27 : 0.2|28 : 1.0|29 : 0.9|30 : 1.0|31 : 1.0|"
     ]
    },
    {
     "data": {
      "text/plain": [
       "0.675"
      ]
     },
     "execution_count": 59,
     "metadata": {},
     "output_type": "execute_result"
    }
   ],
   "source": [
    "dpo_score_1 = get_judge_score_1(df_dpo_data)\n",
    "dpo_score_1"
   ]
  },
  {
   "cell_type": "markdown",
   "id": "fd98ee77",
   "metadata": {},
   "source": [
    "Evaluation scores for DPO results by LLM-judge class"
   ]
  },
  {
   "cell_type": "code",
   "execution_count": 60,
   "id": "861bd7ca-1da2-4aed-b84a-667721fc695f",
   "metadata": {},
   "outputs": [
    {
     "name": "stdout",
     "output_type": "stream",
     "text": [
      "  0%|          | 0/32 [00:00<?, ?it/s]llm_judge_ans = 1.0\n",
      "Average Metric: 1.00 / 32 (3.1%):   3%|▎         | 1/32 [00:01<00:40,  1.30s/it]llm_judge_ans = 1.0\n",
      "Average Metric: 2.00 / 32 (6.2%):   6%|▋         | 2/32 [00:02<00:39,  1.33s/it]llm_judge_ans = 0.2\n",
      "Average Metric: 2.20 / 32 (6.9%):   9%|▉         | 3/32 [00:08<01:40,  3.47s/it]llm_judge_ans = 0.2\n",
      "Average Metric: 2.40 / 32 (7.5%):  12%|█▎        | 4/32 [00:10<01:18,  2.80s/it]llm_judge_ans = 0.9\n",
      "Average Metric: 3.30 / 32 (10.3%):  16%|█▌        | 5/32 [00:11<01:02,  2.32s/it]llm_judge_ans = 1.0\n",
      "Average Metric: 4.30 / 32 (13.4%):  19%|█▉        | 6/32 [00:13<00:53,  2.07s/it]llm_judge_ans = 0.2\n",
      "Average Metric: 4.50 / 32 (14.1%):  22%|██▏       | 7/32 [00:15<00:48,  1.94s/it]llm_judge_ans = 1.0\n",
      "Average Metric: 5.50 / 32 (17.2%):  25%|██▌       | 8/32 [00:16<00:43,  1.80s/it]llm_judge_ans = 0.2\n",
      "Average Metric: 5.70 / 32 (17.8%):  28%|██▊       | 9/32 [00:18<00:43,  1.87s/it]llm_judge_ans = 0.2\n",
      "Average Metric: 5.90 / 32 (18.4%):  31%|███▏      | 10/32 [00:20<00:41,  1.88s/it]llm_judge_ans = 1.0\n",
      "Average Metric: 6.90 / 32 (21.6%):  34%|███▍      | 11/32 [00:21<00:35,  1.68s/it]llm_judge_ans = 1.0\n",
      "Average Metric: 7.90 / 32 (24.7%):  38%|███▊      | 12/32 [00:23<00:32,  1.62s/it]llm_judge_ans = 1.0\n",
      "Average Metric: 8.90 / 32 (27.8%):  41%|████      | 13/32 [00:25<00:32,  1.73s/it]llm_judge_ans = 0.2\n",
      "Average Metric: 9.10 / 32 (28.4%):  44%|████▍     | 14/32 [00:27<00:33,  1.84s/it]llm_judge_ans = 1.0\n",
      "Average Metric: 10.10 / 32 (31.6%):  47%|████▋     | 15/32 [00:29<00:32,  1.91s/it]llm_judge_ans = 0.9\n",
      "Average Metric: 11.00 / 32 (34.4%):  50%|█████     | 16/32 [00:31<00:31,  2.00s/it]llm_judge_ans = 1.0\n",
      "Average Metric: 12.00 / 32 (37.5%):  53%|█████▎    | 17/32 [00:33<00:27,  1.83s/it]llm_judge_ans = 0.0\n",
      "Average Metric: 12.00 / 32 (37.5%):  56%|█████▋    | 18/32 [00:34<00:24,  1.75s/it]llm_judge_ans = 0.1\n",
      "Average Metric: 12.10 / 32 (37.8%):  59%|█████▉    | 19/32 [00:36<00:22,  1.76s/it]llm_judge_ans = 0.1\n",
      "Average Metric: 12.20 / 32 (38.1%):  62%|██████▎   | 20/32 [00:38<00:21,  1.77s/it]llm_judge_ans = 1.0\n",
      "Average Metric: 13.20 / 32 (41.2%):  66%|██████▌   | 21/32 [00:41<00:25,  2.35s/it]llm_judge_ans = 0.9\n",
      "Average Metric: 14.10 / 32 (44.1%):  69%|██████▉   | 22/32 [00:43<00:22,  2.21s/it]llm_judge_ans = 0.9\n",
      "Average Metric: 15.00 / 32 (46.9%):  72%|███████▏  | 23/32 [00:45<00:19,  2.14s/it]llm_judge_ans = 1.0\n",
      "Average Metric: 16.00 / 32 (50.0%):  75%|███████▌  | 24/32 [00:47<00:15,  1.96s/it]llm_judge_ans = 1.0\n",
      "Average Metric: 17.00 / 32 (53.1%):  78%|███████▊  | 25/32 [00:49<00:13,  1.96s/it]llm_judge_ans = 0.3\n",
      "Average Metric: 17.30 / 32 (54.1%):  81%|████████▏ | 26/32 [00:51<00:12,  2.00s/it]llm_judge_ans = 0.1\n",
      "Average Metric: 17.40 / 32 (54.4%):  84%|████████▍ | 27/32 [00:56<00:14,  2.98s/it]llm_judge_ans = 0.2\n",
      "Average Metric: 17.60 / 32 (55.0%):  88%|████████▊ | 28/32 [00:59<00:11,  2.85s/it]llm_judge_ans = 1.0\n",
      "Average Metric: 18.60 / 32 (58.1%):  91%|█████████ | 29/32 [01:01<00:08,  2.68s/it]llm_judge_ans = 0.9\n",
      "Average Metric: 19.50 / 32 (60.9%):  94%|█████████▍| 30/32 [01:03<00:04,  2.48s/it]llm_judge_ans = 1.0\n",
      "Average Metric: 20.50 / 32 (64.1%):  97%|█████████▋| 31/32 [01:05<00:02,  2.44s/it]llm_judge_ans = 1.0\n",
      "Average Metric: 21.50 / 32 (67.2%): 100%|██████████| 32/32 [01:07<00:00,  2.11s/it]"
     ]
    },
    {
     "name": "stderr",
     "output_type": "stream",
     "text": [
      "2024/12/18 17:30:56 INFO dspy.evaluate.evaluate: Average Metric: 21.5 / 32 (67.2%)\n"
     ]
    },
    {
     "name": "stdout",
     "output_type": "stream",
     "text": [
      "\n",
      "------------- Final DSPy Evaluation score :::: 67.19 ---------\n"
     ]
    }
   ],
   "source": [
    "evaluate_llm_judge = Evaluate(devset=generate_dspy_example_dataset(df_dpo_data), \n",
    "                              metric=metric_LLM_1, \n",
    "                              num_threads=1, \n",
    "                              display_progress=True, \n",
    "                              display_table=0, \n",
    "                              provide_traceback=True)\n",
    "\n",
    "eval_score = evaluate_llm_judge(llm_judge_1, num_threads=1)\n",
    "print(f\"------------- Final DSPy Evaluation score :::: {eval_score} ---------\")"
   ]
  },
  {
   "cell_type": "code",
   "execution_count": 61,
   "id": "875a7e9c-18b5-44db-9f0a-f2a3151a98e9",
   "metadata": {},
   "outputs": [
    {
     "data": {
      "text/plain": [
       "0.6718999999999999"
      ]
     },
     "execution_count": 61,
     "metadata": {},
     "output_type": "execute_result"
    }
   ],
   "source": [
    "dpo_score_1 = eval_score/100\n",
    "dpo_score_1"
   ]
  },
  {
   "cell_type": "markdown",
   "id": "ae572ca6",
   "metadata": {},
   "source": [
    "Evaluation scores for ORPO results by LLM-judge class"
   ]
  },
  {
   "cell_type": "code",
   "execution_count": 62,
   "id": "8dd84a67",
   "metadata": {},
   "outputs": [
    {
     "name": "stdout",
     "output_type": "stream",
     "text": [
      "0 : 1.0|1 : 1.0|2 : 0.2|3 : 0.2|4 : 0.9|5 : 1.0|6 : 0.2|7 : 1.0|8 : 0.2|9 : 0.2|10 : 1.0|11 : 1.0|12 : 0.9|13 : 0.2|14 : 1.0|15 : 1.0|16 : 1.0|17 : 0.0|18 : 0.1|19 : 0.1|20 : 1.0|21 : 0.9|22 : 0.9|23 : 1.0|24 : 1.0|25 : 0.8|26 : 0.0|27 : 0.2|28 : 1.0|29 : 0.9|30 : 1.0|31 : 1.0|"
     ]
    },
    {
     "data": {
      "text/plain": [
       "0.684375"
      ]
     },
     "execution_count": 62,
     "metadata": {},
     "output_type": "execute_result"
    }
   ],
   "source": [
    "orpo_score_1 = get_judge_score_1(df_orpo_data)\n",
    "orpo_score_1"
   ]
  },
  {
   "cell_type": "markdown",
   "id": "a8a51dcf",
   "metadata": {},
   "source": [
    "Evaluation scores for ORPO results by dspy"
   ]
  },
  {
   "cell_type": "code",
   "execution_count": 63,
   "id": "f40dbfd4",
   "metadata": {},
   "outputs": [
    {
     "name": "stdout",
     "output_type": "stream",
     "text": [
      "  0%|          | 0/32 [00:00<?, ?it/s]llm_judge_ans = 1.0\n",
      "Average Metric: 1.00 / 32 (3.1%):   3%|▎         | 1/32 [00:01<00:55,  1.78s/it]llm_judge_ans = 1.0\n",
      "Average Metric: 2.00 / 32 (6.2%):   6%|▋         | 2/32 [00:03<00:55,  1.83s/it]llm_judge_ans = 0.2\n",
      "Average Metric: 2.20 / 32 (6.9%):   9%|▉         | 3/32 [00:05<00:46,  1.61s/it]llm_judge_ans = 0.2\n",
      "Average Metric: 2.40 / 32 (7.5%):  12%|█▎        | 4/32 [00:06<00:42,  1.52s/it]llm_judge_ans = 0.9\n",
      "Average Metric: 3.30 / 32 (10.3%):  16%|█▌        | 5/32 [00:08<00:51,  1.90s/it]llm_judge_ans = 1.0\n",
      "Average Metric: 4.30 / 32 (13.4%):  19%|█▉        | 6/32 [00:11<00:52,  2.02s/it]llm_judge_ans = 0.2\n",
      "Average Metric: 4.50 / 32 (14.1%):  22%|██▏       | 7/32 [00:13<00:50,  2.00s/it]llm_judge_ans = 1.0\n",
      "Average Metric: 5.50 / 32 (17.2%):  25%|██▌       | 8/32 [00:15<00:48,  2.01s/it]llm_judge_ans = 0.2\n",
      "Average Metric: 5.70 / 32 (17.8%):  28%|██▊       | 9/32 [00:18<00:54,  2.37s/it]llm_judge_ans = 0.2\n",
      "Average Metric: 5.90 / 32 (18.4%):  31%|███▏      | 10/32 [00:20<00:50,  2.32s/it]llm_judge_ans = 1.0\n",
      "Average Metric: 6.90 / 32 (21.6%):  34%|███▍      | 11/32 [00:22<00:44,  2.13s/it]llm_judge_ans = 1.0\n",
      "Average Metric: 7.90 / 32 (24.7%):  38%|███▊      | 12/32 [00:25<00:46,  2.33s/it]llm_judge_ans = 0.9\n",
      "Average Metric: 8.80 / 32 (27.5%):  41%|████      | 13/32 [00:27<00:46,  2.43s/it]llm_judge_ans = 0.2\n",
      "Average Metric: 9.00 / 32 (28.1%):  44%|████▍     | 14/32 [00:29<00:42,  2.38s/it]llm_judge_ans = 1.0\n",
      "Average Metric: 10.00 / 32 (31.2%):  47%|████▋     | 15/32 [00:32<00:39,  2.33s/it]llm_judge_ans = 0.9\n",
      "Average Metric: 10.90 / 32 (34.1%):  50%|█████     | 16/32 [00:34<00:38,  2.40s/it]llm_judge_ans = 1.0\n",
      "Average Metric: 11.90 / 32 (37.2%):  53%|█████▎    | 17/32 [00:36<00:34,  2.32s/it]llm_judge_ans = 0.0\n",
      "Average Metric: 11.90 / 32 (37.2%):  56%|█████▋    | 18/32 [00:39<00:32,  2.32s/it]llm_judge_ans = 0.1\n",
      "Average Metric: 12.00 / 32 (37.5%):  59%|█████▉    | 19/32 [00:41<00:28,  2.23s/it]llm_judge_ans = 0.1\n",
      "Average Metric: 12.10 / 32 (37.8%):  62%|██████▎   | 20/32 [00:44<00:29,  2.43s/it]llm_judge_ans = 1.0\n",
      "Average Metric: 13.10 / 32 (40.9%):  66%|██████▌   | 21/32 [00:46<00:27,  2.51s/it]llm_judge_ans = 0.9\n",
      "Average Metric: 14.00 / 32 (43.8%):  69%|██████▉   | 22/32 [00:48<00:23,  2.35s/it]llm_judge_ans = 0.9\n",
      "Average Metric: 14.90 / 32 (46.6%):  72%|███████▏  | 23/32 [00:50<00:20,  2.30s/it]llm_judge_ans = 1.0\n",
      "Average Metric: 15.90 / 32 (49.7%):  75%|███████▌  | 24/32 [00:52<00:17,  2.15s/it]llm_judge_ans = 1.0\n",
      "Average Metric: 16.90 / 32 (52.8%):  78%|███████▊  | 25/32 [00:54<00:14,  2.05s/it]llm_judge_ans = 0.8\n",
      "Average Metric: 17.70 / 32 (55.3%):  81%|████████▏ | 26/32 [00:57<00:14,  2.33s/it]llm_judge_ans = 0.0\n",
      "Average Metric: 17.70 / 32 (55.3%):  84%|████████▍ | 27/32 [01:00<00:12,  2.50s/it]llm_judge_ans = 0.2\n",
      "Average Metric: 17.90 / 32 (55.9%):  88%|████████▊ | 28/32 [01:02<00:09,  2.39s/it]llm_judge_ans = 1.0\n",
      "Average Metric: 18.90 / 32 (59.1%):  91%|█████████ | 29/32 [01:05<00:07,  2.43s/it]llm_judge_ans = 0.9\n",
      "Average Metric: 19.80 / 32 (61.9%):  94%|█████████▍| 30/32 [01:08<00:05,  2.68s/it]llm_judge_ans = 1.0\n",
      "Average Metric: 20.80 / 32 (65.0%):  97%|█████████▋| 31/32 [01:09<00:02,  2.33s/it]llm_judge_ans = 1.0\n",
      "Average Metric: 21.80 / 32 (68.1%): 100%|██████████| 32/32 [01:12<00:00,  2.26s/it]"
     ]
    },
    {
     "name": "stderr",
     "output_type": "stream",
     "text": [
      "2024/12/18 17:32:45 INFO dspy.evaluate.evaluate: Average Metric: 21.799999999999997 / 32 (68.1%)\n"
     ]
    },
    {
     "name": "stdout",
     "output_type": "stream",
     "text": [
      "\n",
      "------------- Final DSPy Evaluation score :::: 68.12 ---------\n"
     ]
    }
   ],
   "source": [
    "evaluate_llm_judge = Evaluate(devset=generate_dspy_example_dataset(df_orpo_data), \n",
    "                              metric=metric_LLM_1, \n",
    "                              num_threads=1, \n",
    "                              display_progress=True, \n",
    "                              display_table=0, \n",
    "                              provide_traceback=True)\n",
    "\n",
    "eval_score = evaluate_llm_judge(llm_judge_1, num_threads=1)\n",
    "print(f\"------------- Final DSPy Evaluation score :::: {eval_score} ---------\")"
   ]
  },
  {
   "cell_type": "code",
   "execution_count": 64,
   "id": "fd5db4ef-0941-4985-afe7-07d81b3f219e",
   "metadata": {},
   "outputs": [
    {
     "data": {
      "text/plain": [
       "0.6812"
      ]
     },
     "execution_count": 64,
     "metadata": {},
     "output_type": "execute_result"
    }
   ],
   "source": [
    "orpo_score_1 = eval_score/100\n",
    "orpo_score_1"
   ]
  },
  {
   "cell_type": "markdown",
   "id": "ba86b22b",
   "metadata": {},
   "source": [
    "Evaluation scores for RAG HAIKU results by LLM-judge class"
   ]
  },
  {
   "cell_type": "code",
   "execution_count": 65,
   "id": "fa00992a",
   "metadata": {},
   "outputs": [
    {
     "name": "stdout",
     "output_type": "stream",
     "text": [
      "0 : 0.1|1 : 1.0|2 : 0.1|3 : 0.1|4 : 0.5|5 : 0.9|6 : 1.0|7 : 1.0|8 : 0.2|9 : 0.2|10 : 0.3|11 : 0.1|12 : 0.9|13 : 0.0|14 : 0.2|15 : 1.0|16 : 0.9|17 : 0.5|18 : 0.1|19 : 0.1|20 : 0.2|21 : 0.3|22 : 0.1|23 : 0.6|24 : 0.7|25 : 0.8|26 : 0.3|27 : 0.0|28 : 0.9|29 : 0.8|30 : 0.2|31 : 0.0|"
     ]
    },
    {
     "data": {
      "text/plain": [
       "0.440625"
      ]
     },
     "execution_count": 65,
     "metadata": {},
     "output_type": "execute_result"
    }
   ],
   "source": [
    "rag_haiku_score_1 = get_judge_score_1(df_rag_haiku_data)\n",
    "rag_haiku_score_1"
   ]
  },
  {
   "cell_type": "markdown",
   "id": "29b8b4f3",
   "metadata": {},
   "source": [
    "Evaluation scores for RAG HAIKU results by dspy"
   ]
  },
  {
   "cell_type": "code",
   "execution_count": 66,
   "id": "bab1f187-d865-47e1-bc83-0fb439a65d4e",
   "metadata": {},
   "outputs": [
    {
     "name": "stdout",
     "output_type": "stream",
     "text": [
      "  0%|          | 0/32 [00:00<?, ?it/s]llm_judge_ans = 0.1\n",
      "Average Metric: 0.10 / 32 (0.3%):   3%|▎         | 1/32 [00:01<01:00,  1.94s/it]llm_judge_ans = 1.0\n",
      "Average Metric: 1.10 / 32 (3.4%):   6%|▋         | 2/32 [00:03<00:50,  1.70s/it]llm_judge_ans = 0.1\n",
      "Average Metric: 1.20 / 32 (3.8%):   9%|▉         | 3/32 [00:04<00:42,  1.48s/it]llm_judge_ans = 0.1\n",
      "Average Metric: 1.30 / 32 (4.1%):  12%|█▎        | 4/32 [00:06<00:42,  1.50s/it]llm_judge_ans = 0.5\n",
      "Average Metric: 1.80 / 32 (5.6%):  16%|█▌        | 5/32 [00:08<00:45,  1.69s/it]llm_judge_ans = 0.9\n",
      "Average Metric: 2.70 / 32 (8.4%):  19%|█▉        | 6/32 [00:10<00:49,  1.89s/it]llm_judge_ans = 1.0\n",
      "Average Metric: 3.70 / 32 (11.6%):  22%|██▏       | 7/32 [00:12<00:45,  1.81s/it]llm_judge_ans = 1.0\n",
      "Average Metric: 4.70 / 32 (14.7%):  25%|██▌       | 8/32 [00:14<00:45,  1.91s/it]llm_judge_ans = 0.2\n",
      "Average Metric: 4.90 / 32 (15.3%):  28%|██▊       | 9/32 [00:16<00:48,  2.12s/it]llm_judge_ans = 0.2\n",
      "Average Metric: 5.10 / 32 (15.9%):  31%|███▏      | 10/32 [00:19<00:46,  2.13s/it]llm_judge_ans = 0.3\n",
      "Average Metric: 5.40 / 32 (16.9%):  34%|███▍      | 11/32 [00:20<00:40,  1.92s/it]llm_judge_ans = 0.1\n",
      "Average Metric: 5.50 / 32 (17.2%):  38%|███▊      | 12/32 [00:22<00:37,  1.86s/it]llm_judge_ans = 0.9\n",
      "Average Metric: 6.40 / 32 (20.0%):  41%|████      | 13/32 [00:23<00:34,  1.83s/it]llm_judge_ans = 0.0\n",
      "Average Metric: 6.40 / 32 (20.0%):  44%|████▍     | 14/32 [00:25<00:31,  1.74s/it]llm_judge_ans = 0.2\n",
      "Average Metric: 6.60 / 32 (20.6%):  47%|████▋     | 15/32 [00:27<00:29,  1.72s/it]llm_judge_ans = 1.0\n",
      "Average Metric: 7.60 / 32 (23.8%):  50%|█████     | 16/32 [00:30<00:33,  2.11s/it]llm_judge_ans = 0.9\n",
      "Average Metric: 8.50 / 32 (26.6%):  53%|█████▎    | 17/32 [00:32<00:33,  2.21s/it]llm_judge_ans = 0.5\n",
      "Average Metric: 9.00 / 32 (28.1%):  56%|█████▋    | 18/32 [00:34<00:29,  2.09s/it]llm_judge_ans = 0.1\n",
      "Average Metric: 9.10 / 32 (28.4%):  59%|█████▉    | 19/32 [00:36<00:27,  2.14s/it]llm_judge_ans = 0.1\n",
      "Average Metric: 9.20 / 32 (28.7%):  62%|██████▎   | 20/32 [00:38<00:26,  2.17s/it]llm_judge_ans = 0.2\n",
      "Average Metric: 9.40 / 32 (29.4%):  66%|██████▌   | 21/32 [00:42<00:27,  2.54s/it]llm_judge_ans = 0.3\n",
      "Average Metric: 9.70 / 32 (30.3%):  69%|██████▉   | 22/32 [00:44<00:25,  2.53s/it]llm_judge_ans = 0.1\n",
      "Average Metric: 9.80 / 32 (30.6%):  72%|███████▏  | 23/32 [00:47<00:23,  2.64s/it]llm_judge_ans = 0.6\n",
      "Average Metric: 10.40 / 32 (32.5%):  75%|███████▌  | 24/32 [00:49<00:19,  2.46s/it]llm_judge_ans = 0.7\n",
      "Average Metric: 11.10 / 32 (34.7%):  78%|███████▊  | 25/32 [00:51<00:15,  2.25s/it]llm_judge_ans = 0.8\n",
      "Average Metric: 11.90 / 32 (37.2%):  81%|████████▏ | 26/32 [00:53<00:13,  2.19s/it]llm_judge_ans = 0.3\n",
      "Average Metric: 12.20 / 32 (38.1%):  84%|████████▍ | 27/32 [00:55<00:10,  2.17s/it]llm_judge_ans = 0.1\n",
      "Average Metric: 12.30 / 32 (38.4%):  88%|████████▊ | 28/32 [00:57<00:08,  2.06s/it]llm_judge_ans = 0.9\n",
      "Average Metric: 13.20 / 32 (41.2%):  91%|█████████ | 29/32 [00:59<00:05,  1.92s/it]llm_judge_ans = 0.8\n",
      "Average Metric: 14.00 / 32 (43.8%):  94%|█████████▍| 30/32 [01:02<00:04,  2.37s/it]llm_judge_ans = 0.2\n",
      "Average Metric: 14.20 / 32 (44.4%):  97%|█████████▋| 31/32 [01:04<00:02,  2.17s/it]llm_judge_ans = 0.0\n",
      "Average Metric: 14.20 / 32 (44.4%): 100%|██████████| 32/32 [01:05<00:00,  2.06s/it]"
     ]
    },
    {
     "name": "stderr",
     "output_type": "stream",
     "text": [
      "2024/12/18 17:34:24 INFO dspy.evaluate.evaluate: Average Metric: 14.2 / 32 (44.4%)\n"
     ]
    },
    {
     "name": "stdout",
     "output_type": "stream",
     "text": [
      "\n",
      "------------- Final DSPy Evaluation score :::: 44.38 ---------\n"
     ]
    }
   ],
   "source": [
    "evaluate_llm_judge = Evaluate(devset=generate_dspy_example_dataset(df_rag_haiku_data), \n",
    "                              metric=metric_LLM_1, \n",
    "                              num_threads=1, \n",
    "                              display_progress=True, \n",
    "                              display_table=0, \n",
    "                              provide_traceback=True)\n",
    "\n",
    "eval_score = evaluate_llm_judge(llm_judge_1, num_threads=1)\n",
    "print(f\"------------- Final DSPy Evaluation score :::: {eval_score} ---------\")"
   ]
  },
  {
   "cell_type": "code",
   "execution_count": 67,
   "id": "ea3942dd-8a2e-4948-a4ee-ad17cb4c530f",
   "metadata": {},
   "outputs": [
    {
     "data": {
      "text/plain": [
       "0.44380000000000003"
      ]
     },
     "execution_count": 67,
     "metadata": {},
     "output_type": "execute_result"
    }
   ],
   "source": [
    "rag_haiku_score_1 = eval_score/100\n",
    "rag_haiku_score_1"
   ]
  },
  {
   "cell_type": "markdown",
   "id": "d81bf4ad",
   "metadata": {},
   "source": [
    "Evaluation scores for RAG compiled HAIKU results by LLM-judge class"
   ]
  },
  {
   "cell_type": "code",
   "execution_count": 68,
   "id": "acc77eea",
   "metadata": {},
   "outputs": [
    {
     "name": "stdout",
     "output_type": "stream",
     "text": [
      "0 : 0.2|1 : 1.0|2 : 1.0|3 : 1.0|4 : 0.5|5 : 0.9|6 : 1.0|7 : 0.9|8 : 0.9|9 : 0.6|10 : 0.2|11 : 0.2|12 : 0.9|13 : 1.0|14 : 0.2|15 : 0.8|16 : 0.6|17 : 1.0|18 : 0.0|19 : 0.1|20 : 0.9|21 : 0.5|22 : 0.8|23 : 0.5|24 : 0.9|25 : 0.9|26 : 0.8|27 : 0.1|28 : 0.4|29 : 0.9|30 : 0.8|31 : 0.9|"
     ]
    },
    {
     "data": {
      "text/plain": [
       "0.66875"
      ]
     },
     "execution_count": 68,
     "metadata": {},
     "output_type": "execute_result"
    }
   ],
   "source": [
    "ragc_haiku_score_1 = get_judge_score_1(df_ragc_haiku_data)\n",
    "ragc_haiku_score_1"
   ]
  },
  {
   "cell_type": "markdown",
   "id": "63fcf4c2",
   "metadata": {},
   "source": [
    "Evaluation scores for RAG compiled HAIKU results by dspy"
   ]
  },
  {
   "cell_type": "code",
   "execution_count": 69,
   "id": "d0edbc03",
   "metadata": {},
   "outputs": [
    {
     "name": "stdout",
     "output_type": "stream",
     "text": [
      "  0%|          | 0/32 [00:00<?, ?it/s]llm_judge_ans = 0.2\n",
      "Average Metric: 0.20 / 32 (0.6%):   3%|▎         | 1/32 [00:01<00:43,  1.42s/it]llm_judge_ans = 1.0\n",
      "Average Metric: 1.20 / 32 (3.8%):   6%|▋         | 2/32 [00:03<00:48,  1.61s/it]llm_judge_ans = 1.0\n",
      "Average Metric: 2.20 / 32 (6.9%):   9%|▉         | 3/32 [00:04<00:43,  1.49s/it]llm_judge_ans = 1.0\n",
      "Average Metric: 3.20 / 32 (10.0%):  12%|█▎        | 4/32 [00:06<00:43,  1.54s/it]llm_judge_ans = 0.5\n",
      "Average Metric: 3.70 / 32 (11.6%):  16%|█▌        | 5/32 [00:08<00:47,  1.77s/it]llm_judge_ans = 0.9\n",
      "Average Metric: 4.60 / 32 (14.4%):  19%|█▉        | 6/32 [00:09<00:44,  1.71s/it]llm_judge_ans = 0.8\n",
      "Average Metric: 5.40 / 32 (16.9%):  22%|██▏       | 7/32 [00:11<00:44,  1.78s/it]llm_judge_ans = 0.9\n",
      "Average Metric: 6.30 / 32 (19.7%):  25%|██▌       | 8/32 [00:13<00:41,  1.72s/it]llm_judge_ans = 0.9\n",
      "Average Metric: 7.20 / 32 (22.5%):  28%|██▊       | 9/32 [00:16<00:47,  2.07s/it]llm_judge_ans = 0.6\n",
      "Average Metric: 7.80 / 32 (24.4%):  31%|███▏      | 10/32 [00:17<00:41,  1.89s/it]llm_judge_ans = 0.2\n",
      "Average Metric: 8.00 / 32 (25.0%):  34%|███▍      | 11/32 [00:19<00:37,  1.80s/it]llm_judge_ans = 0.2\n",
      "Average Metric: 8.20 / 32 (25.6%):  38%|███▊      | 12/32 [00:21<00:36,  1.83s/it]llm_judge_ans = 0.9\n",
      "Average Metric: 9.10 / 32 (28.4%):  41%|████      | 13/32 [00:22<00:33,  1.76s/it]llm_judge_ans = 1.0\n",
      "Average Metric: 10.10 / 32 (31.6%):  44%|████▍     | 14/32 [00:24<00:33,  1.88s/it]llm_judge_ans = 0.2\n",
      "Average Metric: 10.30 / 32 (32.2%):  47%|████▋     | 15/32 [00:26<00:31,  1.85s/it]llm_judge_ans = 0.8\n",
      "Average Metric: 11.10 / 32 (34.7%):  50%|█████     | 16/32 [00:29<00:31,  1.97s/it]llm_judge_ans = 0.6\n",
      "Average Metric: 11.70 / 32 (36.6%):  53%|█████▎    | 17/32 [00:30<00:29,  1.94s/it]llm_judge_ans = 1.0\n",
      "Average Metric: 12.70 / 32 (39.7%):  56%|█████▋    | 18/32 [00:34<00:33,  2.37s/it]llm_judge_ans = 0.0\n",
      "Average Metric: 12.70 / 32 (39.7%):  59%|█████▉    | 19/32 [00:35<00:28,  2.17s/it]llm_judge_ans = 0.1\n",
      "Average Metric: 12.80 / 32 (40.0%):  62%|██████▎   | 20/32 [00:37<00:24,  2.05s/it]llm_judge_ans = 0.9\n",
      "Average Metric: 13.70 / 32 (42.8%):  66%|██████▌   | 21/32 [00:41<00:27,  2.50s/it]llm_judge_ans = 0.5\n",
      "Average Metric: 14.20 / 32 (44.4%):  69%|██████▉   | 22/32 [00:43<00:23,  2.38s/it]llm_judge_ans = 0.8\n",
      "Average Metric: 15.00 / 32 (46.9%):  72%|███████▏  | 23/32 [00:46<00:24,  2.69s/it]llm_judge_ans = 0.5\n",
      "Average Metric: 15.50 / 32 (48.4%):  75%|███████▌  | 24/32 [00:48<00:18,  2.29s/it]llm_judge_ans = 0.9\n",
      "Average Metric: 16.40 / 32 (51.2%):  78%|███████▊  | 25/32 [00:50<00:15,  2.18s/it]llm_judge_ans = 0.9\n",
      "Average Metric: 17.30 / 32 (54.1%):  81%|████████▏ | 26/32 [00:52<00:13,  2.19s/it]llm_judge_ans = 0.8\n",
      "Average Metric: 18.10 / 32 (56.6%):  84%|████████▍ | 27/32 [00:54<00:10,  2.13s/it]llm_judge_ans = 0.1\n",
      "Average Metric: 18.20 / 32 (56.9%):  88%|████████▊ | 28/32 [00:56<00:08,  2.09s/it]llm_judge_ans = 0.4\n",
      "Average Metric: 18.60 / 32 (58.1%):  91%|█████████ | 29/32 [00:57<00:05,  1.93s/it]llm_judge_ans = 0.9\n",
      "Average Metric: 19.50 / 32 (60.9%):  94%|█████████▍| 30/32 [01:00<00:04,  2.14s/it]llm_judge_ans = 0.8\n",
      "Average Metric: 20.30 / 32 (63.4%):  97%|█████████▋| 31/32 [01:01<00:01,  1.88s/it]llm_judge_ans = 0.9\n",
      "Average Metric: 21.20 / 32 (66.2%): 100%|██████████| 32/32 [01:03<00:00,  1.99s/it]"
     ]
    },
    {
     "name": "stderr",
     "output_type": "stream",
     "text": [
      "2024/12/18 17:36:00 INFO dspy.evaluate.evaluate: Average Metric: 21.199999999999996 / 32 (66.2%)\n"
     ]
    },
    {
     "name": "stdout",
     "output_type": "stream",
     "text": [
      "\n",
      "------------- Final DSPy Evaluation score :::: 66.25 ---------\n"
     ]
    }
   ],
   "source": [
    "evaluate_llm_judge = Evaluate(devset=generate_dspy_example_dataset(df_ragc_haiku_data), \n",
    "                              metric=metric_LLM_1, \n",
    "                              num_threads=1, \n",
    "                              display_progress=True, \n",
    "                              display_table=0, \n",
    "                              provide_traceback=True)\n",
    "\n",
    "eval_score = evaluate_llm_judge(llm_judge_1, num_threads=1)\n",
    "print(f\"------------- Final DSPy Evaluation score :::: {eval_score} ---------\")"
   ]
  },
  {
   "cell_type": "code",
   "execution_count": 70,
   "id": "7f473a6c-bce7-4b50-922a-536a94a283b2",
   "metadata": {},
   "outputs": [
    {
     "data": {
      "text/plain": [
       "0.6625"
      ]
     },
     "execution_count": 70,
     "metadata": {},
     "output_type": "execute_result"
    }
   ],
   "source": [
    "ragc_haiku_score_1 = eval_score/100\n",
    "ragc_haiku_score_1"
   ]
  },
  {
   "cell_type": "markdown",
   "id": "b404713c",
   "metadata": {},
   "source": [
    "Evaluation scores for RAG Sonnet results by LLM-judge class"
   ]
  },
  {
   "cell_type": "code",
   "execution_count": 71,
   "id": "bcec0181",
   "metadata": {},
   "outputs": [
    {
     "name": "stdout",
     "output_type": "stream",
     "text": [
      "0 : 0.2|1 : 0.9|2 : 0.1|3 : 0.1|4 : 0.5|5 : 0.2|6 : 0.2|7 : 0.8|8 : 0.3|9 : 0.2|10 : 0.0|11 : 0.2|12 : 0.0|13 : 0.5|14 : 0.2|15 : 0.2|16 : 0.8|17 : 0.0|18 : 0.0|19 : 0.2|20 : 0.2|21 : 0.3|22 : 0.1|23 : 0.2|24 : 0.2|25 : 0.9|26 : 0.8|27 : 0.0|28 : 0.2|29 : 0.2|30 : 1.0|31 : 0.2|"
     ]
    },
    {
     "data": {
      "text/plain": [
       "0.309375"
      ]
     },
     "execution_count": 71,
     "metadata": {},
     "output_type": "execute_result"
    }
   ],
   "source": [
    "rag_sonnet_score_1 = get_judge_score_1(df_rag_sonnet_data)\n",
    "rag_sonnet_score_1"
   ]
  },
  {
   "cell_type": "markdown",
   "id": "d709d3d0",
   "metadata": {},
   "source": [
    "Evaluation scores for RAG Sonnet results by dspy"
   ]
  },
  {
   "cell_type": "code",
   "execution_count": 72,
   "id": "5d0d417f",
   "metadata": {},
   "outputs": [
    {
     "name": "stdout",
     "output_type": "stream",
     "text": [
      "  0%|          | 0/32 [00:00<?, ?it/s]llm_judge_ans = 0.2\n",
      "Average Metric: 0.20 / 32 (0.6%):   3%|▎         | 1/32 [00:01<00:47,  1.53s/it]llm_judge_ans = 0.9\n",
      "Average Metric: 1.10 / 32 (3.4%):   6%|▋         | 2/32 [00:03<00:46,  1.57s/it]llm_judge_ans = 0.1\n",
      "Average Metric: 1.20 / 32 (3.8%):   9%|▉         | 3/32 [00:04<00:40,  1.40s/it]llm_judge_ans = 0.1\n",
      "Average Metric: 1.30 / 32 (4.1%):  12%|█▎        | 4/32 [00:06<00:43,  1.55s/it]llm_judge_ans = 0.5\n",
      "Average Metric: 1.80 / 32 (5.6%):  16%|█▌        | 5/32 [00:08<00:46,  1.73s/it]llm_judge_ans = 0.2\n",
      "Average Metric: 2.00 / 32 (6.3%):  19%|█▉        | 6/32 [00:10<00:49,  1.89s/it]llm_judge_ans = 0.2\n",
      "Average Metric: 2.20 / 32 (6.9%):  22%|██▏       | 7/32 [00:12<00:45,  1.82s/it]llm_judge_ans = 0.8\n",
      "Average Metric: 3.00 / 32 (9.4%):  25%|██▌       | 8/32 [00:13<00:40,  1.67s/it]llm_judge_ans = 0.3\n",
      "Average Metric: 3.30 / 32 (10.3%):  28%|██▊       | 9/32 [00:15<00:42,  1.87s/it]llm_judge_ans = 0.2\n",
      "Average Metric: 3.50 / 32 (10.9%):  31%|███▏      | 10/32 [00:17<00:40,  1.83s/it]llm_judge_ans = 0.0\n",
      "Average Metric: 3.50 / 32 (10.9%):  34%|███▍      | 11/32 [00:18<00:35,  1.70s/it]llm_judge_ans = 0.2\n",
      "Average Metric: 3.70 / 32 (11.6%):  38%|███▊      | 12/32 [00:20<00:33,  1.70s/it]llm_judge_ans = 0.0\n",
      "Average Metric: 3.70 / 32 (11.6%):  41%|████      | 13/32 [00:23<00:41,  2.20s/it]llm_judge_ans = 0.5\n",
      "Average Metric: 4.20 / 32 (13.1%):  44%|████▍     | 14/32 [00:25<00:35,  2.00s/it]llm_judge_ans = 0.2\n",
      "Average Metric: 4.40 / 32 (13.8%):  47%|████▋     | 15/32 [00:27<00:32,  1.91s/it]llm_judge_ans = 0.2\n",
      "Average Metric: 4.60 / 32 (14.4%):  50%|█████     | 16/32 [00:30<00:36,  2.29s/it]llm_judge_ans = 0.8\n",
      "Average Metric: 5.40 / 32 (16.9%):  53%|█████▎    | 17/32 [00:32<00:32,  2.20s/it]llm_judge_ans = 0.0\n",
      "Average Metric: 5.40 / 32 (16.9%):  56%|█████▋    | 18/32 [00:34<00:29,  2.14s/it]llm_judge_ans = 0.0\n",
      "Average Metric: 5.40 / 32 (16.9%):  59%|█████▉    | 19/32 [00:36<00:29,  2.28s/it]llm_judge_ans = 0.2\n",
      "Average Metric: 5.60 / 32 (17.5%):  62%|██████▎   | 20/32 [00:38<00:25,  2.11s/it]llm_judge_ans = 0.2\n",
      "Average Metric: 5.80 / 32 (18.1%):  66%|██████▌   | 21/32 [00:41<00:24,  2.21s/it]llm_judge_ans = 0.3\n",
      "Average Metric: 6.10 / 32 (19.1%):  69%|██████▉   | 22/32 [00:43<00:24,  2.42s/it]llm_judge_ans = 0.1\n",
      "Average Metric: 6.20 / 32 (19.4%):  72%|███████▏  | 23/32 [00:47<00:24,  2.71s/it]llm_judge_ans = 0.2\n",
      "Average Metric: 6.40 / 32 (20.0%):  75%|███████▌  | 24/32 [00:50<00:22,  2.87s/it]llm_judge_ans = 0.2\n",
      "Average Metric: 6.60 / 32 (20.6%):  78%|███████▊  | 25/32 [00:52<00:18,  2.61s/it]llm_judge_ans = 0.8\n",
      "Average Metric: 7.40 / 32 (23.1%):  81%|████████▏ | 26/32 [00:56<00:18,  3.08s/it]llm_judge_ans = 0.6\n",
      "Average Metric: 8.00 / 32 (25.0%):  84%|████████▍ | 27/32 [01:02<00:19,  3.89s/it]llm_judge_ans = 0.0\n",
      "Average Metric: 8.00 / 32 (25.0%):  88%|████████▊ | 28/32 [01:06<00:15,  3.94s/it]llm_judge_ans = 0.2\n",
      "Average Metric: 8.20 / 32 (25.6%):  91%|█████████ | 29/32 [01:09<00:11,  3.70s/it]llm_judge_ans = 0.2\n",
      "Average Metric: 8.40 / 32 (26.2%):  94%|█████████▍| 30/32 [01:15<00:08,  4.38s/it]llm_judge_ans = 1.0\n",
      "Average Metric: 9.40 / 32 (29.4%):  97%|█████████▋| 31/32 [01:19<00:04,  4.35s/it]llm_judge_ans = 0.2\n",
      "Average Metric: 9.60 / 32 (30.0%): 100%|██████████| 32/32 [01:23<00:00,  2.61s/it]"
     ]
    },
    {
     "name": "stderr",
     "output_type": "stream",
     "text": [
      "2024/12/18 17:37:58 INFO dspy.evaluate.evaluate: Average Metric: 9.6 / 32 (30.0%)\n"
     ]
    },
    {
     "name": "stdout",
     "output_type": "stream",
     "text": [
      "\n",
      "------------- Final DSPy Evaluation score :::: 30.0 ---------\n"
     ]
    }
   ],
   "source": [
    "evaluate_llm_judge = Evaluate(devset=generate_dspy_example_dataset(df_rag_sonnet_data), \n",
    "                              metric=metric_LLM_1, \n",
    "                              num_threads=1, \n",
    "                              display_progress=True, \n",
    "                              display_table=0, \n",
    "                              provide_traceback=True)\n",
    "\n",
    "eval_score = evaluate_llm_judge(llm_judge_1, num_threads=1)\n",
    "print(f\"------------- Final DSPy Evaluation score :::: {eval_score} ---------\")"
   ]
  },
  {
   "cell_type": "code",
   "execution_count": 73,
   "id": "d496d6b6-0c23-4924-9ff1-b29dc781a69b",
   "metadata": {},
   "outputs": [
    {
     "data": {
      "text/plain": [
       "0.3"
      ]
     },
     "execution_count": 73,
     "metadata": {},
     "output_type": "execute_result"
    }
   ],
   "source": [
    "rag_sonnet_score_1 = eval_score/100\n",
    "rag_sonnet_score_1"
   ]
  },
  {
   "cell_type": "markdown",
   "id": "db4a1e7e",
   "metadata": {},
   "source": [
    "Evaluation scores for RAG compiled Sonnet results by LLM-judge class"
   ]
  },
  {
   "cell_type": "code",
   "execution_count": 75,
   "id": "935028e8",
   "metadata": {},
   "outputs": [
    {
     "name": "stdout",
     "output_type": "stream",
     "text": [
      "0 : 0.1|1 : 1.0|2 : 0.1|3 : 0.1|4 : 0.3|5 : 0.9|6 : 0.9|7 : 0.9|8 : 0.3|9 : 0.6|10 : 0.1|11 : 0.2|12 : 0.9|13 : 1.0|14 : 0.2|15 : 0.8|16 : 0.9|17 : 0.9|18 : 0.9|19 : 0.9|20 : 0.9|21 : 0.4|22 : 0.8|23 : 0.9|24 : 0.9|25 : 0.9|26 : 0.4|27 : 0.1|28 : 0.4|29 : 0.5|30 : 0.9|31 : 0.9|"
     ]
    },
    {
     "data": {
      "text/plain": [
       "0.625"
      ]
     },
     "execution_count": 75,
     "metadata": {},
     "output_type": "execute_result"
    }
   ],
   "source": [
    "ragc_sonnet_score_1 = get_judge_score_1(df_ragc_sonnet_data)\n",
    "ragc_sonnet_score_1"
   ]
  },
  {
   "cell_type": "markdown",
   "id": "a5d0a7b4",
   "metadata": {},
   "source": [
    "Evaluation scores for RAG compiled Sonnet results by dspy"
   ]
  },
  {
   "cell_type": "code",
   "execution_count": 76,
   "id": "7846b646",
   "metadata": {},
   "outputs": [
    {
     "name": "stdout",
     "output_type": "stream",
     "text": [
      "  0%|          | 0/32 [00:00<?, ?it/s]llm_judge_ans = 0.1\n",
      "Average Metric: 0.10 / 32 (0.3%):   3%|▎         | 1/32 [00:02<01:30,  2.92s/it]llm_judge_ans = 1.0\n",
      "Average Metric: 1.10 / 32 (3.4%):   6%|▋         | 2/32 [00:04<01:05,  2.20s/it]llm_judge_ans = 0.1\n",
      "Average Metric: 1.20 / 32 (3.8%):   9%|▉         | 3/32 [00:06<01:01,  2.12s/it]llm_judge_ans = 0.1\n",
      "Average Metric: 1.30 / 32 (4.1%):  12%|█▎        | 4/32 [00:08<00:53,  1.90s/it]llm_judge_ans = 0.3\n",
      "Average Metric: 1.60 / 32 (5.0%):  16%|█▌        | 5/32 [00:09<00:48,  1.78s/it]llm_judge_ans = 0.9\n",
      "Average Metric: 2.50 / 32 (7.8%):  19%|█▉        | 6/32 [00:11<00:44,  1.70s/it]llm_judge_ans = 0.9\n",
      "Average Metric: 3.40 / 32 (10.6%):  22%|██▏       | 7/32 [00:13<00:43,  1.74s/it]llm_judge_ans = 0.9\n",
      "Average Metric: 4.30 / 32 (13.4%):  25%|██▌       | 8/32 [00:14<00:40,  1.68s/it]llm_judge_ans = 0.3\n",
      "Average Metric: 4.60 / 32 (14.4%):  28%|██▊       | 9/32 [00:16<00:42,  1.85s/it]llm_judge_ans = 0.6\n",
      "Average Metric: 5.20 / 32 (16.2%):  31%|███▏      | 10/32 [00:18<00:39,  1.78s/it]llm_judge_ans = 0.1\n",
      "Average Metric: 5.30 / 32 (16.6%):  34%|███▍      | 11/32 [00:20<00:37,  1.77s/it]llm_judge_ans = 0.2\n",
      "Average Metric: 5.50 / 32 (17.2%):  38%|███▊      | 12/32 [00:22<00:35,  1.76s/it]llm_judge_ans = 0.9\n",
      "Average Metric: 6.40 / 32 (20.0%):  41%|████      | 13/32 [00:23<00:32,  1.70s/it]llm_judge_ans = 1.0\n",
      "Average Metric: 7.40 / 32 (23.1%):  44%|████▍     | 14/32 [00:25<00:31,  1.76s/it]llm_judge_ans = 0.2\n",
      "Average Metric: 7.60 / 32 (23.8%):  47%|████▋     | 15/32 [00:27<00:30,  1.79s/it]llm_judge_ans = 0.8\n",
      "Average Metric: 8.40 / 32 (26.2%):  50%|█████     | 16/32 [00:29<00:30,  1.92s/it]llm_judge_ans = 0.9\n",
      "Average Metric: 9.30 / 32 (29.1%):  53%|█████▎    | 17/32 [00:31<00:29,  1.98s/it]llm_judge_ans = 0.9\n",
      "Average Metric: 10.20 / 32 (31.9%):  56%|█████▋    | 18/32 [00:33<00:26,  1.91s/it]llm_judge_ans = 0.9\n",
      "Average Metric: 11.10 / 32 (34.7%):  59%|█████▉    | 19/32 [00:34<00:23,  1.81s/it]llm_judge_ans = 0.9\n",
      "Average Metric: 12.00 / 32 (37.5%):  62%|██████▎   | 20/32 [00:36<00:21,  1.82s/it]llm_judge_ans = 0.9\n",
      "Average Metric: 12.90 / 32 (40.3%):  66%|██████▌   | 21/32 [00:39<00:23,  2.17s/it]llm_judge_ans = 0.4\n",
      "Average Metric: 13.30 / 32 (41.6%):  69%|██████▉   | 22/32 [00:42<00:22,  2.21s/it]llm_judge_ans = 0.8\n",
      "Average Metric: 14.10 / 32 (44.1%):  72%|███████▏  | 23/32 [00:45<00:23,  2.62s/it]llm_judge_ans = 0.9\n",
      "Average Metric: 15.00 / 32 (46.9%):  75%|███████▌  | 24/32 [00:47<00:18,  2.28s/it]llm_judge_ans = 0.9\n",
      "Average Metric: 15.90 / 32 (49.7%):  78%|███████▊  | 25/32 [00:49<00:16,  2.35s/it]llm_judge_ans = 0.9\n",
      "Average Metric: 16.80 / 32 (52.5%):  81%|████████▏ | 26/32 [00:52<00:14,  2.36s/it]llm_judge_ans = 0.4\n",
      "Average Metric: 17.20 / 32 (53.8%):  84%|████████▍ | 27/32 [00:54<00:11,  2.38s/it]llm_judge_ans = 0.1\n",
      "Average Metric: 17.30 / 32 (54.1%):  88%|████████▊ | 28/32 [00:57<00:09,  2.46s/it]llm_judge_ans = 0.4\n",
      "Average Metric: 17.70 / 32 (55.3%):  91%|█████████ | 29/32 [00:58<00:06,  2.24s/it]llm_judge_ans = 0.5\n",
      "Average Metric: 18.20 / 32 (56.9%):  94%|█████████▍| 30/32 [01:01<00:04,  2.41s/it]llm_judge_ans = 0.9\n",
      "Average Metric: 19.10 / 32 (59.7%):  97%|█████████▋| 31/32 [01:03<00:02,  2.17s/it]llm_judge_ans = 0.9\n",
      "Average Metric: 20.00 / 32 (62.5%): 100%|██████████| 32/32 [01:04<00:00,  2.03s/it]"
     ]
    },
    {
     "name": "stderr",
     "output_type": "stream",
     "text": [
      "2024/12/18 17:45:42 INFO dspy.evaluate.evaluate: Average Metric: 20.0 / 32 (62.5%)\n"
     ]
    },
    {
     "name": "stdout",
     "output_type": "stream",
     "text": [
      "\n",
      "------------- Final DSPy Evaluation score :::: 62.5 ---------\n"
     ]
    }
   ],
   "source": [
    "evaluate_llm_judge = Evaluate(devset=generate_dspy_example_dataset(df_ragc_sonnet_data), \n",
    "                              metric=metric_LLM_1, \n",
    "                              num_threads=1, \n",
    "                              display_progress=True, \n",
    "                              display_table=0, \n",
    "                              provide_traceback=True)\n",
    "\n",
    "eval_score = evaluate_llm_judge(llm_judge_1, num_threads=1)\n",
    "print(f\"------------- Final DSPy Evaluation score :::: {eval_score} ---------\")"
   ]
  },
  {
   "cell_type": "code",
   "execution_count": 77,
   "id": "76cdefe6-f938-400c-8a1e-cff14807ad49",
   "metadata": {},
   "outputs": [
    {
     "data": {
      "text/plain": [
       "0.625"
      ]
     },
     "execution_count": 77,
     "metadata": {},
     "output_type": "execute_result"
    }
   ],
   "source": [
    "ragc_sonnet_score_1 = eval_score/100\n",
    "ragc_sonnet_score_1"
   ]
  },
  {
   "cell_type": "markdown",
   "id": "7b9f9c3b",
   "metadata": {},
   "source": [
    "### Benchmarking the performance across RAG with foundation models and fine-tuned models "
   ]
  },
  {
   "cell_type": "code",
   "execution_count": 78,
   "id": "be3660bd",
   "metadata": {},
   "outputs": [
    {
     "data": {
      "image/png": "[encoded data removed]",
      "text/plain": [
       "<Figure size 1000x500 with 1 Axes>"
      ]
     },
     "metadata": {},
     "output_type": "display_data"
    }
   ],
   "source": [
    "train_class_type = ['RAG_Haiku','RAG_Haiku_Compiled','SFT(Llama3-8B)','DPO(Llama3-8B)','ORPO(Llama3-8B)']\n",
    "train_class_count = [rag_haiku_score_1,ragc_haiku_score_1,sft_score_1,dpo_score_1,orpo_score_1,]\n",
    "\n",
    "fig = plt.figure(figsize = (10, 5))\n",
    "\n",
    "# creating the bar plot\n",
    "plt.bar(train_class_type, train_class_count, color ='green', width = 0.4)\n",
    "\n",
    "plt.xlabel(\"\")\n",
    "plt.ylabel(\"Accuracy\")\n",
    "plt.title(\"Accuracy by LLM-as-a-judge (Score 0~1)\")\n",
    "plt.show()"
   ]
  },
  {
   "cell_type": "code",
   "execution_count": null,
   "id": "13794f37",
   "metadata": {},
   "outputs": [],
   "source": []
  },
  {
   "cell_type": "code",
   "execution_count": null,
   "id": "c2b58a1f",
   "metadata": {},
   "outputs": [],
   "source": []
  },
  {
   "cell_type": "code",
   "execution_count": null,
   "id": "c7c90af7",
   "metadata": {},
   "outputs": [],
   "source": []
  },
  {
   "cell_type": "code",
   "execution_count": null,
   "id": "35337e3b",
   "metadata": {},
   "outputs": [],
   "source": []
  }
 ],
 "metadata": {
  "availableInstances": [
   {
    "_defaultOrder": 0,
    "_isFastLaunch": true,
    "category": "General purpose",
    "gpuNum": 0,
    "hideHardwareSpecs": false,
    "memoryGiB": 4,
    "name": "ml.t3.medium",
    "vcpuNum": 2
   },
   {
    "_defaultOrder": 1,
    "_isFastLaunch": false,
    "category": "General purpose",
    "gpuNum": 0,
    "hideHardwareSpecs": false,
    "memoryGiB": 8,
    "name": "ml.t3.large",
    "vcpuNum": 2
   },
   {
    "_defaultOrder": 2,
    "_isFastLaunch": false,
    "category": "General purpose",
    "gpuNum": 0,
    "hideHardwareSpecs": false,
    "memoryGiB": 16,
    "name": "ml.t3.xlarge",
    "vcpuNum": 4
   },
   {
    "_defaultOrder": 3,
    "_isFastLaunch": false,
    "category": "General purpose",
    "gpuNum": 0,
    "hideHardwareSpecs": false,
    "memoryGiB": 32,
    "name": "ml.t3.2xlarge",
    "vcpuNum": 8
   },
   {
    "_defaultOrder": 4,
    "_isFastLaunch": true,
    "category": "General purpose",
    "gpuNum": 0,
    "hideHardwareSpecs": false,
    "memoryGiB": 8,
    "name": "ml.m5.large",
    "vcpuNum": 2
   },
   {
    "_defaultOrder": 5,
    "_isFastLaunch": false,
    "category": "General purpose",
    "gpuNum": 0,
    "hideHardwareSpecs": false,
    "memoryGiB": 16,
    "name": "ml.m5.xlarge",
    "vcpuNum": 4
   },
   {
    "_defaultOrder": 6,
    "_isFastLaunch": false,
    "category": "General purpose",
    "gpuNum": 0,
    "hideHardwareSpecs": false,
    "memoryGiB": 32,
    "name": "ml.m5.2xlarge",
    "vcpuNum": 8
   },
   {
    "_defaultOrder": 7,
    "_isFastLaunch": false,
    "category": "General purpose",
    "gpuNum": 0,
    "hideHardwareSpecs": false,
    "memoryGiB": 64,
    "name": "ml.m5.4xlarge",
    "vcpuNum": 16
   },
   {
    "_defaultOrder": 8,
    "_isFastLaunch": false,
    "category": "General purpose",
    "gpuNum": 0,
    "hideHardwareSpecs": false,
    "memoryGiB": 128,
    "name": "ml.m5.8xlarge",
    "vcpuNum": 32
   },
   {
    "_defaultOrder": 9,
    "_isFastLaunch": false,
    "category": "General purpose",
    "gpuNum": 0,
    "hideHardwareSpecs": false,
    "memoryGiB": 192,
    "name": "ml.m5.12xlarge",
    "vcpuNum": 48
   },
   {
    "_defaultOrder": 10,
    "_isFastLaunch": false,
    "category": "General purpose",
    "gpuNum": 0,
    "hideHardwareSpecs": false,
    "memoryGiB": 256,
    "name": "ml.m5.16xlarge",
    "vcpuNum": 64
   },
   {
    "_defaultOrder": 11,
    "_isFastLaunch": false,
    "category": "General purpose",
    "gpuNum": 0,
    "hideHardwareSpecs": false,
    "memoryGiB": 384,
    "name": "ml.m5.24xlarge",
    "vcpuNum": 96
   },
   {
    "_defaultOrder": 12,
    "_isFastLaunch": false,
    "category": "General purpose",
    "gpuNum": 0,
    "hideHardwareSpecs": false,
    "memoryGiB": 8,
    "name": "ml.m5d.large",
    "vcpuNum": 2
   },
   {
    "_defaultOrder": 13,
    "_isFastLaunch": false,
    "category": "General purpose",
    "gpuNum": 0,
    "hideHardwareSpecs": false,
    "memoryGiB": 16,
    "name": "ml.m5d.xlarge",
    "vcpuNum": 4
   },
   {
    "_defaultOrder": 14,
    "_isFastLaunch": false,
    "category": "General purpose",
    "gpuNum": 0,
    "hideHardwareSpecs": false,
    "memoryGiB": 32,
    "name": "ml.m5d.2xlarge",
    "vcpuNum": 8
   },
   {
    "_defaultOrder": 15,
    "_isFastLaunch": false,
    "category": "General purpose",
    "gpuNum": 0,
    "hideHardwareSpecs": false,
    "memoryGiB": 64,
    "name": "ml.m5d.4xlarge",
    "vcpuNum": 16
   },
   {
    "_defaultOrder": 16,
    "_isFastLaunch": false,
    "category": "General purpose",
    "gpuNum": 0,
    "hideHardwareSpecs": false,
    "memoryGiB": 128,
    "name": "ml.m5d.8xlarge",
    "vcpuNum": 32
   },
   {
    "_defaultOrder": 17,
    "_isFastLaunch": false,
    "category": "General purpose",
    "gpuNum": 0,
    "hideHardwareSpecs": false,
    "memoryGiB": 192,
    "name": "ml.m5d.12xlarge",
    "vcpuNum": 48
   },
   {
    "_defaultOrder": 18,
    "_isFastLaunch": false,
    "category": "General purpose",
    "gpuNum": 0,
    "hideHardwareSpecs": false,
    "memoryGiB": 256,
    "name": "ml.m5d.16xlarge",
    "vcpuNum": 64
   },
   {
    "_defaultOrder": 19,
    "_isFastLaunch": false,
    "category": "General purpose",
    "gpuNum": 0,
    "hideHardwareSpecs": false,
    "memoryGiB": 384,
    "name": "ml.m5d.24xlarge",
    "vcpuNum": 96
   },
   {
    "_defaultOrder": 20,
    "_isFastLaunch": false,
    "category": "General purpose",
    "gpuNum": 0,
    "hideHardwareSpecs": true,
    "memoryGiB": 0,
    "name": "ml.geospatial.interactive",
    "supportedImageNames": [
     "sagemaker-geospatial-v1-0"
    ],
    "vcpuNum": 0
   },
   {
    "_defaultOrder": 21,
    "_isFastLaunch": true,
    "category": "Compute optimized",
    "gpuNum": 0,
    "hideHardwareSpecs": false,
    "memoryGiB": 4,
    "name": "ml.c5.large",
    "vcpuNum": 2
   },
   {
    "_defaultOrder": 22,
    "_isFastLaunch": false,
    "category": "Compute optimized",
    "gpuNum": 0,
    "hideHardwareSpecs": false,
    "memoryGiB": 8,
    "name": "ml.c5.xlarge",
    "vcpuNum": 4
   },
   {
    "_defaultOrder": 23,
    "_isFastLaunch": false,
    "category": "Compute optimized",
    "gpuNum": 0,
    "hideHardwareSpecs": false,
    "memoryGiB": 16,
    "name": "ml.c5.2xlarge",
    "vcpuNum": 8
   },
   {
    "_defaultOrder": 24,
    "_isFastLaunch": false,
    "category": "Compute optimized",
    "gpuNum": 0,
    "hideHardwareSpecs": false,
    "memoryGiB": 32,
    "name": "ml.c5.4xlarge",
    "vcpuNum": 16
   },
   {
    "_defaultOrder": 25,
    "_isFastLaunch": false,
    "category": "Compute optimized",
    "gpuNum": 0,
    "hideHardwareSpecs": false,
    "memoryGiB": 72,
    "name": "ml.c5.9xlarge",
    "vcpuNum": 36
   },
   {
    "_defaultOrder": 26,
    "_isFastLaunch": false,
    "category": "Compute optimized",
    "gpuNum": 0,
    "hideHardwareSpecs": false,
    "memoryGiB": 96,
    "name": "ml.c5.12xlarge",
    "vcpuNum": 48
   },
   {
    "_defaultOrder": 27,
    "_isFastLaunch": false,
    "category": "Compute optimized",
    "gpuNum": 0,
    "hideHardwareSpecs": false,
    "memoryGiB": 144,
    "name": "ml.c5.18xlarge",
    "vcpuNum": 72
   },
   {
    "_defaultOrder": 28,
    "_isFastLaunch": false,
    "category": "Compute optimized",
    "gpuNum": 0,
    "hideHardwareSpecs": false,
    "memoryGiB": 192,
    "name": "ml.c5.24xlarge",
    "vcpuNum": 96
   },
   {
    "_defaultOrder": 29,
    "_isFastLaunch": true,
    "category": "Accelerated computing",
    "gpuNum": 1,
    "hideHardwareSpecs": false,
    "memoryGiB": 16,
    "name": "ml.g4dn.xlarge",
    "vcpuNum": 4
   },
   {
    "_defaultOrder": 30,
    "_isFastLaunch": false,
    "category": "Accelerated computing",
    "gpuNum": 1,
    "hideHardwareSpecs": false,
    "memoryGiB": 32,
    "name": "ml.g4dn.2xlarge",
    "vcpuNum": 8
   },
   {
    "_defaultOrder": 31,
    "_isFastLaunch": false,
    "category": "Accelerated computing",
    "gpuNum": 1,
    "hideHardwareSpecs": false,
    "memoryGiB": 64,
    "name": "ml.g4dn.4xlarge",
    "vcpuNum": 16
   },
   {
    "_defaultOrder": 32,
    "_isFastLaunch": false,
    "category": "Accelerated computing",
    "gpuNum": 1,
    "hideHardwareSpecs": false,
    "memoryGiB": 128,
    "name": "ml.g4dn.8xlarge",
    "vcpuNum": 32
   },
   {
    "_defaultOrder": 33,
    "_isFastLaunch": false,
    "category": "Accelerated computing",
    "gpuNum": 4,
    "hideHardwareSpecs": false,
    "memoryGiB": 192,
    "name": "ml.g4dn.12xlarge",
    "vcpuNum": 48
   },
   {
    "_defaultOrder": 34,
    "_isFastLaunch": false,
    "category": "Accelerated computing",
    "gpuNum": 1,
    "hideHardwareSpecs": false,
    "memoryGiB": 256,
    "name": "ml.g4dn.16xlarge",
    "vcpuNum": 64
   },
   {
    "_defaultOrder": 35,
    "_isFastLaunch": false,
    "category": "Accelerated computing",
    "gpuNum": 1,
    "hideHardwareSpecs": false,
    "memoryGiB": 61,
    "name": "ml.p3.2xlarge",
    "vcpuNum": 8
   },
   {
    "_defaultOrder": 36,
    "_isFastLaunch": false,
    "category": "Accelerated computing",
    "gpuNum": 4,
    "hideHardwareSpecs": false,
    "memoryGiB": 244,
    "name": "ml.p3.8xlarge",
    "vcpuNum": 32
   },
   {
    "_defaultOrder": 37,
    "_isFastLaunch": false,
    "category": "Accelerated computing",
    "gpuNum": 8,
    "hideHardwareSpecs": false,
    "memoryGiB": 488,
    "name": "ml.p3.16xlarge",
    "vcpuNum": 64
   },
   {
    "_defaultOrder": 38,
    "_isFastLaunch": false,
    "category": "Accelerated computing",
    "gpuNum": 8,
    "hideHardwareSpecs": false,
    "memoryGiB": 768,
    "name": "ml.p3dn.24xlarge",
    "vcpuNum": 96
   },
   {
    "_defaultOrder": 39,
    "_isFastLaunch": false,
    "category": "Memory Optimized",
    "gpuNum": 0,
    "hideHardwareSpecs": false,
    "memoryGiB": 16,
    "name": "ml.r5.large",
    "vcpuNum": 2
   },
   {
    "_defaultOrder": 40,
    "_isFastLaunch": false,
    "category": "Memory Optimized",
    "gpuNum": 0,
    "hideHardwareSpecs": false,
    "memoryGiB": 32,
    "name": "ml.r5.xlarge",
    "vcpuNum": 4
   },
   {
    "_defaultOrder": 41,
    "_isFastLaunch": false,
    "category": "Memory Optimized",
    "gpuNum": 0,
    "hideHardwareSpecs": false,
    "memoryGiB": 64,
    "name": "ml.r5.2xlarge",
    "vcpuNum": 8
   },
   {
    "_defaultOrder": 42,
    "_isFastLaunch": false,
    "category": "Memory Optimized",
    "gpuNum": 0,
    "hideHardwareSpecs": false,
    "memoryGiB": 128,
    "name": "ml.r5.4xlarge",
    "vcpuNum": 16
   },
   {
    "_defaultOrder": 43,
    "_isFastLaunch": false,
    "category": "Memory Optimized",
    "gpuNum": 0,
    "hideHardwareSpecs": false,
    "memoryGiB": 256,
    "name": "ml.r5.8xlarge",
    "vcpuNum": 32
   },
   {
    "_defaultOrder": 44,
    "_isFastLaunch": false,
    "category": "Memory Optimized",
    "gpuNum": 0,
    "hideHardwareSpecs": false,
    "memoryGiB": 384,
    "name": "ml.r5.12xlarge",
    "vcpuNum": 48
   },
   {
    "_defaultOrder": 45,
    "_isFastLaunch": false,
    "category": "Memory Optimized",
    "gpuNum": 0,
    "hideHardwareSpecs": false,
    "memoryGiB": 512,
    "name": "ml.r5.16xlarge",
    "vcpuNum": 64
   },
   {
    "_defaultOrder": 46,
    "_isFastLaunch": false,
    "category": "Memory Optimized",
    "gpuNum": 0,
    "hideHardwareSpecs": false,
    "memoryGiB": 768,
    "name": "ml.r5.24xlarge",
    "vcpuNum": 96
   },
   {
    "_defaultOrder": 47,
    "_isFastLaunch": false,
    "category": "Accelerated computing",
    "gpuNum": 1,
    "hideHardwareSpecs": false,
    "memoryGiB": 16,
    "name": "ml.g5.xlarge",
    "vcpuNum": 4
   },
   {
    "_defaultOrder": 48,
    "_isFastLaunch": false,
    "category": "Accelerated computing",
    "gpuNum": 1,
    "hideHardwareSpecs": false,
    "memoryGiB": 32,
    "name": "ml.g5.2xlarge",
    "vcpuNum": 8
   },
   {
    "_defaultOrder": 49,
    "_isFastLaunch": false,
    "category": "Accelerated computing",
    "gpuNum": 1,
    "hideHardwareSpecs": false,
    "memoryGiB": 64,
    "name": "ml.g5.4xlarge",
    "vcpuNum": 16
   },
   {
    "_defaultOrder": 50,
    "_isFastLaunch": false,
    "category": "Accelerated computing",
    "gpuNum": 1,
    "hideHardwareSpecs": false,
    "memoryGiB": 128,
    "name": "ml.g5.8xlarge",
    "vcpuNum": 32
   },
   {
    "_defaultOrder": 51,
    "_isFastLaunch": false,
    "category": "Accelerated computing",
    "gpuNum": 1,
    "hideHardwareSpecs": false,
    "memoryGiB": 256,
    "name": "ml.g5.16xlarge",
    "vcpuNum": 64
   },
   {
    "_defaultOrder": 52,
    "_isFastLaunch": false,
    "category": "Accelerated computing",
    "gpuNum": 4,
    "hideHardwareSpecs": false,
    "memoryGiB": 192,
    "name": "ml.g5.12xlarge",
    "vcpuNum": 48
   },
   {
    "_defaultOrder": 53,
    "_isFastLaunch": false,
    "category": "Accelerated computing",
    "gpuNum": 4,
    "hideHardwareSpecs": false,
    "memoryGiB": 384,
    "name": "ml.g5.24xlarge",
    "vcpuNum": 96
   },
   {
    "_defaultOrder": 54,
    "_isFastLaunch": false,
    "category": "Accelerated computing",
    "gpuNum": 8,
    "hideHardwareSpecs": false,
    "memoryGiB": 768,
    "name": "ml.g5.48xlarge",
    "vcpuNum": 192
   },
   {
    "_defaultOrder": 55,
    "_isFastLaunch": false,
    "category": "Accelerated computing",
    "gpuNum": 8,
    "hideHardwareSpecs": false,
    "memoryGiB": 1152,
    "name": "ml.p4d.24xlarge",
    "vcpuNum": 96
   },
   {
    "_defaultOrder": 56,
    "_isFastLaunch": false,
    "category": "Accelerated computing",
    "gpuNum": 8,
    "hideHardwareSpecs": false,
    "memoryGiB": 1152,
    "name": "ml.p4de.24xlarge",
    "vcpuNum": 96
   },
   {
    "_defaultOrder": 57,
    "_isFastLaunch": false,
    "category": "Accelerated computing",
    "gpuNum": 0,
    "hideHardwareSpecs": false,
    "memoryGiB": 32,
    "name": "ml.trn1.2xlarge",
    "vcpuNum": 8
   },
   {
    "_defaultOrder": 58,
    "_isFastLaunch": false,
    "category": "Accelerated computing",
    "gpuNum": 0,
    "hideHardwareSpecs": false,
    "memoryGiB": 512,
    "name": "ml.trn1.32xlarge",
    "vcpuNum": 128
   },
   {
    "_defaultOrder": 59,
    "_isFastLaunch": false,
    "category": "Accelerated computing",
    "gpuNum": 0,
    "hideHardwareSpecs": false,
    "memoryGiB": 512,
    "name": "ml.trn1n.32xlarge",
    "vcpuNum": 128
   }
  ],
  "instance_type": "ml.g4dn.2xlarge",
  "kernelspec": {
   "display_name": "Python 3 (PyTorch 2.4.0 Python 3.11 GPU Optimized)",
   "language": "python",
   "name": "python3__SAGEMAKER_INTERNAL__arn:aws:sagemaker:us-west-2:236514542706:image/pytorch-2.4.0-gpu-py311"
  },
  "language_info": {
   "codemirror_mode": {
    "name": "ipython",
    "version": 3
   },
   "file_extension": ".py",
   "mimetype": "text/x-python",
   "name": "python",
   "nbconvert_exporter": "python",
   "pygments_lexer": "ipython3",
   "version": "3.11.9"
  }
 },
 "nbformat": 4,
 "nbformat_minor": 5
}
