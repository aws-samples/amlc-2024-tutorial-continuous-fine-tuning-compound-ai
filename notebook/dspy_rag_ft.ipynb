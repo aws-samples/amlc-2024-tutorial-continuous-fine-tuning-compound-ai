{
 "cells": [
  {
   "cell_type": "markdown",
   "id": "eb3e157e",
   "metadata": {},
   "source": [
    "# Fine-tuned model and evaluation in dspy\n",
    "\n",
    "In this notebook, we use DSPy Evaluate module to benchmark results from standard RAG, RAG compiled with prompt automation, and fine-tuned LLM. "
   ]
  },
  {
   "cell_type": "markdown",
   "id": "13ecaec9-7ea9-4267-bdc7-009f7f7c41c1",
   "metadata": {},
   "source": [
    "### Environment Setup"
   ]
  },
  {
   "cell_type": "markdown",
   "id": "d452ee1a",
   "metadata": {},
   "source": [
    "Uncomment the following lines if the packages are not installed "
   ]
  },
  {
   "cell_type": "code",
   "execution_count": null,
   "id": "7dc0ed97-09fe-4601-ab64-a0ef356021cc",
   "metadata": {
    "tags": []
   },
   "outputs": [],
   "source": [
    "#%%capture\n",
    "!pip3 install langchain\n",
    "!pip3 install -U langchain-community\n",
    "!pip3 install pypdf\n",
    "!pip3 install chromadb\n",
    "!pip3 install dspy-ai[faiss-cpu]\n",
    "!pip3 install sentence_transformers\n",
    "!pip3 install continuous_eval"
   ]
  },
  {
   "cell_type": "code",
   "execution_count": 1,
   "id": "9a20d894",
   "metadata": {},
   "outputs": [],
   "source": [
    "import pandas as pd\n",
    "import dspy\n",
    "from dspy.teleprompt import BootstrapFewShot\n",
    "from dspy.evaluate import Evaluate\n",
    "\n",
    "import pandas as pd\n",
    "import logging\n",
    "import json, os, shutil\n",
    "import boto3, re, os, shutil\n",
    "import sentence_transformers, continuous_eval\n",
    "\n",
    "import matplotlib.pyplot as plt"
   ]
  },
  {
   "cell_type": "markdown",
   "id": "b75a3539",
   "metadata": {},
   "source": [
    "### RAG generator model fine-tuned by SFT, DPO and ORPO    \n",
    "   \n",
    "DSPy does not yet support LLM fine-tuning through Instruction Tuning, Reinforcement Learning and Preference Alignment. Therefore, we conducted the llama 3 8B model fine-tuning separately, and generated the following results for benchmarking across multiple methods using the same dataset for the RAG inference in the notebook dapy_rag_compile.ipynb. \n",
    "\n",
    "If you are interested in how to fine-tune LLM using those methodologies, please refer to the code samples [here]."
   ]
  },
  {
   "cell_type": "markdown",
   "id": "e83a00e8",
   "metadata": {},
   "source": [
    "SFT"
   ]
  },
  {
   "cell_type": "code",
   "execution_count": 2,
   "id": "f2caf99b",
   "metadata": {},
   "outputs": [
    {
     "data": {
      "text/html": [
       "<div>\n",
       "<style scoped>\n",
       "    .dataframe tbody tr th:only-of-type {\n",
       "        vertical-align: middle;\n",
       "    }\n",
       "\n",
       "    .dataframe tbody tr th {\n",
       "        vertical-align: top;\n",
       "    }\n",
       "\n",
       "    .dataframe thead th {\n",
       "        text-align: right;\n",
       "    }\n",
       "</style>\n",
       "<table border=\"1\" class=\"dataframe\">\n",
       "  <thead>\n",
       "    <tr style=\"text-align: right;\">\n",
       "      <th></th>\n",
       "      <th>question</th>\n",
       "      <th>ref_answer</th>\n",
       "      <th>response</th>\n",
       "    </tr>\n",
       "  </thead>\n",
       "  <tbody>\n",
       "    <tr>\n",
       "      <th>0</th>\n",
       "      <td>What is The name of the contract?</td>\n",
       "      <td>STRATEGIC ALLIANCE AGREEMENT</td>\n",
       "      <td>STRATEGIC ALLIANCE AGREEMENT</td>\n",
       "    </tr>\n",
       "    <tr>\n",
       "      <th>1</th>\n",
       "      <td>What is The two or more parties who signed the...</td>\n",
       "      <td>Dialog Semiconductor (UK) Ltd., DIALOG, Energo...</td>\n",
       "      <td>DIALOG SEMICONDUCTOR (PENANG) SDN BHD, DIALOG ...</td>\n",
       "    </tr>\n",
       "    <tr>\n",
       "      <th>2</th>\n",
       "      <td>What is The date of the contract?</td>\n",
       "      <td>November 6, 2016</td>\n",
       "      <td>October 1, 2016</td>\n",
       "    </tr>\n",
       "    <tr>\n",
       "      <th>3</th>\n",
       "      <td>What is The date when the contract is effective?</td>\n",
       "      <td>November 6, 2016</td>\n",
       "      <td>November 6, 2016</td>\n",
       "    </tr>\n",
       "    <tr>\n",
       "      <th>4</th>\n",
       "      <td>On what date will the contract's initial term ...</td>\n",
       "      <td>Unless earlier terminated as provided herein, ...</td>\n",
       "      <td>Unless earlier terminated as provided herein, ...</td>\n",
       "    </tr>\n",
       "  </tbody>\n",
       "</table>\n",
       "</div>"
      ],
      "text/plain": [
       "                                            question  \\\n",
       "0                  What is The name of the contract?   \n",
       "1  What is The two or more parties who signed the...   \n",
       "2                  What is The date of the contract?   \n",
       "3   What is The date when the contract is effective?   \n",
       "4  On what date will the contract's initial term ...   \n",
       "\n",
       "                                          ref_answer  \\\n",
       "0                       STRATEGIC ALLIANCE AGREEMENT   \n",
       "1  Dialog Semiconductor (UK) Ltd., DIALOG, Energo...   \n",
       "2                                   November 6, 2016   \n",
       "3                                   November 6, 2016   \n",
       "4  Unless earlier terminated as provided herein, ...   \n",
       "\n",
       "                                            response  \n",
       "0                       STRATEGIC ALLIANCE AGREEMENT  \n",
       "1  DIALOG SEMICONDUCTOR (PENANG) SDN BHD, DIALOG ...  \n",
       "2                                    October 1, 2016  \n",
       "3                                   November 6, 2016  \n",
       "4  Unless earlier terminated as provided herein, ...  "
      ]
     },
     "execution_count": 2,
     "metadata": {},
     "output_type": "execute_result"
    }
   ],
   "source": [
    "SFT_RESULTS = 'sft_trn_full_result.csv'\n",
    "df_sft_data = pd.read_csv(SFT_RESULTS)\n",
    "df_sft_data[:][[\"question\", \"ref_answer\", \"response\"]].head()"
   ]
  },
  {
   "cell_type": "markdown",
   "id": "e9f6138f",
   "metadata": {},
   "source": [
    "DPO"
   ]
  },
  {
   "cell_type": "code",
   "execution_count": 3,
   "id": "5a83b631",
   "metadata": {},
   "outputs": [
    {
     "data": {
      "text/html": [
       "<div>\n",
       "<style scoped>\n",
       "    .dataframe tbody tr th:only-of-type {\n",
       "        vertical-align: middle;\n",
       "    }\n",
       "\n",
       "    .dataframe tbody tr th {\n",
       "        vertical-align: top;\n",
       "    }\n",
       "\n",
       "    .dataframe thead th {\n",
       "        text-align: right;\n",
       "    }\n",
       "</style>\n",
       "<table border=\"1\" class=\"dataframe\">\n",
       "  <thead>\n",
       "    <tr style=\"text-align: right;\">\n",
       "      <th></th>\n",
       "      <th>question</th>\n",
       "      <th>ref_answer</th>\n",
       "      <th>response</th>\n",
       "      <th>semantic_similarity</th>\n",
       "      <th>token_overlap_recall</th>\n",
       "      <th>rouge_l_recall</th>\n",
       "    </tr>\n",
       "  </thead>\n",
       "  <tbody>\n",
       "    <tr>\n",
       "      <th>0</th>\n",
       "      <td>What is The name of the contract?</td>\n",
       "      <td>STRATEGIC ALLIANCE AGREEMENT</td>\n",
       "      <td>STRATEGIC ALLIANCE AGREEMENT</td>\n",
       "      <td>1.000000</td>\n",
       "      <td>1.000000</td>\n",
       "      <td>1.000000</td>\n",
       "    </tr>\n",
       "    <tr>\n",
       "      <th>1</th>\n",
       "      <td>What is The two or more parties who signed the...</td>\n",
       "      <td>Dialog Semiconductor (UK) Ltd., DIALOG, Energo...</td>\n",
       "      <td>Dialog Semiconductor (UK) Ltd., DIALOG, Energo...</td>\n",
       "      <td>1.000000</td>\n",
       "      <td>0.750000</td>\n",
       "      <td>1.000000</td>\n",
       "    </tr>\n",
       "    <tr>\n",
       "      <th>2</th>\n",
       "      <td>What is The date of the contract?</td>\n",
       "      <td>November 6, 2016</td>\n",
       "      <td>2016, October 1</td>\n",
       "      <td>0.267889</td>\n",
       "      <td>0.333333</td>\n",
       "      <td>0.000000</td>\n",
       "    </tr>\n",
       "    <tr>\n",
       "      <th>3</th>\n",
       "      <td>What is The date when the contract is effective?</td>\n",
       "      <td>November 6, 2016</td>\n",
       "      <td>May 6, 2016</td>\n",
       "      <td>0.306074</td>\n",
       "      <td>0.666667</td>\n",
       "      <td>0.666667</td>\n",
       "    </tr>\n",
       "    <tr>\n",
       "      <th>4</th>\n",
       "      <td>On what date will the contract's initial term ...</td>\n",
       "      <td>Unless earlier terminated as provided herein, ...</td>\n",
       "      <td>7 years after the Effective Date, and thereaft...</td>\n",
       "      <td>0.629246</td>\n",
       "      <td>0.450000</td>\n",
       "      <td>0.370370</td>\n",
       "    </tr>\n",
       "  </tbody>\n",
       "</table>\n",
       "</div>"
      ],
      "text/plain": [
       "                                            question  \\\n",
       "0                  What is The name of the contract?   \n",
       "1  What is The two or more parties who signed the...   \n",
       "2                  What is The date of the contract?   \n",
       "3   What is The date when the contract is effective?   \n",
       "4  On what date will the contract's initial term ...   \n",
       "\n",
       "                                          ref_answer  \\\n",
       "0                       STRATEGIC ALLIANCE AGREEMENT   \n",
       "1  Dialog Semiconductor (UK) Ltd., DIALOG, Energo...   \n",
       "2                                   November 6, 2016   \n",
       "3                                   November 6, 2016   \n",
       "4  Unless earlier terminated as provided herein, ...   \n",
       "\n",
       "                                            response  semantic_similarity  \\\n",
       "0                       STRATEGIC ALLIANCE AGREEMENT             1.000000   \n",
       "1  Dialog Semiconductor (UK) Ltd., DIALOG, Energo...             1.000000   \n",
       "2                                    2016, October 1             0.267889   \n",
       "3                                        May 6, 2016             0.306074   \n",
       "4  7 years after the Effective Date, and thereaft...             0.629246   \n",
       "\n",
       "   token_overlap_recall  rouge_l_recall  \n",
       "0              1.000000        1.000000  \n",
       "1              0.750000        1.000000  \n",
       "2              0.333333        0.000000  \n",
       "3              0.666667        0.666667  \n",
       "4              0.450000        0.370370  "
      ]
     },
     "execution_count": 3,
     "metadata": {},
     "output_type": "execute_result"
    }
   ],
   "source": [
    "DPO_RESULTS = 'dpo_trn_full_result.csv'\n",
    "df_dpo_data = pd.read_csv(DPO_RESULTS)\n",
    "df_dpo_data.head()"
   ]
  },
  {
   "cell_type": "markdown",
   "id": "148827ed",
   "metadata": {},
   "source": [
    "ORPO"
   ]
  },
  {
   "cell_type": "code",
   "execution_count": 4,
   "id": "a650ac78",
   "metadata": {},
   "outputs": [
    {
     "data": {
      "text/html": [
       "<div>\n",
       "<style scoped>\n",
       "    .dataframe tbody tr th:only-of-type {\n",
       "        vertical-align: middle;\n",
       "    }\n",
       "\n",
       "    .dataframe tbody tr th {\n",
       "        vertical-align: top;\n",
       "    }\n",
       "\n",
       "    .dataframe thead th {\n",
       "        text-align: right;\n",
       "    }\n",
       "</style>\n",
       "<table border=\"1\" class=\"dataframe\">\n",
       "  <thead>\n",
       "    <tr style=\"text-align: right;\">\n",
       "      <th></th>\n",
       "      <th>question</th>\n",
       "      <th>ref_answer</th>\n",
       "      <th>response</th>\n",
       "      <th>semantic_similarity</th>\n",
       "      <th>token_overlap_recall</th>\n",
       "      <th>rouge_l_recall</th>\n",
       "    </tr>\n",
       "  </thead>\n",
       "  <tbody>\n",
       "    <tr>\n",
       "      <th>0</th>\n",
       "      <td>What is The name of the contract?</td>\n",
       "      <td>STRATEGIC ALLIANCE AGREEMENT</td>\n",
       "      <td>STRATEGIC ALLIANCE AGREEMENT</td>\n",
       "      <td>1.000000</td>\n",
       "      <td>1.000000</td>\n",
       "      <td>1.000000</td>\n",
       "    </tr>\n",
       "    <tr>\n",
       "      <th>1</th>\n",
       "      <td>What is The two or more parties who signed the...</td>\n",
       "      <td>Dialog Semiconductor (UK) Ltd., DIALOG, Energo...</td>\n",
       "      <td>Dialog Semiconductor (UK) Ltd., DIALOG, Energo...</td>\n",
       "      <td>1.000000</td>\n",
       "      <td>0.750000</td>\n",
       "      <td>1.000000</td>\n",
       "    </tr>\n",
       "    <tr>\n",
       "      <th>2</th>\n",
       "      <td>What is The date of the contract?</td>\n",
       "      <td>November 6, 2016</td>\n",
       "      <td>2016, October 1</td>\n",
       "      <td>0.267889</td>\n",
       "      <td>0.333333</td>\n",
       "      <td>0.000000</td>\n",
       "    </tr>\n",
       "    <tr>\n",
       "      <th>3</th>\n",
       "      <td>What is The date when the contract is effective?</td>\n",
       "      <td>November 6, 2016</td>\n",
       "      <td>May 6, 2016</td>\n",
       "      <td>0.306074</td>\n",
       "      <td>0.666667</td>\n",
       "      <td>0.666667</td>\n",
       "    </tr>\n",
       "    <tr>\n",
       "      <th>4</th>\n",
       "      <td>On what date will the contract's initial term ...</td>\n",
       "      <td>Unless earlier terminated as provided herein, ...</td>\n",
       "      <td>7 years after the Effective Date, and thereaft...</td>\n",
       "      <td>0.629246</td>\n",
       "      <td>0.450000</td>\n",
       "      <td>0.370370</td>\n",
       "    </tr>\n",
       "  </tbody>\n",
       "</table>\n",
       "</div>"
      ],
      "text/plain": [
       "                                            question  \\\n",
       "0                  What is The name of the contract?   \n",
       "1  What is The two or more parties who signed the...   \n",
       "2                  What is The date of the contract?   \n",
       "3   What is The date when the contract is effective?   \n",
       "4  On what date will the contract's initial term ...   \n",
       "\n",
       "                                          ref_answer  \\\n",
       "0                       STRATEGIC ALLIANCE AGREEMENT   \n",
       "1  Dialog Semiconductor (UK) Ltd., DIALOG, Energo...   \n",
       "2                                   November 6, 2016   \n",
       "3                                   November 6, 2016   \n",
       "4  Unless earlier terminated as provided herein, ...   \n",
       "\n",
       "                                            response  semantic_similarity  \\\n",
       "0                       STRATEGIC ALLIANCE AGREEMENT             1.000000   \n",
       "1  Dialog Semiconductor (UK) Ltd., DIALOG, Energo...             1.000000   \n",
       "2                                    2016, October 1             0.267889   \n",
       "3                                        May 6, 2016             0.306074   \n",
       "4  7 years after the Effective Date, and thereaft...             0.629246   \n",
       "\n",
       "   token_overlap_recall  rouge_l_recall  \n",
       "0              1.000000        1.000000  \n",
       "1              0.750000        1.000000  \n",
       "2              0.333333        0.000000  \n",
       "3              0.666667        0.666667  \n",
       "4              0.450000        0.370370  "
      ]
     },
     "execution_count": 4,
     "metadata": {},
     "output_type": "execute_result"
    }
   ],
   "source": [
    "ORPO_RESULTS = 'orpo_trn_full_result.csv'\n",
    "df_orpo_data = pd.read_csv(ORPO_RESULTS)\n",
    "df_orpo_data.head()"
   ]
  },
  {
   "cell_type": "markdown",
   "id": "af185395",
   "metadata": {},
   "source": [
    "### RAG generator model by foundation models on Bedrock"
   ]
  },
  {
   "cell_type": "markdown",
   "id": "9297c4bb",
   "metadata": {},
   "source": [
    "RAG with Claude Haiku for generator model (generated from the notebook dspy_rag_compile.ipynb)"
   ]
  },
  {
   "cell_type": "code",
   "execution_count": 5,
   "id": "89b826ff",
   "metadata": {},
   "outputs": [
    {
     "data": {
      "text/html": [
       "<div>\n",
       "<style scoped>\n",
       "    .dataframe tbody tr th:only-of-type {\n",
       "        vertical-align: middle;\n",
       "    }\n",
       "\n",
       "    .dataframe tbody tr th {\n",
       "        vertical-align: top;\n",
       "    }\n",
       "\n",
       "    .dataframe thead th {\n",
       "        text-align: right;\n",
       "    }\n",
       "</style>\n",
       "<table border=\"1\" class=\"dataframe\">\n",
       "  <thead>\n",
       "    <tr style=\"text-align: right;\">\n",
       "      <th></th>\n",
       "      <th>question</th>\n",
       "      <th>ref_answer</th>\n",
       "      <th>response</th>\n",
       "    </tr>\n",
       "  </thead>\n",
       "  <tbody>\n",
       "    <tr>\n",
       "      <th>0</th>\n",
       "      <td>What is The name of the contract?</td>\n",
       "      <td>STRATEGIC ALLIANCE AGREEMENT</td>\n",
       "      <td>The name of the contract is not provided in th...</td>\n",
       "    </tr>\n",
       "    <tr>\n",
       "      <th>1</th>\n",
       "      <td>What is The two or more parties who signed the...</td>\n",
       "      <td>Dialog Semiconductor (UK) Ltd., DIALOG, Energo...</td>\n",
       "      <td>According to the context, the two parties who ...</td>\n",
       "    </tr>\n",
       "    <tr>\n",
       "      <th>2</th>\n",
       "      <td>What is The date of the contract?</td>\n",
       "      <td>November 6, 2016</td>\n",
       "      <td>The context does not explicitly state the date...</td>\n",
       "    </tr>\n",
       "    <tr>\n",
       "      <th>3</th>\n",
       "      <td>What is The date when the contract is effective?</td>\n",
       "      <td>November 6, 2016</td>\n",
       "      <td>The Effective Date</td>\n",
       "    </tr>\n",
       "    <tr>\n",
       "      <th>4</th>\n",
       "      <td>On what date will the contract's initial term ...</td>\n",
       "      <td>Unless earlier terminated as provided herein, ...</td>\n",
       "      <td>Answer: 7 years\\n\\nReasoning: According to the...</td>\n",
       "    </tr>\n",
       "  </tbody>\n",
       "</table>\n",
       "</div>"
      ],
      "text/plain": [
       "                                            question  \\\n",
       "0                  What is The name of the contract?   \n",
       "1  What is The two or more parties who signed the...   \n",
       "2                  What is The date of the contract?   \n",
       "3   What is The date when the contract is effective?   \n",
       "4  On what date will the contract's initial term ...   \n",
       "\n",
       "                                          ref_answer  \\\n",
       "0                       STRATEGIC ALLIANCE AGREEMENT   \n",
       "1  Dialog Semiconductor (UK) Ltd., DIALOG, Energo...   \n",
       "2                                   November 6, 2016   \n",
       "3                                   November 6, 2016   \n",
       "4  Unless earlier terminated as provided herein, ...   \n",
       "\n",
       "                                            response  \n",
       "0  The name of the contract is not provided in th...  \n",
       "1  According to the context, the two parties who ...  \n",
       "2  The context does not explicitly state the date...  \n",
       "3                                 The Effective Date  \n",
       "4  Answer: 7 years\\n\\nReasoning: According to the...  "
      ]
     },
     "execution_count": 5,
     "metadata": {},
     "output_type": "execute_result"
    }
   ],
   "source": [
    "RAG_HAIKU_RESULTS = 'rag_haiku_results_2.csv'\n",
    "df_rag_haiku_data = pd.read_csv(RAG_HAIKU_RESULTS)\n",
    "df_rag_haiku_data.head()"
   ]
  },
  {
   "cell_type": "markdown",
   "id": "318193ed",
   "metadata": {},
   "source": [
    "RAG with Claude 3 Haiku for generator model, optimize by DSPy (generated from the notebook dspy_rag_compile.ipynb)"
   ]
  },
  {
   "cell_type": "code",
   "execution_count": 6,
   "id": "5ce27f1b",
   "metadata": {},
   "outputs": [
    {
     "data": {
      "text/html": [
       "<div>\n",
       "<style scoped>\n",
       "    .dataframe tbody tr th:only-of-type {\n",
       "        vertical-align: middle;\n",
       "    }\n",
       "\n",
       "    .dataframe tbody tr th {\n",
       "        vertical-align: top;\n",
       "    }\n",
       "\n",
       "    .dataframe thead th {\n",
       "        text-align: right;\n",
       "    }\n",
       "</style>\n",
       "<table border=\"1\" class=\"dataframe\">\n",
       "  <thead>\n",
       "    <tr style=\"text-align: right;\">\n",
       "      <th></th>\n",
       "      <th>question</th>\n",
       "      <th>ref_answer</th>\n",
       "      <th>response</th>\n",
       "    </tr>\n",
       "  </thead>\n",
       "  <tbody>\n",
       "    <tr>\n",
       "      <th>0</th>\n",
       "      <td>What is The name of the contract?</td>\n",
       "      <td>STRATEGIC ALLIANCE AGREEMENT</td>\n",
       "      <td>The context does not explicitly state the name...</td>\n",
       "    </tr>\n",
       "    <tr>\n",
       "      <th>1</th>\n",
       "      <td>What is The two or more parties who signed the...</td>\n",
       "      <td>Dialog Semiconductor (UK) Ltd., DIALOG, Energo...</td>\n",
       "      <td>The two parties who signed the contract are:\\n...</td>\n",
       "    </tr>\n",
       "    <tr>\n",
       "      <th>2</th>\n",
       "      <td>What is The date of the contract?</td>\n",
       "      <td>November 6, 2016</td>\n",
       "      <td>The effective date of the contract is November...</td>\n",
       "    </tr>\n",
       "    <tr>\n",
       "      <th>3</th>\n",
       "      <td>What is The date when the contract is effective?</td>\n",
       "      <td>November 6, 2016</td>\n",
       "      <td>The effective date of the contract is November...</td>\n",
       "    </tr>\n",
       "    <tr>\n",
       "      <th>4</th>\n",
       "      <td>On what date will the contract's initial term ...</td>\n",
       "      <td>Unless earlier terminated as provided herein, ...</td>\n",
       "      <td>The initial term of the contract will expire 7...</td>\n",
       "    </tr>\n",
       "  </tbody>\n",
       "</table>\n",
       "</div>"
      ],
      "text/plain": [
       "                                            question  \\\n",
       "0                  What is The name of the contract?   \n",
       "1  What is The two or more parties who signed the...   \n",
       "2                  What is The date of the contract?   \n",
       "3   What is The date when the contract is effective?   \n",
       "4  On what date will the contract's initial term ...   \n",
       "\n",
       "                                          ref_answer  \\\n",
       "0                       STRATEGIC ALLIANCE AGREEMENT   \n",
       "1  Dialog Semiconductor (UK) Ltd., DIALOG, Energo...   \n",
       "2                                   November 6, 2016   \n",
       "3                                   November 6, 2016   \n",
       "4  Unless earlier terminated as provided herein, ...   \n",
       "\n",
       "                                            response  \n",
       "0  The context does not explicitly state the name...  \n",
       "1  The two parties who signed the contract are:\\n...  \n",
       "2  The effective date of the contract is November...  \n",
       "3  The effective date of the contract is November...  \n",
       "4  The initial term of the contract will expire 7...  "
      ]
     },
     "execution_count": 6,
     "metadata": {},
     "output_type": "execute_result"
    }
   ],
   "source": [
    "RAG_HAIKU_COMPILED_RESULTS = 'ragc_haiku_results_2.csv'\n",
    "df_ragc_haiku_data = pd.read_csv(RAG_HAIKU_COMPILED_RESULTS)\n",
    "df_ragc_haiku_data.head()"
   ]
  },
  {
   "cell_type": "markdown",
   "id": "237ac589",
   "metadata": {},
   "source": [
    "RAG with Claude 3 Sonnet for generator model (generated from the notebook dspy_rag_compile.ipynb)"
   ]
  },
  {
   "cell_type": "code",
   "execution_count": 7,
   "id": "880ee83c",
   "metadata": {},
   "outputs": [
    {
     "data": {
      "text/html": [
       "<div>\n",
       "<style scoped>\n",
       "    .dataframe tbody tr th:only-of-type {\n",
       "        vertical-align: middle;\n",
       "    }\n",
       "\n",
       "    .dataframe tbody tr th {\n",
       "        vertical-align: top;\n",
       "    }\n",
       "\n",
       "    .dataframe thead th {\n",
       "        text-align: right;\n",
       "    }\n",
       "</style>\n",
       "<table border=\"1\" class=\"dataframe\">\n",
       "  <thead>\n",
       "    <tr style=\"text-align: right;\">\n",
       "      <th></th>\n",
       "      <th>question</th>\n",
       "      <th>ref_answer</th>\n",
       "      <th>response</th>\n",
       "    </tr>\n",
       "  </thead>\n",
       "  <tbody>\n",
       "    <tr>\n",
       "      <th>0</th>\n",
       "      <td>What is The name of the contract?</td>\n",
       "      <td>STRATEGIC ALLIANCE AGREEMENT</td>\n",
       "      <td>This appears to be an agreement between Energo...</td>\n",
       "    </tr>\n",
       "    <tr>\n",
       "      <th>1</th>\n",
       "      <td>What is The two or more parties who signed the...</td>\n",
       "      <td>Dialog Semiconductor (UK) Ltd., DIALOG, Energo...</td>\n",
       "      <td>Energous Corporation, Dialog Semiconductor (UK...</td>\n",
       "    </tr>\n",
       "    <tr>\n",
       "      <th>2</th>\n",
       "      <td>What is The date of the contract?</td>\n",
       "      <td>November 6, 2016</td>\n",
       "      <td>The contract does not explicitly state the dat...</td>\n",
       "    </tr>\n",
       "    <tr>\n",
       "      <th>3</th>\n",
       "      <td>What is The date when the contract is effective?</td>\n",
       "      <td>November 6, 2016</td>\n",
       "      <td>The Effective Date</td>\n",
       "    </tr>\n",
       "    <tr>\n",
       "      <th>4</th>\n",
       "      <td>On what date will the contract's initial term ...</td>\n",
       "      <td>Unless earlier terminated as provided herein, ...</td>\n",
       "      <td>7 years</td>\n",
       "    </tr>\n",
       "  </tbody>\n",
       "</table>\n",
       "</div>"
      ],
      "text/plain": [
       "                                            question  \\\n",
       "0                  What is The name of the contract?   \n",
       "1  What is The two or more parties who signed the...   \n",
       "2                  What is The date of the contract?   \n",
       "3   What is The date when the contract is effective?   \n",
       "4  On what date will the contract's initial term ...   \n",
       "\n",
       "                                          ref_answer  \\\n",
       "0                       STRATEGIC ALLIANCE AGREEMENT   \n",
       "1  Dialog Semiconductor (UK) Ltd., DIALOG, Energo...   \n",
       "2                                   November 6, 2016   \n",
       "3                                   November 6, 2016   \n",
       "4  Unless earlier terminated as provided herein, ...   \n",
       "\n",
       "                                            response  \n",
       "0  This appears to be an agreement between Energo...  \n",
       "1  Energous Corporation, Dialog Semiconductor (UK...  \n",
       "2  The contract does not explicitly state the dat...  \n",
       "3                                 The Effective Date  \n",
       "4                                            7 years  "
      ]
     },
     "execution_count": 7,
     "metadata": {},
     "output_type": "execute_result"
    }
   ],
   "source": [
    "RAG_SONNET_RESULTS = 'rag_sonnet_results_2.csv'\n",
    "df_rag_sonnet_data = pd.read_csv(RAG_SONNET_RESULTS)\n",
    "df_rag_sonnet_data.head()"
   ]
  },
  {
   "cell_type": "markdown",
   "id": "9323a332",
   "metadata": {},
   "source": [
    "RAG with Claude 3 Sonnet for generator model, optimize by DSPy (generated from the notebook dspy_rag_compile.ipynb)"
   ]
  },
  {
   "cell_type": "code",
   "execution_count": 8,
   "id": "af4556d8",
   "metadata": {},
   "outputs": [
    {
     "data": {
      "text/html": [
       "<div>\n",
       "<style scoped>\n",
       "    .dataframe tbody tr th:only-of-type {\n",
       "        vertical-align: middle;\n",
       "    }\n",
       "\n",
       "    .dataframe tbody tr th {\n",
       "        vertical-align: top;\n",
       "    }\n",
       "\n",
       "    .dataframe thead th {\n",
       "        text-align: right;\n",
       "    }\n",
       "</style>\n",
       "<table border=\"1\" class=\"dataframe\">\n",
       "  <thead>\n",
       "    <tr style=\"text-align: right;\">\n",
       "      <th></th>\n",
       "      <th>question</th>\n",
       "      <th>ref_answer</th>\n",
       "      <th>response</th>\n",
       "    </tr>\n",
       "  </thead>\n",
       "  <tbody>\n",
       "    <tr>\n",
       "      <th>0</th>\n",
       "      <td>What is The name of the contract?</td>\n",
       "      <td>STRATEGIC ALLIANCE AGREEMENT</td>\n",
       "      <td>Unfortunately, the name or title of the contra...</td>\n",
       "    </tr>\n",
       "    <tr>\n",
       "      <th>1</th>\n",
       "      <td>What is The two or more parties who signed the...</td>\n",
       "      <td>Dialog Semiconductor (UK) Ltd., DIALOG, Energo...</td>\n",
       "      <td>The two parties that signed the contract are:\\...</td>\n",
       "    </tr>\n",
       "    <tr>\n",
       "      <th>2</th>\n",
       "      <td>What is The date of the contract?</td>\n",
       "      <td>November 6, 2016</td>\n",
       "      <td>Unfortunately, the specific date of the contra...</td>\n",
       "    </tr>\n",
       "    <tr>\n",
       "      <th>3</th>\n",
       "      <td>What is The date when the contract is effective?</td>\n",
       "      <td>November 6, 2016</td>\n",
       "      <td>Unfortunately, the effective date of the contr...</td>\n",
       "    </tr>\n",
       "    <tr>\n",
       "      <th>4</th>\n",
       "      <td>On what date will the contract's initial term ...</td>\n",
       "      <td>Unless earlier terminated as provided herein, ...</td>\n",
       "      <td>The contract does not specify an exact date fo...</td>\n",
       "    </tr>\n",
       "  </tbody>\n",
       "</table>\n",
       "</div>"
      ],
      "text/plain": [
       "                                            question  \\\n",
       "0                  What is The name of the contract?   \n",
       "1  What is The two or more parties who signed the...   \n",
       "2                  What is The date of the contract?   \n",
       "3   What is The date when the contract is effective?   \n",
       "4  On what date will the contract's initial term ...   \n",
       "\n",
       "                                          ref_answer  \\\n",
       "0                       STRATEGIC ALLIANCE AGREEMENT   \n",
       "1  Dialog Semiconductor (UK) Ltd., DIALOG, Energo...   \n",
       "2                                   November 6, 2016   \n",
       "3                                   November 6, 2016   \n",
       "4  Unless earlier terminated as provided herein, ...   \n",
       "\n",
       "                                            response  \n",
       "0  Unfortunately, the name or title of the contra...  \n",
       "1  The two parties that signed the contract are:\\...  \n",
       "2  Unfortunately, the specific date of the contra...  \n",
       "3  Unfortunately, the effective date of the contr...  \n",
       "4  The contract does not specify an exact date fo...  "
      ]
     },
     "execution_count": 8,
     "metadata": {},
     "output_type": "execute_result"
    }
   ],
   "source": [
    "RAG_SONNET_COMPILED_RESULTS = 'ragc_sonnet_results_2.csv'\n",
    "df_ragc_sonnet_data = pd.read_csv(RAG_SONNET_COMPILED_RESULTS)\n",
    "df_ragc_sonnet_data.head()"
   ]
  },
  {
   "cell_type": "markdown",
   "id": "9823156f",
   "metadata": {},
   "source": [
    "### Evaluation method 1: LLM-as-a-judge with True/False as score"
   ]
  },
  {
   "cell_type": "markdown",
   "id": "e6055310",
   "metadata": {},
   "source": [
    "Setup Claude and Meta models on Bedrock for LLM-as-a-judge"
   ]
  },
  {
   "cell_type": "code",
   "execution_count": 9,
   "id": "0c00e188",
   "metadata": {},
   "outputs": [],
   "source": [
    "dsp_bedrock = dspy.Bedrock(region_name='us-west-2')\n",
    "\n",
    "claude_sonnet_model_id = \"anthropic.claude-3-sonnet-20240229-v1:0\"\n",
    "clade_haiku_model_id = \"anthropic.claude-3-haiku-20240307-v1:0\"\n",
    "llama_model_id = \"us.meta.llama3-2-90b-instruct-v1:0\"\n",
    "\n",
    "bedrock_sonnet = dspy.AWSAnthropic(aws_provider=dsp_bedrock,\n",
    "                                  model=claude_sonnet_model_id,\n",
    "                                  max_new_tokens=4096,\n",
    "                                  max_tokens=4096)\n",
    "\n",
    "bedrock_haiku = dspy.AWSAnthropic(aws_provider=dsp_bedrock,\n",
    "                                 model=clade_haiku_model_id,\n",
    "                                 max_new_tokens=4096,\n",
    "                                 max_tokens=4096)\n",
    "\n",
    "bedrock_llama = dspy.AWSMeta(aws_provider=dsp_bedrock, \n",
    "                             model=llama_model_id, \n",
    "                             max_new_tokens=2048,\n",
    "                             max_tokens=2048)"
   ]
  },
  {
   "cell_type": "code",
   "execution_count": 10,
   "id": "a15d2962",
   "metadata": {},
   "outputs": [],
   "source": [
    "dspy.settings.configure(lm=bedrock_sonnet, temperature=0.1)"
   ]
  },
  {
   "cell_type": "markdown",
   "id": "4bf51e80-b959-4f50-afb2-be015203db56",
   "metadata": {},
   "source": [
    "Define the LLM judge class: eval = True/False"
   ]
  },
  {
   "cell_type": "code",
   "execution_count": 11,
   "id": "c66cde85-90bd-460d-83d4-948e784241ff",
   "metadata": {
    "tags": []
   },
   "outputs": [],
   "source": [
    "class FactualityJudge_0(dspy.Signature):\n",
    "    \"\"\"Judge if the predicted answer is factually correct and similar to the groundtruth answer. Only provide 'True' or 'False' in the response.\"\"\"\n",
    "\n",
    "    groundtruth_answer = dspy.InputField(desc=\"groundtruth answer\", format=str)\n",
    "    predicted_answer = dspy.InputField(desc=\"predicted answer\", format=str)\n",
    "    factually_correct = dspy.OutputField(desc=\"Is the predicted answer factually correct and semantically similar to the groundtruth answer?\", format=str) #, prefix=\"Factual[True/False]:\")\n"
   ]
  },
  {
   "cell_type": "code",
   "execution_count": 12,
   "id": "27bd330c-3dca-466a-a36f-156dbd596c00",
   "metadata": {},
   "outputs": [],
   "source": [
    "factualityJudge_0 = dspy.ChainOfThought(FactualityJudge_0)"
   ]
  },
  {
   "cell_type": "markdown",
   "id": "0059ef73-7255-4385-a3fb-6e067801dce2",
   "metadata": {},
   "source": [
    "Define the factuality metric for DSPy evaluate to run through LLM response/answer, and use LLM judge to generate evaluation metrics"
   ]
  },
  {
   "cell_type": "code",
   "execution_count": 13,
   "id": "f43b823e-fda3-46aa-bee0-61d1703a46d1",
   "metadata": {
    "tags": []
   },
   "outputs": [],
   "source": [
    "def factuality_metric_0(gt_answer, pred_answer):\n",
    "    #print(f\" type(gt_answer) :: {type(gt_answer)}\")\n",
    "    pred_answer = gt_answer.pred_answer\n",
    "    gt_answer = gt_answer.gt_answer\n",
    "        \n",
    "        \n",
    "    factual_metrc = factualityJudge_0(groundtruth_answer=gt_answer, predicted_answer=pred_answer), \n",
    "    '''\n",
    "    #debug\n",
    "    print(f\"\\n factual LLM judge  >>>>>>>> {factual_metrc}\")\n",
    "    print(f\"\\n factual LLM judge  >>>>>>>> {factual_metrc[0].factually_correct}\")\n",
    "    print(f\"\\n gt_answer  >>>>>>>  {gt_answer}\")\n",
    "    print(f\"\\n pred_answer  >>>>>>> {pred_answer}\")\n",
    "    '''\n",
    "    llm_judge_ans = bool(\"Factual[True]\" in factual_metrc[0].factually_correct or factual_metrc[0].factually_correct=='True') #or \"correct\" in factual.factually_correct.lower()\n",
    "    print(f\"llm_judge_ans = {llm_judge_ans}\")\n",
    "    return llm_judge_ans"
   ]
  },
  {
   "cell_type": "code",
   "execution_count": 14,
   "id": "7e7bc537-deb9-4241-8e7a-26ed43a56255",
   "metadata": {},
   "outputs": [],
   "source": [
    "metric_LLM_0 = factuality_metric_0"
   ]
  },
  {
   "cell_type": "markdown",
   "id": "d8e51145-bb7b-45a7-b380-b25a2142ea13",
   "metadata": {},
   "source": [
    "LLM Judge class to generate the answer and factual consistency"
   ]
  },
  {
   "cell_type": "code",
   "execution_count": 15,
   "id": "88774a1b-4b63-4a67-8f53-eac416b31b66",
   "metadata": {
    "tags": []
   },
   "outputs": [],
   "source": [
    "class LLMJudge_0(dspy.Module):\n",
    "    def __init__(self):\n",
    "        super().__init__()\n",
    "        self.generate_answer = dspy.ChainOfThought(FactualityJudge_0)\n",
    "    \n",
    "    def forward(self, gt_answer, pred_answer):\n",
    "        '''\n",
    "        print(f\"LLMJudge_0 gt_answer ----- {gt_answer}\")\n",
    "        print(f\"LLMJudge_0 pred_answer ----- {pred_answer}\")\n",
    "        '''\n",
    "        factual = self.generate_answer(groundtruth_answer=gt_answer, predicted_answer=pred_answer)\n",
    "        #gprint(f\"LLMJudge_0 factual ----- {factual}\")\n",
    "        #llm_judge_ans = factual.factually_correct\n",
    "        \n",
    "        llm_judge_ans = bool(\"Factual[True]\" in factual.factually_correct \n",
    "                         or '100% True' in factual.factually_correct\n",
    "                         or '100% factually correct' in factual.factually_correct\n",
    "                         or 'True' in factual.factually_correct    \n",
    "                         or factual.factually_correct=='True') #or \"correct\" in factual.factually_correct.lower()\n",
    "        return llm_judge_ans"
   ]
  },
  {
   "cell_type": "code",
   "execution_count": 16,
   "id": "11f03a93-17b2-4f1b-8c4b-0cd8700adbbb",
   "metadata": {},
   "outputs": [],
   "source": [
    "llm_judge_0 = LLMJudge_0()"
   ]
  },
  {
   "cell_type": "markdown",
   "id": "4fef38f6",
   "metadata": {},
   "source": [
    "Convert dataset into dspy format "
   ]
  },
  {
   "cell_type": "code",
   "execution_count": 17,
   "id": "f5f40fce-3c99-43f8-aad8-2f2346dca023",
   "metadata": {},
   "outputs": [],
   "source": [
    "def generate_dspy_example_dataset(df):\n",
    "    dataset_dspy_data = []\n",
    "\n",
    "    for question, gt_answer, pred_answer in df[:][[\"question\", \"ref_answer\", \"response\"]].values:\n",
    "        '''\n",
    "        print(f\"question >>>>>>> {question}\")\n",
    "        print(f\"gt_answer >>>>>>> {gt_answer}\")\n",
    "        print(f\"pred_answer >>>>>>> {pred_answer}\")\n",
    "        '''\n",
    "        dataset_dspy_data.append(dspy.Example(gt_answer=gt_answer, pred_answer=pred_answer).with_inputs(\"gt_answer\", \"pred_answer\"))\n",
    "\n",
    "    return dataset_dspy_data\n"
   ]
  },
  {
   "cell_type": "markdown",
   "id": "28ae6e9a",
   "metadata": {},
   "source": [
    "Batch evaluation using LLM-Judge class for dataset in dataframe format "
   ]
  },
  {
   "cell_type": "code",
   "execution_count": 18,
   "id": "c5c8f95d",
   "metadata": {},
   "outputs": [],
   "source": [
    "def get_judge_scores_0(test_data):\n",
    "    scores = []\n",
    "\n",
    "    for index, row in test_data.iterrows():\n",
    "        #print(\"=== \",index,\" ===\")\n",
    "        #print(f\"---------------\")\n",
    "        #print(f\"row['ref_answer'] >>>  {row['ref_answer']}\")\n",
    "        #print(f\"row['response'] {row['response']}\")\n",
    "        llm_judge_ans = float(llm_judge_0(row['ref_answer'], row['response']))\n",
    "        #print(f\"llm_judge_ans :: {llm_judge_ans}\")\n",
    "        scores.append(llm_judge_ans)\n",
    "        print(index,':',llm_judge_ans, end='|')\n",
    "\n",
    "    accuracy_score = (sum(bool(score) for score in scores))/len(scores)\n",
    "    \n",
    "    return accuracy_score"
   ]
  },
  {
   "cell_type": "markdown",
   "id": "6094ae6d-0f35-4556-8285-b400d7530cc9",
   "metadata": {},
   "source": [
    "#### LLM judge metrics by dspy "
   ]
  },
  {
   "cell_type": "markdown",
   "id": "136a2d1e-ee91-4aec-8b42-9bfc17d53f2a",
   "metadata": {
    "tags": []
   },
   "source": [
    "Evaluation scores for SFT results by LLM-judge class"
   ]
  },
  {
   "cell_type": "code",
   "execution_count": 19,
   "id": "6efc3d68",
   "metadata": {},
   "outputs": [
    {
     "name": "stderr",
     "output_type": "stream",
     "text": [
      "WARNING:root:\t*** In DSPy 2.5, all LM clients except `dspy.LM` are deprecated, underperform, and are about to be deleted. ***\n",
      " \t\tYou are using the client AWSAnthropic, which will be removed in DSPy 2.6.\n",
      " \t\tChanging the client is straightforward and will let you use new features (Adapters) that improve the consistency of LM outputs, especially when using chat LMs. \n",
      "\n",
      " \t\tLearn more about the changes and how to migrate at\n",
      " \t\thttps://github.com/stanfordnlp/dspy/blob/main/examples/migration.ipynb\n"
     ]
    },
    {
     "name": "stdout",
     "output_type": "stream",
     "text": [
      "0 : 1.0|1 : 0.0|2 : 0.0|3 : 1.0|4 : 1.0|5 : 1.0|6 : 1.0|7 : 1.0|8 : 0.0|9 : 0.0|10 : 0.0|11 : 0.0|12 : 0.0|13 : 0.0|14 : 0.0|15 : 0.0|16 : 1.0|17 : 0.0|18 : 0.0|19 : 0.0|20 : 1.0|21 : 0.0|22 : 1.0|23 : 0.0|24 : 1.0|25 : 0.0|26 : 0.0|27 : 0.0|28 : 1.0|29 : 0.0|30 : 0.0|31 : 0.0|"
     ]
    },
    {
     "data": {
      "text/plain": [
       "0.34375"
      ]
     },
     "execution_count": 19,
     "metadata": {},
     "output_type": "execute_result"
    }
   ],
   "source": [
    "sft_score_0 = get_judge_scores_0(df_sft_data)\n",
    "sft_score_0"
   ]
  },
  {
   "cell_type": "markdown",
   "id": "96246d4d",
   "metadata": {},
   "source": [
    "Evaluation scores for SFT results by dspy"
   ]
  },
  {
   "cell_type": "code",
   "execution_count": 20,
   "id": "d25d88a9-53d5-469e-8c5d-9a6834e2cdcd",
   "metadata": {
    "tags": []
   },
   "outputs": [
    {
     "name": "stdout",
     "output_type": "stream",
     "text": [
      "  0%|          | 0/32 [00:00<?, ?it/s]llm_judge_ans = True\n",
      "Average Metric: 1 / 1  (100.0):   3%|▎         | 1/32 [00:01<00:39,  1.26s/it]llm_judge_ans = False\n",
      "Average Metric: 1 / 2  (50.0):   6%|▋         | 2/32 [00:05<01:34,  3.16s/it] llm_judge_ans = False\n",
      "Average Metric: 1 / 3  (33.3):   9%|▉         | 3/32 [00:06<01:06,  2.28s/it]llm_judge_ans = True\n",
      "Average Metric: 2 / 4  (50.0):  12%|█▎        | 4/32 [00:09<01:04,  2.31s/it]llm_judge_ans = True\n",
      "Average Metric: 3 / 5  (60.0):  16%|█▌        | 5/32 [00:10<00:55,  2.06s/it]llm_judge_ans = True\n",
      "Average Metric: 4 / 6  (66.7):  19%|█▉        | 6/32 [00:12<00:49,  1.89s/it]llm_judge_ans = True\n",
      "Average Metric: 5 / 7  (71.4):  22%|██▏       | 7/32 [00:15<00:56,  2.25s/it]llm_judge_ans = True\n",
      "Average Metric: 6 / 8  (75.0):  25%|██▌       | 8/32 [00:19<01:04,  2.71s/it]llm_judge_ans = False\n",
      "Average Metric: 6 / 9  (66.7):  28%|██▊       | 9/32 [00:24<01:17,  3.37s/it]llm_judge_ans = False\n",
      "Average Metric: 6 / 10  (60.0):  31%|███▏      | 10/32 [00:29<01:26,  3.93s/it]llm_judge_ans = False\n",
      "Average Metric: 6 / 11  (54.5):  34%|███▍      | 11/32 [00:34<01:28,  4.20s/it]llm_judge_ans = False\n",
      "Average Metric: 6 / 12  (50.0):  38%|███▊      | 12/32 [00:38<01:26,  4.31s/it]llm_judge_ans = False\n",
      "Average Metric: 6 / 13  (46.2):  41%|████      | 13/32 [00:43<01:25,  4.50s/it]llm_judge_ans = False\n",
      "Average Metric: 6 / 14  (42.9):  44%|████▍     | 14/32 [00:50<01:32,  5.13s/it]llm_judge_ans = False\n",
      "Average Metric: 6 / 15  (40.0):  47%|████▋     | 15/32 [00:52<01:15,  4.44s/it]llm_judge_ans = False\n",
      "Average Metric: 6 / 16  (37.5):  50%|█████     | 16/32 [00:57<01:13,  4.62s/it]llm_judge_ans = True\n",
      "Average Metric: 7 / 17  (41.2):  53%|█████▎    | 17/32 [01:02<01:07,  4.48s/it]llm_judge_ans = False\n",
      "Average Metric: 7 / 18  (38.9):  56%|█████▋    | 18/32 [01:08<01:11,  5.14s/it]llm_judge_ans = False\n",
      "Average Metric: 7 / 19  (36.8):  59%|█████▉    | 19/32 [01:12<01:01,  4.71s/it]llm_judge_ans = False\n",
      "Average Metric: 7 / 20  (35.0):  62%|██████▎   | 20/32 [01:16<00:55,  4.62s/it]llm_judge_ans = True\n",
      "Average Metric: 8 / 21  (38.1):  66%|██████▌   | 21/32 [01:22<00:52,  4.76s/it]llm_judge_ans = False\n",
      "Average Metric: 8 / 22  (36.4):  69%|██████▉   | 22/32 [01:26<00:46,  4.66s/it]llm_judge_ans = True\n",
      "Average Metric: 9 / 23  (39.1):  72%|███████▏  | 23/32 [01:31<00:42,  4.70s/it]llm_judge_ans = False\n",
      "Average Metric: 9 / 24  (37.5):  75%|███████▌  | 24/32 [01:36<00:38,  4.76s/it]llm_judge_ans = True\n",
      "Average Metric: 10 / 25  (40.0):  78%|███████▊  | 25/32 [01:40<00:32,  4.68s/it]llm_judge_ans = False\n",
      "Average Metric: 10 / 26  (38.5):  81%|████████▏ | 26/32 [01:46<00:29,  4.97s/it]llm_judge_ans = False\n",
      "Average Metric: 10 / 27  (37.0):  84%|████████▍ | 27/32 [01:51<00:25,  5.16s/it]llm_judge_ans = False\n",
      "Average Metric: 10 / 28  (35.7):  88%|████████▊ | 28/32 [01:55<00:18,  4.67s/it]llm_judge_ans = True\n",
      "Average Metric: 11 / 29  (37.9):  91%|█████████ | 29/32 [02:00<00:13,  4.65s/it]llm_judge_ans = False\n",
      "Average Metric: 11 / 30  (36.7):  94%|█████████▍| 30/32 [02:09<00:12,  6.00s/it]llm_judge_ans = False\n",
      "Average Metric: 11 / 31  (35.5):  97%|█████████▋| 31/32 [02:11<00:04,  4.78s/it]llm_judge_ans = False\n",
      "Average Metric: 11 / 32  (34.4): 100%|██████████| 32/32 [02:14<00:00,  4.20s/it]"
     ]
    },
    {
     "name": "stderr",
     "output_type": "stream",
     "text": [
      "2024/11/14 21:33:03 INFO dspy.evaluate.evaluate: Average Metric: 11 / 32 (34.4%)\n"
     ]
    },
    {
     "name": "stdout",
     "output_type": "stream",
     "text": [
      "\n",
      "------------- Final DSPy Evaluation score :::: 34.38 ---------\n"
     ]
    }
   ],
   "source": [
    "evaluate_llm_judge = Evaluate(devset=generate_dspy_example_dataset(df_sft_data), \n",
    "                              metric=metric_LLM_0, \n",
    "                              num_threads=1, \n",
    "                              display_progress=True, \n",
    "                              display_table=0, \n",
    "                              provide_traceback=True)\n",
    "\n",
    "eval_score = evaluate_llm_judge(llm_judge_0, num_threads=1)\n",
    "print(f\"------------- Final DSPy Evaluation score :::: {eval_score} ---------\")"
   ]
  },
  {
   "cell_type": "code",
   "execution_count": 21,
   "id": "2340ce59-1d4f-4797-a63a-bc76dc083a05",
   "metadata": {
    "tags": []
   },
   "outputs": [
    {
     "data": {
      "text/plain": [
       "0.34380000000000005"
      ]
     },
     "execution_count": 21,
     "metadata": {},
     "output_type": "execute_result"
    }
   ],
   "source": [
    "sft_score_0 = eval_score/100\n",
    "sft_score_0"
   ]
  },
  {
   "cell_type": "markdown",
   "id": "de846386-639b-4c5e-b4a2-ebea89261477",
   "metadata": {},
   "source": [
    "Evaluation scores for DPO results by LLM-judge class"
   ]
  },
  {
   "cell_type": "code",
   "execution_count": 22,
   "id": "63c23f82",
   "metadata": {},
   "outputs": [
    {
     "name": "stdout",
     "output_type": "stream",
     "text": [
      "0 : 1.0|1 : 1.0|2 : 0.0|3 : 0.0|4 : 1.0|5 : 1.0|6 : 0.0|7 : 1.0|8 : 0.0|9 : 0.0|10 : 1.0|11 : 1.0|12 : 1.0|13 : 0.0|14 : 1.0|15 : 1.0|16 : 1.0|17 : 0.0|18 : 0.0|19 : 0.0|20 : 1.0|21 : 0.0|22 : 1.0|23 : 1.0|24 : 1.0|25 : 0.0|26 : 0.0|27 : 0.0|28 : 1.0|29 : 1.0|30 : 1.0|31 : 1.0|"
     ]
    },
    {
     "data": {
      "text/plain": [
       "0.59375"
      ]
     },
     "execution_count": 22,
     "metadata": {},
     "output_type": "execute_result"
    }
   ],
   "source": [
    "dpo_score_0 = get_judge_scores_0(df_dpo_data)\n",
    "dpo_score_0"
   ]
  },
  {
   "cell_type": "markdown",
   "id": "85f727bc",
   "metadata": {},
   "source": [
    "Evaluation scores for DPO results by dspy"
   ]
  },
  {
   "cell_type": "code",
   "execution_count": 23,
   "id": "8c6ecbd6-7dc4-4e83-9b0b-b9487de60763",
   "metadata": {},
   "outputs": [
    {
     "name": "stdout",
     "output_type": "stream",
     "text": [
      "  0%|          | 0/32 [00:00<?, ?it/s]llm_judge_ans = True\n",
      "Average Metric: 1 / 1  (100.0):   3%|▎         | 1/32 [00:03<02:01,  3.92s/it]llm_judge_ans = True\n",
      "Average Metric: 2 / 2  (100.0):   6%|▋         | 2/32 [00:08<02:07,  4.26s/it]llm_judge_ans = False\n",
      "Average Metric: 2 / 3  (66.7):   9%|▉         | 3/32 [00:12<02:05,  4.34s/it] llm_judge_ans = False\n",
      "Average Metric: 2 / 4  (50.0):  12%|█▎        | 4/32 [00:19<02:32,  5.45s/it]llm_judge_ans = True\n",
      "Average Metric: 3 / 5  (60.0):  16%|█▌        | 5/32 [00:22<02:03,  4.56s/it]llm_judge_ans = True\n",
      "Average Metric: 4 / 6  (66.7):  19%|█▉        | 6/32 [00:27<01:58,  4.55s/it]llm_judge_ans = False\n",
      "Average Metric: 4 / 7  (57.1):  22%|██▏       | 7/32 [00:33<02:02,  4.90s/it]llm_judge_ans = True\n",
      "Average Metric: 5 / 8  (62.5):  25%|██▌       | 8/32 [00:37<01:51,  4.65s/it]llm_judge_ans = False\n",
      "Average Metric: 5 / 9  (55.6):  28%|██▊       | 9/32 [00:43<01:57,  5.12s/it]llm_judge_ans = False\n",
      "Average Metric: 5 / 10  (50.0):  31%|███▏      | 10/32 [00:48<01:55,  5.25s/it]llm_judge_ans = True\n",
      "Average Metric: 6 / 11  (54.5):  34%|███▍      | 11/32 [00:51<01:34,  4.49s/it]llm_judge_ans = True\n",
      "Average Metric: 7 / 12  (58.3):  38%|███▊      | 12/32 [00:56<01:32,  4.60s/it]llm_judge_ans = True\n",
      "Average Metric: 8 / 13  (61.5):  41%|████      | 13/32 [01:01<01:26,  4.57s/it]llm_judge_ans = False\n",
      "Average Metric: 8 / 14  (57.1):  44%|████▍     | 14/32 [01:06<01:28,  4.94s/it]llm_judge_ans = True\n",
      "Average Metric: 9 / 15  (60.0):  47%|████▋     | 15/32 [01:10<01:19,  4.69s/it]llm_judge_ans = True\n",
      "Average Metric: 10 / 16  (62.5):  50%|█████     | 16/32 [01:17<01:24,  5.30s/it]llm_judge_ans = True\n",
      "Average Metric: 11 / 17  (64.7):  53%|█████▎    | 17/32 [01:20<01:07,  4.47s/it]llm_judge_ans = False\n",
      "Average Metric: 11 / 18  (61.1):  56%|█████▋    | 18/32 [01:26<01:08,  4.88s/it]llm_judge_ans = False\n",
      "Average Metric: 11 / 19  (57.9):  59%|█████▉    | 19/32 [01:30<01:00,  4.68s/it]llm_judge_ans = False\n",
      "Average Metric: 11 / 20  (55.0):  62%|██████▎   | 20/32 [01:35<00:57,  4.79s/it]llm_judge_ans = True\n",
      "Average Metric: 12 / 21  (57.1):  66%|██████▌   | 21/32 [01:39<00:50,  4.62s/it]llm_judge_ans = False\n",
      "Average Metric: 12 / 22  (54.5):  69%|██████▉   | 22/32 [01:45<00:50,  5.10s/it]llm_judge_ans = True\n",
      "Average Metric: 13 / 23  (56.5):  72%|███████▏  | 23/32 [01:50<00:44,  4.91s/it]llm_judge_ans = True\n",
      "Average Metric: 14 / 24  (58.3):  75%|███████▌  | 24/32 [01:54<00:36,  4.61s/it]llm_judge_ans = True\n",
      "Average Metric: 15 / 25  (60.0):  78%|███████▊  | 25/32 [01:59<00:33,  4.81s/it]llm_judge_ans = False\n",
      "Average Metric: 15 / 26  (57.7):  81%|████████▏ | 26/32 [02:08<00:37,  6.20s/it]llm_judge_ans = False\n",
      "Average Metric: 15 / 27  (55.6):  84%|████████▍ | 27/32 [02:11<00:25,  5.03s/it]llm_judge_ans = False\n",
      "Average Metric: 15 / 28  (53.6):  88%|████████▊ | 28/32 [02:13<00:16,  4.10s/it]llm_judge_ans = True\n",
      "Average Metric: 16 / 29  (55.2):  91%|█████████ | 29/32 [02:17<00:12,  4.32s/it]llm_judge_ans = True\n",
      "Average Metric: 17 / 30  (56.7):  94%|█████████▍| 30/32 [02:23<00:09,  4.64s/it]llm_judge_ans = True\n",
      "Average Metric: 18 / 31  (58.1):  97%|█████████▋| 31/32 [02:28<00:04,  4.80s/it]llm_judge_ans = True\n",
      "Average Metric: 19 / 32  (59.4): 100%|██████████| 32/32 [02:32<00:00,  4.76s/it]"
     ]
    },
    {
     "name": "stderr",
     "output_type": "stream",
     "text": [
      "2024/11/14 21:36:52 INFO dspy.evaluate.evaluate: Average Metric: 19 / 32 (59.4%)\n"
     ]
    },
    {
     "name": "stdout",
     "output_type": "stream",
     "text": [
      "\n",
      "------------- Final DSPy Evaluation score :::: 59.38 ---------\n"
     ]
    }
   ],
   "source": [
    "evaluate_llm_judge = Evaluate(devset=generate_dspy_example_dataset(df_dpo_data), \n",
    "                              metric=metric_LLM_0, \n",
    "                              num_threads=1, \n",
    "                              display_progress=True, display_table=0, provide_traceback=True)\n",
    "\n",
    "eval_score = evaluate_llm_judge(llm_judge_0, num_threads=1)\n",
    "print(f\"------------- Final DSPy Evaluation score :::: {eval_score} ---------\")"
   ]
  },
  {
   "cell_type": "code",
   "execution_count": 24,
   "id": "3eed68fe-0d9d-4ab3-982c-7e6e9fa2956a",
   "metadata": {},
   "outputs": [
    {
     "data": {
      "text/plain": [
       "0.5938"
      ]
     },
     "execution_count": 24,
     "metadata": {},
     "output_type": "execute_result"
    }
   ],
   "source": [
    "dpo_score_0 = eval_score/100\n",
    "dpo_score_0"
   ]
  },
  {
   "cell_type": "markdown",
   "id": "24c8498c-c950-4c18-8413-81665b66abbc",
   "metadata": {},
   "source": [
    "Evaluation scores for ORPO results by LLM-judge class"
   ]
  },
  {
   "cell_type": "code",
   "execution_count": 25,
   "id": "1a37e3cf",
   "metadata": {},
   "outputs": [
    {
     "name": "stdout",
     "output_type": "stream",
     "text": [
      "0 : 1.0|1 : 1.0|2 : 0.0|3 : 0.0|4 : 1.0|5 : 1.0|6 : 0.0|7 : 1.0|8 : 0.0|9 : 0.0|10 : 1.0|11 : 1.0|12 : 0.0|13 : 0.0|14 : 1.0|15 : 1.0|16 : 1.0|17 : 0.0|18 : 0.0|19 : 0.0|20 : 1.0|21 : 0.0|22 : 1.0|23 : 1.0|24 : 1.0|25 : 0.0|26 : 0.0|27 : 0.0|28 : 1.0|29 : 1.0|30 : 1.0|31 : 1.0|"
     ]
    },
    {
     "data": {
      "text/plain": [
       "0.5625"
      ]
     },
     "execution_count": 25,
     "metadata": {},
     "output_type": "execute_result"
    }
   ],
   "source": [
    "orpo_score_0 = get_judge_scores_0(df_orpo_data)\n",
    "orpo_score_0"
   ]
  },
  {
   "cell_type": "markdown",
   "id": "c43cacda",
   "metadata": {},
   "source": [
    "Evaluation scores for ORPO results by dspy"
   ]
  },
  {
   "cell_type": "code",
   "execution_count": 26,
   "id": "d9989d70",
   "metadata": {},
   "outputs": [
    {
     "name": "stdout",
     "output_type": "stream",
     "text": [
      "  0%|          | 0/32 [00:00<?, ?it/s]llm_judge_ans = True\n",
      "Average Metric: 1 / 1  (100.0):   3%|▎         | 1/32 [00:01<01:01,  2.00s/it]llm_judge_ans = True\n",
      "Average Metric: 2 / 2  (100.0):   6%|▋         | 2/32 [00:07<02:03,  4.13s/it]llm_judge_ans = False\n",
      "Average Metric: 2 / 3  (66.7):   9%|▉         | 3/32 [00:11<01:59,  4.10s/it] llm_judge_ans = False\n",
      "Average Metric: 2 / 4  (50.0):  12%|█▎        | 4/32 [00:16<02:07,  4.55s/it]llm_judge_ans = True\n",
      "Average Metric: 3 / 5  (60.0):  16%|█▌        | 5/32 [00:21<02:05,  4.63s/it]llm_judge_ans = True\n",
      "Average Metric: 4 / 6  (66.7):  19%|█▉        | 6/32 [00:26<01:58,  4.55s/it]llm_judge_ans = False\n",
      "Average Metric: 4 / 7  (57.1):  22%|██▏       | 7/32 [00:31<02:02,  4.90s/it]llm_judge_ans = True\n",
      "Average Metric: 5 / 8  (62.5):  25%|██▌       | 8/32 [00:35<01:51,  4.63s/it]llm_judge_ans = False\n",
      "Average Metric: 5 / 9  (55.6):  28%|██▊       | 9/32 [00:45<02:24,  6.26s/it]llm_judge_ans = False\n",
      "Average Metric: 5 / 10  (50.0):  31%|███▏      | 10/32 [00:48<01:52,  5.09s/it]llm_judge_ans = True\n",
      "Average Metric: 6 / 11  (54.5):  34%|███▍      | 11/32 [00:50<01:29,  4.27s/it]llm_judge_ans = True\n",
      "Average Metric: 7 / 12  (58.3):  38%|███▊      | 12/32 [00:55<01:30,  4.52s/it]llm_judge_ans = False\n",
      "Average Metric: 7 / 13  (53.8):  41%|████      | 13/32 [01:00<01:26,  4.57s/it]llm_judge_ans = False\n",
      "Average Metric: 7 / 14  (50.0):  44%|████▍     | 14/32 [01:04<01:21,  4.51s/it]llm_judge_ans = True\n",
      "Average Metric: 8 / 15  (53.3):  47%|████▋     | 15/32 [01:09<01:18,  4.64s/it]llm_judge_ans = True\n",
      "Average Metric: 9 / 16  (56.2):  50%|█████     | 16/32 [01:14<01:17,  4.82s/it]llm_judge_ans = True\n",
      "Average Metric: 10 / 17  (58.8):  53%|█████▎    | 17/32 [01:19<01:13,  4.88s/it]llm_judge_ans = False\n",
      "Average Metric: 10 / 18  (55.6):  56%|█████▋    | 18/32 [01:24<01:07,  4.83s/it]llm_judge_ans = False\n",
      "Average Metric: 10 / 19  (52.6):  59%|█████▉    | 19/32 [01:29<01:04,  4.98s/it]llm_judge_ans = False\n",
      "Average Metric: 10 / 20  (50.0):  62%|██████▎   | 20/32 [01:33<00:56,  4.69s/it]llm_judge_ans = True\n",
      "Average Metric: 11 / 21  (52.4):  66%|██████▌   | 21/32 [01:38<00:52,  4.77s/it]llm_judge_ans = False\n",
      "Average Metric: 11 / 22  (50.0):  69%|██████▉   | 22/32 [01:43<00:47,  4.72s/it]llm_judge_ans = True\n",
      "Average Metric: 12 / 23  (52.2):  72%|███████▏  | 23/32 [01:47<00:41,  4.61s/it]llm_judge_ans = True\n",
      "Average Metric: 13 / 24  (54.2):  75%|███████▌  | 24/32 [01:52<00:38,  4.77s/it]llm_judge_ans = True\n",
      "Average Metric: 14 / 25  (56.0):  78%|███████▊  | 25/32 [01:57<00:33,  4.74s/it]llm_judge_ans = False\n",
      "Average Metric: 14 / 26  (53.8):  81%|████████▏ | 26/32 [02:03<00:30,  5.05s/it]llm_judge_ans = False\n",
      "Average Metric: 14 / 27  (51.9):  84%|████████▍ | 27/32 [02:08<00:24,  4.92s/it]llm_judge_ans = False\n",
      "Average Metric: 14 / 28  (50.0):  88%|████████▊ | 28/32 [02:11<00:18,  4.53s/it]llm_judge_ans = True\n",
      "Average Metric: 15 / 29  (51.7):  91%|█████████ | 29/32 [02:16<00:14,  4.77s/it]llm_judge_ans = True\n",
      "Average Metric: 16 / 30  (53.3):  94%|█████████▍| 30/32 [02:21<00:09,  4.78s/it]llm_judge_ans = True\n",
      "Average Metric: 17 / 31  (54.8):  97%|█████████▋| 31/32 [02:26<00:04,  4.75s/it]llm_judge_ans = True\n",
      "Average Metric: 18 / 32  (56.2): 100%|██████████| 32/32 [02:30<00:00,  4.72s/it]"
     ]
    },
    {
     "name": "stderr",
     "output_type": "stream",
     "text": [
      "2024/11/14 21:40:42 INFO dspy.evaluate.evaluate: Average Metric: 18 / 32 (56.2%)\n"
     ]
    },
    {
     "name": "stdout",
     "output_type": "stream",
     "text": [
      "\n",
      "------------- Final DSPy Evaluation score :::: 56.25 ---------\n"
     ]
    }
   ],
   "source": [
    "evaluate_llm_judge = Evaluate(devset=generate_dspy_example_dataset(df_orpo_data), \n",
    "                              metric=metric_LLM_0, \n",
    "                              num_threads=1, \n",
    "                              display_progress=True, \n",
    "                              display_table=0, \n",
    "                              provide_traceback=True)\n",
    "\n",
    "eval_score = evaluate_llm_judge(llm_judge_0, num_threads=1)\n",
    "print(f\"------------- Final DSPy Evaluation score :::: {eval_score} ---------\")"
   ]
  },
  {
   "cell_type": "code",
   "execution_count": 27,
   "id": "294a77c7-1b74-4d5b-83ad-6946bf7acce9",
   "metadata": {},
   "outputs": [
    {
     "data": {
      "text/plain": [
       "0.5625"
      ]
     },
     "execution_count": 27,
     "metadata": {},
     "output_type": "execute_result"
    }
   ],
   "source": [
    "orpo_score_0 = eval_score/100\n",
    "orpo_score_0"
   ]
  },
  {
   "cell_type": "markdown",
   "id": "1c73f353-661d-43ec-9a7f-0359457738a1",
   "metadata": {
    "tags": []
   },
   "source": [
    "Evaluation scores for RAG HAIKU results by LLM-judge class"
   ]
  },
  {
   "cell_type": "code",
   "execution_count": 28,
   "id": "9c74f687",
   "metadata": {},
   "outputs": [
    {
     "name": "stdout",
     "output_type": "stream",
     "text": [
      "0 : 0.0|1 : 1.0|2 : 0.0|3 : 0.0|4 : 0.0|5 : 0.0|6 : 0.0|7 : 1.0|8 : 0.0|9 : 0.0|10 : 0.0|11 : 0.0|12 : 1.0|13 : 0.0|14 : 0.0|15 : 1.0|16 : 1.0|17 : 0.0|18 : 0.0|19 : 0.0|20 : 0.0|21 : 0.0|22 : 0.0|23 : 0.0|24 : 1.0|25 : 0.0|26 : 0.0|27 : 0.0|28 : 0.0|29 : 0.0|30 : 0.0|31 : 0.0|"
     ]
    },
    {
     "data": {
      "text/plain": [
       "0.1875"
      ]
     },
     "execution_count": 28,
     "metadata": {},
     "output_type": "execute_result"
    }
   ],
   "source": [
    "rag_haiku_score_0 = get_judge_scores_0(df_rag_haiku_data)\n",
    "rag_haiku_score_0"
   ]
  },
  {
   "cell_type": "markdown",
   "id": "d48578ae",
   "metadata": {},
   "source": [
    "Evaluation scores for RAG HAIKU results by dspy"
   ]
  },
  {
   "cell_type": "code",
   "execution_count": 29,
   "id": "1c1fee8c",
   "metadata": {},
   "outputs": [
    {
     "name": "stdout",
     "output_type": "stream",
     "text": [
      "  0%|          | 0/32 [00:00<?, ?it/s]llm_judge_ans = False\n",
      "Average Metric: 0 / 1  (0.0):   3%|▎         | 1/32 [00:06<03:32,  6.84s/it]llm_judge_ans = True\n",
      "Average Metric: 1 / 2  (50.0):   6%|▋         | 2/32 [00:09<02:08,  4.27s/it]llm_judge_ans = False\n",
      "Average Metric: 1 / 3  (33.3):   9%|▉         | 3/32 [00:15<02:28,  5.13s/it]llm_judge_ans = False\n",
      "Average Metric: 1 / 4  (25.0):  12%|█▎        | 4/32 [00:19<02:08,  4.58s/it]llm_judge_ans = False\n",
      "Average Metric: 1 / 5  (20.0):  16%|█▌        | 5/32 [00:24<02:07,  4.72s/it]llm_judge_ans = False\n",
      "Average Metric: 1 / 6  (16.7):  19%|█▉        | 6/32 [00:28<02:02,  4.73s/it]llm_judge_ans = False\n",
      "Average Metric: 1 / 7  (14.3):  22%|██▏       | 7/32 [00:33<01:59,  4.78s/it]llm_judge_ans = True\n",
      "Average Metric: 2 / 8  (25.0):  25%|██▌       | 8/32 [00:38<01:54,  4.79s/it]llm_judge_ans = False\n",
      "Average Metric: 2 / 9  (22.2):  28%|██▊       | 9/32 [00:44<01:56,  5.06s/it]llm_judge_ans = False\n",
      "Average Metric: 2 / 10  (20.0):  31%|███▏      | 10/32 [00:49<01:49,  5.00s/it]llm_judge_ans = False\n",
      "Average Metric: 2 / 11  (18.2):  34%|███▍      | 11/32 [00:52<01:34,  4.48s/it]llm_judge_ans = False\n",
      "Average Metric: 2 / 12  (16.7):  38%|███▊      | 12/32 [00:57<01:32,  4.62s/it]llm_judge_ans = True\n",
      "Average Metric: 3 / 13  (23.1):  41%|████      | 13/32 [01:02<01:30,  4.77s/it]llm_judge_ans = False\n",
      "Average Metric: 3 / 14  (21.4):  44%|████▍     | 14/32 [01:07<01:29,  4.98s/it]llm_judge_ans = False\n",
      "Average Metric: 3 / 15  (20.0):  47%|████▋     | 15/32 [01:13<01:28,  5.22s/it]llm_judge_ans = True\n",
      "Average Metric: 4 / 16  (25.0):  50%|█████     | 16/32 [01:17<01:18,  4.89s/it]llm_judge_ans = False\n",
      "Average Metric: 4 / 17  (23.5):  53%|█████▎    | 17/32 [01:22<01:11,  4.77s/it]llm_judge_ans = False\n",
      "Average Metric: 4 / 18  (22.2):  56%|█████▋    | 18/32 [01:26<01:06,  4.72s/it]llm_judge_ans = False\n",
      "Average Metric: 4 / 19  (21.1):  59%|█████▉    | 19/32 [01:30<00:57,  4.43s/it]llm_judge_ans = False\n",
      "Average Metric: 4 / 20  (20.0):  62%|██████▎   | 20/32 [01:36<00:56,  4.70s/it]llm_judge_ans = False\n",
      "Average Metric: 4 / 21  (19.0):  66%|██████▌   | 21/32 [01:43<01:00,  5.50s/it]llm_judge_ans = False\n",
      "Average Metric: 4 / 22  (18.2):  69%|██████▉   | 22/32 [01:49<00:55,  5.54s/it]llm_judge_ans = False\n",
      "Average Metric: 4 / 23  (17.4):  72%|███████▏  | 23/32 [01:53<00:47,  5.30s/it]llm_judge_ans = False\n",
      "Average Metric: 4 / 24  (16.7):  75%|███████▌  | 24/32 [01:57<00:38,  4.80s/it]llm_judge_ans = True\n",
      "Average Metric: 5 / 25  (20.0):  78%|███████▊  | 25/32 [01:59<00:28,  4.09s/it]llm_judge_ans = False\n",
      "Average Metric: 5 / 26  (19.2):  81%|████████▏ | 26/32 [02:07<00:30,  5.15s/it]llm_judge_ans = False\n",
      "Average Metric: 5 / 27  (18.5):  84%|████████▍ | 27/32 [02:12<00:25,  5.03s/it]llm_judge_ans = False\n",
      "Average Metric: 5 / 28  (17.9):  88%|████████▊ | 28/32 [02:18<00:21,  5.28s/it]llm_judge_ans = False\n",
      "Average Metric: 5 / 29  (17.2):  91%|█████████ | 29/32 [02:21<00:14,  4.86s/it]llm_judge_ans = False\n",
      "Average Metric: 5 / 30  (16.7):  94%|█████████▍| 30/32 [02:26<00:09,  4.75s/it]llm_judge_ans = False\n",
      "Average Metric: 5 / 31  (16.1):  97%|█████████▋| 31/32 [02:28<00:03,  3.95s/it]llm_judge_ans = False\n",
      "Average Metric: 5 / 32  (15.6): 100%|██████████| 32/32 [02:33<00:00,  4.81s/it]"
     ]
    },
    {
     "name": "stderr",
     "output_type": "stream",
     "text": [
      "2024/11/14 21:44:33 INFO dspy.evaluate.evaluate: Average Metric: 5 / 32 (15.6%)\n"
     ]
    },
    {
     "name": "stdout",
     "output_type": "stream",
     "text": [
      "\n",
      "------------- Final DSPy Evaluation score :::: 15.62 ---------\n"
     ]
    }
   ],
   "source": [
    "evaluate_llm_judge = Evaluate(devset=generate_dspy_example_dataset(df_rag_haiku_data), \n",
    "                              metric=metric_LLM_0, \n",
    "                              num_threads=1, \n",
    "                              display_progress=True, \n",
    "                              display_table=0, \n",
    "                              provide_traceback=True)\n",
    "\n",
    "eval_score = evaluate_llm_judge(llm_judge_0, num_threads=1)\n",
    "print(f\"------------- Final DSPy Evaluation score :::: {eval_score} ---------\")"
   ]
  },
  {
   "cell_type": "code",
   "execution_count": 30,
   "id": "2b8f8964-5c65-40eb-b267-d5669f882501",
   "metadata": {},
   "outputs": [
    {
     "data": {
      "text/plain": [
       "0.1562"
      ]
     },
     "execution_count": 30,
     "metadata": {},
     "output_type": "execute_result"
    }
   ],
   "source": [
    "rag_haiku_score_0 = eval_score/100\n",
    "rag_haiku_score_0"
   ]
  },
  {
   "cell_type": "markdown",
   "id": "23f2303b-f5d8-4879-a4bb-5f9ba42b7139",
   "metadata": {},
   "source": [
    "Evaluation scores for RAG compiled HAIKU results by LLM-judge class"
   ]
  },
  {
   "cell_type": "code",
   "execution_count": 31,
   "id": "7bfc0b9e",
   "metadata": {},
   "outputs": [
    {
     "name": "stdout",
     "output_type": "stream",
     "text": [
      "0 : 0.0|1 : 1.0|2 : 1.0|3 : 1.0|4 : 0.0|5 : 1.0|6 : 1.0|7 : 1.0|8 : 0.0|9 : 0.0|10 : 0.0|11 : 0.0|12 : 1.0|13 : 0.0|14 : 0.0|15 : 0.0|16 : 1.0|17 : 1.0|18 : 0.0|19 : 0.0|20 : 1.0|21 : 0.0|22 : 0.0|23 : 0.0|24 : 1.0|25 : 0.0|26 : 0.0|27 : 0.0|28 : 0.0|29 : 0.0|30 : 0.0|31 : 1.0|"
     ]
    },
    {
     "data": {
      "text/plain": [
       "0.375"
      ]
     },
     "execution_count": 31,
     "metadata": {},
     "output_type": "execute_result"
    }
   ],
   "source": [
    "ragc_haiku_score_0 = get_judge_scores_0(df_ragc_haiku_data)\n",
    "ragc_haiku_score_0"
   ]
  },
  {
   "cell_type": "markdown",
   "id": "b2dca8b5",
   "metadata": {},
   "source": [
    "Evaluation scores for RAG compiled HAIKU results by dspy"
   ]
  },
  {
   "cell_type": "code",
   "execution_count": 32,
   "id": "37f87c29",
   "metadata": {},
   "outputs": [
    {
     "name": "stdout",
     "output_type": "stream",
     "text": [
      "  0%|          | 0/32 [00:00<?, ?it/s]llm_judge_ans = False\n",
      "Average Metric: 0 / 1  (0.0):   3%|▎         | 1/32 [00:05<02:56,  5.69s/it]llm_judge_ans = True\n",
      "Average Metric: 1 / 2  (50.0):   6%|▋         | 2/32 [00:11<02:55,  5.84s/it]llm_judge_ans = True\n",
      "Average Metric: 2 / 3  (66.7):   9%|▉         | 3/32 [00:14<02:06,  4.35s/it]llm_judge_ans = True\n",
      "Average Metric: 3 / 4  (75.0):  12%|█▎        | 4/32 [00:21<02:28,  5.32s/it]llm_judge_ans = False\n",
      "Average Metric: 3 / 5  (60.0):  16%|█▌        | 5/32 [00:24<02:04,  4.61s/it]llm_judge_ans = True\n",
      "Average Metric: 4 / 6  (66.7):  19%|█▉        | 6/32 [00:29<02:00,  4.64s/it]llm_judge_ans = True\n",
      "Average Metric: 5 / 7  (71.4):  22%|██▏       | 7/32 [00:33<01:55,  4.60s/it]llm_judge_ans = True\n",
      "Average Metric: 6 / 8  (75.0):  25%|██▌       | 8/32 [00:39<02:02,  5.11s/it]llm_judge_ans = False\n",
      "Average Metric: 6 / 9  (66.7):  28%|██▊       | 9/32 [00:45<02:02,  5.31s/it]llm_judge_ans = False\n",
      "Average Metric: 6 / 10  (60.0):  31%|███▏      | 10/32 [00:50<01:52,  5.12s/it]llm_judge_ans = False\n",
      "Average Metric: 6 / 11  (54.5):  34%|███▍      | 11/32 [00:54<01:42,  4.88s/it]llm_judge_ans = False\n",
      "Average Metric: 6 / 12  (50.0):  38%|███▊      | 12/32 [00:56<01:17,  3.87s/it]llm_judge_ans = True\n",
      "Average Metric: 7 / 13  (53.8):  41%|████      | 13/32 [01:02<01:27,  4.60s/it]llm_judge_ans = False\n",
      "Average Metric: 7 / 14  (50.0):  44%|████▍     | 14/32 [01:06<01:22,  4.58s/it]llm_judge_ans = False\n",
      "Average Metric: 7 / 15  (46.7):  47%|████▋     | 15/32 [01:11<01:19,  4.67s/it]llm_judge_ans = False\n",
      "Average Metric: 7 / 16  (43.8):  50%|█████     | 16/32 [01:17<01:17,  4.87s/it]llm_judge_ans = True\n",
      "Average Metric: 8 / 17  (47.1):  53%|█████▎    | 17/32 [01:21<01:11,  4.73s/it]llm_judge_ans = True\n",
      "Average Metric: 9 / 18  (50.0):  56%|█████▋    | 18/32 [01:24<01:00,  4.31s/it]llm_judge_ans = False\n",
      "Average Metric: 9 / 19  (47.4):  59%|█████▉    | 19/32 [01:30<01:02,  4.83s/it]llm_judge_ans = False\n",
      "Average Metric: 9 / 20  (45.0):  62%|██████▎   | 20/32 [01:35<00:56,  4.69s/it]llm_judge_ans = True\n",
      "Average Metric: 10 / 21  (47.6):  66%|██████▌   | 21/32 [01:40<00:54,  4.95s/it]llm_judge_ans = False\n",
      "Average Metric: 10 / 22  (45.5):  69%|██████▉   | 22/32 [01:45<00:49,  5.00s/it]llm_judge_ans = False\n",
      "Average Metric: 10 / 23  (43.5):  72%|███████▏  | 23/32 [01:51<00:45,  5.03s/it]llm_judge_ans = False\n",
      "Average Metric: 10 / 24  (41.7):  75%|███████▌  | 24/32 [01:57<00:43,  5.38s/it]llm_judge_ans = True\n",
      "Average Metric: 11 / 25  (44.0):  78%|███████▊  | 25/32 [01:58<00:29,  4.24s/it]llm_judge_ans = False\n",
      "Average Metric: 11 / 26  (42.3):  81%|████████▏ | 26/32 [02:10<00:38,  6.47s/it]llm_judge_ans = False\n",
      "Average Metric: 11 / 27  (40.7):  84%|████████▍ | 27/32 [02:14<00:27,  5.58s/it]llm_judge_ans = False\n",
      "Average Metric: 11 / 28  (39.3):  88%|████████▊ | 28/32 [02:15<00:17,  4.40s/it]llm_judge_ans = False\n",
      "Average Metric: 11 / 29  (37.9):  91%|█████████ | 29/32 [02:21<00:14,  4.89s/it]llm_judge_ans = False\n",
      "Average Metric: 11 / 30  (36.7):  94%|█████████▍| 30/32 [02:27<00:10,  5.05s/it]llm_judge_ans = False\n",
      "Average Metric: 11 / 31  (35.5):  97%|█████████▋| 31/32 [02:29<00:04,  4.15s/it]llm_judge_ans = True\n",
      "Average Metric: 12 / 32  (37.5): 100%|██████████| 32/32 [02:33<00:00,  4.80s/it]"
     ]
    },
    {
     "name": "stderr",
     "output_type": "stream",
     "text": [
      "2024/11/14 21:48:24 INFO dspy.evaluate.evaluate: Average Metric: 12 / 32 (37.5%)\n"
     ]
    },
    {
     "name": "stdout",
     "output_type": "stream",
     "text": [
      "\n",
      "------------- Final DSPy Evaluation score :::: 37.5 ---------\n"
     ]
    }
   ],
   "source": [
    "evaluate_llm_judge = Evaluate(devset=generate_dspy_example_dataset(df_ragc_haiku_data), \n",
    "                              metric=metric_LLM_0, \n",
    "                              num_threads=1, \n",
    "                              display_progress=True, \n",
    "                              display_table=0, \n",
    "                              provide_traceback=True)\n",
    "\n",
    "eval_score = evaluate_llm_judge(llm_judge_0, num_threads=1)\n",
    "print(f\"------------- Final DSPy Evaluation score :::: {eval_score} ---------\")"
   ]
  },
  {
   "cell_type": "code",
   "execution_count": 33,
   "id": "c7364fd9-2ab2-45ee-8b20-dcd43032a385",
   "metadata": {},
   "outputs": [
    {
     "data": {
      "text/plain": [
       "0.375"
      ]
     },
     "execution_count": 33,
     "metadata": {},
     "output_type": "execute_result"
    }
   ],
   "source": [
    "ragc_haiku_score_0 = eval_score/100\n",
    "ragc_haiku_score_0"
   ]
  },
  {
   "cell_type": "markdown",
   "id": "5db4de9b-a064-45c5-9cb3-b6f9c271d695",
   "metadata": {},
   "source": [
    "Evaluation scores for RAG Sonnet results by LLM-judge class"
   ]
  },
  {
   "cell_type": "code",
   "execution_count": 34,
   "id": "6ab2c756",
   "metadata": {},
   "outputs": [
    {
     "name": "stdout",
     "output_type": "stream",
     "text": [
      "0 : 0.0|1 : 0.0|2 : 0.0|3 : 0.0|4 : 0.0|5 : 0.0|6 : 0.0|7 : 0.0|8 : 0.0|9 : 0.0|10 : 0.0|11 : 0.0|12 : 0.0|13 : 0.0|14 : 0.0|15 : 0.0|16 : 0.0|17 : 0.0|18 : 0.0|19 : 0.0|20 : 0.0|21 : 0.0|22 : 0.0|23 : 0.0|24 : 0.0|25 : 1.0|26 : 0.0|27 : 0.0|28 : 1.0|29 : 0.0|30 : 0.0|31 : 0.0|"
     ]
    },
    {
     "data": {
      "text/plain": [
       "0.0625"
      ]
     },
     "execution_count": 34,
     "metadata": {},
     "output_type": "execute_result"
    }
   ],
   "source": [
    "rag_sonnet_score_0 = get_judge_scores_0(df_rag_sonnet_data)\n",
    "rag_sonnet_score_0"
   ]
  },
  {
   "cell_type": "markdown",
   "id": "b0d4e606",
   "metadata": {},
   "source": [
    "Evaluation scores for RAG Sonnet results by dspy"
   ]
  },
  {
   "cell_type": "code",
   "execution_count": 35,
   "id": "03ff9c35",
   "metadata": {},
   "outputs": [
    {
     "name": "stdout",
     "output_type": "stream",
     "text": [
      "  0%|          | 0/32 [00:00<?, ?it/s]llm_judge_ans = False\n",
      "Average Metric: 0 / 1  (0.0):   3%|▎         | 1/32 [00:04<02:33,  4.95s/it]llm_judge_ans = False\n",
      "Average Metric: 0 / 2  (0.0):   6%|▋         | 2/32 [00:08<02:10,  4.34s/it]llm_judge_ans = False\n",
      "Average Metric: 0 / 3  (0.0):   9%|▉         | 3/32 [00:10<01:24,  2.93s/it]llm_judge_ans = False\n",
      "Average Metric: 0 / 4  (0.0):  12%|█▎        | 4/32 [00:13<01:32,  3.29s/it]llm_judge_ans = False\n",
      "Average Metric: 0 / 5  (0.0):  16%|█▌        | 5/32 [00:18<01:43,  3.84s/it]llm_judge_ans = False\n",
      "Average Metric: 0 / 6  (0.0):  19%|█▉        | 6/32 [00:24<01:53,  4.38s/it]llm_judge_ans = False\n",
      "Average Metric: 0 / 7  (0.0):  22%|██▏       | 7/32 [00:29<01:54,  4.57s/it]llm_judge_ans = False\n",
      "Average Metric: 0 / 8  (0.0):  25%|██▌       | 8/32 [00:35<02:02,  5.12s/it]llm_judge_ans = False\n",
      "Average Metric: 0 / 9  (0.0):  28%|██▊       | 9/32 [00:40<01:56,  5.06s/it]llm_judge_ans = False\n",
      "Average Metric: 0 / 10  (0.0):  31%|███▏      | 10/32 [00:45<01:50,  5.01s/it]llm_judge_ans = False\n",
      "Average Metric: 0 / 11  (0.0):  34%|███▍      | 11/32 [00:47<01:30,  4.29s/it]llm_judge_ans = False\n",
      "Average Metric: 0 / 12  (0.0):  38%|███▊      | 12/32 [00:53<01:31,  4.57s/it]llm_judge_ans = False\n",
      "Average Metric: 0 / 13  (0.0):  41%|████      | 13/32 [00:59<01:36,  5.07s/it]llm_judge_ans = False\n",
      "Average Metric: 0 / 14  (0.0):  44%|████▍     | 14/32 [01:04<01:29,  4.99s/it]llm_judge_ans = False\n",
      "Average Metric: 0 / 15  (0.0):  47%|████▋     | 15/32 [01:09<01:24,  4.97s/it]llm_judge_ans = False\n",
      "Average Metric: 0 / 16  (0.0):  50%|█████     | 16/32 [01:13<01:14,  4.69s/it]llm_judge_ans = False\n",
      "Average Metric: 0 / 17  (0.0):  53%|█████▎    | 17/32 [01:17<01:08,  4.57s/it]llm_judge_ans = False\n",
      "Average Metric: 0 / 18  (0.0):  56%|█████▋    | 18/32 [01:21<01:02,  4.50s/it]llm_judge_ans = False\n",
      "Average Metric: 0 / 19  (0.0):  59%|█████▉    | 19/32 [01:26<00:57,  4.44s/it]llm_judge_ans = False\n",
      "Average Metric: 0 / 20  (0.0):  62%|██████▎   | 20/32 [01:30<00:55,  4.59s/it]llm_judge_ans = False\n",
      "Average Metric: 0 / 21  (0.0):  66%|██████▌   | 21/32 [01:37<00:56,  5.15s/it]llm_judge_ans = False\n",
      "Average Metric: 0 / 22  (0.0):  69%|██████▉   | 22/32 [01:41<00:48,  4.82s/it]llm_judge_ans = False\n",
      "Average Metric: 0 / 23  (0.0):  72%|███████▏  | 23/32 [01:45<00:42,  4.70s/it]llm_judge_ans = False\n",
      "Average Metric: 0 / 24  (0.0):  75%|███████▌  | 24/32 [01:50<00:37,  4.69s/it]llm_judge_ans = False\n",
      "Average Metric: 0 / 25  (0.0):  78%|███████▊  | 25/32 [01:56<00:35,  5.10s/it]llm_judge_ans = True\n",
      "Average Metric: 1 / 26  (3.8):  81%|████████▏ | 26/32 [02:00<00:27,  4.63s/it]llm_judge_ans = False\n",
      "Average Metric: 1 / 27  (3.7):  84%|████████▍ | 27/32 [02:05<00:24,  4.92s/it]llm_judge_ans = False\n",
      "Average Metric: 1 / 28  (3.6):  88%|████████▊ | 28/32 [02:11<00:20,  5.19s/it]llm_judge_ans = True\n",
      "Average Metric: 2 / 29  (6.9):  91%|█████████ | 29/32 [02:14<00:13,  4.55s/it]llm_judge_ans = False\n",
      "Average Metric: 2 / 30  (6.7):  94%|█████████▍| 30/32 [02:22<00:11,  5.59s/it]llm_judge_ans = False\n",
      "Average Metric: 2 / 31  (6.5):  97%|█████████▋| 31/32 [02:24<00:04,  4.33s/it]llm_judge_ans = False\n",
      "Average Metric: 2 / 32  (6.2): 100%|██████████| 32/32 [02:29<00:00,  4.66s/it]"
     ]
    },
    {
     "name": "stderr",
     "output_type": "stream",
     "text": [
      "2024/11/14 21:52:13 INFO dspy.evaluate.evaluate: Average Metric: 2 / 32 (6.2%)\n"
     ]
    },
    {
     "name": "stdout",
     "output_type": "stream",
     "text": [
      "\n",
      "------------- Final DSPy Evaluation score :::: 6.25 ---------\n"
     ]
    }
   ],
   "source": [
    "evaluate_llm_judge = Evaluate(devset=generate_dspy_example_dataset(df_rag_sonnet_data), \n",
    "                              metric=metric_LLM_0, \n",
    "                              num_threads=1, \n",
    "                              display_progress=True, \n",
    "                              display_table=0, \n",
    "                              provide_traceback=True)\n",
    "\n",
    "eval_score = evaluate_llm_judge(llm_judge_0, num_threads=1)\n",
    "print(f\"------------- Final DSPy Evaluation score :::: {eval_score} ---------\")"
   ]
  },
  {
   "cell_type": "code",
   "execution_count": 36,
   "id": "184e16f3-c06e-47fb-8d90-00581138c37c",
   "metadata": {},
   "outputs": [
    {
     "data": {
      "text/plain": [
       "0.0625"
      ]
     },
     "execution_count": 36,
     "metadata": {},
     "output_type": "execute_result"
    }
   ],
   "source": [
    "rag_sonnet_score_0 = eval_score/100\n",
    "rag_sonnet_score_0"
   ]
  },
  {
   "cell_type": "markdown",
   "id": "534865e2-6d33-45e4-8aec-49dbe8ec40a1",
   "metadata": {},
   "source": [
    "Evaluation scores for RAG compiled Sonnet results by LLM-judge class"
   ]
  },
  {
   "cell_type": "code",
   "execution_count": 37,
   "id": "d82bfaf3",
   "metadata": {},
   "outputs": [
    {
     "name": "stdout",
     "output_type": "stream",
     "text": [
      "0 : 0.0|1 : 0.0|2 : 0.0|3 : 0.0|4 : 0.0|5 : 1.0|6 : 1.0|7 : 1.0|8 : 0.0|9 : 0.0|10 : 0.0|11 : 0.0|12 : 1.0|13 : 1.0|14 : 0.0|15 : 0.0|16 : 0.0|17 : 1.0|18 : 1.0|19 : 0.0|20 : 1.0|21 : 0.0|22 : 0.0|23 : 0.0|24 : 1.0|25 : 1.0|26 : 0.0|27 : 0.0|28 : 0.0|29 : 0.0|30 : 1.0|31 : 1.0|"
     ]
    },
    {
     "data": {
      "text/plain": [
       "0.375"
      ]
     },
     "execution_count": 37,
     "metadata": {},
     "output_type": "execute_result"
    }
   ],
   "source": [
    "ragc_sonnet_score_0 = get_judge_scores_0(df_ragc_sonnet_data)\n",
    "ragc_sonnet_score_0"
   ]
  },
  {
   "cell_type": "markdown",
   "id": "4d195000",
   "metadata": {},
   "source": [
    "Evaluation scores for RAG compiled Sonnet results by dspy"
   ]
  },
  {
   "cell_type": "code",
   "execution_count": 38,
   "id": "a70597ff",
   "metadata": {},
   "outputs": [
    {
     "name": "stdout",
     "output_type": "stream",
     "text": [
      "  0%|          | 0/32 [00:00<?, ?it/s]llm_judge_ans = False\n",
      "Average Metric: 0 / 1  (0.0):   3%|▎         | 1/32 [00:07<03:48,  7.38s/it]llm_judge_ans = False\n",
      "Average Metric: 0 / 2  (0.0):   6%|▋         | 2/32 [00:10<02:32,  5.10s/it]llm_judge_ans = False\n",
      "Average Metric: 0 / 3  (0.0):   9%|▉         | 3/32 [00:14<02:05,  4.33s/it]llm_judge_ans = False\n",
      "Average Metric: 0 / 4  (0.0):  12%|█▎        | 4/32 [00:19<02:08,  4.58s/it]llm_judge_ans = False\n",
      "Average Metric: 0 / 5  (0.0):  16%|█▌        | 5/32 [00:24<02:11,  4.88s/it]llm_judge_ans = True\n",
      "Average Metric: 1 / 6  (16.7):  19%|█▉        | 6/32 [00:29<02:02,  4.70s/it]llm_judge_ans = True\n",
      "Average Metric: 2 / 7  (28.6):  22%|██▏       | 7/32 [00:33<01:53,  4.56s/it]llm_judge_ans = True\n",
      "Average Metric: 3 / 8  (37.5):  25%|██▌       | 8/32 [00:37<01:49,  4.56s/it]llm_judge_ans = False\n",
      "Average Metric: 3 / 9  (33.3):  28%|██▊       | 9/32 [00:45<02:05,  5.48s/it]llm_judge_ans = False\n",
      "Average Metric: 3 / 10  (30.0):  31%|███▏      | 10/32 [00:50<01:58,  5.39s/it]llm_judge_ans = False\n",
      "Average Metric: 3 / 11  (27.3):  34%|███▍      | 11/32 [00:54<01:43,  4.93s/it]llm_judge_ans = False\n",
      "Average Metric: 3 / 12  (25.0):  38%|███▊      | 12/32 [00:58<01:32,  4.60s/it]llm_judge_ans = True\n",
      "Average Metric: 4 / 13  (30.8):  41%|████      | 13/32 [01:02<01:26,  4.56s/it]llm_judge_ans = True\n",
      "Average Metric: 5 / 14  (35.7):  44%|████▍     | 14/32 [01:06<01:17,  4.32s/it]llm_judge_ans = False\n",
      "Average Metric: 5 / 15  (33.3):  47%|████▋     | 15/32 [01:12<01:21,  4.80s/it]llm_judge_ans = False\n",
      "Average Metric: 5 / 16  (31.2):  50%|█████     | 16/32 [01:18<01:22,  5.19s/it]llm_judge_ans = False\n",
      "Average Metric: 5 / 17  (29.4):  53%|█████▎    | 17/32 [01:21<01:08,  4.55s/it]llm_judge_ans = True\n",
      "Average Metric: 6 / 18  (33.3):  56%|█████▋    | 18/32 [01:24<00:58,  4.21s/it]llm_judge_ans = True\n",
      "Average Metric: 7 / 19  (36.8):  59%|█████▉    | 19/32 [01:29<00:56,  4.34s/it]llm_judge_ans = False\n",
      "Average Metric: 7 / 20  (35.0):  62%|██████▎   | 20/32 [01:37<01:03,  5.30s/it]llm_judge_ans = True\n",
      "Average Metric: 8 / 21  (38.1):  66%|██████▌   | 21/32 [01:39<00:47,  4.29s/it]llm_judge_ans = False\n",
      "Average Metric: 8 / 22  (36.4):  69%|██████▉   | 22/32 [01:44<00:47,  4.77s/it]llm_judge_ans = False\n",
      "Average Metric: 8 / 23  (34.8):  72%|███████▏  | 23/32 [01:51<00:47,  5.32s/it]llm_judge_ans = False\n",
      "Average Metric: 8 / 24  (33.3):  75%|███████▌  | 24/32 [01:56<00:42,  5.30s/it]llm_judge_ans = True\n",
      "Average Metric: 9 / 25  (36.0):  78%|███████▊  | 25/32 [01:58<00:29,  4.16s/it]llm_judge_ans = True\n",
      "Average Metric: 10 / 26  (38.5):  81%|████████▏ | 26/32 [02:03<00:26,  4.33s/it]llm_judge_ans = False\n",
      "Average Metric: 10 / 27  (37.0):  84%|████████▍ | 27/32 [02:09<00:25,  5.08s/it]llm_judge_ans = False\n",
      "Average Metric: 10 / 28  (35.7):  88%|████████▊ | 28/32 [02:14<00:19,  4.86s/it]llm_judge_ans = False\n",
      "Average Metric: 10 / 29  (34.5):  91%|█████████ | 29/32 [02:20<00:15,  5.25s/it]llm_judge_ans = False\n",
      "Average Metric: 10 / 30  (33.3):  94%|█████████▍| 30/32 [02:27<00:11,  5.80s/it]llm_judge_ans = True\n",
      "Average Metric: 11 / 31  (35.5):  97%|█████████▋| 31/32 [02:29<00:04,  4.51s/it]llm_judge_ans = True\n",
      "Average Metric: 12 / 32  (37.5): 100%|██████████| 32/32 [02:32<00:00,  4.76s/it]"
     ]
    },
    {
     "name": "stderr",
     "output_type": "stream",
     "text": [
      "2024/11/14 21:56:02 INFO dspy.evaluate.evaluate: Average Metric: 12 / 32 (37.5%)\n"
     ]
    },
    {
     "name": "stdout",
     "output_type": "stream",
     "text": [
      "\n",
      "------------- Final DSPy Evaluation score :::: 37.5 ---------\n"
     ]
    }
   ],
   "source": [
    "evaluate_llm_judge = Evaluate(devset=generate_dspy_example_dataset(df_ragc_sonnet_data), \n",
    "                              metric=metric_LLM_0, \n",
    "                              num_threads=1, \n",
    "                              display_progress=True, \n",
    "                              display_table=0, \n",
    "                              provide_traceback=True)\n",
    "\n",
    "eval_score = evaluate_llm_judge(llm_judge_0, num_threads=1)\n",
    "print(f\"------------- Final DSPy Evaluation score :::: {eval_score} ---------\")"
   ]
  },
  {
   "cell_type": "code",
   "execution_count": 39,
   "id": "32055e45-0567-45dd-9618-828ea456f685",
   "metadata": {},
   "outputs": [
    {
     "data": {
      "text/plain": [
       "0.375"
      ]
     },
     "execution_count": 39,
     "metadata": {},
     "output_type": "execute_result"
    }
   ],
   "source": [
    "ragc_sonnet_score_0 = eval_score/100\n",
    "ragc_sonnet_score_0"
   ]
  },
  {
   "cell_type": "markdown",
   "id": "967d4aaf-caf0-4ffa-addb-8b05f413a6d3",
   "metadata": {},
   "source": [
    "#### Benchmarking the performance across RAG with foundation models and fine-tuned models "
   ]
  },
  {
   "cell_type": "code",
   "execution_count": 40,
   "id": "135d7f27",
   "metadata": {},
   "outputs": [
    {
     "data": {
      "image/png": "[encoded data removed]",
      "text/plain": [
       "<Figure size 1000x500 with 1 Axes>"
      ]
     },
     "metadata": {},
     "output_type": "display_data"
    }
   ],
   "source": [
    "train_class_type = ['RAG_Haiku','RAG_Haiku_Compiled','SFT(Llama3-8B)','DPO(Llama3-8B)','ORPO(Llama3-8B)']\n",
    "train_class_count = [rag_haiku_score_0,ragc_haiku_score_0,sft_score_0,dpo_score_0,orpo_score_0,]\n",
    "\n",
    "fig = plt.figure(figsize = (10, 5))\n",
    "\n",
    "# creating the bar plot\n",
    "plt.bar(train_class_type, train_class_count, color ='green', width = 0.4)\n",
    "\n",
    "plt.xlabel(\"\")\n",
    "plt.ylabel(\"Accuracy\")\n",
    "plt.title(\"Accuracy by LLM-as-a-judge (True/False)\")\n",
    "plt.show()"
   ]
  },
  {
   "cell_type": "code",
   "execution_count": null,
   "id": "986b5364",
   "metadata": {},
   "outputs": [],
   "source": []
  },
  {
   "cell_type": "markdown",
   "id": "e9aae777",
   "metadata": {},
   "source": [
    "### Evaluation Method 2: LLM-as-a-judge with a 0-1 score "
   ]
  },
  {
   "cell_type": "markdown",
   "id": "06de0054",
   "metadata": {},
   "source": [
    "Setup Claude and Meta models on Bedrock for LLM-as-a-judge"
   ]
  },
  {
   "cell_type": "code",
   "execution_count": 41,
   "id": "d4f1022a",
   "metadata": {},
   "outputs": [],
   "source": [
    "dsp_bedrock = dspy.Bedrock(region_name='us-west-2')\n",
    "\n",
    "claude_sonnet_model_id = \"anthropic.claude-3-sonnet-20240229-v1:0\"\n",
    "clade_haiku_model_id = \"anthropic.claude-3-haiku-20240307-v1:0\"\n",
    "llama_model_id = \"us.meta.llama3-2-90b-instruct-v1:0\"\n",
    "\n",
    "\n",
    "bedrock_sonnet = dspy.AWSAnthropic(aws_provider=dsp_bedrock,\n",
    "                                  model=claude_sonnet_model_id,\n",
    "                                  max_new_tokens=4096,\n",
    "                                  max_tokens=4096)\n",
    "\n",
    "bedrock_haiku = dspy.AWSAnthropic(aws_provider=dsp_bedrock,\n",
    "                                 model=clade_haiku_model_id,\n",
    "                                 max_new_tokens=4096,\n",
    "                                 max_tokens=4096)\n",
    "\n",
    "bedrock_llama = dspy.AWSMeta(aws_provider=dsp_bedrock, \n",
    "                             model=llama_model_id, \n",
    "                             max_new_tokens=2048,\n",
    "                             max_tokens=2048)"
   ]
  },
  {
   "cell_type": "code",
   "execution_count": 42,
   "id": "3559defa",
   "metadata": {},
   "outputs": [],
   "source": [
    "dspy.settings.configure(lm=bedrock_sonnet, temperature=0)"
   ]
  },
  {
   "cell_type": "markdown",
   "id": "533e00d8",
   "metadata": {},
   "source": [
    "Define the LLM judge class: eval = 0-1 score"
   ]
  },
  {
   "cell_type": "code",
   "execution_count": 43,
   "id": "3d5b9423",
   "metadata": {
    "tags": []
   },
   "outputs": [],
   "source": [
    "class FactualityJudge_1(dspy.Signature):\n",
    "    \"\"\"Judge if the predicted answer is semantically match the groundtruth answer. Provide a score between 0 and 1, 0 means completely mismatch and 1 means perfectly match. In the response, only present the score, DO NOT add any premables.\"\"\"\n",
    "\n",
    "    groundtruth_answer = dspy.InputField(desc=\"groundtruth answer\")\n",
    "    predicted_answer = dspy.InputField(desc=\"predicted answer\")\n",
    "    factually_correct = dspy.OutputField(desc=\"Is the predicted answer factually correct and semantically similar to the groundtruth answer?\") #, prefix=\"Factual[True/False]:\")\n"
   ]
  },
  {
   "cell_type": "code",
   "execution_count": 44,
   "id": "fffc6568",
   "metadata": {},
   "outputs": [],
   "source": [
    "factualityJudge_1 = dspy.ChainOfThought(FactualityJudge_1)"
   ]
  },
  {
   "cell_type": "markdown",
   "id": "c0d6c653",
   "metadata": {},
   "source": [
    "Define the factuality metric for DSPy evaluate to run through LLM response/answer, and use LLM judge to generate evaluation metrics"
   ]
  },
  {
   "cell_type": "code",
   "execution_count": 45,
   "id": "fa760a37",
   "metadata": {
    "tags": []
   },
   "outputs": [],
   "source": [
    "def factuality_metric_1(gt_answer, pred_answer):\n",
    "    #print(f\" type(gt_answer) :: {type(gt_answer)}\")\n",
    "    #if type(gt_answer) == \"<class 'dspy.primitives.example.Example'>\":\n",
    "    pred_answer = gt_answer.pred_answer\n",
    "    gt_answer = gt_answer.gt_answer\n",
    "        \n",
    "        \n",
    "    factual_metrc = factualityJudge_1(groundtruth_answer=gt_answer, predicted_answer=pred_answer), \n",
    "    '''\n",
    "    #debug\n",
    "    print(f\"\\n factual LLM judge  >>>>>>>> {factual_metrc}\")\n",
    "    print(f\"\\n factual LLM judge  >>>>>>>> {factual_metrc[0].factually_correct}\")\n",
    "    print(f\"\\n gt_answer  >>>>>>>  {gt_answer}\")\n",
    "    print(f\"\\n pred_answer  >>>>>>> {pred_answer}\")\n",
    "    '''\n",
    "    llm_judge_ans = float(factual_metrc[0].factually_correct)\n",
    "    print(f\"llm_judge_ans = {llm_judge_ans}\")\n",
    "    return llm_judge_ans"
   ]
  },
  {
   "cell_type": "code",
   "execution_count": 46,
   "id": "823c7641",
   "metadata": {},
   "outputs": [],
   "source": [
    "metric_LLM_1 = factuality_metric_1"
   ]
  },
  {
   "cell_type": "markdown",
   "id": "99caf85c",
   "metadata": {},
   "source": [
    "LLM Judge class to generate the answer and factual consistency"
   ]
  },
  {
   "cell_type": "code",
   "execution_count": 47,
   "id": "a123c6de",
   "metadata": {},
   "outputs": [],
   "source": [
    "class LLMJudge_1(dspy.Module):\n",
    "    def __init__(self):\n",
    "        super().__init__()\n",
    "        self.generate_answer = dspy.ChainOfThought(FactualityJudge_1)\n",
    "    \n",
    "    def forward(self, gt_answer, pred_answer):\n",
    "        factual = self.generate_answer(groundtruth_answer=gt_answer, predicted_answer=pred_answer)\n",
    "        #print(f\"factual LLM judge reasoning {factual}\")\n",
    "        llm_judge_ans = factual.factually_correct\n",
    "        \n",
    "        return llm_judge_ans"
   ]
  },
  {
   "cell_type": "code",
   "execution_count": 48,
   "id": "f4253430-4b57-4047-805c-4d5cae669bda",
   "metadata": {},
   "outputs": [],
   "source": [
    "llm_judge_1 = LLMJudge_1()"
   ]
  },
  {
   "cell_type": "markdown",
   "id": "b7ea6902",
   "metadata": {},
   "source": [
    "Batch evaluation using LLM-Judge class for dataset in dataframe format "
   ]
  },
  {
   "cell_type": "code",
   "execution_count": 49,
   "id": "82942678",
   "metadata": {},
   "outputs": [],
   "source": [
    "def get_judge_score_1(test_data):\n",
    "    scores = []\n",
    "\n",
    "    for index, row in test_data.iterrows():\n",
    "        #print(\"=== \",index,\" ===\")\n",
    "        #print(f\"---------------\")\n",
    "        #print(f\"row['ref_answer'] >>>  {row['ref_answer']}\")\n",
    "        #print(f\"row['response'] {row['response']}\")\n",
    "        llm_judge_ans = float(llm_judge_1(row['ref_answer'], row['response']))\n",
    "        #print(f\"llm_judge_ans :: {llm_judge_ans}\")\n",
    "        scores.append(llm_judge_ans)\n",
    "        print(index,':',llm_judge_ans, end='|')\n",
    "\n",
    "    accuracy_score = sum(scores)/len(scores)\n",
    "    \n",
    "    return accuracy_score"
   ]
  },
  {
   "cell_type": "markdown",
   "id": "2c3d80b2",
   "metadata": {},
   "source": [
    "### LLM judge metrics by dspy "
   ]
  },
  {
   "cell_type": "markdown",
   "id": "99f1d213",
   "metadata": {},
   "source": [
    "Evaluation scores for SFT results by LLM-judge class"
   ]
  },
  {
   "cell_type": "code",
   "execution_count": 50,
   "id": "ec4fabb0",
   "metadata": {},
   "outputs": [
    {
     "name": "stdout",
     "output_type": "stream",
     "text": [
      "0 : 1.0|1 : 0.3|2 : 0.2|3 : 1.0|4 : 1.0|5 : 1.0|6 : 1.0|7 : 0.9|8 : 0.0|9 : 0.0|10 : 0.2|11 : 0.2|12 : 0.6|13 : 0.2|14 : 0.0|15 : 0.0|16 : 1.0|17 : 0.0|18 : 0.1|19 : 0.2|20 : 0.9|21 : 0.3|22 : 0.9|23 : 0.2|24 : 1.0|25 : 0.1|26 : 0.0|27 : 0.3|28 : 1.0|29 : 0.8|30 : 0.1|31 : 0.9|"
     ]
    },
    {
     "data": {
      "text/plain": [
       "0.48125000000000007"
      ]
     },
     "execution_count": 50,
     "metadata": {},
     "output_type": "execute_result"
    }
   ],
   "source": [
    "sft_score_1 = get_judge_score_1(df_sft_data)\n",
    "sft_score_1"
   ]
  },
  {
   "cell_type": "markdown",
   "id": "fd843654",
   "metadata": {},
   "source": [
    "Evaluation scores for SFT results by dspy"
   ]
  },
  {
   "cell_type": "code",
   "execution_count": 51,
   "id": "998d96e8",
   "metadata": {},
   "outputs": [
    {
     "name": "stdout",
     "output_type": "stream",
     "text": [
      "  0%|          | 0/32 [00:00<?, ?it/s]llm_judge_ans = 1.0\n",
      "Average Metric: 1.0 / 1  (100.0):   3%|▎         | 1/32 [00:03<01:39,  3.21s/it]llm_judge_ans = 0.3\n",
      "Average Metric: 1.3 / 2  (65.0):   6%|▋         | 2/32 [00:08<02:05,  4.19s/it] llm_judge_ans = 0.2\n",
      "Average Metric: 1.5 / 3  (50.0):   9%|▉         | 3/32 [00:13<02:12,  4.56s/it]llm_judge_ans = 1.0\n",
      "Average Metric: 2.5 / 4  (62.5):  12%|█▎        | 4/32 [00:17<02:08,  4.60s/it]llm_judge_ans = 1.0\n",
      "Average Metric: 3.5 / 5  (70.0):  16%|█▌        | 5/32 [00:23<02:13,  4.94s/it]llm_judge_ans = 1.0\n",
      "Average Metric: 4.5 / 6  (75.0):  19%|█▉        | 6/32 [00:27<02:05,  4.83s/it]llm_judge_ans = 1.0\n",
      "Average Metric: 5.5 / 7  (78.6):  22%|██▏       | 7/32 [00:32<01:58,  4.73s/it]llm_judge_ans = 0.9\n",
      "Average Metric: 6.4 / 8  (80.0):  25%|██▌       | 8/32 [00:36<01:51,  4.66s/it]llm_judge_ans = 0.0\n",
      "Average Metric: 6.4 / 9  (71.1):  28%|██▊       | 9/32 [00:43<01:59,  5.21s/it]llm_judge_ans = 0.0\n",
      "Average Metric: 6.4 / 10  (64.0):  31%|███▏      | 10/32 [00:47<01:47,  4.88s/it]llm_judge_ans = 0.2\n",
      "Average Metric: 6.6000000000000005 / 11  (60.0):  34%|███▍      | 11/32 [00:51<01:37,  4.66s/it]llm_judge_ans = 0.2\n",
      "Average Metric: 6.800000000000001 / 12  (56.7):  38%|███▊      | 12/32 [00:57<01:40,  5.04s/it] llm_judge_ans = 0.7\n",
      "Average Metric: 7.500000000000001 / 13  (57.7):  41%|████      | 13/32 [01:01<01:26,  4.57s/it]llm_judge_ans = 0.2\n",
      "Average Metric: 7.700000000000001 / 14  (55.0):  44%|████▍     | 14/32 [01:05<01:23,  4.64s/it]llm_judge_ans = 0.0\n",
      "Average Metric: 7.700000000000001 / 15  (51.3):  47%|████▋     | 15/32 [01:11<01:23,  4.89s/it]llm_judge_ans = 0.0\n",
      "Average Metric: 7.700000000000001 / 16  (48.1):  50%|█████     | 16/32 [01:15<01:14,  4.65s/it]llm_judge_ans = 1.0\n",
      "Average Metric: 8.700000000000001 / 17  (51.2):  53%|█████▎    | 17/32 [01:20<01:11,  4.74s/it]llm_judge_ans = 0.0\n",
      "Average Metric: 8.700000000000001 / 18  (48.3):  56%|█████▋    | 18/32 [01:24<01:04,  4.62s/it]llm_judge_ans = 0.1\n",
      "Average Metric: 8.8 / 19  (46.3):  59%|█████▉    | 19/32 [01:30<01:03,  4.86s/it]              llm_judge_ans = 0.2\n",
      "Average Metric: 9.0 / 20  (45.0):  62%|██████▎   | 20/32 [01:34<00:57,  4.82s/it]llm_judge_ans = 0.9\n",
      "Average Metric: 9.9 / 21  (47.1):  66%|██████▌   | 21/32 [01:39<00:51,  4.72s/it]llm_judge_ans = 0.3\n",
      "Average Metric: 10.200000000000001 / 22  (46.4):  69%|██████▉   | 22/32 [01:44<00:49,  4.95s/it]llm_judge_ans = 0.9\n",
      "Average Metric: 11.100000000000001 / 23  (48.3):  72%|███████▏  | 23/32 [01:48<00:42,  4.70s/it]llm_judge_ans = 0.2\n",
      "Average Metric: 11.3 / 24  (47.1):  75%|███████▌  | 24/32 [01:53<00:37,  4.69s/it]              llm_judge_ans = 1.0\n",
      "Average Metric: 12.3 / 25  (49.2):  78%|███████▊  | 25/32 [01:58<00:33,  4.75s/it]llm_judge_ans = 0.1\n",
      "Average Metric: 12.4 / 26  (47.7):  81%|████████▏ | 26/32 [02:03<00:28,  4.78s/it]llm_judge_ans = 0.0\n",
      "Average Metric: 12.4 / 27  (45.9):  84%|████████▍ | 27/32 [02:09<00:26,  5.23s/it]llm_judge_ans = 0.3\n",
      "Average Metric: 12.700000000000001 / 28  (45.4):  88%|████████▊ | 28/32 [02:13<00:18,  4.69s/it]llm_judge_ans = 1.0\n",
      "Average Metric: 13.700000000000001 / 29  (47.2):  91%|█████████ | 29/32 [02:19<00:16,  5.35s/it]llm_judge_ans = 0.8\n",
      "Average Metric: 14.500000000000002 / 30  (48.3):  94%|█████████▍| 30/32 [02:24<00:09,  4.98s/it]llm_judge_ans = 0.1\n",
      "Average Metric: 14.600000000000001 / 31  (47.1):  97%|█████████▋| 31/32 [02:27<00:04,  4.40s/it]llm_judge_ans = 0.9\n",
      "Average Metric: 15.500000000000002 / 32  (48.4): 100%|██████████| 32/32 [02:32<00:00,  4.76s/it]"
     ]
    },
    {
     "name": "stderr",
     "output_type": "stream",
     "text": [
      "2024/11/14 21:59:51 INFO dspy.evaluate.evaluate: Average Metric: 15.500000000000002 / 32 (48.4%)\n"
     ]
    },
    {
     "name": "stdout",
     "output_type": "stream",
     "text": [
      "\n",
      "------------- Final DSPy Evaluation score :::: 48.44 ---------\n"
     ]
    }
   ],
   "source": [
    "evaluate_llm_judge = Evaluate(devset=generate_dspy_example_dataset(df_sft_data), \n",
    "                              metric=metric_LLM_1, \n",
    "                              num_threads=1, \n",
    "                              display_progress=True, \n",
    "                              display_table=0, \n",
    "                              provide_traceback=True)\n",
    "\n",
    "eval_score = evaluate_llm_judge(llm_judge_1, num_threads=1)\n",
    "print(f\"------------- Final DSPy Evaluation score :::: {eval_score} ---------\")"
   ]
  },
  {
   "cell_type": "code",
   "execution_count": 52,
   "id": "5c18106c-7d4a-45ed-a8cc-3c93e786bed3",
   "metadata": {},
   "outputs": [
    {
     "data": {
      "text/plain": [
       "0.4844"
      ]
     },
     "execution_count": 52,
     "metadata": {},
     "output_type": "execute_result"
    }
   ],
   "source": [
    "sft_score_1 = eval_score/100\n",
    "sft_score_1"
   ]
  },
  {
   "cell_type": "markdown",
   "id": "7eab3061",
   "metadata": {},
   "source": [
    "Evaluation scores for DPO results by LLM-judge class"
   ]
  },
  {
   "cell_type": "code",
   "execution_count": 53,
   "id": "a24ece8a",
   "metadata": {},
   "outputs": [
    {
     "name": "stdout",
     "output_type": "stream",
     "text": [
      "0 : 1.0|1 : 1.0|2 : 0.2|3 : 0.2|4 : 0.9|5 : 1.0|6 : 0.2|7 : 1.0|8 : 0.2|9 : 0.2|10 : 1.0|11 : 1.0|12 : 1.0|13 : 0.2|14 : 1.0|15 : 0.9|16 : 1.0|17 : 0.0|18 : 0.1|19 : 0.1|20 : 1.0|21 : 0.9|22 : 0.9|23 : 1.0|24 : 1.0|25 : 0.3|26 : 0.1|27 : 0.2|28 : 1.0|29 : 0.9|30 : 1.0|31 : 1.0|"
     ]
    },
    {
     "data": {
      "text/plain": [
       "0.671875"
      ]
     },
     "execution_count": 53,
     "metadata": {},
     "output_type": "execute_result"
    }
   ],
   "source": [
    "dpo_score_1 = get_judge_score_1(df_dpo_data)\n",
    "dpo_score_1"
   ]
  },
  {
   "cell_type": "markdown",
   "id": "fd98ee77",
   "metadata": {},
   "source": [
    "Evaluation scores for DPO results by LLM-judge class"
   ]
  },
  {
   "cell_type": "code",
   "execution_count": 54,
   "id": "861bd7ca-1da2-4aed-b84a-667721fc695f",
   "metadata": {},
   "outputs": [
    {
     "name": "stdout",
     "output_type": "stream",
     "text": [
      "  0%|          | 0/32 [00:00<?, ?it/s]llm_judge_ans = 1.0\n",
      "Average Metric: 1.0 / 1  (100.0):   3%|▎         | 1/32 [00:03<02:03,  3.98s/it]llm_judge_ans = 1.0\n",
      "Average Metric: 2.0 / 2  (100.0):   6%|▋         | 2/32 [00:10<02:38,  5.27s/it]llm_judge_ans = 0.2\n",
      "Average Metric: 2.2 / 3  (73.3):   9%|▉         | 3/32 [00:14<02:15,  4.69s/it] llm_judge_ans = 0.2\n",
      "Average Metric: 2.4000000000000004 / 4  (60.0):  12%|█▎        | 4/32 [00:18<02:04,  4.46s/it]llm_judge_ans = 0.9\n",
      "Average Metric: 3.3000000000000003 / 5  (66.0):  16%|█▌        | 5/32 [00:24<02:16,  5.05s/it]llm_judge_ans = 1.0\n",
      "Average Metric: 4.300000000000001 / 6  (71.7):  19%|█▉        | 6/32 [00:28<01:59,  4.61s/it] llm_judge_ans = 0.2\n",
      "Average Metric: 4.500000000000001 / 7  (64.3):  22%|██▏       | 7/32 [00:33<02:00,  4.80s/it]llm_judge_ans = 1.0\n",
      "Average Metric: 5.500000000000001 / 8  (68.8):  25%|██▌       | 8/32 [00:37<01:51,  4.63s/it]llm_judge_ans = 0.2\n",
      "Average Metric: 5.700000000000001 / 9  (63.3):  28%|██▊       | 9/32 [00:42<01:51,  4.84s/it]llm_judge_ans = 0.2\n",
      "Average Metric: 5.900000000000001 / 10  (59.0):  31%|███▏      | 10/32 [00:47<01:47,  4.89s/it]llm_judge_ans = 1.0\n",
      "Average Metric: 6.900000000000001 / 11  (62.7):  34%|███▍      | 11/32 [00:52<01:39,  4.75s/it]llm_judge_ans = 1.0\n",
      "Average Metric: 7.900000000000001 / 12  (65.8):  38%|███▊      | 12/32 [00:59<01:49,  5.49s/it]llm_judge_ans = 1.0\n",
      "Average Metric: 8.900000000000002 / 13  (68.5):  41%|████      | 13/32 [01:03<01:33,  4.93s/it]llm_judge_ans = 0.2\n",
      "Average Metric: 9.100000000000001 / 14  (65.0):  44%|████▍     | 14/32 [01:06<01:21,  4.53s/it]llm_judge_ans = 1.0\n",
      "Average Metric: 10.100000000000001 / 15  (67.3):  47%|████▋     | 15/32 [01:11<01:17,  4.56s/it]llm_judge_ans = 0.9\n",
      "Average Metric: 11.000000000000002 / 16  (68.8):  50%|█████     | 16/32 [01:18<01:23,  5.25s/it]llm_judge_ans = 1.0\n",
      "Average Metric: 12.000000000000002 / 17  (70.6):  53%|█████▎    | 17/32 [01:20<01:06,  4.43s/it]llm_judge_ans = 0.0\n",
      "Average Metric: 12.000000000000002 / 18  (66.7):  56%|█████▋    | 18/32 [01:25<01:04,  4.61s/it]llm_judge_ans = 0.1\n",
      "Average Metric: 12.100000000000001 / 19  (63.7):  59%|█████▉    | 19/32 [01:33<01:10,  5.44s/it]llm_judge_ans = 0.1\n",
      "Average Metric: 12.200000000000001 / 20  (61.0):  62%|██████▎   | 20/32 [01:35<00:55,  4.66s/it]llm_judge_ans = 1.0\n",
      "Average Metric: 13.200000000000001 / 21  (62.9):  66%|██████▌   | 21/32 [01:41<00:53,  4.87s/it]llm_judge_ans = 0.9\n",
      "Average Metric: 14.100000000000001 / 22  (64.1):  69%|██████▉   | 22/32 [01:45<00:46,  4.61s/it]llm_judge_ans = 0.9\n",
      "Average Metric: 15.000000000000002 / 23  (65.2):  72%|███████▏  | 23/32 [01:49<00:41,  4.62s/it]llm_judge_ans = 1.0\n",
      "Average Metric: 16.0 / 24  (66.7):  75%|███████▌  | 24/32 [01:54<00:37,  4.63s/it]              llm_judge_ans = 1.0\n",
      "Average Metric: 17.0 / 25  (68.0):  78%|███████▊  | 25/32 [01:59<00:32,  4.63s/it]llm_judge_ans = 0.3\n",
      "Average Metric: 17.3 / 26  (66.5):  81%|████████▏ | 26/32 [02:04<00:28,  4.72s/it]llm_judge_ans = 0.1\n",
      "Average Metric: 17.400000000000002 / 27  (64.4):  84%|████████▍ | 27/32 [02:08<00:23,  4.71s/it]llm_judge_ans = 0.2\n",
      "Average Metric: 17.6 / 28  (62.9):  88%|████████▊ | 28/32 [02:15<00:21,  5.38s/it]              llm_judge_ans = 1.0\n",
      "Average Metric: 18.6 / 29  (64.1):  91%|█████████ | 29/32 [02:18<00:13,  4.54s/it]llm_judge_ans = 0.9\n",
      "Average Metric: 19.5 / 30  (65.0):  94%|█████████▍| 30/32 [02:24<00:09,  4.99s/it]llm_judge_ans = 1.0\n",
      "Average Metric: 20.5 / 31  (66.1):  97%|█████████▋| 31/32 [02:32<00:05,  5.90s/it]llm_judge_ans = 1.0\n",
      "Average Metric: 21.5 / 32  (67.2): 100%|██████████| 32/32 [02:35<00:00,  4.86s/it]"
     ]
    },
    {
     "name": "stderr",
     "output_type": "stream",
     "text": [
      "2024/11/14 22:03:44 INFO dspy.evaluate.evaluate: Average Metric: 21.5 / 32 (67.2%)\n"
     ]
    },
    {
     "name": "stdout",
     "output_type": "stream",
     "text": [
      "\n",
      "------------- Final DSPy Evaluation score :::: 67.19 ---------\n"
     ]
    }
   ],
   "source": [
    "evaluate_llm_judge = Evaluate(devset=generate_dspy_example_dataset(df_dpo_data), \n",
    "                              metric=metric_LLM_1, \n",
    "                              num_threads=1, \n",
    "                              display_progress=True, \n",
    "                              display_table=0, \n",
    "                              provide_traceback=True)\n",
    "\n",
    "eval_score = evaluate_llm_judge(llm_judge_1, num_threads=1)\n",
    "print(f\"------------- Final DSPy Evaluation score :::: {eval_score} ---------\")"
   ]
  },
  {
   "cell_type": "code",
   "execution_count": 55,
   "id": "875a7e9c-18b5-44db-9f0a-f2a3151a98e9",
   "metadata": {},
   "outputs": [
    {
     "data": {
      "text/plain": [
       "0.6718999999999999"
      ]
     },
     "execution_count": 55,
     "metadata": {},
     "output_type": "execute_result"
    }
   ],
   "source": [
    "dpo_score_1 = eval_score/100\n",
    "dpo_score_1"
   ]
  },
  {
   "cell_type": "markdown",
   "id": "ae572ca6",
   "metadata": {},
   "source": [
    "Evaluation scores for ORPO results by LLM-judge class"
   ]
  },
  {
   "cell_type": "code",
   "execution_count": 56,
   "id": "8dd84a67",
   "metadata": {},
   "outputs": [
    {
     "name": "stdout",
     "output_type": "stream",
     "text": [
      "0 : 1.0|1 : 1.0|2 : 0.2|3 : 0.2|4 : 0.9|5 : 1.0|6 : 0.2|7 : 1.0|8 : 0.2|9 : 0.2|10 : 1.0|11 : 1.0|12 : 0.9|13 : 0.2|14 : 1.0|15 : 1.0|16 : 1.0|17 : 0.0|18 : 0.1|19 : 0.1|20 : 1.0|21 : 0.9|22 : 0.9|23 : 1.0|24 : 1.0|25 : 0.8|26 : 0.0|27 : 0.2|28 : 1.0|29 : 0.9|30 : 1.0|31 : 1.0|"
     ]
    },
    {
     "data": {
      "text/plain": [
       "0.684375"
      ]
     },
     "execution_count": 56,
     "metadata": {},
     "output_type": "execute_result"
    }
   ],
   "source": [
    "orpo_score_1 = get_judge_score_1(df_orpo_data)\n",
    "orpo_score_1"
   ]
  },
  {
   "cell_type": "markdown",
   "id": "a8a51dcf",
   "metadata": {},
   "source": [
    "Evaluation scores for ORPO results by dspy"
   ]
  },
  {
   "cell_type": "code",
   "execution_count": 57,
   "id": "f40dbfd4",
   "metadata": {},
   "outputs": [
    {
     "name": "stdout",
     "output_type": "stream",
     "text": [
      "  0%|          | 0/32 [00:00<?, ?it/s]llm_judge_ans = 1.0\n",
      "Average Metric: 1.0 / 1  (100.0):   3%|▎         | 1/32 [00:04<02:13,  4.30s/it]llm_judge_ans = 1.0\n",
      "Average Metric: 2.0 / 2  (100.0):   6%|▋         | 2/32 [00:09<02:31,  5.05s/it]llm_judge_ans = 0.2\n",
      "Average Metric: 2.2 / 3  (73.3):   9%|▉         | 3/32 [00:14<02:15,  4.67s/it] llm_judge_ans = 0.2\n",
      "Average Metric: 2.4000000000000004 / 4  (60.0):  12%|█▎        | 4/32 [00:19<02:14,  4.79s/it]llm_judge_ans = 0.9\n",
      "Average Metric: 3.3000000000000003 / 5  (66.0):  16%|█▌        | 5/32 [00:23<02:10,  4.82s/it]llm_judge_ans = 1.0\n",
      "Average Metric: 4.300000000000001 / 6  (71.7):  19%|█▉        | 6/32 [00:28<02:06,  4.86s/it] llm_judge_ans = 0.2\n",
      "Average Metric: 4.500000000000001 / 7  (64.3):  22%|██▏       | 7/32 [00:34<02:03,  4.96s/it]llm_judge_ans = 1.0\n",
      "Average Metric: 5.500000000000001 / 8  (68.8):  25%|██▌       | 8/32 [00:38<01:52,  4.69s/it]llm_judge_ans = 0.2\n",
      "Average Metric: 5.700000000000001 / 9  (63.3):  28%|██▊       | 9/32 [00:43<01:52,  4.88s/it]llm_judge_ans = 0.2\n",
      "Average Metric: 5.900000000000001 / 10  (59.0):  31%|███▏      | 10/32 [00:48<01:51,  5.08s/it]llm_judge_ans = 1.0\n",
      "Average Metric: 6.900000000000001 / 11  (62.7):  34%|███▍      | 11/32 [00:52<01:35,  4.53s/it]llm_judge_ans = 1.0\n",
      "Average Metric: 7.900000000000001 / 12  (65.8):  38%|███▊      | 12/32 [00:56<01:29,  4.49s/it]llm_judge_ans = 0.9\n",
      "Average Metric: 8.8 / 13  (67.7):  41%|████      | 13/32 [01:01<01:28,  4.67s/it]              llm_judge_ans = 0.2\n",
      "Average Metric: 9.0 / 14  (64.3):  44%|████▍     | 14/32 [01:05<01:21,  4.52s/it]llm_judge_ans = 1.0\n",
      "Average Metric: 10.0 / 15  (66.7):  47%|████▋     | 15/32 [01:10<01:18,  4.62s/it]llm_judge_ans = 1.0\n",
      "Average Metric: 11.0 / 16  (68.8):  50%|█████     | 16/32 [01:17<01:24,  5.26s/it]llm_judge_ans = 1.0\n",
      "Average Metric: 12.0 / 17  (70.6):  53%|█████▎    | 17/32 [01:21<01:14,  4.99s/it]llm_judge_ans = 0.0\n",
      "Average Metric: 12.0 / 18  (66.7):  56%|█████▋    | 18/32 [01:25<01:03,  4.54s/it]llm_judge_ans = 0.1\n",
      "Average Metric: 12.1 / 19  (63.7):  59%|█████▉    | 19/32 [01:30<01:00,  4.66s/it]llm_judge_ans = 0.1\n",
      "Average Metric: 12.2 / 20  (61.0):  62%|██████▎   | 20/32 [01:36<01:00,  5.07s/it]llm_judge_ans = 1.0\n",
      "Average Metric: 13.2 / 21  (62.9):  66%|██████▌   | 21/32 [01:40<00:53,  4.86s/it]llm_judge_ans = 0.9\n",
      "Average Metric: 14.1 / 22  (64.1):  69%|██████▉   | 22/32 [01:45<00:48,  4.81s/it]llm_judge_ans = 0.9\n",
      "Average Metric: 15.0 / 23  (65.2):  72%|███████▏  | 23/32 [01:50<00:42,  4.76s/it]llm_judge_ans = 1.0\n",
      "Average Metric: 16.0 / 24  (66.7):  75%|███████▌  | 24/32 [01:53<00:35,  4.50s/it]llm_judge_ans = 1.0\n",
      "Average Metric: 17.0 / 25  (68.0):  78%|███████▊  | 25/32 [01:58<00:32,  4.60s/it]llm_judge_ans = 0.8\n",
      "Average Metric: 17.8 / 26  (68.5):  81%|████████▏ | 26/32 [02:03<00:27,  4.63s/it]llm_judge_ans = 0.0\n",
      "Average Metric: 17.8 / 27  (65.9):  84%|████████▍ | 27/32 [02:08<00:23,  4.73s/it]llm_judge_ans = 0.2\n",
      "Average Metric: 18.0 / 28  (64.3):  88%|████████▊ | 28/32 [02:13<00:19,  4.82s/it]llm_judge_ans = 1.0\n",
      "Average Metric: 19.0 / 29  (65.5):  91%|█████████ | 29/32 [02:18<00:14,  4.89s/it]llm_judge_ans = 0.9\n",
      "Average Metric: 19.9 / 30  (66.3):  94%|█████████▍| 30/32 [02:24<00:10,  5.16s/it]llm_judge_ans = 1.0\n",
      "Average Metric: 20.9 / 31  (67.4):  97%|█████████▋| 31/32 [02:27<00:04,  4.42s/it]llm_judge_ans = 1.0\n",
      "Average Metric: 21.9 / 32  (68.4): 100%|██████████| 32/32 [02:37<00:00,  4.92s/it]"
     ]
    },
    {
     "name": "stderr",
     "output_type": "stream",
     "text": [
      "2024/11/14 22:07:36 INFO dspy.evaluate.evaluate: Average Metric: 21.9 / 32 (68.4%)\n"
     ]
    },
    {
     "name": "stdout",
     "output_type": "stream",
     "text": [
      "\n",
      "------------- Final DSPy Evaluation score :::: 68.44 ---------\n"
     ]
    }
   ],
   "source": [
    "evaluate_llm_judge = Evaluate(devset=generate_dspy_example_dataset(df_orpo_data), \n",
    "                              metric=metric_LLM_1, \n",
    "                              num_threads=1, \n",
    "                              display_progress=True, \n",
    "                              display_table=0, \n",
    "                              provide_traceback=True)\n",
    "\n",
    "eval_score = evaluate_llm_judge(llm_judge_1, num_threads=1)\n",
    "print(f\"------------- Final DSPy Evaluation score :::: {eval_score} ---------\")"
   ]
  },
  {
   "cell_type": "code",
   "execution_count": 58,
   "id": "fd5db4ef-0941-4985-afe7-07d81b3f219e",
   "metadata": {},
   "outputs": [
    {
     "data": {
      "text/plain": [
       "0.6844"
      ]
     },
     "execution_count": 58,
     "metadata": {},
     "output_type": "execute_result"
    }
   ],
   "source": [
    "orpo_score_1 = eval_score/100\n",
    "orpo_score_1"
   ]
  },
  {
   "cell_type": "markdown",
   "id": "ba86b22b",
   "metadata": {},
   "source": [
    "Evaluation scores for RAG HAIKU results by LLM-judge class"
   ]
  },
  {
   "cell_type": "code",
   "execution_count": 59,
   "id": "fa00992a",
   "metadata": {},
   "outputs": [
    {
     "name": "stdout",
     "output_type": "stream",
     "text": [
      "0 : 0.0|1 : 1.0|2 : 0.1|3 : 0.1|4 : 0.8|5 : 0.3|6 : 0.5|7 : 1.0|8 : 0.2|9 : 0.8|10 : 0.3|11 : 0.2|12 : 0.9|13 : 0.0|14 : 0.0|15 : 1.0|16 : 0.9|17 : 0.8|18 : 0.1|19 : 0.1|20 : 0.2|21 : 0.3|22 : 0.1|23 : 0.8|24 : 0.8|25 : 0.8|26 : 0.3|27 : 0.0|28 : 0.9|29 : 0.5|30 : 0.2|31 : 0.0|"
     ]
    },
    {
     "data": {
      "text/plain": [
       "0.43750000000000006"
      ]
     },
     "execution_count": 59,
     "metadata": {},
     "output_type": "execute_result"
    }
   ],
   "source": [
    "rag_haiku_score_1 = get_judge_score_1(df_rag_haiku_data)\n",
    "rag_haiku_score_1"
   ]
  },
  {
   "cell_type": "markdown",
   "id": "29b8b4f3",
   "metadata": {},
   "source": [
    "Evaluation scores for RAG HAIKU results by dspy"
   ]
  },
  {
   "cell_type": "code",
   "execution_count": 60,
   "id": "bab1f187-d865-47e1-bc83-0fb439a65d4e",
   "metadata": {},
   "outputs": [
    {
     "name": "stdout",
     "output_type": "stream",
     "text": [
      "  0%|          | 0/32 [00:00<?, ?it/s]llm_judge_ans = 0.1\n",
      "Average Metric: 0.1 / 1  (10.0):   3%|▎         | 1/32 [00:04<02:19,  4.50s/it]llm_judge_ans = 1.0\n",
      "Average Metric: 1.1 / 2  (55.0):   6%|▋         | 2/32 [00:09<02:26,  4.87s/it]llm_judge_ans = 0.1\n",
      "Average Metric: 1.2000000000000002 / 3  (40.0):   9%|▉         | 3/32 [00:13<02:13,  4.62s/it]llm_judge_ans = 0.1\n",
      "Average Metric: 1.3000000000000003 / 4  (32.5):  12%|█▎        | 4/32 [00:19<02:21,  5.05s/it]llm_judge_ans = 0.8\n",
      "Average Metric: 2.1000000000000005 / 5  (42.0):  16%|█▌        | 5/32 [00:23<02:07,  4.71s/it]llm_judge_ans = 0.3\n",
      "Average Metric: 2.4000000000000004 / 6  (40.0):  19%|█▉        | 6/32 [00:28<02:02,  4.71s/it]llm_judge_ans = 0.5\n",
      "Average Metric: 2.9000000000000004 / 7  (41.4):  22%|██▏       | 7/32 [00:33<01:59,  4.79s/it]llm_judge_ans = 1.0\n",
      "Average Metric: 3.9000000000000004 / 8  (48.8):  25%|██▌       | 8/32 [00:38<01:58,  4.92s/it]llm_judge_ans = 0.2\n",
      "Average Metric: 4.1000000000000005 / 9  (45.6):  28%|██▊       | 9/32 [00:42<01:48,  4.70s/it]llm_judge_ans = 0.8\n",
      "Average Metric: 4.9 / 10  (49.0):  31%|███▏      | 10/32 [00:47<01:45,  4.79s/it]             llm_judge_ans = 0.3\n",
      "Average Metric: 5.2 / 11  (47.3):  34%|███▍      | 11/32 [00:52<01:42,  4.90s/it]llm_judge_ans = 0.2\n",
      "Average Metric: 5.4 / 12  (45.0):  38%|███▊      | 12/32 [00:57<01:37,  4.87s/it]llm_judge_ans = 0.9\n",
      "Average Metric: 6.300000000000001 / 13  (48.5):  41%|████      | 13/32 [01:02<01:28,  4.68s/it]llm_judge_ans = 0.0\n",
      "Average Metric: 6.300000000000001 / 14  (45.0):  44%|████▍     | 14/32 [01:09<01:37,  5.41s/it]llm_judge_ans = 0.0\n",
      "Average Metric: 6.300000000000001 / 15  (42.0):  47%|████▋     | 15/32 [01:12<01:21,  4.78s/it]llm_judge_ans = 1.0\n",
      "Average Metric: 7.300000000000001 / 16  (45.6):  50%|█████     | 16/32 [01:18<01:21,  5.07s/it]llm_judge_ans = 0.9\n",
      "Average Metric: 8.200000000000001 / 17  (48.2):  53%|█████▎    | 17/32 [01:23<01:19,  5.28s/it]llm_judge_ans = 0.8\n",
      "Average Metric: 9.000000000000002 / 18  (50.0):  56%|█████▋    | 18/32 [01:26<01:02,  4.43s/it]llm_judge_ans = 0.1\n",
      "Average Metric: 9.100000000000001 / 19  (47.9):  59%|█████▉    | 19/32 [01:31<01:00,  4.68s/it]llm_judge_ans = 0.1\n",
      "Average Metric: 9.200000000000001 / 20  (46.0):  62%|██████▎   | 20/32 [01:36<00:57,  4.76s/it]llm_judge_ans = 0.2\n",
      "Average Metric: 9.4 / 21  (44.8):  66%|██████▌   | 21/32 [01:40<00:49,  4.53s/it]              llm_judge_ans = 0.3\n",
      "Average Metric: 9.700000000000001 / 22  (44.1):  69%|██████▉   | 22/32 [01:45<00:45,  4.58s/it]llm_judge_ans = 0.1\n",
      "Average Metric: 9.8 / 23  (42.6):  72%|███████▏  | 23/32 [01:50<00:42,  4.76s/it]              llm_judge_ans = 0.8\n",
      "Average Metric: 10.600000000000001 / 24  (44.2):  75%|███████▌  | 24/32 [01:54<00:37,  4.66s/it]llm_judge_ans = 0.8\n",
      "Average Metric: 11.400000000000002 / 25  (45.6):  78%|███████▊  | 25/32 [01:59<00:32,  4.71s/it]llm_judge_ans = 0.8\n",
      "Average Metric: 12.200000000000003 / 26  (46.9):  81%|████████▏ | 26/32 [02:04<00:28,  4.67s/it]llm_judge_ans = 0.3\n",
      "Average Metric: 12.500000000000004 / 27  (46.3):  84%|████████▍ | 27/32 [02:10<00:26,  5.20s/it]llm_judge_ans = 0.1\n",
      "Average Metric: 12.600000000000003 / 28  (45.0):  88%|████████▊ | 28/32 [02:14<00:19,  4.81s/it]llm_judge_ans = 0.9\n",
      "Average Metric: 13.500000000000004 / 29  (46.6):  91%|█████████ | 29/32 [02:20<00:15,  5.16s/it]llm_judge_ans = 0.5\n",
      "Average Metric: 14.000000000000004 / 30  (46.7):  94%|█████████▍| 30/32 [02:24<00:09,  4.76s/it]llm_judge_ans = 0.2\n",
      "Average Metric: 14.200000000000003 / 31  (45.8):  97%|█████████▋| 31/32 [02:28<00:04,  4.52s/it]llm_judge_ans = 0.0\n",
      "Average Metric: 14.200000000000003 / 32  (44.4): 100%|██████████| 32/32 [02:33<00:00,  4.81s/it]"
     ]
    },
    {
     "name": "stderr",
     "output_type": "stream",
     "text": [
      "2024/11/14 22:11:20 INFO dspy.evaluate.evaluate: Average Metric: 14.200000000000003 / 32 (44.4%)\n"
     ]
    },
    {
     "name": "stdout",
     "output_type": "stream",
     "text": [
      "\n",
      "------------- Final DSPy Evaluation score :::: 44.38 ---------\n"
     ]
    }
   ],
   "source": [
    "evaluate_llm_judge = Evaluate(devset=generate_dspy_example_dataset(df_rag_haiku_data), \n",
    "                              metric=metric_LLM_1, \n",
    "                              num_threads=1, \n",
    "                              display_progress=True, \n",
    "                              display_table=0, \n",
    "                              provide_traceback=True)\n",
    "\n",
    "eval_score = evaluate_llm_judge(llm_judge_1, num_threads=1)\n",
    "print(f\"------------- Final DSPy Evaluation score :::: {eval_score} ---------\")"
   ]
  },
  {
   "cell_type": "code",
   "execution_count": 61,
   "id": "ea3942dd-8a2e-4948-a4ee-ad17cb4c530f",
   "metadata": {},
   "outputs": [
    {
     "data": {
      "text/plain": [
       "0.44380000000000003"
      ]
     },
     "execution_count": 61,
     "metadata": {},
     "output_type": "execute_result"
    }
   ],
   "source": [
    "rag_haiku_score_1 = eval_score/100\n",
    "rag_haiku_score_1"
   ]
  },
  {
   "cell_type": "markdown",
   "id": "d81bf4ad",
   "metadata": {},
   "source": [
    "Evaluation scores for RAG compiled HAIKU results by LLM-judge class"
   ]
  },
  {
   "cell_type": "code",
   "execution_count": 62,
   "id": "acc77eea",
   "metadata": {},
   "outputs": [
    {
     "name": "stdout",
     "output_type": "stream",
     "text": [
      "0 : 0.2|1 : 1.0|2 : 1.0|3 : 1.0|4 : 0.5|5 : 0.9|6 : 0.9|7 : 0.9|8 : 0.8|9 : 0.5|10 : 0.2|11 : 0.1|12 : 0.9|13 : 0.8|14 : 0.2|15 : 0.8|16 : 0.8|17 : 0.9|18 : 0.0|19 : 0.9|20 : 0.9|21 : 0.4|22 : 0.8|23 : 0.6|24 : 0.9|25 : 0.9|26 : 0.9|27 : 0.0|28 : 0.9|29 : 0.5|30 : 0.8|31 : 0.9|"
     ]
    },
    {
     "data": {
      "text/plain": [
       "0.68125"
      ]
     },
     "execution_count": 62,
     "metadata": {},
     "output_type": "execute_result"
    }
   ],
   "source": [
    "ragc_haiku_score_1 = get_judge_score_1(df_ragc_haiku_data)\n",
    "ragc_haiku_score_1"
   ]
  },
  {
   "cell_type": "markdown",
   "id": "63fcf4c2",
   "metadata": {},
   "source": [
    "Evaluation scores for RAG compiled HAIKU results by dspy"
   ]
  },
  {
   "cell_type": "code",
   "execution_count": 63,
   "id": "d0edbc03",
   "metadata": {},
   "outputs": [
    {
     "name": "stdout",
     "output_type": "stream",
     "text": [
      "  0%|          | 0/32 [00:00<?, ?it/s]llm_judge_ans = 0.2\n",
      "Average Metric: 0.2 / 1  (20.0):   3%|▎         | 1/32 [00:05<02:36,  5.03s/it]llm_judge_ans = 1.0\n",
      "Average Metric: 1.2 / 2  (60.0):   6%|▋         | 2/32 [00:09<02:23,  4.77s/it]llm_judge_ans = 1.0\n",
      "Average Metric: 2.2 / 3  (73.3):   9%|▉         | 3/32 [00:14<02:19,  4.83s/it]llm_judge_ans = 1.0\n",
      "Average Metric: 3.2 / 4  (80.0):  12%|█▎        | 4/32 [00:20<02:23,  5.14s/it]llm_judge_ans = 0.5\n",
      "Average Metric: 3.7 / 5  (74.0):  16%|█▌        | 5/32 [00:24<02:06,  4.69s/it]llm_judge_ans = 0.9\n",
      "Average Metric: 4.6000000000000005 / 6  (76.7):  19%|█▉        | 6/32 [00:28<02:01,  4.69s/it]llm_judge_ans = 0.9\n",
      "Average Metric: 5.500000000000001 / 7  (78.6):  22%|██▏       | 7/32 [00:33<01:58,  4.75s/it] llm_judge_ans = 0.9\n",
      "Average Metric: 6.400000000000001 / 8  (80.0):  25%|██▌       | 8/32 [00:39<02:06,  5.28s/it]llm_judge_ans = 0.8\n",
      "Average Metric: 7.200000000000001 / 9  (80.0):  28%|██▊       | 9/32 [00:43<01:46,  4.64s/it]llm_judge_ans = 0.5\n",
      "Average Metric: 7.700000000000001 / 10  (77.0):  31%|███▏      | 10/32 [00:49<01:50,  5.01s/it]llm_judge_ans = 0.2\n",
      "Average Metric: 7.900000000000001 / 11  (71.8):  34%|███▍      | 11/32 [00:52<01:35,  4.54s/it]llm_judge_ans = 0.1\n",
      "Average Metric: 8.000000000000002 / 12  (66.7):  38%|███▊      | 12/32 [00:57<01:32,  4.62s/it]llm_judge_ans = 0.9\n",
      "Average Metric: 8.900000000000002 / 13  (68.5):  41%|████      | 13/32 [01:02<01:30,  4.78s/it]llm_judge_ans = 0.8\n",
      "Average Metric: 9.700000000000003 / 14  (69.3):  44%|████▍     | 14/32 [01:07<01:29,  4.97s/it]llm_judge_ans = 0.2\n",
      "Average Metric: 9.900000000000002 / 15  (66.0):  47%|████▋     | 15/32 [01:12<01:20,  4.71s/it]llm_judge_ans = 0.8\n",
      "Average Metric: 10.700000000000003 / 16  (66.9):  50%|█████     | 16/32 [01:19<01:29,  5.61s/it]llm_judge_ans = 0.8\n",
      "Average Metric: 11.500000000000004 / 17  (67.6):  53%|█████▎    | 17/32 [01:22<01:10,  4.72s/it]llm_judge_ans = 0.9\n",
      "Average Metric: 12.400000000000004 / 18  (68.9):  56%|█████▋    | 18/32 [01:26<01:04,  4.61s/it]llm_judge_ans = 0.0\n",
      "Average Metric: 12.400000000000004 / 19  (65.3):  59%|█████▉    | 19/32 [01:31<00:59,  4.58s/it]llm_judge_ans = 0.9\n",
      "Average Metric: 13.300000000000004 / 20  (66.5):  62%|██████▎   | 20/32 [01:35<00:55,  4.62s/it]llm_judge_ans = 0.9\n",
      "Average Metric: 14.200000000000005 / 21  (67.6):  66%|██████▌   | 21/32 [01:41<00:54,  4.94s/it]llm_judge_ans = 0.3\n",
      "Average Metric: 14.500000000000005 / 22  (65.9):  69%|██████▉   | 22/32 [01:47<00:51,  5.14s/it]llm_judge_ans = 0.8\n",
      "Average Metric: 15.300000000000006 / 23  (66.5):  72%|███████▏  | 23/32 [01:50<00:41,  4.61s/it]llm_judge_ans = 0.6\n",
      "Average Metric: 15.900000000000006 / 24  (66.3):  75%|███████▌  | 24/32 [01:55<00:37,  4.69s/it]llm_judge_ans = 0.9\n",
      "Average Metric: 16.800000000000004 / 25  (67.2):  78%|███████▊  | 25/32 [02:00<00:32,  4.64s/it]llm_judge_ans = 0.9\n",
      "Average Metric: 17.700000000000003 / 26  (68.1):  81%|████████▏ | 26/32 [02:05<00:28,  4.79s/it]llm_judge_ans = 0.9\n",
      "Average Metric: 18.6 / 27  (68.9):  84%|████████▍ | 27/32 [02:09<00:23,  4.71s/it]              llm_judge_ans = 0.0\n",
      "Average Metric: 18.6 / 28  (66.4):  88%|████████▊ | 28/32 [02:14<00:18,  4.74s/it]llm_judge_ans = 0.9\n",
      "Average Metric: 19.5 / 29  (67.2):  91%|█████████ | 29/32 [02:19<00:14,  4.89s/it]llm_judge_ans = 0.5\n",
      "Average Metric: 20.0 / 30  (66.7):  94%|█████████▍| 30/32 [02:24<00:09,  4.93s/it]llm_judge_ans = 0.8\n",
      "Average Metric: 20.8 / 31  (67.1):  97%|█████████▋| 31/32 [02:29<00:04,  4.78s/it]llm_judge_ans = 0.9\n",
      "Average Metric: 21.7 / 32  (67.8): 100%|██████████| 32/32 [02:33<00:00,  4.80s/it]"
     ]
    },
    {
     "name": "stderr",
     "output_type": "stream",
     "text": [
      "2024/11/14 22:15:10 INFO dspy.evaluate.evaluate: Average Metric: 21.7 / 32 (67.8%)\n"
     ]
    },
    {
     "name": "stdout",
     "output_type": "stream",
     "text": [
      "\n",
      "------------- Final DSPy Evaluation score :::: 67.81 ---------\n"
     ]
    }
   ],
   "source": [
    "evaluate_llm_judge = Evaluate(devset=generate_dspy_example_dataset(df_ragc_haiku_data), \n",
    "                              metric=metric_LLM_1, \n",
    "                              num_threads=1, \n",
    "                              display_progress=True, \n",
    "                              display_table=0, \n",
    "                              provide_traceback=True)\n",
    "\n",
    "eval_score = evaluate_llm_judge(llm_judge_1, num_threads=1)\n",
    "print(f\"------------- Final DSPy Evaluation score :::: {eval_score} ---------\")"
   ]
  },
  {
   "cell_type": "code",
   "execution_count": 64,
   "id": "7f473a6c-bce7-4b50-922a-536a94a283b2",
   "metadata": {},
   "outputs": [
    {
     "data": {
      "text/plain": [
       "0.6781"
      ]
     },
     "execution_count": 64,
     "metadata": {},
     "output_type": "execute_result"
    }
   ],
   "source": [
    "ragc_haiku_score_1 = eval_score/100\n",
    "ragc_haiku_score_1"
   ]
  },
  {
   "cell_type": "markdown",
   "id": "b404713c",
   "metadata": {},
   "source": [
    "Evaluation scores for RAG Sonnet results by LLM-judge class"
   ]
  },
  {
   "cell_type": "code",
   "execution_count": 65,
   "id": "bcec0181",
   "metadata": {},
   "outputs": [
    {
     "name": "stdout",
     "output_type": "stream",
     "text": [
      "0 : 0.2|1 : 0.9|2 : 0.2|3 : 0.1|4 : 0.5|5 : 0.2|6 : 0.2|7 : 0.8|8 : 0.2|9 : 0.5|10 : 0.0|11 : 0.2|12 : 0.0|13 : 0.5|14 : 0.2|15 : 0.2|16 : 0.8|17 : 0.8|18 : 0.0|19 : 0.0|20 : 0.2|21 : 0.5|22 : 0.1|23 : 0.2|24 : 0.2|25 : 0.8|26 : 0.2|27 : 0.0|28 : 1.0|29 : 0.2|30 : 1.0|31 : 0.2|"
     ]
    },
    {
     "data": {
      "text/plain": [
       "0.346875"
      ]
     },
     "execution_count": 65,
     "metadata": {},
     "output_type": "execute_result"
    }
   ],
   "source": [
    "rag_sonnet_score_1 = get_judge_score_1(df_rag_sonnet_data)\n",
    "rag_sonnet_score_1"
   ]
  },
  {
   "cell_type": "markdown",
   "id": "d709d3d0",
   "metadata": {},
   "source": [
    "Evaluation scores for RAG Sonnet results by dspy"
   ]
  },
  {
   "cell_type": "code",
   "execution_count": 66,
   "id": "5d0d417f",
   "metadata": {},
   "outputs": [
    {
     "name": "stdout",
     "output_type": "stream",
     "text": [
      "  0%|          | 0/32 [00:00<?, ?it/s]llm_judge_ans = 0.2\n",
      "Average Metric: 0.2 / 1  (20.0):   3%|▎         | 1/32 [00:04<02:13,  4.30s/it]llm_judge_ans = 0.9\n",
      "Average Metric: 1.1 / 2  (55.0):   6%|▋         | 2/32 [00:09<02:22,  4.75s/it]llm_judge_ans = 0.2\n",
      "Average Metric: 1.3 / 3  (43.3):   9%|▉         | 3/32 [00:13<02:14,  4.65s/it]llm_judge_ans = 0.1\n",
      "Average Metric: 1.4000000000000001 / 4  (35.0):  12%|█▎        | 4/32 [00:21<02:38,  5.65s/it]llm_judge_ans = 0.5\n",
      "Average Metric: 1.9000000000000001 / 5  (38.0):  16%|█▌        | 5/32 [00:24<02:08,  4.76s/it]llm_judge_ans = 0.2\n",
      "Average Metric: 2.1 / 6  (35.0):  19%|█▉        | 6/32 [00:29<02:04,  4.80s/it]               llm_judge_ans = 0.2\n",
      "Average Metric: 2.3000000000000003 / 7  (32.9):  22%|██▏       | 7/32 [00:33<01:57,  4.68s/it]llm_judge_ans = 0.8\n",
      "Average Metric: 3.1000000000000005 / 8  (38.8):  25%|██▌       | 8/32 [00:38<01:53,  4.72s/it]llm_judge_ans = 0.2\n",
      "Average Metric: 3.3000000000000007 / 9  (36.7):  28%|██▊       | 9/32 [00:43<01:50,  4.81s/it]llm_judge_ans = 0.5\n",
      "Average Metric: 3.8000000000000007 / 10  (38.0):  31%|███▏      | 10/32 [00:47<01:41,  4.61s/it]llm_judge_ans = 0.0\n",
      "Average Metric: 3.8000000000000007 / 11  (34.5):  34%|███▍      | 11/32 [00:52<01:41,  4.84s/it]llm_judge_ans = 0.2\n",
      "Average Metric: 4.000000000000001 / 12  (33.3):  38%|███▊      | 12/32 [00:58<01:38,  4.92s/it] llm_judge_ans = 0.0\n",
      "Average Metric: 4.000000000000001 / 13  (30.8):  41%|████      | 13/32 [01:02<01:31,  4.82s/it]llm_judge_ans = 0.5\n",
      "Average Metric: 4.500000000000001 / 14  (32.1):  44%|████▍     | 14/32 [01:07<01:25,  4.77s/it]llm_judge_ans = 0.2\n",
      "Average Metric: 4.700000000000001 / 15  (31.3):  47%|████▋     | 15/32 [01:12<01:23,  4.93s/it]llm_judge_ans = 0.2\n",
      "Average Metric: 4.900000000000001 / 16  (30.6):  50%|█████     | 16/32 [01:17<01:19,  4.94s/it]llm_judge_ans = 0.8\n",
      "Average Metric: 5.700000000000001 / 17  (33.5):  53%|█████▎    | 17/32 [01:23<01:19,  5.27s/it]llm_judge_ans = 0.8\n",
      "Average Metric: 6.500000000000001 / 18  (36.1):  56%|█████▋    | 18/32 [01:27<01:08,  4.91s/it]llm_judge_ans = 0.0\n",
      "Average Metric: 6.500000000000001 / 19  (34.2):  59%|█████▉    | 19/32 [01:34<01:10,  5.44s/it]llm_judge_ans = 0.0\n",
      "Average Metric: 6.500000000000001 / 20  (32.5):  62%|██████▎   | 20/32 [01:37<00:56,  4.70s/it]llm_judge_ans = 0.2\n",
      "Average Metric: 6.700000000000001 / 21  (31.9):  66%|██████▌   | 21/32 [01:41<00:48,  4.41s/it]llm_judge_ans = 0.5\n",
      "Average Metric: 7.200000000000001 / 22  (32.7):  69%|██████▉   | 22/32 [01:43<00:39,  3.96s/it]llm_judge_ans = 0.1\n",
      "Average Metric: 7.300000000000001 / 23  (31.7):  72%|███████▏  | 23/32 [01:48<00:37,  4.22s/it]llm_judge_ans = 0.2\n",
      "Average Metric: 7.500000000000001 / 24  (31.3):  75%|███████▌  | 24/32 [01:52<00:32,  4.09s/it]llm_judge_ans = 0.2\n",
      "Average Metric: 7.700000000000001 / 25  (30.8):  78%|███████▊  | 25/32 [01:57<00:30,  4.32s/it]llm_judge_ans = 0.8\n",
      "Average Metric: 8.500000000000002 / 26  (32.7):  81%|████████▏ | 26/32 [02:03<00:28,  4.72s/it]llm_judge_ans = 0.2\n",
      "Average Metric: 8.700000000000001 / 27  (32.2):  84%|████████▍ | 27/32 [02:07<00:23,  4.74s/it]llm_judge_ans = 0.0\n",
      "Average Metric: 8.700000000000001 / 28  (31.1):  88%|████████▊ | 28/32 [02:11<00:17,  4.47s/it]llm_judge_ans = 1.0\n",
      "Average Metric: 9.700000000000001 / 29  (33.4):  91%|█████████ | 29/32 [02:17<00:14,  4.80s/it]llm_judge_ans = 0.2\n",
      "Average Metric: 9.9 / 30  (33.0):  94%|█████████▍| 30/32 [02:21<00:09,  4.72s/it]              llm_judge_ans = 1.0\n",
      "Average Metric: 10.9 / 31  (35.2):  97%|█████████▋| 31/32 [02:26<00:04,  4.57s/it]llm_judge_ans = 0.2\n",
      "Average Metric: 11.1 / 32  (34.7): 100%|██████████| 32/32 [02:31<00:00,  4.73s/it]"
     ]
    },
    {
     "name": "stderr",
     "output_type": "stream",
     "text": [
      "2024/11/14 22:18:58 INFO dspy.evaluate.evaluate: Average Metric: 11.1 / 32 (34.7%)\n"
     ]
    },
    {
     "name": "stdout",
     "output_type": "stream",
     "text": [
      "\n",
      "------------- Final DSPy Evaluation score :::: 34.69 ---------\n"
     ]
    }
   ],
   "source": [
    "evaluate_llm_judge = Evaluate(devset=generate_dspy_example_dataset(df_rag_sonnet_data), \n",
    "                              metric=metric_LLM_1, \n",
    "                              num_threads=1, \n",
    "                              display_progress=True, \n",
    "                              display_table=0, \n",
    "                              provide_traceback=True)\n",
    "\n",
    "eval_score = evaluate_llm_judge(llm_judge_1, num_threads=1)\n",
    "print(f\"------------- Final DSPy Evaluation score :::: {eval_score} ---------\")"
   ]
  },
  {
   "cell_type": "code",
   "execution_count": 67,
   "id": "d496d6b6-0c23-4924-9ff1-b29dc781a69b",
   "metadata": {},
   "outputs": [
    {
     "data": {
      "text/plain": [
       "0.3469"
      ]
     },
     "execution_count": 67,
     "metadata": {},
     "output_type": "execute_result"
    }
   ],
   "source": [
    "rag_sonnet_score_1 = eval_score/100\n",
    "rag_sonnet_score_1"
   ]
  },
  {
   "cell_type": "markdown",
   "id": "db4a1e7e",
   "metadata": {},
   "source": [
    "Evaluation scores for RAG compiled Sonnet results by LLM-judge class"
   ]
  },
  {
   "cell_type": "code",
   "execution_count": 68,
   "id": "935028e8",
   "metadata": {},
   "outputs": [
    {
     "name": "stdout",
     "output_type": "stream",
     "text": [
      "0 : 0.1|1 : 0.9|2 : 0.1|3 : 0.1|4 : 0.3|5 : 0.9|6 : 1.0|7 : 0.9|8 : 0.3|9 : 0.6|10 : 0.1|11 : 0.1|12 : 0.9|13 : 1.0|14 : 0.2|15 : 0.8|16 : 0.9|17 : 0.9|18 : 0.9|19 : 0.9|20 : 0.9|21 : 0.4|22 : 0.8|23 : 0.9|24 : 0.9|25 : 0.9|26 : 0.4|27 : 0.1|28 : 0.4|29 : 0.6|30 : 0.9|31 : 0.9|"
     ]
    },
    {
     "data": {
      "text/plain": [
       "0.625"
      ]
     },
     "execution_count": 68,
     "metadata": {},
     "output_type": "execute_result"
    }
   ],
   "source": [
    "ragc_sonnet_score_1 = get_judge_score_1(df_ragc_sonnet_data)\n",
    "ragc_sonnet_score_1"
   ]
  },
  {
   "cell_type": "markdown",
   "id": "a5d0a7b4",
   "metadata": {},
   "source": [
    "Evaluation scores for RAG compiled Sonnet results by dspy"
   ]
  },
  {
   "cell_type": "code",
   "execution_count": 69,
   "id": "7846b646",
   "metadata": {},
   "outputs": [
    {
     "name": "stdout",
     "output_type": "stream",
     "text": [
      "  0%|          | 0/32 [00:00<?, ?it/s]llm_judge_ans = 0.1\n",
      "Average Metric: 0.1 / 1  (10.0):   3%|▎         | 1/32 [00:04<02:18,  4.48s/it]llm_judge_ans = 0.9\n",
      "Average Metric: 1.0 / 2  (50.0):   6%|▋         | 2/32 [00:09<02:26,  4.87s/it]llm_judge_ans = 0.1\n",
      "Average Metric: 1.1 / 3  (36.7):   9%|▉         | 3/32 [00:13<02:11,  4.52s/it]llm_judge_ans = 0.1\n",
      "Average Metric: 1.2000000000000002 / 4  (30.0):  12%|█▎        | 4/32 [00:18<02:11,  4.70s/it]llm_judge_ans = 0.3\n",
      "Average Metric: 1.5000000000000002 / 5  (30.0):  16%|█▌        | 5/32 [00:24<02:13,  4.94s/it]llm_judge_ans = 0.9\n",
      "Average Metric: 2.4000000000000004 / 6  (40.0):  19%|█▉        | 6/32 [00:28<02:01,  4.66s/it]llm_judge_ans = 1.0\n",
      "Average Metric: 3.4000000000000004 / 7  (48.6):  22%|██▏       | 7/32 [00:33<02:00,  4.81s/it]llm_judge_ans = 0.9\n",
      "Average Metric: 4.300000000000001 / 8  (53.8):  25%|██▌       | 8/32 [00:37<01:51,  4.66s/it] llm_judge_ans = 0.3\n",
      "Average Metric: 4.6000000000000005 / 9  (51.1):  28%|██▊       | 9/32 [00:43<01:56,  5.07s/it]llm_judge_ans = 0.6\n",
      "Average Metric: 5.2 / 10  (52.0):  31%|███▏      | 10/32 [00:47<01:44,  4.74s/it]             llm_judge_ans = 0.1\n",
      "Average Metric: 5.3 / 11  (48.2):  34%|███▍      | 11/32 [00:53<01:47,  5.10s/it]llm_judge_ans = 0.1\n",
      "Average Metric: 5.3999999999999995 / 12  (45.0):  38%|███▊      | 12/32 [00:57<01:32,  4.62s/it]llm_judge_ans = 0.9\n",
      "Average Metric: 6.3 / 13  (48.5):  41%|████      | 13/32 [01:04<01:43,  5.44s/it]               llm_judge_ans = 1.0\n",
      "Average Metric: 7.3 / 14  (52.1):  44%|████▍     | 14/32 [01:06<01:21,  4.50s/it]llm_judge_ans = 0.2\n",
      "Average Metric: 7.5 / 15  (50.0):  47%|████▋     | 15/32 [01:11<01:19,  4.68s/it]llm_judge_ans = 0.8\n",
      "Average Metric: 8.3 / 16  (51.9):  50%|█████     | 16/32 [01:17<01:19,  4.97s/it]llm_judge_ans = 0.9\n",
      "Average Metric: 9.200000000000001 / 17  (54.1):  53%|█████▎    | 17/32 [01:21<01:08,  4.57s/it]llm_judge_ans = 0.9\n",
      "Average Metric: 10.100000000000001 / 18  (56.1):  56%|█████▋    | 18/32 [01:26<01:05,  4.69s/it]llm_judge_ans = 0.9\n",
      "Average Metric: 11.000000000000002 / 19  (57.9):  59%|█████▉    | 19/32 [01:30<00:59,  4.58s/it]llm_judge_ans = 0.9\n",
      "Average Metric: 11.900000000000002 / 20  (59.5):  62%|██████▎   | 20/32 [01:36<01:01,  5.16s/it]llm_judge_ans = 0.9\n",
      "Average Metric: 12.800000000000002 / 21  (61.0):  66%|██████▌   | 21/32 [01:41<00:56,  5.14s/it]llm_judge_ans = 0.4\n",
      "Average Metric: 13.200000000000003 / 22  (60.0):  69%|██████▉   | 22/32 [01:44<00:44,  4.48s/it]llm_judge_ans = 0.8\n",
      "Average Metric: 14.000000000000004 / 23  (60.9):  72%|███████▏  | 23/32 [01:50<00:44,  4.93s/it]llm_judge_ans = 0.9\n",
      "Average Metric: 14.900000000000004 / 24  (62.1):  75%|███████▌  | 24/32 [01:54<00:36,  4.51s/it]llm_judge_ans = 0.9\n",
      "Average Metric: 15.800000000000004 / 25  (63.2):  78%|███████▊  | 25/32 [02:01<00:37,  5.40s/it]llm_judge_ans = 0.9\n",
      "Average Metric: 16.700000000000003 / 26  (64.2):  81%|████████▏ | 26/32 [02:04<00:28,  4.68s/it]llm_judge_ans = 0.4\n",
      "Average Metric: 17.1 / 27  (63.3):  84%|████████▍ | 27/32 [02:12<00:27,  5.43s/it]              llm_judge_ans = 0.1\n",
      "Average Metric: 17.200000000000003 / 28  (61.4):  88%|████████▊ | 28/32 [02:13<00:17,  4.34s/it]llm_judge_ans = 0.4\n",
      "Average Metric: 17.6 / 29  (60.7):  91%|█████████ | 29/32 [02:18<00:13,  4.39s/it]              llm_judge_ans = 0.6\n",
      "Average Metric: 18.200000000000003 / 30  (60.7):  94%|█████████▍| 30/32 [02:24<00:09,  4.83s/it]llm_judge_ans = 0.9\n",
      "Average Metric: 19.1 / 31  (61.6):  97%|█████████▋| 31/32 [02:28<00:04,  4.73s/it]              llm_judge_ans = 0.9\n",
      "Average Metric: 20.0 / 32  (62.5): 100%|██████████| 32/32 [02:33<00:00,  4.80s/it]"
     ]
    },
    {
     "name": "stderr",
     "output_type": "stream",
     "text": [
      "2024/11/14 22:22:49 INFO dspy.evaluate.evaluate: Average Metric: 20.0 / 32 (62.5%)\n"
     ]
    },
    {
     "name": "stdout",
     "output_type": "stream",
     "text": [
      "\n",
      "------------- Final DSPy Evaluation score :::: 62.5 ---------\n"
     ]
    }
   ],
   "source": [
    "evaluate_llm_judge = Evaluate(devset=generate_dspy_example_dataset(df_ragc_sonnet_data), \n",
    "                              metric=metric_LLM_1, \n",
    "                              num_threads=1, \n",
    "                              display_progress=True, \n",
    "                              display_table=0, \n",
    "                              provide_traceback=True)\n",
    "\n",
    "eval_score = evaluate_llm_judge(llm_judge_1, num_threads=1)\n",
    "print(f\"------------- Final DSPy Evaluation score :::: {eval_score} ---------\")"
   ]
  },
  {
   "cell_type": "code",
   "execution_count": 70,
   "id": "76cdefe6-f938-400c-8a1e-cff14807ad49",
   "metadata": {},
   "outputs": [
    {
     "data": {
      "text/plain": [
       "0.625"
      ]
     },
     "execution_count": 70,
     "metadata": {},
     "output_type": "execute_result"
    }
   ],
   "source": [
    "ragc_sonnet_score_1 = eval_score/100\n",
    "ragc_sonnet_score_1"
   ]
  },
  {
   "cell_type": "markdown",
   "id": "7b9f9c3b",
   "metadata": {},
   "source": [
    "### Benchmarking the performance across RAG with foundation models and fine-tuned models "
   ]
  },
  {
   "cell_type": "code",
   "execution_count": 71,
   "id": "be3660bd",
   "metadata": {},
   "outputs": [
    {
     "data": {
      "image/png": "[encoded data removed]",
      "text/plain": [
       "<Figure size 1000x500 with 1 Axes>"
      ]
     },
     "metadata": {},
     "output_type": "display_data"
    }
   ],
   "source": [
    "train_class_type = ['RAG_Haiku','RAG_Haiku_Compiled','SFT(Llama3-8B)','DPO(Llama3-8B)','ORPO(Llama3-8B)']\n",
    "train_class_count = [rag_haiku_score_1,ragc_haiku_score_1,sft_score_1,dpo_score_1,orpo_score_1,]\n",
    "\n",
    "fig = plt.figure(figsize = (10, 5))\n",
    "\n",
    "# creating the bar plot\n",
    "plt.bar(train_class_type, train_class_count, color ='green', width = 0.4)\n",
    "\n",
    "plt.xlabel(\"\")\n",
    "plt.ylabel(\"Accuracy\")\n",
    "plt.title(\"Accuracy by LLM-as-a-judge (Score 0~1)\")\n",
    "plt.show()"
   ]
  },
  {
   "cell_type": "code",
   "execution_count": null,
   "id": "13794f37",
   "metadata": {},
   "outputs": [],
   "source": []
  },
  {
   "cell_type": "code",
   "execution_count": null,
   "id": "c2b58a1f",
   "metadata": {},
   "outputs": [],
   "source": []
  },
  {
   "cell_type": "code",
   "execution_count": null,
   "id": "c7c90af7",
   "metadata": {},
   "outputs": [],
   "source": []
  },
  {
   "cell_type": "code",
   "execution_count": null,
   "id": "35337e3b",
   "metadata": {},
   "outputs": [],
   "source": []
  }
 ],
 "metadata": {
  "kernelspec": {
   "display_name": "conda_pytorch_p310",
   "language": "python",
   "name": "conda_pytorch_p310"
  },
  "language_info": {
   "codemirror_mode": {
    "name": "ipython",
    "version": 3
   },
   "file_extension": ".py",
   "mimetype": "text/x-python",
   "name": "python",
   "nbconvert_exporter": "python",
   "pygments_lexer": "ipython3",
   "version": "3.10.14"
  }
 },
 "nbformat": 4,
 "nbformat_minor": 5
}
